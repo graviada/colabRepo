{
  "nbformat": 4,
  "nbformat_minor": 0,
  "metadata": {
    "colab": {
      "name": "Math_Model.ipynb",
      "provenance": [],
      "authorship_tag": "ABX9TyMXsB1iiGgK9VFDc5kCP50M",
      "include_colab_link": true
    },
    "kernelspec": {
      "name": "python3",
      "display_name": "Python 3"
    },
    "language_info": {
      "name": "python"
    }
  },
  "cells": [
    {
      "cell_type": "markdown",
      "metadata": {
        "id": "view-in-github",
        "colab_type": "text"
      },
      "source": [
        "<a href=\"https://colab.research.google.com/github/graviada/colabRepo/blob/master/MathModel%20(6%2C%202022)/Math_Model.ipynb\" target=\"_parent\"><img src=\"https://colab.research.google.com/assets/colab-badge.svg\" alt=\"Open In Colab\"/></a>"
      ]
    },
    {
      "cell_type": "markdown",
      "source": [
        "### Практическая работа №1\n",
        "**Задание:**\n",
        "\n",
        "Нужно реализовать функцию, которая считает синус через ряд Тейлора.\n",
        "Посмотреть, что эта реализация по времени быстрее, чем встроенная функция и написать функцию, которая считает, является ли число степенью тройки."
      ],
      "metadata": {
        "id": "nurSZAgKbN5b"
      }
    },
    {
      "cell_type": "markdown",
      "source": [
        "\n",
        "![{_displaystyle _sin x=x-{_frac {x^{3}}{3!}}+{_frac {x^{5}}{5!}}-{_frac {x^{7}}{7!}}+{_frac {x^{9}}{9!}}-_cdots =_sum _{n=0}^{_infty }{_frac {(-1)^{n}x^{2n+1}}{(2n+1)!}}}.svg](data:image/svg+xml;base64,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)"
      ],
      "metadata": {
        "id": "6y1ZSnaXb-nr"
      }
    },
    {
      "cell_type": "code",
      "source": [
        "from time import perf_counter\n",
        "from math import sin, cos, pi\n",
        "\n",
        "import pandas as pd"
      ],
      "metadata": {
        "id": "Uu6yOeQAtpk5"
      },
      "execution_count": 2,
      "outputs": []
    },
    {
      "cell_type": "code",
      "execution_count": null,
      "metadata": {
        "id": "J7A2WKCpKqQn"
      },
      "outputs": [],
      "source": [
        "def factorial(n):\n",
        "  if n == 1 or n == 0:\n",
        "    return 1\n",
        "  else:\n",
        "    return factorial (n - 1) * n\n",
        "\n",
        "def sinTaylor(x, eps):\n",
        "  member = 1\n",
        "  n = 0\n",
        "  res = 0\n",
        "  sin_tic = perf_counter()\n",
        "  while member > eps:\n",
        "    member = (-1) ** n * x ** (2 * n + 1) / factorial(2 * n + 1)\n",
        "    n += 1\n",
        "    res += member\n",
        "  sin_toc = perf_counter()\n",
        "\n",
        "  elapsed_time = sin_toc - sin_tic\n",
        "\n",
        "  print(res)\n",
        "  print(f\"Вычисление заняло {sin_toc - sin_tic:0.9f} секунд\")\n",
        "\n",
        "def cosTaylor(x, eps):\n",
        "  member = 1\n",
        "  n = 0\n",
        "  res = 0\n",
        "  cos_tic = perf_counter()\n",
        "  while member > eps:\n",
        "    member = (-1) ** n * x ** (2 * n) / factorial(2 * n)\n",
        "    n += 1\n",
        "    res += member\n",
        "  cos_toc = perf_counter()\n",
        "\n",
        "  elapsed_time = cos_toc - cos_tic\n",
        "\n",
        "  print(res)\n",
        "  print(f\"Вычисление заняло {cos_toc - cos_tic:0.9f} секунд\")\n",
        "\n",
        "def sinIn(x):\n",
        "  sin_tic = perf_counter()\n",
        "  res = sin(x)\n",
        "  sin_toc = perf_counter()\n",
        "\n",
        "  print(res)\n",
        "  print(f\"Вычисление заняло {sin_toc - sin_tic:0.9f} секунд\")\n",
        "\n",
        "def cosIn(x):\n",
        "  cos_tic = perf_counter()\n",
        "  res = cos(x)\n",
        "  cos_toc = perf_counter()\n",
        "\n",
        "  print(res)\n",
        "  print(f\"Вычисление заняло {cos_toc - cos_tic:0.9f} секунд\")"
      ]
    },
    {
      "cell_type": "code",
      "source": [
        "eps = 10e-32\n",
        "x = 0.1\n",
        "\n",
        "# Перевод в радианы\n",
        "x = x / 180 * pi\n",
        "\n",
        "sinTaylor(x, eps)\n",
        "sinIn(x)\n",
        "print('\\n')\n",
        "cosTaylor(x, eps)\n",
        "cosIn(x)"
      ],
      "metadata": {
        "colab": {
          "base_uri": "https://localhost:8080/"
        },
        "id": "REEdHY4LfxBd",
        "outputId": "138ed7ee-1133-4ff0-dc7f-df0e4e62eae9"
      },
      "execution_count": null,
      "outputs": [
        {
          "output_type": "stream",
          "name": "stdout",
          "text": [
            "0.001745328365898174\n",
            "Вычисление заняло 0.000012691 секунд\n",
            "0.0017453283658983088\n",
            "Вычисление заняло 0.000002413 секунд\n",
            "\n",
            "\n",
            "0.9999984769129011\n",
            "Вычисление заняло 0.000010484 секунд\n",
            "0.9999984769132877\n",
            "Вычисление заняло 0.000002466 секунд\n"
          ]
        }
      ]
    },
    {
      "cell_type": "code",
      "source": [
        "def thirdPow(x):\n",
        "  while x > 1:\n",
        "    if x%3 == 0:\n",
        "      x //= 3\n",
        "    else:\n",
        "      break\n",
        "\n",
        "  if x == 1:\n",
        "    return True\n",
        "  else:\n",
        "    return False"
      ],
      "metadata": {
        "id": "6G0GQyc02FNU"
      },
      "execution_count": null,
      "outputs": []
    },
    {
      "cell_type": "code",
      "source": [
        "thirdPow(8653)"
      ],
      "metadata": {
        "colab": {
          "base_uri": "https://localhost:8080/"
        },
        "id": "dy00uXIVGYRO",
        "outputId": "516304ea-ba09-418f-b851-6cdb743d70db"
      },
      "execution_count": null,
      "outputs": [
        {
          "output_type": "execute_result",
          "data": {
            "text/plain": [
              "False"
            ]
          },
          "metadata": {},
          "execution_count": 3
        }
      ]
    },
    {
      "cell_type": "markdown",
      "source": [
        "### Практическая работа №2\n",
        "**Задание:**\n",
        "\n",
        "**АП** – аннуитентный платеж (руб) (ежемесячный платеж) – надо посчитать - annuity payment (**AP**)\n",
        "\n",
        "**СК** – первоначальная сумма кредита (руб) - вход - initial loan amount (**IA**)\n",
        "\n",
        "**ПС** – процентная ставка (в долях 0<ПК<1) - вход - interest rate (**IR**)\n",
        "\n",
        "**КП** – количество периодов (месяцы) – вход - number of periods (**NP**)\n",
        "\n",
        "\n",
        "**НП** – начисленные проценты (руб) – сумма, которая гасится в первую очередь из АП - accrued interest (**AI**)\n",
        "\n",
        "**ОК** – остаток кредита на текущий месяц (руб) - loan balance (**LB**)\n",
        "\n",
        "**ОС** – остаток (руб) – сумма на погашение основного долга - repayment of loan (**RL**)"
      ],
      "metadata": {
        "id": "GwDkTRFRbivc"
      }
    },
    {
      "cell_type": "code",
      "source": [
        "def creditCalc(IA, IR, NP):\n",
        "  AP = IA * (IR / 12 + IR / ((1 + IR/12) ** NP - 1) / 12)\n",
        "\n",
        "  AI_0 = IA * IR /12\n",
        "  LB_0 = IA\n",
        "  OC_0 = AP - AI_0\n",
        "  \n",
        "  months = [i for i in range(1, NP + 1)]\n",
        "\n",
        "  AI = []\n",
        "  AI.append(AI_0)\n",
        "  LB = []\n",
        "  LB.append(LB_0)\n",
        "  OC = []\n",
        "  OC.append(OC_0)\n",
        "\n",
        "  for i in range(1, NP):\n",
        "    LB.append(LB[i-1] - OC[i-1])\n",
        "    AI.append(LB[i] * IR / 12)\n",
        "    OC.append(AP-AI[i])\n",
        "\n",
        "  # print(len(AI), len(LB), len(OC), len(months))\n",
        "  df = pd.DataFrame({'Номер периода' : months,\n",
        "                       'ОК' : LB,\n",
        "                       'НП' : AI,\n",
        "                       'ОС' : OC})\n",
        "  \n",
        "  df.set_index('Номер периода', inplace=True)\n",
        "\n",
        "  return df"
      ],
      "metadata": {
        "id": "e5j-63vHd12A"
      },
      "execution_count": null,
      "outputs": []
    },
    {
      "cell_type": "code",
      "source": [
        "creditCalc(1000000, 0.2, 19)"
      ],
      "metadata": {
        "colab": {
          "base_uri": "https://localhost:8080/",
          "height": 676
        },
        "id": "PSu2HzXrBKCt",
        "outputId": "0c3cf70b-e4c7-4584-eea7-5cab07ca4972"
      },
      "execution_count": null,
      "outputs": [
        {
          "output_type": "execute_result",
          "data": {
            "text/html": [
              "\n",
              "  <div id=\"df-ec8f36b5-9ca4-480b-8fda-fd75357f80ec\">\n",
              "    <div class=\"colab-df-container\">\n",
              "      <div>\n",
              "<style scoped>\n",
              "    .dataframe tbody tr th:only-of-type {\n",
              "        vertical-align: middle;\n",
              "    }\n",
              "\n",
              "    .dataframe tbody tr th {\n",
              "        vertical-align: top;\n",
              "    }\n",
              "\n",
              "    .dataframe thead th {\n",
              "        text-align: right;\n",
              "    }\n",
              "</style>\n",
              "<table border=\"1\" class=\"dataframe\">\n",
              "  <thead>\n",
              "    <tr style=\"text-align: right;\">\n",
              "      <th></th>\n",
              "      <th>ОК</th>\n",
              "      <th>НП</th>\n",
              "      <th>ОС</th>\n",
              "    </tr>\n",
              "    <tr>\n",
              "      <th>Номер периода</th>\n",
              "      <th></th>\n",
              "      <th></th>\n",
              "      <th></th>\n",
              "    </tr>\n",
              "  </thead>\n",
              "  <tbody>\n",
              "    <tr>\n",
              "      <th>1</th>\n",
              "      <td>1000000.000000</td>\n",
              "      <td>16666.666667</td>\n",
              "      <td>45171.108385</td>\n",
              "    </tr>\n",
              "    <tr>\n",
              "      <th>2</th>\n",
              "      <td>954828.891615</td>\n",
              "      <td>15913.814860</td>\n",
              "      <td>45923.960192</td>\n",
              "    </tr>\n",
              "    <tr>\n",
              "      <th>3</th>\n",
              "      <td>908904.931423</td>\n",
              "      <td>15148.415524</td>\n",
              "      <td>46689.359528</td>\n",
              "    </tr>\n",
              "    <tr>\n",
              "      <th>4</th>\n",
              "      <td>862215.571894</td>\n",
              "      <td>14370.259532</td>\n",
              "      <td>47467.515520</td>\n",
              "    </tr>\n",
              "    <tr>\n",
              "      <th>5</th>\n",
              "      <td>814748.056374</td>\n",
              "      <td>13579.134273</td>\n",
              "      <td>48258.640779</td>\n",
              "    </tr>\n",
              "    <tr>\n",
              "      <th>6</th>\n",
              "      <td>766489.415595</td>\n",
              "      <td>12774.823593</td>\n",
              "      <td>49062.951459</td>\n",
              "    </tr>\n",
              "    <tr>\n",
              "      <th>7</th>\n",
              "      <td>717426.464136</td>\n",
              "      <td>11957.107736</td>\n",
              "      <td>49880.667316</td>\n",
              "    </tr>\n",
              "    <tr>\n",
              "      <th>8</th>\n",
              "      <td>667545.796820</td>\n",
              "      <td>11125.763280</td>\n",
              "      <td>50712.011772</td>\n",
              "    </tr>\n",
              "    <tr>\n",
              "      <th>9</th>\n",
              "      <td>616833.785048</td>\n",
              "      <td>10280.563084</td>\n",
              "      <td>51557.211968</td>\n",
              "    </tr>\n",
              "    <tr>\n",
              "      <th>10</th>\n",
              "      <td>565276.573080</td>\n",
              "      <td>9421.276218</td>\n",
              "      <td>52416.498834</td>\n",
              "    </tr>\n",
              "    <tr>\n",
              "      <th>11</th>\n",
              "      <td>512860.074246</td>\n",
              "      <td>8547.667904</td>\n",
              "      <td>53290.107148</td>\n",
              "    </tr>\n",
              "    <tr>\n",
              "      <th>12</th>\n",
              "      <td>459569.967098</td>\n",
              "      <td>7659.499452</td>\n",
              "      <td>54178.275600</td>\n",
              "    </tr>\n",
              "    <tr>\n",
              "      <th>13</th>\n",
              "      <td>405391.691497</td>\n",
              "      <td>6756.528192</td>\n",
              "      <td>55081.246860</td>\n",
              "    </tr>\n",
              "    <tr>\n",
              "      <th>14</th>\n",
              "      <td>350310.444637</td>\n",
              "      <td>5838.507411</td>\n",
              "      <td>55999.267641</td>\n",
              "    </tr>\n",
              "    <tr>\n",
              "      <th>15</th>\n",
              "      <td>294311.176996</td>\n",
              "      <td>4905.186283</td>\n",
              "      <td>56932.588769</td>\n",
              "    </tr>\n",
              "    <tr>\n",
              "      <th>16</th>\n",
              "      <td>237378.588227</td>\n",
              "      <td>3956.309804</td>\n",
              "      <td>57881.465248</td>\n",
              "    </tr>\n",
              "    <tr>\n",
              "      <th>17</th>\n",
              "      <td>179497.122979</td>\n",
              "      <td>2991.618716</td>\n",
              "      <td>58846.156336</td>\n",
              "    </tr>\n",
              "    <tr>\n",
              "      <th>18</th>\n",
              "      <td>120650.966643</td>\n",
              "      <td>2010.849444</td>\n",
              "      <td>59826.925608</td>\n",
              "    </tr>\n",
              "    <tr>\n",
              "      <th>19</th>\n",
              "      <td>60824.041035</td>\n",
              "      <td>1013.734017</td>\n",
              "      <td>60824.041035</td>\n",
              "    </tr>\n",
              "  </tbody>\n",
              "</table>\n",
              "</div>\n",
              "      <button class=\"colab-df-convert\" onclick=\"convertToInteractive('df-ec8f36b5-9ca4-480b-8fda-fd75357f80ec')\"\n",
              "              title=\"Convert this dataframe to an interactive table.\"\n",
              "              style=\"display:none;\">\n",
              "        \n",
              "  <svg xmlns=\"http://www.w3.org/2000/svg\" height=\"24px\"viewBox=\"0 0 24 24\"\n",
              "       width=\"24px\">\n",
              "    <path d=\"M0 0h24v24H0V0z\" fill=\"none\"/>\n",
              "    <path d=\"M18.56 5.44l.94 2.06.94-2.06 2.06-.94-2.06-.94-.94-2.06-.94 2.06-2.06.94zm-11 1L8.5 8.5l.94-2.06 2.06-.94-2.06-.94L8.5 2.5l-.94 2.06-2.06.94zm10 10l.94 2.06.94-2.06 2.06-.94-2.06-.94-.94-2.06-.94 2.06-2.06.94z\"/><path d=\"M17.41 7.96l-1.37-1.37c-.4-.4-.92-.59-1.43-.59-.52 0-1.04.2-1.43.59L10.3 9.45l-7.72 7.72c-.78.78-.78 2.05 0 2.83L4 21.41c.39.39.9.59 1.41.59.51 0 1.02-.2 1.41-.59l7.78-7.78 2.81-2.81c.8-.78.8-2.07 0-2.86zM5.41 20L4 18.59l7.72-7.72 1.47 1.35L5.41 20z\"/>\n",
              "  </svg>\n",
              "      </button>\n",
              "      \n",
              "  <style>\n",
              "    .colab-df-container {\n",
              "      display:flex;\n",
              "      flex-wrap:wrap;\n",
              "      gap: 12px;\n",
              "    }\n",
              "\n",
              "    .colab-df-convert {\n",
              "      background-color: #E8F0FE;\n",
              "      border: none;\n",
              "      border-radius: 50%;\n",
              "      cursor: pointer;\n",
              "      display: none;\n",
              "      fill: #1967D2;\n",
              "      height: 32px;\n",
              "      padding: 0 0 0 0;\n",
              "      width: 32px;\n",
              "    }\n",
              "\n",
              "    .colab-df-convert:hover {\n",
              "      background-color: #E2EBFA;\n",
              "      box-shadow: 0px 1px 2px rgba(60, 64, 67, 0.3), 0px 1px 3px 1px rgba(60, 64, 67, 0.15);\n",
              "      fill: #174EA6;\n",
              "    }\n",
              "\n",
              "    [theme=dark] .colab-df-convert {\n",
              "      background-color: #3B4455;\n",
              "      fill: #D2E3FC;\n",
              "    }\n",
              "\n",
              "    [theme=dark] .colab-df-convert:hover {\n",
              "      background-color: #434B5C;\n",
              "      box-shadow: 0px 1px 3px 1px rgba(0, 0, 0, 0.15);\n",
              "      filter: drop-shadow(0px 1px 2px rgba(0, 0, 0, 0.3));\n",
              "      fill: #FFFFFF;\n",
              "    }\n",
              "  </style>\n",
              "\n",
              "      <script>\n",
              "        const buttonEl =\n",
              "          document.querySelector('#df-ec8f36b5-9ca4-480b-8fda-fd75357f80ec button.colab-df-convert');\n",
              "        buttonEl.style.display =\n",
              "          google.colab.kernel.accessAllowed ? 'block' : 'none';\n",
              "\n",
              "        async function convertToInteractive(key) {\n",
              "          const element = document.querySelector('#df-ec8f36b5-9ca4-480b-8fda-fd75357f80ec');\n",
              "          const dataTable =\n",
              "            await google.colab.kernel.invokeFunction('convertToInteractive',\n",
              "                                                     [key], {});\n",
              "          if (!dataTable) return;\n",
              "\n",
              "          const docLinkHtml = 'Like what you see? Visit the ' +\n",
              "            '<a target=\"_blank\" href=https://colab.research.google.com/notebooks/data_table.ipynb>data table notebook</a>'\n",
              "            + ' to learn more about interactive tables.';\n",
              "          element.innerHTML = '';\n",
              "          dataTable['output_type'] = 'display_data';\n",
              "          await google.colab.output.renderOutput(dataTable, element);\n",
              "          const docLink = document.createElement('div');\n",
              "          docLink.innerHTML = docLinkHtml;\n",
              "          element.appendChild(docLink);\n",
              "        }\n",
              "      </script>\n",
              "    </div>\n",
              "  </div>\n",
              "  "
            ],
            "text/plain": [
              "                           ОК            НП            ОС\n",
              "Номер периода                                            \n",
              "1              1000000.000000  16666.666667  45171.108385\n",
              "2               954828.891615  15913.814860  45923.960192\n",
              "3               908904.931423  15148.415524  46689.359528\n",
              "4               862215.571894  14370.259532  47467.515520\n",
              "5               814748.056374  13579.134273  48258.640779\n",
              "6               766489.415595  12774.823593  49062.951459\n",
              "7               717426.464136  11957.107736  49880.667316\n",
              "8               667545.796820  11125.763280  50712.011772\n",
              "9               616833.785048  10280.563084  51557.211968\n",
              "10              565276.573080   9421.276218  52416.498834\n",
              "11              512860.074246   8547.667904  53290.107148\n",
              "12              459569.967098   7659.499452  54178.275600\n",
              "13              405391.691497   6756.528192  55081.246860\n",
              "14              350310.444637   5838.507411  55999.267641\n",
              "15              294311.176996   4905.186283  56932.588769\n",
              "16              237378.588227   3956.309804  57881.465248\n",
              "17              179497.122979   2991.618716  58846.156336\n",
              "18              120650.966643   2010.849444  59826.925608\n",
              "19               60824.041035   1013.734017  60824.041035"
            ]
          },
          "metadata": {},
          "execution_count": 22
        }
      ]
    },
    {
      "cell_type": "markdown",
      "source": [
        "### Практическая работа №3\n",
        "**Задание:**\n",
        "\n",
        "Вводятся 3 любые переменные из 4:\n",
        "\n",
        ">S - площадь;\n",
        ">\n",
        ">M - масса самолета;\n",
        ">\n",
        ">v - постоянная скорость самолета;\n",
        ">\n",
        ">alpha - угол отклонения от горизонта.\n",
        "\n",
        "Необходимо автоматом дополнить 4 переменную."
      ],
      "metadata": {
        "id": "Qdoma6tNHUEn"
      }
    },
    {
      "cell_type": "code",
      "source": [
        "def formula(alpha=0, M=0, v=0, S=0, mu=0, case=1):\n",
        "  # плотность воздуха на высоте\n",
        "  p0 = 0.5\n",
        "  g = 9.8\n",
        "  u = 3000\n",
        "\n",
        "  if case == 1:\n",
        "    \n",
        "    return M * g / (2 * p0 * v ** 2 * alpha ** 2)\n",
        "\n",
        "  elif case == 2:\n",
        "    return ((M * g) / S * 2 * p0 * alpha ** 2) ** 0.5\n",
        "\n",
        "  elif case == 3:\n",
        "    return (2 * p0 * S * alpha ** 2 * v ** 2) / g\n",
        "\n",
        "  elif case == 4:\n",
        "    return ((M * g) / S * 2 * p0 * v ** 2) ** 0.5\n",
        "\n",
        "  elif case == 5:\n",
        "    return (S * 2 * p0 * v ** 2 * alpha ** 2) / g,\n",
        "    (2 * p0 * S * alpha ** 3 * v ** 2) / u\n",
        "\n",
        "  elif case == 6:\n",
        "    # return(type(M), type(g), type(p0), type(v), type(S))\n",
        "    return ((M * g) / (S * 2 * p0 * v ** 2)) ** 0.5\n",
        "\n",
        "  elif case == 7:\n",
        "    return ((mu * u) / (2 * p0 * S * v ** 2)) ** (1/3) \n",
        "\n",
        "\n",
        "alpha = input('Введите значение alpha в радианах: ')\n",
        "S = input('Введите значение S в м^2: ')\n",
        "M = input('Введите значение M в кг: ')\n",
        "v = input('Введите значение v в м/c: ')\n",
        "mu = input('Введите значение mu в гс: ')\n",
        "\n",
        "\n",
        "# ограничение на малые радианы\n",
        "low = 2 / 180 * pi\n",
        "up = 6 / 180 * pi\n",
        "\n",
        "vect = (alpha, S, M, v, mu)\n",
        "count = 0\n",
        "\n",
        "for el in vect:\n",
        "  if len(el) != 0:\n",
        "    count += 1\n",
        "\n",
        "if count == 3:\n",
        "\n",
        "  if len(alpha) != 0:\n",
        "    alpha = float(alpha)\n",
        "    if alpha >= low and alpha <= up:\n",
        "      if len(M) != 0 and len(mu) == 0:\n",
        "\n",
        "        if len(v) != 0 and len(S) == 0:\n",
        "          M = float(M)\n",
        "          v = float(v)\n",
        "          print('\\nЗначение для S: {:.3f}'.format(formula(alpha, M, v, 0, 0, 1)))\n",
        "\n",
        "        elif len(S) != 0 and len(v) == 0:\n",
        "          S = float(S)\n",
        "          M = float(M)\n",
        "          print('\\nЗначение для v: {:.3f}'.format(formula(alpha, M, 0, S, 0, 2)))\n",
        "\n",
        "      elif len(M) == 0 and len(mu) != 0:\n",
        "\n",
        "        if len(v) != 0 and len(S) == 0:\n",
        "          mu = float(mu)\n",
        "          v = float(v)\n",
        "          print('\\nЗначение для S: {:.3f}'.format(formula(alpha, 0, v, 0, mu, 3)))\n",
        "\n",
        "        elif len(S) != 0 and len(v) == 0:\n",
        "          S = float(S)\n",
        "          mu = float(mu)\n",
        "          print('\\nЗначение для v: {:.3f}'.format(formula(alpha, 0, 0, S, mu, 4)))\n",
        "        \n",
        "      elif len(M) == 0 and len(mu) == 0:\n",
        "        if len(S) != 0 and len(v) != 0:\n",
        "          S = float(S)\n",
        "          v = float(v)\n",
        "          print('\\nЗначение для M, mu: {:.3f}'.format(formula(alpha, 0, v, S, 0, 5)))\n",
        "        else:\n",
        "          print('\\nВведены несовместимые переменные.')\n",
        "\n",
        "    else:\n",
        "      print(\"\\nЗначение alpha вне допустимого порога.\")\n",
        "\n",
        "  else:\n",
        "    if len(M) != 0:\n",
        "      if len(S) != 0 and len(v) != 0:\n",
        "        M = float(M)\n",
        "        S = float(S)\n",
        "        v = float(v)\n",
        "        print('\\nЗначение для alpha: {:.3f}'.format(formula(0, M, v, S, 0, 6)))\n",
        "\n",
        "    else:\n",
        "      if len(mu) != 0:\n",
        "        if len(S) != 0 and len(v) != 0:\n",
        "          mu = float(mu)\n",
        "          S = float(S)\n",
        "          v = float(v)\n",
        "          print('\\nЗначение для alpha: {:.3f}'.format(formula(0, 0, v, S, mu, 7)))\n",
        "else:\n",
        "  print(\"\\nПодсчет невозможен.\")"
      ],
      "metadata": {
        "colab": {
          "base_uri": "https://localhost:8080/"
        },
        "id": "I_j8m0_1IHTs",
        "outputId": "0c93d49a-d964-48ec-aeea-2d339af89eb4"
      },
      "execution_count": 15,
      "outputs": [
        {
          "output_type": "stream",
          "name": "stdout",
          "text": [
            "Введите значение alpha в радианах: 0.09\n",
            "Введите значение S в м^2: \n",
            "Введите значение M в кг: 1500\n",
            "Введите значение v в м/c: 60\n",
            "Введите значение mu в гс: \n",
            "\n",
            "Значение для S: 504.115\n"
          ]
        }
      ]
    },
    {
      "cell_type": "markdown",
      "source": [
        "### Практическая работа №4. Модель спутника\n",
        "**Задание:**"
      ],
      "metadata": {
        "id": "ZFjrcxcrLmws"
      }
    },
    {
      "cell_type": "code",
      "source": [
        "CONST_EARTH_R = 6371000\n",
        "CONST_EARTH_G = 9.8\n",
        "T_2 = 24\n",
        "\n",
        "CONST_MARS_R = 3389500\n",
        "CONST_MARS_G = 3.7"
      ],
      "metadata": {
        "id": "BBKU5lyVL32Q"
      },
      "execution_count": null,
      "outputs": []
    },
    {
      "cell_type": "code",
      "source": [
        "def pract_4(g, R_pl, h, T_2=0):\n",
        "  v = (g * (R_pl + h * 1000)) ** 0.5\n",
        "  T_1 = 2 * pi * (R_pl / g) ** 0.5\n",
        "  R = (T_2 * 3600 * R_pl * g ** 0.5 / (2 * pi)) ** (2/3) - h * 1000\n",
        "  return v, T_1, R\n",
        "\n",
        "def printPract_4(g, R, h, T_2):\n",
        "  print('Первая космическая скорость для заданного значения: {:.3f} км/c'.format(pract_4(g, R, h)[0] / 1000))\n",
        "  print('Период обращения для заданного значения: {:.3f} ч'.format(pract_4(g, R, h)[1] / 3600))\n",
        "  print('Пересчитанный радиус планеты при изменении периода обращения в 24 ч: {:.3f} км'.format(pract_4(g, R,\n",
        "                                                                          0, T_2)[2] / 1000))"
      ],
      "metadata": {
        "id": "GCny4grYXBRO"
      },
      "execution_count": null,
      "outputs": []
    },
    {
      "cell_type": "code",
      "source": [
        "# ограничение на h, h выражено в км\n",
        "h = float(input('Введите высоту, на которую хотите вывести спутник (км): '))\n",
        "\n",
        "printPract_4(CONST_EARTH_G, CONST_EARTH_R, h, T_2)\n",
        "print('\\n')\n",
        "\n",
        "h = float(input('Введите высоту, на которую хотите вывести спутник (км): '))\n",
        "printPract_4(CONST_MARS_G, CONST_MARS_R, h, T_2)"
      ],
      "metadata": {
        "colab": {
          "base_uri": "https://localhost:8080/"
        },
        "id": "vfvFVWZMPv7-",
        "outputId": "1dfaeb64-0141-4c3c-e162-74d8a1fae654"
      },
      "execution_count": null,
      "outputs": [
        {
          "output_type": "stream",
          "name": "stdout",
          "text": [
            "Введите высоту, на которую хотите вывести спутник (км): 10\n",
            "Первая космическая скорость для заданного значения: 7.908 км/c\n",
            "Период обращения для заданного значения: 1.407 ч\n",
            "Пересчитанный радиус планеты при изменении периода обращения в 24 ч: 42212.040 км\n",
            "\n",
            "\n",
            "Введите высоту, на которую хотите вывести спутник (км): 10\n",
            "Первая космическая скорость для заданного значения: 3.547 км/c\n",
            "Период обращения для заданного значения: 1.670 ч\n",
            "Пересчитанный радиус планеты при изменении периода обращения в 24 ч: 20031.505 км\n"
          ]
        }
      ]
    }
  ]
}
