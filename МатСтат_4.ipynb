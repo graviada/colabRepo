{
  "nbformat": 4,
  "nbformat_minor": 0,
  "metadata": {
    "colab": {
      "name": "МатСтат_4.ipynb",
      "provenance": [],
      "authorship_tag": "ABX9TyOaQZ1yRDeJllUWAQ101h1M",
      "include_colab_link": true
    },
    "kernelspec": {
      "name": "python3",
      "display_name": "Python 3"
    },
    "language_info": {
      "name": "python"
    }
  },
  "cells": [
    {
      "cell_type": "markdown",
      "metadata": {
        "id": "view-in-github",
        "colab_type": "text"
      },
      "source": [
        "<a href=\"https://colab.research.google.com/github/graviada/colabRepo/blob/master/%D0%9C%D0%B0%D1%82%D0%A1%D1%82%D0%B0%D1%82_4.ipynb\" target=\"_parent\"><img src=\"https://colab.research.google.com/assets/colab-badge.svg\" alt=\"Open In Colab\"/></a>"
      ]
    },
    {
      "cell_type": "code",
      "metadata": {
        "id": "lPYBvZs-sLVB",
        "colab": {
          "base_uri": "https://localhost:8080/"
        },
        "outputId": "dd70ebf0-6722-4171-bf4e-7ce3826ca995"
      },
      "source": [
        "pip install plotly"
      ],
      "execution_count": null,
      "outputs": [
        {
          "output_type": "stream",
          "name": "stdout",
          "text": [
            "Requirement already satisfied: plotly in /usr/local/lib/python3.7/dist-packages (4.4.1)\n",
            "Requirement already satisfied: six in /usr/local/lib/python3.7/dist-packages (from plotly) (1.15.0)\n",
            "Requirement already satisfied: retrying>=1.3.3 in /usr/local/lib/python3.7/dist-packages (from plotly) (1.3.3)\n"
          ]
        }
      ]
    },
    {
      "cell_type": "code",
      "metadata": {
        "colab": {
          "base_uri": "https://localhost:8080/"
        },
        "id": "vY1r1Hl_PmNn",
        "outputId": "636b6046-312c-4446-a66a-1d704695c2c7"
      },
      "source": [
        "pip install seaborn"
      ],
      "execution_count": null,
      "outputs": [
        {
          "output_type": "stream",
          "name": "stdout",
          "text": [
            "Requirement already satisfied: seaborn in /usr/local/lib/python3.7/dist-packages (0.11.2)\n",
            "Requirement already satisfied: numpy>=1.15 in /usr/local/lib/python3.7/dist-packages (from seaborn) (1.19.5)\n",
            "Requirement already satisfied: scipy>=1.0 in /usr/local/lib/python3.7/dist-packages (from seaborn) (1.4.1)\n",
            "Requirement already satisfied: pandas>=0.23 in /usr/local/lib/python3.7/dist-packages (from seaborn) (1.1.5)\n",
            "Requirement already satisfied: matplotlib>=2.2 in /usr/local/lib/python3.7/dist-packages (from seaborn) (3.2.2)\n",
            "Requirement already satisfied: kiwisolver>=1.0.1 in /usr/local/lib/python3.7/dist-packages (from matplotlib>=2.2->seaborn) (1.3.2)\n",
            "Requirement already satisfied: cycler>=0.10 in /usr/local/lib/python3.7/dist-packages (from matplotlib>=2.2->seaborn) (0.11.0)\n",
            "Requirement already satisfied: pyparsing!=2.0.4,!=2.1.2,!=2.1.6,>=2.0.1 in /usr/local/lib/python3.7/dist-packages (from matplotlib>=2.2->seaborn) (2.4.7)\n",
            "Requirement already satisfied: python-dateutil>=2.1 in /usr/local/lib/python3.7/dist-packages (from matplotlib>=2.2->seaborn) (2.8.2)\n",
            "Requirement already satisfied: pytz>=2017.2 in /usr/local/lib/python3.7/dist-packages (from pandas>=0.23->seaborn) (2018.9)\n",
            "Requirement already satisfied: six>=1.5 in /usr/local/lib/python3.7/dist-packages (from python-dateutil>=2.1->matplotlib>=2.2->seaborn) (1.15.0)\n"
          ]
        }
      ]
    },
    {
      "cell_type": "code",
      "metadata": {
        "id": "-MQaw17bPqED"
      },
      "source": [
        "# import scipy.stats as sc\n",
        "import numpy as np\n",
        "# import seaborn as sns\n",
        "# import statistics as st\n",
        "import pandas as pd\n",
        "\n",
        "import matplotlib.pyplot as plt\n",
        "import plotly.express as px\n",
        "import plotly.graph_objects as go\n",
        "\n",
        "# from mpl_toolkits.mplot3d import Axes3D\n",
        "from sklearn.linear_model import LinearRegression\n",
        "from scipy import stats"
      ],
      "execution_count": null,
      "outputs": []
    },
    {
      "cell_type": "code",
      "metadata": {
        "id": "zsXrjhtJPtez"
      },
      "source": [
        "def load_data(data_file_path):\n",
        "    with open(data_file_path) as input_file:\n",
        "        X = list()\n",
        "        y = list()\n",
        "        for line in input_file:\n",
        "            *row, label = map(float, line.split(','))\n",
        "            X.append(row)\n",
        "            y.append(label)\n",
        "        return np.array(X, float), np.array(y, float)"
      ],
      "execution_count": null,
      "outputs": []
    },
    {
      "cell_type": "markdown",
      "metadata": {
        "id": "g6I_aYtNFPMk"
      },
      "source": [
        "# **First file** ▶\n",
        "1. Linear regression"
      ]
    },
    {
      "cell_type": "code",
      "metadata": {
        "id": "FWbnWLgzPw_9"
      },
      "source": [
        "X_1, y_1 = load_data('1.txt')\n",
        "n = len(X_1)"
      ],
      "execution_count": null,
      "outputs": []
    },
    {
      "cell_type": "code",
      "metadata": {
        "id": "5sz15gAxPz-1"
      },
      "source": [
        "x1_data = X_1.reshape(-1,1)\n",
        "y1_data = y_1.reshape(-1,1)"
      ],
      "execution_count": null,
      "outputs": []
    },
    {
      "cell_type": "code",
      "metadata": {
        "id": "6CKX45X4P0yt"
      },
      "source": [
        "model = LinearRegression().fit(x1_data, y1_data)\n",
        "predictions = model.predict(x1_data)"
      ],
      "execution_count": null,
      "outputs": []
    },
    {
      "cell_type": "code",
      "metadata": {
        "colab": {
          "base_uri": "https://localhost:8080/",
          "height": 297
        },
        "id": "Fw1W9zpQP2fD",
        "outputId": "0a049935-6613-4f2f-97ab-db36413da43c"
      },
      "source": [
        "fig, ax = plt.subplots()\n",
        "ax.set_xlabel('x')\n",
        "ax.set_ylabel('y')\n",
        "ax.scatter(x1_data, y1_data, edgecolor='k', facecolor='yellow', alpha=0.7, label='Sample data')\n",
        "ax.plot(x1_data, predictions, color='black', linewidth=2, label='Regression model')\n",
        "ax.legend(facecolor='white', fontsize=11)\n",
        "ax.set_title('First file', fontsize=14)\n",
        "\n",
        "fig.tight_layout()\n",
        "fig.savefig('1file_2D.png')"
      ],
      "execution_count": null,
      "outputs": [
        {
          "output_type": "display_data",
          "data": {
            "image/png": "[encoded data removed]",
            "text/plain": [
              "<Figure size 432x288 with 1 Axes>"
            ]
          },
          "metadata": {
            "needs_background": "light"
          }
        }
      ]
    },
    {
      "cell_type": "markdown",
      "metadata": {
        "id": "kuu6LqElFrhM"
      },
      "source": [
        "2. Checking the significance of coefficients\n",
        "\n"
      ]
    },
    {
      "cell_type": "code",
      "metadata": {
        "id": "UfmF_FdTBwwH"
      },
      "source": [
        "def variance(data):\n",
        "  n = len(data)\n",
        "  deviations = [(x - np.mean(data)) ** 2 for x in data]\n",
        "  return sum(deviations) / (n - 1)"
      ],
      "execution_count": null,
      "outputs": []
    },
    {
      "cell_type": "code",
      "metadata": {
        "id": "Zp9VRDLYQMCW"
      },
      "source": [
        "def st_dev(num):\n",
        "  return num ** 0.5"
      ],
      "execution_count": null,
      "outputs": []
    },
    {
      "cell_type": "code",
      "metadata": {
        "id": "CuUu5a1LUeYm"
      },
      "source": [
        "def s_(data_1, data_2, f):\n",
        "  deviations = [(data_1[i] - data_2[i]) ** 2 for i in range(len(data_1))]\n",
        "  return sum(deviations) / f"
      ],
      "execution_count": null,
      "outputs": []
    },
    {
      "cell_type": "code",
      "metadata": {
        "id": "4LZQ4wL6Za42"
      },
      "source": [
        "def interval(e, coef):\n",
        "  return (coef - e, coef + e)"
      ],
      "execution_count": null,
      "outputs": []
    },
    {
      "cell_type": "code",
      "metadata": {
        "id": "AXUpzylDP7O7"
      },
      "source": [
        "variance = variance(X_1)\n",
        "st_dev = st_dev(variance)\n",
        "s_ad = s_(y_1, predictions, n)"
      ],
      "execution_count": null,
      "outputs": []
    },
    {
      "cell_type": "code",
      "metadata": {
        "id": "Bot8A0BdSW9P"
      },
      "source": [
        "m_a = s_ad / (st_dev * n ** 0.5)\n",
        "\n",
        "squares = [x ** 2 for x in X_1]\n",
        "m_b = sum(squares) ** 0.5 * s_ad / (n * st_dev ** 2)"
      ],
      "execution_count": null,
      "outputs": []
    },
    {
      "cell_type": "code",
      "metadata": {
        "colab": {
          "base_uri": "https://localhost:8080/"
        },
        "id": "acP6fYf5YH8J",
        "outputId": "6c483daf-559b-42c5-8299-8f45acd99cd8"
      },
      "source": [
        "a = model.coef_\n",
        "b = model.intercept_\n",
        "print(a, b)"
      ],
      "execution_count": null,
      "outputs": [
        {
          "output_type": "stream",
          "name": "stdout",
          "text": [
            "[[-2.77230625]] [1.95176319]\n"
          ]
        }
      ]
    },
    {
      "cell_type": "code",
      "metadata": {
        "colab": {
          "base_uri": "https://localhost:8080/"
        },
        "id": "kxPEHj6_Zr-3",
        "outputId": "b9fcf29c-35f0-4802-9562-cd672a3a503f"
      },
      "source": [
        "# alpha = 0.05\n",
        "e_a = 1.984 * m_a\n",
        "e_b = 1.984 * m_b\n",
        "\n",
        "interval_a = interval(e_a, a)\n",
        "interval_b = interval(e_b, b)\n",
        "print(interval_a, interval_b)"
      ],
      "execution_count": null,
      "outputs": [
        {
          "output_type": "stream",
          "name": "stdout",
          "text": [
            "(array([[-3.10312796]]), array([[-2.44148455]])) (array([1.04334742]), array([2.86017895]))\n"
          ]
        }
      ]
    },
    {
      "cell_type": "code",
      "metadata": {
        "colab": {
          "base_uri": "https://localhost:8080/"
        },
        "id": "7Y0ynt55cPum",
        "outputId": "e6a2dd70-861f-49e0-8121-102b0eab24db"
      },
      "source": [
        "t_crit_a = a / m_a\n",
        "t_crit_b = b / m_b\n",
        "print(t_crit_a, t_crit_b)"
      ],
      "execution_count": null,
      "outputs": [
        {
          "output_type": "stream",
          "name": "stdout",
          "text": [
            "[[-16.62604197]] [4.2626937]\n"
          ]
        }
      ]
    },
    {
      "cell_type": "markdown",
      "metadata": {
        "id": "VROQMQjncjUf"
      },
      "source": [
        "3. Evaluate the adequacy of the model"
      ]
    },
    {
      "cell_type": "code",
      "metadata": {
        "id": "ErHnBTMVcvqj"
      },
      "source": [
        "deviations = [(y_1[i] - np.mean(y_1)) ** 2 for i in range(len(y_1))]\n",
        "s_general = sum(deviations) / (n - 1)"
      ],
      "execution_count": null,
      "outputs": []
    },
    {
      "cell_type": "code",
      "metadata": {
        "colab": {
          "base_uri": "https://localhost:8080/"
        },
        "id": "1u2ZRYu4d2bz",
        "outputId": "aaba1c6c-fe1b-40c8-870d-15045ec62a66"
      },
      "source": [
        "f_dist = s_ad ** 2 / s_general ** 2\n",
        "print(f_dist, 1.35)"
      ],
      "execution_count": null,
      "outputs": [
        {
          "output_type": "stream",
          "name": "stdout",
          "text": [
            "[0.00127328] 1.35\n"
          ]
        }
      ]
    },
    {
      "cell_type": "markdown",
      "metadata": {
        "id": "oPrisRuDSNaa"
      },
      "source": [
        "# Second file ▶"
      ]
    },
    {
      "cell_type": "code",
      "metadata": {
        "id": "Zeeqs5nAP6W_"
      },
      "source": [
        "X_2, y_2 = load_data('2.txt')"
      ],
      "execution_count": null,
      "outputs": []
    },
    {
      "cell_type": "code",
      "metadata": {
        "id": "TvBQZin9gHRf"
      },
      "source": [
        "# df_x = pd.DataFrame(X_2, index=range(X_2.shape[0]),\n",
        "#                           columns=[\"a\", \"b\", \"c\"])\n",
        "\n",
        "# df_y = pd.DataFrame(y_2, index=range(y_2.shape[0]))"
      ],
      "execution_count": null,
      "outputs": []
    },
    {
      "cell_type": "code",
      "metadata": {
        "id": "0BfKUUYbUsmg"
      },
      "source": [
        "x2_data = X_2.reshape(-1,3)\n",
        "y2_data = y_2"
      ],
      "execution_count": null,
      "outputs": []
    },
    {
      "cell_type": "markdown",
      "metadata": {
        "id": "gD7UPv7-Qh2p"
      },
      "source": [
        "Needful functions\n",
        "\n",
        "---"
      ]
    },
    {
      "cell_type": "code",
      "metadata": {
        "id": "sNe-RBZDVx2V"
      },
      "source": [
        "def getPredictions(X, y, typ='pred'):\n",
        "  model = LinearRegression().fit(X, y)\n",
        "  if typ=='pred':\n",
        "    return model.predict(X)\n",
        "  elif typ=='coef':\n",
        "    return model.coef_, model.intercept_"
      ],
      "execution_count": null,
      "outputs": []
    },
    {
      "cell_type": "code",
      "metadata": {
        "id": "xlPz5eipdYRd"
      },
      "source": [
        "def rss(data, predictions):\n",
        "  rss = [(data[i] - predictions[i]) ** 2 for i in range(len(data))]\n",
        "  return sum(rss)"
      ],
      "execution_count": null,
      "outputs": []
    },
    {
      "cell_type": "code",
      "metadata": {
        "id": "w_yb2i41MCKP"
      },
      "source": [
        "def dummy(X, y, par):\n",
        "  dum_0 = []\n",
        "  dum_1 = []\n",
        "  y_dum_0 = []\n",
        "  y_dum_1 = []\n",
        "  for i in range(len(X)):\n",
        "    if X[i][par] == 0.0:\n",
        "      dum_0.append(X[i][0])\n",
        "      y_dum_0.append(y[i])\n",
        "    else:\n",
        "      dum_1.append(X[i][0])\n",
        "      y_dum_1.append(y[i])\n",
        "  return dum_0, y_dum_0, dum_1, y_dum_1"
      ],
      "execution_count": null,
      "outputs": []
    },
    {
      "cell_type": "code",
      "metadata": {
        "id": "yx7lYS0PUqkG"
      },
      "source": [
        "def fTest(RSS, RSS1, RSS2, n, k):\n",
        "  return ((RSS - RSS1 - RSS2) * k) / ((RSS1 + RSS2) * (n - 2*k))"
      ],
      "execution_count": null,
      "outputs": []
    },
    {
      "cell_type": "markdown",
      "metadata": {
        "id": "gKMiNSdYc9IF"
      },
      "source": [
        "\n",
        "\n",
        "---"
      ]
    },
    {
      "cell_type": "code",
      "metadata": {
        "id": "xWPzkhWEQr_U"
      },
      "source": [
        "predictions = getPredictions(x2_data, y2_data)\n",
        "RSS = rss(y2_data, predictions)"
      ],
      "execution_count": null,
      "outputs": []
    },
    {
      "cell_type": "markdown",
      "metadata": {
        "id": "BGYPumN0Tjfb"
      },
      "source": [
        "1 dummy variable"
      ]
    },
    {
      "cell_type": "code",
      "metadata": {
        "id": "5sEs_Q3bRJ00"
      },
      "source": [
        "dum1_0, y2_dum1_0 = dummy(X_2, y_2, 1)[:2]\n",
        "\n",
        "pred_d1_0 = getPredictions(np.array(dum1_0).reshape(-1, 1), np.array(y2_dum1_0))\n",
        "\n",
        "RSS_1_0 = rss(y2_dum1_0, pred_d1_0)"
      ],
      "execution_count": null,
      "outputs": []
    },
    {
      "cell_type": "code",
      "metadata": {
        "id": "23Uiw4NeTPGb"
      },
      "source": [
        "dum1_1, y2_dum1_1 = dummy(X_2, y_2, 1)[2:]\n",
        "\n",
        "pred_d1_1 = getPredictions(np.array(dum1_1).reshape(-1, 1), np.array(y2_dum1_1))\n",
        "\n",
        "RSS_1_1 = rss(y2_dum1_1, pred_d1_1)"
      ],
      "execution_count": null,
      "outputs": []
    },
    {
      "cell_type": "markdown",
      "metadata": {
        "id": "2948PethTppF"
      },
      "source": [
        "2 dummy variable"
      ]
    },
    {
      "cell_type": "code",
      "metadata": {
        "id": "zXrLE59rOEE1"
      },
      "source": [
        "dum2_0, y2_dum2_0 = dummy(X_2, y_2, 2)[:2]\n",
        "\n",
        "pred_d2_0 = getPredictions(np.array(dum2_0).reshape(-1, 1), np.array(y2_dum2_0))\n",
        "\n",
        "RSS_2_0 = rss(y2_dum2_0, pred_d2_0)"
      ],
      "execution_count": null,
      "outputs": []
    },
    {
      "cell_type": "code",
      "metadata": {
        "id": "YDg0t1b6MslP"
      },
      "source": [
        "dum2_1, y2_dum2_1 = dummy(X_2, y_2, 2)[2:]\n",
        "\n",
        "pred_d2_1 = getPredictions(np.array(dum2_1).reshape(-1, 1), np.array(y2_dum2_1))\n",
        "\n",
        "RSS_2_1 = rss(y2_dum2_1, pred_d2_1)"
      ],
      "execution_count": null,
      "outputs": []
    },
    {
      "cell_type": "code",
      "metadata": {
        "colab": {
          "base_uri": "https://localhost:8080/",
          "height": 667
        },
        "id": "LCM4B3pRr8eH",
        "outputId": "c194f51b-3989-4b2b-ac22-2cc4bc255009"
      },
      "source": [
        "layout = go.Layout(\n",
        "    title={\n",
        "        'text': 'Second file',\n",
        "        'y':0.9,\n",
        "        'x':0.5,\n",
        "        'xanchor': 'center',\n",
        "        'yanchor': 'top'},\n",
        "    xaxis_title='x',\n",
        "    width=1200,\n",
        "    height=650,\n",
        ")\n",
        "\n",
        "fig = go.Figure([\n",
        "    go.Scatter(x=dum1_0, y=y2_dum1_0, name='Dummy-1: 0', mode='markers'),\n",
        "    go.Scatter(x=dum1_1, y=y2_dum1_1, name='Dummy-1: 1', mode='markers'),\n",
        "    go.Scatter(x=dum2_0, y=y2_dum2_0, name='Dummy-2: 0', mode='markers'),\n",
        "    go.Scatter(x=dum2_1, y=y2_dum2_1, name='Dummy-2: 1', mode='markers'),\n",
        "\n",
        "    go.Scatter(x=dum1_0, y=pred_d1_0, name='Pred-1: 0', mode='lines'),\n",
        "    go.Scatter(x=dum1_1, y=pred_d1_1, name='Pred-1: 1', mode='lines'),\n",
        "    go.Scatter(x=dum2_0, y=pred_d2_0, name='Pred-2: 0', mode='lines'),\n",
        "    go.Scatter(x=dum2_1, y=pred_d2_1, name='Pred-2: 1', mode='lines')\n",
        "], layout=layout)\n",
        "fig.show()"
      ],
      "execution_count": null,
      "outputs": [
        {
          "output_type": "display_data",
          "data": {
            "text/html": [
              "<html>\n",
              "<head><meta charset=\"utf-8\" /></head>\n",
              "<body>\n",
              "    <div>\n",
              "            <script src=\"https://cdnjs.cloudflare.com/ajax/libs/mathjax/2.7.5/MathJax.js?config=TeX-AMS-MML_SVG\"></script><script type=\"text/javascript\">if (window.MathJax) {MathJax.Hub.Config({SVG: {font: \"STIX-Web\"}});}</script>\n",
              "                <script type=\"text/javascript\">window.PlotlyConfig = {MathJaxConfig: 'local'};</script>\n",
              "        <script src=\"https://cdn.plot.ly/plotly-latest.min.js\"></script>    \n",
              "            <div id=\"0eebbced-b939-4966-9042-d29cd8e8a9af\" class=\"plotly-graph-div\" style=\"height:650px; width:1200px;\"></div>\n",
              "            <script type=\"text/javascript\">\n",
              "                \n",
              "                    window.PLOTLYENV=window.PLOTLYENV || {};\n",
              "                    \n",
              "                if (document.getElementById(\"0eebbced-b939-4966-9042-d29cd8e8a9af\")) {\n",
              "                    Plotly.newPlot(\n",
              "                        '0eebbced-b939-4966-9042-d29cd8e8a9af',\n",
              "                        [{\"mode\": \"markers\", \"name\": \"Dummy-1: 0\", \"type\": \"scatter\", \"x\": [6.616161616161616, 8.636363636363637, 23.585858585858585, 5.404040404040404, 6.212121212121212, 6.818181818181818, 11.464646464646464, 13.484848484848484, 7.424242424242424, 9.444444444444445, 24.7979797979798, 7.626262626262626, 14.292929292929292, 11.666666666666668, 5.808080808080808, 19.545454545454547, 19.747474747474747, 10.656565656565657, 18.333333333333336, 25.0, 10.252525252525253, 15.1010101010101, 12.676767676767676, 8.838383838383837, 18.737373737373737, 14.09090909090909, 19.949494949494948, 11.06060606060606, 9.848484848484848, 19.141414141414142, 22.171717171717173, 10.858585858585858, 24.393939393939394, 6.01010101010101, 18.535353535353536, 17.727272727272727, 17.929292929292927, 10.454545454545453, 12.070707070707071, 23.383838383838384, 17.12121212121212, 7.020202020202021, 5.606060606060606, 16.919191919191917, 9.040404040404042, 20.95959595959596, 13.080808080808081, 18.13131313131313, 23.78787878787879, 15.909090909090908, 21.565656565656564, 18.939393939393938, 8.030303030303031, 12.878787878787879, 23.18181818181818, 22.373737373737374, 16.717171717171716, 15.707070707070708, 20.555555555555557, 13.88888888888889, 24.595959595959595, 22.77777777777778, 17.323232323232325, 20.353535353535353, 9.242424242424242, 14.696969696969697, 6.414141414141414, 7.222222222222222, 16.11111111111111, 15.303030303030303, 23.98989898989899, 20.15151515151515, 8.232323232323232, 22.97979797979798, 10.05050505050505, 21.363636363636363, 16.515151515151516, 9.646464646464647, 8.434343434343434, 14.494949494949495, 5.202020202020202, 17.525252525252526, 21.96969696969697, 21.767676767676768, 12.474747474747474, 5.0, 7.828282828282829, 11.868686868686869, 11.262626262626263, 13.282828282828282, 22.575757575757574, 20.757575757575758, 24.19191919191919, 13.686868686868687, 16.313131313131315, 12.272727272727273, 21.161616161616163, 15.505050505050505, 14.8989898989899, 19.343434343434343], \"y\": [2.243225467440601, 2.1872152067812043, 1.8768957202931158, 2.208552455256723, 2.255627146233853, 2.181744889821091, 2.1144931001627367, 2.0912194847413406, 2.1997650498723043, 2.157878359278908, 1.8744541368662972, 2.2003342217618997, 2.041356520486948, 2.1123087839329737, 2.2440429017865697, 1.9319829396879487, 1.9805986148022081, 2.1419690247481276, 1.986952570692114, 1.8393593310835799, 2.153477166606687, 2.0436380981736497, 2.11220162544551, 2.1771494989568514, 1.964958984229631, 2.034609265132067, 1.9220855685836151, 2.1278977531634555, 2.11738117831025, 1.928477151639487, 1.886440959598144, 2.1410753868241597, 1.8558139188648712, 2.251550385500004, 1.9713779538786462, 1.9914867680152775, 1.9862595628154252, 2.1109460307565504, 2.1008846886982906, 1.881593715484262, 2.0196514393635523, 2.19900341411592, 2.202389227316169, 2.004003037231106, 2.175680994446389, 1.8931031165772032, 2.0396157258096994, 1.9649902953419336, 1.8730598282469382, 2.0146633911431966, 1.9477597613589968, 1.959312989894035, 2.180290195443858, 2.0962065750048184, 1.867442082642076, 1.9130604522100223, 1.991294684701146, 2.02787990341707, 1.9038190253729035, 2.0450780854850668, 1.8657269567592971, 1.843972322238539, 1.9559461569484768, 1.9433603811680822, 2.1396090397683736, 2.036455421543358, 2.1817320665726196, 2.1713773661050535, 2.0237353098406086, 2.062195648251299, 1.8193159706203352, 1.947769966864792, 2.1522633504632167, 1.8994322612335328, 2.110069608869438, 1.9145273984664888, 2.024465325104238, 2.138641827020582, 2.1483108475895816, 2.03661900444955, 2.2668445271307456, 2.0267892449991405, 1.8915140437193, 1.9096852283027017, 2.0853624301370925, 2.227669945943293, 2.155812421427893, 2.10962475289536, 2.1013093787818806, 2.090177289248893, 1.8666485431312534, 1.9242854033529224, 1.84805575383361, 2.0583319123411496, 2.027974598208318, 2.0845078401978103, 1.8904624560731067, 2.0656614005887195, 2.0506921022840383, 1.9650670801536194]}, {\"mode\": \"markers\", \"name\": \"Dummy-1: 1\", \"type\": \"scatter\", \"x\": [20.95959595959596, 19.545454545454547, 15.1010101010101, 16.11111111111111, 8.232323232323232, 9.040404040404042, 12.878787878787879, 11.868686868686869, 13.88888888888889, 17.727272727272727, 25.0, 16.717171717171716, 6.414141414141414, 20.757575757575758, 23.383838383838384, 11.06060606060606, 19.949494949494948, 22.97979797979798, 20.15151515151515, 15.707070707070708, 10.454545454545453, 19.343434343434343, 6.616161616161616, 7.828282828282829, 6.818181818181818, 22.77777777777778, 20.555555555555557, 24.19191919191919, 16.313131313131315, 21.767676767676768, 17.12121212121212, 7.424242424242424, 19.747474747474747, 7.020202020202021, 5.808080808080808, 18.13131313131313, 15.909090909090908, 24.393939393939394, 9.848484848484848, 20.353535353535353, 13.282828282828282, 23.18181818181818, 7.626262626262626, 23.98989898989899, 12.272727272727273, 9.242424242424242, 24.595959595959595, 18.737373737373737, 16.515151515151516, 10.656565656565657, 22.171717171717173, 14.292929292929292, 10.252525252525253, 21.565656565656564, 8.030303030303031, 11.262626262626263, 9.444444444444445, 5.202020202020202, 6.212121212121212, 10.858585858585858, 13.484848484848484, 17.929292929292927, 8.838383838383837, 21.161616161616163, 14.09090909090909, 17.525252525252526, 12.676767676767676, 12.070707070707071, 23.585858585858585, 5.404040404040404, 22.575757575757574, 7.222222222222222, 22.373737373737374, 11.464646464646464, 13.686868686868687, 12.474747474747474, 10.05050505050505, 5.0, 18.939393939393938, 14.696969696969697, 11.666666666666668, 17.323232323232325, 14.494949494949495, 21.96969696969697, 18.333333333333336, 8.434343434343434, 24.7979797979798, 13.080808080808081, 15.303030303030303, 19.141414141414142, 5.606060606060606, 23.78787878787879, 8.636363636363637, 16.919191919191917, 9.646464646464647, 18.535353535353536, 15.505050505050505, 14.8989898989899, 6.01010101010101, 21.363636363636363], \"y\": [-42.40003504370378, -40.733958826318776, -33.53348546949794, -33.338718795111184, -16.556373766463253, -22.769716436109505, -29.344373068822073, -23.97233977640313, -29.61685059973298, -37.890818835765074, -54.15631744513574, -37.750724309231316, -10.74717045356397, -42.143228296488275, -52.392761275254884, -26.85019331338388, -42.63197624473837, -45.654316910993145, -42.56330280214346, -36.77851900348848, -20.528803127884352, -45.50382504411283, -9.827648783506248, -20.09534354408711, -15.254410228631151, -49.596701654836316, -46.631115873814394, -47.05982921970035, -33.32933213947644, -45.80428130661902, -38.66552925634491, -16.12073975131877, -40.14951239140938, -14.656268729641157, -13.384509364166448, -38.36757264036982, -32.076610015195875, -51.808889464954184, -18.23367396046186, -43.004558208767065, -29.06680119654542, -50.9808952743641, -15.080669647345566, -46.12129059199814, -27.088207741624384, -19.735807275105888, -45.4556952147731, -37.88420296553022, -35.776091033430625, -22.89615610294782, -47.59507309509614, -27.331623634602295, -22.9555416825743, -48.51818022950379, -21.548784471854542, -24.68607283948161, -19.781348610495314, -12.926071564277677, -15.575449548792733, -25.273622474919105, -30.57163892049671, -35.501960562897295, -20.686844206830187, -42.245672939930905, -31.70061909993896, -37.02681218578, -25.105111756880667, -27.535304867497786, -50.93497362983014, -14.316855057158886, -46.571477094323114, -14.949029707732478, -46.75111598238734, -24.866319210185857, -31.470993212022815, -24.681851438639814, -18.296284865876046, -12.770988568219368, -37.88481156682267, -30.126066048948395, -25.70218548351181, -36.11070377212116, -32.86220224689096, -45.73450852665107, -42.23671563338694, -15.59586144277992, -55.2311616376069, -27.46817787985259, -29.178827880345818, -41.95338153367294, -14.810602586998236, -49.07205345902629, -16.830962504123367, -35.95251353657157, -23.225259758421323, -34.57598587438806, -33.24471077417176, -29.24474361593761, -13.812739388679466, -43.81442267057989]}, {\"mode\": \"markers\", \"name\": \"Dummy-2: 0\", \"type\": \"scatter\", \"x\": [6.616161616161616, 8.636363636363637, 23.585858585858585, 6.212121212121212, 15.1010101010101, 16.11111111111111, 9.040404040404042, 13.88888888888889, 16.717171717171716, 7.424242424242424, 9.444444444444445, 7.626262626262626, 23.383838383838384, 19.949494949494948, 5.808080808080808, 15.707070707070708, 19.545454545454547, 10.454545454545453, 7.828282828282829, 6.818181818181818, 22.77777777777778, 20.555555555555557, 16.313131313131315, 15.1010101010101, 12.676767676767676, 8.838383838383837, 19.747474747474747, 14.09090909090909, 19.949494949494948, 11.06060606060606, 18.13131313131313, 15.909090909090908, 24.393939393939394, 19.141414141414142, 22.171717171717173, 10.858585858585858, 20.353535353535353, 6.01010101010101, 23.18181818181818, 17.929292929292927, 7.626262626262626, 23.98989898989899, 12.272727272727273, 10.454545454545453, 9.242424242424242, 23.383838383838384, 18.737373737373737, 16.919191919191917, 10.656565656565657, 20.95959595959596, 14.292929292929292, 10.252525252525253, 13.080808080808081, 21.565656565656564, 8.030303030303031, 15.909090909090908, 8.030303030303031, 12.878787878787879, 23.18181818181818, 6.212121212121212, 10.858585858585858, 15.707070707070708, 8.838383838383837, 22.77777777777778, 14.09090909090909, 17.525252525252526, 12.676767676767676, 17.323232323232325, 20.353535353535353, 23.585858585858585, 14.696969696969697, 5.404040404040404, 7.222222222222222, 22.373737373737374, 23.98989898989899, 11.464646464646464, 8.232323232323232, 21.363636363636363, 9.646464646464647, 8.434343434343434, 12.474747474747474, 18.333333333333336, 24.7979797979798, 13.080808080808081, 15.303030303030303, 11.868686868686869, 11.262626262626263, 13.282828282828282, 8.636363636363637, 9.646464646464647, 20.757575757575758, 24.19191919191919, 14.8989898989899, 12.272727272727273, 21.363636363636363, 19.343434343434343], \"y\": [2.243225467440601, 2.1872152067812043, 1.8768957202931158, 2.255627146233853, -33.53348546949794, -33.338718795111184, -22.769716436109505, -29.61685059973298, -37.750724309231316, 2.1997650498723043, 2.157878359278908, 2.2003342217618997, -52.392761275254884, -42.63197624473837, 2.2440429017865697, -36.77851900348848, 1.9319829396879487, -20.528803127884352, -20.09534354408711, -15.254410228631151, -49.596701654836316, -46.631115873814394, -33.32933213947644, 2.0436380981736497, 2.11220162544551, 2.1771494989568514, -40.14951239140938, 2.034609265132067, 1.9220855685836151, 2.1278977531634555, -38.36757264036982, -32.076610015195875, -51.808889464954184, 1.928477151639487, 1.886440959598144, 2.1410753868241597, -43.004558208767065, 2.251550385500004, -50.9808952743641, 1.9862595628154252, -15.080669647345566, -46.12129059199814, -27.088207741624384, 2.1109460307565504, -19.735807275105888, 1.881593715484262, -37.88420296553022, 2.004003037231106, -22.89615610294782, 1.8931031165772032, -27.331623634602295, -22.9555416825743, 2.0396157258096994, -48.51818022950379, -21.548784471854542, 2.0146633911431966, 2.180290195443858, 2.0962065750048184, 1.867442082642076, -15.575449548792733, -25.273622474919105, 2.02787990341707, -20.686844206830187, 1.843972322238539, -31.70061909993896, -37.02681218578, -25.105111756880667, 1.9559461569484768, 1.9433603811680822, -50.93497362983014, 2.036455421543358, -14.316855057158886, -14.949029707732478, -46.75111598238734, 1.8193159706203352, -24.866319210185857, 2.1522633504632167, 1.9145273984664888, 2.138641827020582, 2.1483108475895816, 2.0853624301370925, -42.23671563338694, -55.2311616376069, -27.46817787985259, -29.178827880345818, 2.10962475289536, 2.1013093787818806, 2.090177289248893, -16.830962504123367, -23.225259758421323, 1.9242854033529224, 1.84805575383361, -29.24474361593761, 2.0845078401978103, -43.81442267057989, 1.9650670801536194]}, {\"mode\": \"markers\", \"name\": \"Dummy-2: 1\", \"type\": \"scatter\", \"x\": [20.95959595959596, 5.404040404040404, 19.545454545454547, 8.232323232323232, 6.818181818181818, 12.878787878787879, 11.464646464646464, 11.868686868686869, 17.727272727272727, 25.0, 13.484848484848484, 24.7979797979798, 6.414141414141414, 20.757575757575758, 11.06060606060606, 22.97979797979798, 14.292929292929292, 11.666666666666668, 20.15151515151515, 19.343434343434343, 19.747474747474747, 10.656565656565657, 6.616161616161616, 18.333333333333336, 25.0, 10.252525252525253, 24.19191919191919, 21.767676767676768, 17.12121212121212, 7.424242424242424, 18.737373737373737, 7.020202020202021, 5.808080808080808, 9.848484848484848, 9.848484848484848, 13.282828282828282, 24.393939393939394, 18.535353535353536, 17.727272727272727, 12.070707070707071, 24.595959595959595, 17.12121212121212, 7.020202020202021, 16.515151515151516, 5.606060606060606, 9.040404040404042, 22.171717171717173, 18.13131313131313, 11.262626262626263, 9.444444444444445, 23.78787878787879, 21.565656565656564, 18.939393939393938, 22.373737373737374, 5.202020202020202, 13.484848484848484, 17.929292929292927, 16.717171717171716, 20.555555555555557, 13.88888888888889, 24.595959595959595, 21.161616161616163, 9.242424242424242, 12.070707070707071, 6.414141414141414, 22.575757575757574, 7.222222222222222, 16.11111111111111, 15.303030303030303, 13.686868686868687, 20.15151515151515, 22.97979797979798, 12.474747474747474, 10.05050505050505, 16.515151515151516, 10.05050505050505, 5.0, 14.494949494949495, 18.939393939393938, 5.202020202020202, 17.525252525252526, 21.96969696969697, 14.696969696969697, 11.666666666666668, 21.767676767676768, 17.323232323232325, 5.0, 14.494949494949495, 21.96969696969697, 8.434343434343434, 7.828282828282829, 19.141414141414142, 5.606060606060606, 23.78787878787879, 22.575757575757574, 16.919191919191917, 18.535353535353536, 15.505050505050505, 13.686868686868687, 16.313131313131315, 6.01010101010101, 21.161616161616163, 15.505050505050505, 14.8989898989899], \"y\": [-42.40003504370378, 2.208552455256723, -40.733958826318776, -16.556373766463253, 2.181744889821091, -29.344373068822073, 2.1144931001627367, -23.97233977640313, -37.890818835765074, -54.15631744513574, 2.0912194847413406, 1.8744541368662972, -10.74717045356397, -42.143228296488275, -26.85019331338388, -45.654316910993145, 2.041356520486948, 2.1123087839329737, -42.56330280214346, -45.50382504411283, 1.9805986148022081, 2.1419690247481276, -9.827648783506248, 1.986952570692114, 1.8393593310835799, 2.153477166606687, -47.05982921970035, -45.80428130661902, -38.66552925634491, -16.12073975131877, 1.964958984229631, -14.656268729641157, -13.384509364166448, 2.11738117831025, -18.23367396046186, -29.06680119654542, 1.8558139188648712, 1.9713779538786462, 1.9914867680152775, 2.1008846886982906, -45.4556952147731, 2.0196514393635523, 2.19900341411592, -35.776091033430625, 2.202389227316169, 2.175680994446389, -47.59507309509614, 1.9649902953419336, -24.68607283948161, -19.781348610495314, 1.8730598282469382, 1.9477597613589968, 1.959312989894035, 1.9130604522100223, -12.926071564277677, -30.57163892049671, -35.501960562897295, 1.991294684701146, 1.9038190253729035, 2.0450780854850668, 1.8657269567592971, -42.245672939930905, 2.1396090397683736, -27.535304867497786, 2.1817320665726196, -46.571477094323114, 2.1713773661050535, 2.0237353098406086, 2.062195648251299, -31.470993212022815, 1.947769966864792, 1.8994322612335328, -24.681851438639814, 2.110069608869438, 2.024465325104238, -18.296284865876046, -12.770988568219368, 2.03661900444955, -37.88481156682267, 2.2668445271307456, 2.0267892449991405, 1.8915140437193, -30.126066048948395, -25.70218548351181, 1.9096852283027017, -36.11070377212116, 2.227669945943293, -32.86220224689096, -45.73450852665107, -15.59586144277992, 2.155812421427893, -41.95338153367294, -14.810602586998236, -49.07205345902629, 1.8666485431312534, -35.95251353657157, -34.57598587438806, -33.24471077417176, 2.0583319123411496, 2.027974598208318, -13.812739388679466, 1.8904624560731067, 2.0656614005887195, 2.0506921022840383]}, {\"mode\": \"lines\", \"name\": \"Pred-1: 0\", \"type\": \"scatter\", \"x\": [6.616161616161616, 8.636363636363637, 23.585858585858585, 5.404040404040404, 6.212121212121212, 6.818181818181818, 11.464646464646464, 13.484848484848484, 7.424242424242424, 9.444444444444445, 24.7979797979798, 7.626262626262626, 14.292929292929292, 11.666666666666668, 5.808080808080808, 19.545454545454547, 19.747474747474747, 10.656565656565657, 18.333333333333336, 25.0, 10.252525252525253, 15.1010101010101, 12.676767676767676, 8.838383838383837, 18.737373737373737, 14.09090909090909, 19.949494949494948, 11.06060606060606, 9.848484848484848, 19.141414141414142, 22.171717171717173, 10.858585858585858, 24.393939393939394, 6.01010101010101, 18.535353535353536, 17.727272727272727, 17.929292929292927, 10.454545454545453, 12.070707070707071, 23.383838383838384, 17.12121212121212, 7.020202020202021, 5.606060606060606, 16.919191919191917, 9.040404040404042, 20.95959595959596, 13.080808080808081, 18.13131313131313, 23.78787878787879, 15.909090909090908, 21.565656565656564, 18.939393939393938, 8.030303030303031, 12.878787878787879, 23.18181818181818, 22.373737373737374, 16.717171717171716, 15.707070707070708, 20.555555555555557, 13.88888888888889, 24.595959595959595, 22.77777777777778, 17.323232323232325, 20.353535353535353, 9.242424242424242, 14.696969696969697, 6.414141414141414, 7.222222222222222, 16.11111111111111, 15.303030303030303, 23.98989898989899, 20.15151515151515, 8.232323232323232, 22.97979797979798, 10.05050505050505, 21.363636363636363, 16.515151515151516, 9.646464646464647, 8.434343434343434, 14.494949494949495, 5.202020202020202, 17.525252525252526, 21.96969696969697, 21.767676767676768, 12.474747474747474, 5.0, 7.828282828282829, 11.868686868686869, 11.262626262626263, 13.282828282828282, 22.575757575757574, 20.757575757575758, 24.19191919191919, 13.686868686868687, 16.313131313131315, 12.272727272727273, 21.161616161616163, 15.505050505050505, 14.8989898989899, 19.343434343434343], \"y\": [2.207874939473063, 2.167446251393187, 1.8682739596021052, 2.2321321523209883, 2.215960677089038, 2.2038320706650754, 2.110846088081361, 2.0704174000014848, 2.1917034642411126, 2.1512747761612365, 1.8440167467541797, 2.187660595433125, 2.0542459247695346, 2.106803219273373, 2.2240464147050134, 1.949131335761857, 1.9450884669538695, 2.127017563313311, 1.9733885486097826, 1.8399738779461923, 2.1351033009292864, 2.038074449537584, 2.086588875233435, 2.1634033825851993, 1.9653028109938075, 2.058288793577522, 1.9410455981458818, 2.1189318256973357, 2.1431890385452617, 1.9572170733778322, 1.8965740412580183, 2.1229746945053236, 1.852102484370155, 2.2200035458970255, 1.969345679801795, 1.9855171550337454, 1.9814742862257577, 2.1310604321212985, 2.098717481657398, 1.8723168284100928, 1.9976457614577081, 2.1997892018570875, 2.228089283513001, 2.0016886302656958, 2.159360513777212, 1.920831254105944, 2.07850313761746, 1.9774314174177703, 1.8642310907941178, 2.021902974305634, 1.9087026476819813, 1.96125994218582, 2.17957485781715, 2.0825460064254475, 1.8763596972180805, 1.8925311724500309, 2.005731499073683, 2.0259458431136212, 1.928916991721919, 2.0623316623855095, 1.8480596155621674, 1.8844454348340556, 1.9936028926497205, 1.9329598605299068, 2.1553176449692244, 2.0461601871535593, 2.2119178082810507, 2.1957463330491, 2.017860105497646, 2.0340315807295966, 1.86018822198613, 1.9370027293378944, 2.175531989009162, 1.880402566026068, 2.139146169737274, 1.9127455164899687, 2.009774367881671, 2.147231907353249, 2.1714891202011746, 2.0502030559615467, 2.236175021128976, 1.989560023841733, 1.900616910066006, 1.9046597788739936, 2.090631744041423, 2.2402178899369636, 2.1836177266251373, 2.1027603504653856, 2.1148889568893483, 2.0744602688094727, 1.8884883036420432, 1.9248741229139315, 1.8561453531781424, 2.0663745311934973, 2.0138172366896585, 2.0946746128494103, 1.9167883852979564, 2.029988711921609, 2.0421173183455714, 1.9531742045698448]}, {\"mode\": \"lines\", \"name\": \"Pred-1: 1\", \"type\": \"scatter\", \"x\": [20.95959595959596, 19.545454545454547, 15.1010101010101, 16.11111111111111, 8.232323232323232, 9.040404040404042, 12.878787878787879, 11.868686868686869, 13.88888888888889, 17.727272727272727, 25.0, 16.717171717171716, 6.414141414141414, 20.757575757575758, 23.383838383838384, 11.06060606060606, 19.949494949494948, 22.97979797979798, 20.15151515151515, 15.707070707070708, 10.454545454545453, 19.343434343434343, 6.616161616161616, 7.828282828282829, 6.818181818181818, 22.77777777777778, 20.555555555555557, 24.19191919191919, 16.313131313131315, 21.767676767676768, 17.12121212121212, 7.424242424242424, 19.747474747474747, 7.020202020202021, 5.808080808080808, 18.13131313131313, 15.909090909090908, 24.393939393939394, 9.848484848484848, 20.353535353535353, 13.282828282828282, 23.18181818181818, 7.626262626262626, 23.98989898989899, 12.272727272727273, 9.242424242424242, 24.595959595959595, 18.737373737373737, 16.515151515151516, 10.656565656565657, 22.171717171717173, 14.292929292929292, 10.252525252525253, 21.565656565656564, 8.030303030303031, 11.262626262626263, 9.444444444444445, 5.202020202020202, 6.212121212121212, 10.858585858585858, 13.484848484848484, 17.929292929292927, 8.838383838383837, 21.161616161616163, 14.09090909090909, 17.525252525252526, 12.676767676767676, 12.070707070707071, 23.585858585858585, 5.404040404040404, 22.575757575757574, 7.222222222222222, 22.373737373737374, 11.464646464646464, 13.686868686868687, 12.474747474747474, 10.05050505050505, 5.0, 18.939393939393938, 14.696969696969697, 11.666666666666668, 17.323232323232325, 14.494949494949495, 21.96969696969697, 18.333333333333336, 8.434343434343434, 24.7979797979798, 13.080808080808081, 15.303030303030303, 19.141414141414142, 5.606060606060606, 23.78787878787879, 8.636363636363637, 16.919191919191917, 9.646464646464647, 18.535353535353536, 15.505050505050505, 14.8989898989899, 6.01010101010101, 21.363636363636363], \"y\": [-44.0262067341771, -41.146083306374805, -32.09426681899615, -34.15149783885493, -18.105095883956405, -19.750880699843435, -27.56835857530682, -25.511127555448034, -29.625589595165604, -37.44306747062899, -52.25513081361225, -35.3858364507702, -14.40208004821059, -43.614760530205345, -48.96356118183819, -23.865342739561004, -41.96897571431832, -48.140668773894674, -42.38042191829007, -33.32860543091142, -22.63100412764573, -40.73463710240304, -14.813526252182347, -17.282203476012892, -15.224972456154106, -47.72922256992292, -43.203314326233595, -50.609345997725214, -34.56294404282669, -45.671991550064135, -36.20872885871372, -16.459311068069375, -41.55752951034656, -15.636418660125864, -13.16774143629532, -38.2659598785725, -33.74005163488317, -51.02079220169698, -21.39666551573046, -42.79186812226183, -28.39125098325033, -48.55211497786643, -16.870757272041132, -50.19789979375346, -26.334019963391547, -20.16232690381519, -51.432238405668734, -39.50029849048777, -34.97439024679845, -23.04245033161749, -46.49488395800765, -30.448482003109117, -22.219557923673975, -45.26054534609237, -17.69364967998465, -24.27678894353276, -20.57377310778695, -11.93340282438005, -13.990633844238832, -23.453896535589248, -28.80269718722209, -37.854513674600746, -19.339434495871675, -44.437652938148865, -30.03703579913736, -37.03162126665723, -27.15691237133506, -25.92257375941979, -49.375007385809944, -12.344849028351804, -47.31777636595116, -16.04786486409762, -46.906330161979405, -24.688235147504518, -29.214143391193847, -26.745466167363304, -21.808111719702218, -11.521956620408291, -39.91174469445953, -31.271374411052633, -25.099681351476278, -36.62017506268548, -30.859928207080877, -46.08343775403589, -38.677406082544266, -18.516542087928162, -51.84368460964049, -27.979804779278577, -32.5057130229679, -40.32319089843129, -12.756295232323563, -49.78645358978171, -18.92798829189992, -35.797282654741956, -20.985219311758705, -39.08885228651602, -32.91715922693966, -31.68282061502439, -13.579187640267078, -44.849099142120615]}, {\"mode\": \"lines\", \"name\": \"Pred-2: 0\", \"type\": \"scatter\", \"x\": [6.616161616161616, 8.636363636363637, 23.585858585858585, 6.212121212121212, 15.1010101010101, 16.11111111111111, 9.040404040404042, 13.88888888888889, 16.717171717171716, 7.424242424242424, 9.444444444444445, 7.626262626262626, 23.383838383838384, 19.949494949494948, 5.808080808080808, 15.707070707070708, 19.545454545454547, 10.454545454545453, 7.828282828282829, 6.818181818181818, 22.77777777777778, 20.555555555555557, 16.313131313131315, 15.1010101010101, 12.676767676767676, 8.838383838383837, 19.747474747474747, 14.09090909090909, 19.949494949494948, 11.06060606060606, 18.13131313131313, 15.909090909090908, 24.393939393939394, 19.141414141414142, 22.171717171717173, 10.858585858585858, 20.353535353535353, 6.01010101010101, 23.18181818181818, 17.929292929292927, 7.626262626262626, 23.98989898989899, 12.272727272727273, 10.454545454545453, 9.242424242424242, 23.383838383838384, 18.737373737373737, 16.919191919191917, 10.656565656565657, 20.95959595959596, 14.292929292929292, 10.252525252525253, 13.080808080808081, 21.565656565656564, 8.030303030303031, 15.909090909090908, 8.030303030303031, 12.878787878787879, 23.18181818181818, 6.212121212121212, 10.858585858585858, 15.707070707070708, 8.838383838383837, 22.77777777777778, 14.09090909090909, 17.525252525252526, 12.676767676767676, 17.323232323232325, 20.353535353535353, 23.585858585858585, 14.696969696969697, 5.404040404040404, 7.222222222222222, 22.373737373737374, 23.98989898989899, 11.464646464646464, 8.232323232323232, 21.363636363636363, 9.646464646464647, 8.434343434343434, 12.474747474747474, 18.333333333333336, 24.7979797979798, 13.080808080808081, 15.303030303030303, 11.868686868686869, 11.262626262626263, 13.282828282828282, 8.636363636363637, 9.646464646464647, 20.757575757575758, 24.19191919191919, 14.8989898989899, 12.272727272727273, 21.363636363636363, 19.343434343434343], \"y\": [-5.835825277350967, -8.23487741142081, -25.987863203537636, -5.356014850536999, -15.9118442404443, -17.111370307479223, -8.714687838234779, -14.472412960002398, -17.831085947700174, -6.795446130978904, -9.194498265048745, -7.035351344385887, -25.74795799013065, -21.66956936221192, -4.87620442372303, -16.631559880665254, -21.189758935397954, -10.394024332083665, -7.275256557792872, -6.075730490757952, -25.0282423499097, -22.389285002432874, -17.351275520886208, -15.9118442404443, -13.032981679560491, -8.474782624827792, -21.429664148804935, -14.712318173409379, -21.66956936221192, -11.113739972304618, -19.510422441549064, -16.87146509407224, -26.947484057165575, -20.709948508583985, -24.30852670968875, -10.873834758897633, -22.14937978902589, -5.116109637130015, -25.508052776723666, -19.270517228142076, -7.035351344385887, -26.467673630351605, -12.553171252746525, -10.394024332083665, -8.95459305164176, -25.74795799013065, -20.230138081770015, -18.070991161107155, -10.633929545490652, -22.86909542924684, -14.952223386816364, -10.154119118676682, -13.51279210637446, -23.58881106946779, -7.515161771199857, -16.87146509407224, -7.515161771199857, -13.272886892967476, -25.508052776723666, -5.356014850536999, -10.873834758897633, -16.631559880665254, -8.474782624827792, -25.0282423499097, -14.712318173409379, -18.790706801328113, -13.032981679560491, -18.55080158792113, -22.14937978902589, -25.987863203537636, -15.432033813630333, -4.396393996909063, -6.5555409175719195, -24.54843192309573, -26.467673630351605, -11.593550399118586, -7.75506698460684, -23.34890585606081, -9.43440347845573, -7.994972198013825, -12.793076466153506, -19.750327654956052, -27.42729448397954, -13.51279210637446, -16.151749453851284, -12.073360825932555, -11.353645185711603, -13.752697319781443, -8.23487741142081, -9.43440347845573, -22.62919021583986, -26.707578843758586, -15.671939027037318, -12.553171252746525, -23.34890585606081, -20.94985372199097]}, {\"mode\": \"lines\", \"name\": \"Pred-2: 1\", \"type\": \"scatter\", \"x\": [20.95959595959596, 5.404040404040404, 19.545454545454547, 8.232323232323232, 6.818181818181818, 12.878787878787879, 11.464646464646464, 11.868686868686869, 17.727272727272727, 25.0, 13.484848484848484, 24.7979797979798, 6.414141414141414, 20.757575757575758, 11.06060606060606, 22.97979797979798, 14.292929292929292, 11.666666666666668, 20.15151515151515, 19.343434343434343, 19.747474747474747, 10.656565656565657, 6.616161616161616, 18.333333333333336, 25.0, 10.252525252525253, 24.19191919191919, 21.767676767676768, 17.12121212121212, 7.424242424242424, 18.737373737373737, 7.020202020202021, 5.808080808080808, 9.848484848484848, 9.848484848484848, 13.282828282828282, 24.393939393939394, 18.535353535353536, 17.727272727272727, 12.070707070707071, 24.595959595959595, 17.12121212121212, 7.020202020202021, 16.515151515151516, 5.606060606060606, 9.040404040404042, 22.171717171717173, 18.13131313131313, 11.262626262626263, 9.444444444444445, 23.78787878787879, 21.565656565656564, 18.939393939393938, 22.373737373737374, 5.202020202020202, 13.484848484848484, 17.929292929292927, 16.717171717171716, 20.555555555555557, 13.88888888888889, 24.595959595959595, 21.161616161616163, 9.242424242424242, 12.070707070707071, 6.414141414141414, 22.575757575757574, 7.222222222222222, 16.11111111111111, 15.303030303030303, 13.686868686868687, 20.15151515151515, 22.97979797979798, 12.474747474747474, 10.05050505050505, 16.515151515151516, 10.05050505050505, 5.0, 14.494949494949495, 18.939393939393938, 5.202020202020202, 17.525252525252526, 21.96969696969697, 14.696969696969697, 11.666666666666668, 21.767676767676768, 17.323232323232325, 5.0, 14.494949494949495, 21.96969696969697, 8.434343434343434, 7.828282828282829, 19.141414141414142, 5.606060606060606, 23.78787878787879, 22.575757575757574, 16.919191919191917, 18.535353535353536, 15.505050505050505, 13.686868686868687, 16.313131313131315, 6.01010101010101, 21.161616161616163, 15.505050505050505, 14.8989898989899], \"y\": [-19.537615158130794, -5.514098879858414, -18.262750041924214, -8.063829112271574, -6.788963996064995, -12.252671636950337, -10.977806520743757, -11.342053696802779, -16.623637749658613, -23.180086918721024, -12.799042401038871, -22.997963330691512, -6.424716820005972, -19.355491570101282, -10.613559344684734, -21.358851038425907, -13.527536753156916, -11.159930108773269, -18.809120806012746, -18.080626453894702, -18.444873629953726, -10.249312168625712, -6.606840408035483, -17.17000851374715, -23.180086918721024, -9.885064992566688, -22.451592566602976, -20.26610951024884, -16.077266985570077, -7.335334760153528, -17.53425568980617, -6.971087584094507, -5.878346055917437, -9.520817816507664, -9.520817816507664, -12.61691881300936, -22.633716154632488, -17.352132101776657, -16.623637749658613, -11.524177284832291, -22.815839742662, -16.077266985570077, -6.971087584094507, -15.530896221481543, -5.696222467887926, -8.792323464389622, -20.630356686307863, -16.987884925717633, -10.795682932714247, -9.156570640448644, -22.087345390543955, -20.083985922219327, -17.716379277835678, -20.812480274337375, -5.331975291828903, -12.799042401038871, -16.80576133768812, -15.713019809511053, -19.173367982071774, -13.163289577097894, -22.815839742662, -19.719738746160306, -8.974447052419132, -11.524177284832291, -6.424716820005972, -20.994603862366883, -7.153211172124017, -15.166649045422519, -14.438154693304474, -12.981165989068383, -18.809120806012746, -21.358851038425907, -11.888424460891313, -9.702941404537176, -15.530896221481543, -9.702941404537176, -5.149851703799392, -13.709660341186428, -17.716379277835678, -5.331975291828903, -16.4415141616291, -20.44823309827835, -13.89178392921594, -11.159930108773269, -20.26610951024884, -16.25939057359959, -5.149851703799392, -13.709660341186428, -20.44823309827835, -8.245952700301086, -7.699581936212552, -17.89850286586519, -5.696222467887926, -22.087345390543955, -20.994603862366883, -15.895143397540563, -17.352132101776657, -14.620278281333986, -12.981165989068383, -15.348772633452032, -6.060469643946949, -19.719738746160306, -14.620278281333986, -14.073907517245452]}],\n",
              "                        {\"height\": 650, \"template\": {\"data\": {\"bar\": [{\"error_x\": {\"color\": \"#2a3f5f\"}, \"error_y\": {\"color\": \"#2a3f5f\"}, \"marker\": {\"line\": {\"color\": \"#E5ECF6\", \"width\": 0.5}}, \"type\": \"bar\"}], \"barpolar\": [{\"marker\": {\"line\": {\"color\": \"#E5ECF6\", \"width\": 0.5}}, \"type\": \"barpolar\"}], \"carpet\": [{\"aaxis\": {\"endlinecolor\": \"#2a3f5f\", \"gridcolor\": \"white\", \"linecolor\": \"white\", \"minorgridcolor\": \"white\", \"startlinecolor\": \"#2a3f5f\"}, \"baxis\": {\"endlinecolor\": \"#2a3f5f\", \"gridcolor\": \"white\", \"linecolor\": \"white\", \"minorgridcolor\": \"white\", \"startlinecolor\": \"#2a3f5f\"}, \"type\": \"carpet\"}], \"choropleth\": [{\"colorbar\": {\"outlinewidth\": 0, \"ticks\": \"\"}, \"type\": \"choropleth\"}], \"contour\": [{\"colorbar\": {\"outlinewidth\": 0, \"ticks\": \"\"}, \"colorscale\": [[0.0, \"#0d0887\"], [0.1111111111111111, \"#46039f\"], [0.2222222222222222, \"#7201a8\"], [0.3333333333333333, \"#9c179e\"], [0.4444444444444444, \"#bd3786\"], [0.5555555555555556, \"#d8576b\"], [0.6666666666666666, \"#ed7953\"], [0.7777777777777778, \"#fb9f3a\"], [0.8888888888888888, \"#fdca26\"], [1.0, \"#f0f921\"]], \"type\": \"contour\"}], \"contourcarpet\": [{\"colorbar\": {\"outlinewidth\": 0, \"ticks\": \"\"}, \"type\": \"contourcarpet\"}], \"heatmap\": [{\"colorbar\": {\"outlinewidth\": 0, \"ticks\": \"\"}, \"colorscale\": [[0.0, \"#0d0887\"], [0.1111111111111111, \"#46039f\"], [0.2222222222222222, \"#7201a8\"], [0.3333333333333333, \"#9c179e\"], [0.4444444444444444, \"#bd3786\"], [0.5555555555555556, \"#d8576b\"], [0.6666666666666666, \"#ed7953\"], [0.7777777777777778, \"#fb9f3a\"], [0.8888888888888888, \"#fdca26\"], [1.0, \"#f0f921\"]], \"type\": \"heatmap\"}], \"heatmapgl\": [{\"colorbar\": {\"outlinewidth\": 0, \"ticks\": \"\"}, \"colorscale\": [[0.0, \"#0d0887\"], [0.1111111111111111, \"#46039f\"], [0.2222222222222222, \"#7201a8\"], [0.3333333333333333, \"#9c179e\"], [0.4444444444444444, \"#bd3786\"], [0.5555555555555556, \"#d8576b\"], [0.6666666666666666, \"#ed7953\"], [0.7777777777777778, \"#fb9f3a\"], [0.8888888888888888, \"#fdca26\"], [1.0, \"#f0f921\"]], \"type\": \"heatmapgl\"}], \"histogram\": [{\"marker\": {\"colorbar\": {\"outlinewidth\": 0, \"ticks\": \"\"}}, \"type\": \"histogram\"}], \"histogram2d\": [{\"colorbar\": {\"outlinewidth\": 0, \"ticks\": \"\"}, \"colorscale\": [[0.0, \"#0d0887\"], [0.1111111111111111, \"#46039f\"], [0.2222222222222222, \"#7201a8\"], [0.3333333333333333, \"#9c179e\"], [0.4444444444444444, \"#bd3786\"], [0.5555555555555556, \"#d8576b\"], [0.6666666666666666, \"#ed7953\"], [0.7777777777777778, \"#fb9f3a\"], [0.8888888888888888, \"#fdca26\"], [1.0, \"#f0f921\"]], \"type\": \"histogram2d\"}], \"histogram2dcontour\": [{\"colorbar\": {\"outlinewidth\": 0, \"ticks\": \"\"}, \"colorscale\": [[0.0, \"#0d0887\"], [0.1111111111111111, \"#46039f\"], [0.2222222222222222, \"#7201a8\"], [0.3333333333333333, \"#9c179e\"], [0.4444444444444444, \"#bd3786\"], [0.5555555555555556, \"#d8576b\"], [0.6666666666666666, \"#ed7953\"], [0.7777777777777778, \"#fb9f3a\"], [0.8888888888888888, \"#fdca26\"], [1.0, \"#f0f921\"]], \"type\": \"histogram2dcontour\"}], \"mesh3d\": [{\"colorbar\": {\"outlinewidth\": 0, \"ticks\": \"\"}, \"type\": \"mesh3d\"}], \"parcoords\": [{\"line\": {\"colorbar\": {\"outlinewidth\": 0, \"ticks\": \"\"}}, \"type\": \"parcoords\"}], \"pie\": [{\"automargin\": true, \"type\": \"pie\"}], \"scatter\": [{\"marker\": {\"colorbar\": {\"outlinewidth\": 0, \"ticks\": \"\"}}, \"type\": \"scatter\"}], \"scatter3d\": [{\"line\": {\"colorbar\": {\"outlinewidth\": 0, \"ticks\": \"\"}}, \"marker\": {\"colorbar\": {\"outlinewidth\": 0, \"ticks\": \"\"}}, \"type\": \"scatter3d\"}], \"scattercarpet\": [{\"marker\": {\"colorbar\": {\"outlinewidth\": 0, \"ticks\": \"\"}}, \"type\": \"scattercarpet\"}], \"scattergeo\": [{\"marker\": {\"colorbar\": {\"outlinewidth\": 0, \"ticks\": \"\"}}, \"type\": \"scattergeo\"}], \"scattergl\": [{\"marker\": {\"colorbar\": {\"outlinewidth\": 0, \"ticks\": \"\"}}, \"type\": \"scattergl\"}], \"scattermapbox\": [{\"marker\": {\"colorbar\": {\"outlinewidth\": 0, \"ticks\": \"\"}}, \"type\": \"scattermapbox\"}], \"scatterpolar\": [{\"marker\": {\"colorbar\": {\"outlinewidth\": 0, \"ticks\": \"\"}}, \"type\": \"scatterpolar\"}], \"scatterpolargl\": [{\"marker\": {\"colorbar\": {\"outlinewidth\": 0, \"ticks\": \"\"}}, \"type\": \"scatterpolargl\"}], \"scatterternary\": [{\"marker\": {\"colorbar\": {\"outlinewidth\": 0, \"ticks\": \"\"}}, \"type\": \"scatterternary\"}], \"surface\": [{\"colorbar\": {\"outlinewidth\": 0, \"ticks\": \"\"}, \"colorscale\": [[0.0, \"#0d0887\"], [0.1111111111111111, \"#46039f\"], [0.2222222222222222, \"#7201a8\"], [0.3333333333333333, \"#9c179e\"], [0.4444444444444444, \"#bd3786\"], [0.5555555555555556, \"#d8576b\"], [0.6666666666666666, \"#ed7953\"], [0.7777777777777778, \"#fb9f3a\"], [0.8888888888888888, \"#fdca26\"], [1.0, \"#f0f921\"]], \"type\": \"surface\"}], \"table\": [{\"cells\": {\"fill\": {\"color\": \"#EBF0F8\"}, \"line\": {\"color\": \"white\"}}, \"header\": {\"fill\": {\"color\": \"#C8D4E3\"}, \"line\": {\"color\": \"white\"}}, \"type\": \"table\"}]}, \"layout\": {\"annotationdefaults\": {\"arrowcolor\": \"#2a3f5f\", \"arrowhead\": 0, \"arrowwidth\": 1}, \"coloraxis\": {\"colorbar\": {\"outlinewidth\": 0, \"ticks\": \"\"}}, \"colorscale\": {\"diverging\": [[0, \"#8e0152\"], [0.1, \"#c51b7d\"], [0.2, \"#de77ae\"], [0.3, \"#f1b6da\"], [0.4, \"#fde0ef\"], [0.5, \"#f7f7f7\"], [0.6, \"#e6f5d0\"], [0.7, \"#b8e186\"], [0.8, \"#7fbc41\"], [0.9, \"#4d9221\"], [1, \"#276419\"]], \"sequential\": [[0.0, \"#0d0887\"], [0.1111111111111111, \"#46039f\"], [0.2222222222222222, \"#7201a8\"], [0.3333333333333333, \"#9c179e\"], [0.4444444444444444, \"#bd3786\"], [0.5555555555555556, \"#d8576b\"], [0.6666666666666666, \"#ed7953\"], [0.7777777777777778, \"#fb9f3a\"], [0.8888888888888888, \"#fdca26\"], [1.0, \"#f0f921\"]], \"sequentialminus\": [[0.0, \"#0d0887\"], [0.1111111111111111, \"#46039f\"], [0.2222222222222222, \"#7201a8\"], [0.3333333333333333, \"#9c179e\"], [0.4444444444444444, \"#bd3786\"], [0.5555555555555556, \"#d8576b\"], [0.6666666666666666, \"#ed7953\"], [0.7777777777777778, \"#fb9f3a\"], [0.8888888888888888, \"#fdca26\"], [1.0, \"#f0f921\"]]}, \"colorway\": [\"#636efa\", \"#EF553B\", \"#00cc96\", \"#ab63fa\", \"#FFA15A\", \"#19d3f3\", \"#FF6692\", \"#B6E880\", \"#FF97FF\", \"#FECB52\"], \"font\": {\"color\": \"#2a3f5f\"}, \"geo\": {\"bgcolor\": \"white\", \"lakecolor\": \"white\", \"landcolor\": \"#E5ECF6\", \"showlakes\": true, \"showland\": true, \"subunitcolor\": \"white\"}, \"hoverlabel\": {\"align\": \"left\"}, \"hovermode\": \"closest\", \"mapbox\": {\"style\": \"light\"}, \"paper_bgcolor\": \"white\", \"plot_bgcolor\": \"#E5ECF6\", \"polar\": {\"angularaxis\": {\"gridcolor\": \"white\", \"linecolor\": \"white\", \"ticks\": \"\"}, \"bgcolor\": \"#E5ECF6\", \"radialaxis\": {\"gridcolor\": \"white\", \"linecolor\": \"white\", \"ticks\": \"\"}}, \"scene\": {\"xaxis\": {\"backgroundcolor\": \"#E5ECF6\", \"gridcolor\": \"white\", \"gridwidth\": 2, \"linecolor\": \"white\", \"showbackground\": true, \"ticks\": \"\", \"zerolinecolor\": \"white\"}, \"yaxis\": {\"backgroundcolor\": \"#E5ECF6\", \"gridcolor\": \"white\", \"gridwidth\": 2, \"linecolor\": \"white\", \"showbackground\": true, \"ticks\": \"\", \"zerolinecolor\": \"white\"}, \"zaxis\": {\"backgroundcolor\": \"#E5ECF6\", \"gridcolor\": \"white\", \"gridwidth\": 2, \"linecolor\": \"white\", \"showbackground\": true, \"ticks\": \"\", \"zerolinecolor\": \"white\"}}, \"shapedefaults\": {\"line\": {\"color\": \"#2a3f5f\"}}, \"ternary\": {\"aaxis\": {\"gridcolor\": \"white\", \"linecolor\": \"white\", \"ticks\": \"\"}, \"baxis\": {\"gridcolor\": \"white\", \"linecolor\": \"white\", \"ticks\": \"\"}, \"bgcolor\": \"#E5ECF6\", \"caxis\": {\"gridcolor\": \"white\", \"linecolor\": \"white\", \"ticks\": \"\"}}, \"title\": {\"x\": 0.05}, \"xaxis\": {\"automargin\": true, \"gridcolor\": \"white\", \"linecolor\": \"white\", \"ticks\": \"\", \"title\": {\"standoff\": 15}, \"zerolinecolor\": \"white\", \"zerolinewidth\": 2}, \"yaxis\": {\"automargin\": true, \"gridcolor\": \"white\", \"linecolor\": \"white\", \"ticks\": \"\", \"title\": {\"standoff\": 15}, \"zerolinecolor\": \"white\", \"zerolinewidth\": 2}}}, \"title\": {\"text\": \"Second file\", \"x\": 0.5, \"xanchor\": \"center\", \"y\": 0.9, \"yanchor\": \"top\"}, \"width\": 1200, \"xaxis\": {\"title\": {\"text\": \"x\"}}},\n",
              "                        {\"responsive\": true}\n",
              "                    ).then(function(){\n",
              "                            \n",
              "var gd = document.getElementById('0eebbced-b939-4966-9042-d29cd8e8a9af');\n",
              "var x = new MutationObserver(function (mutations, observer) {{\n",
              "        var display = window.getComputedStyle(gd).display;\n",
              "        if (!display || display === 'none') {{\n",
              "            console.log([gd, 'removed!']);\n",
              "            Plotly.purge(gd);\n",
              "            observer.disconnect();\n",
              "        }}\n",
              "}});\n",
              "\n",
              "// Listen for the removal of the full notebook cells\n",
              "var notebookContainer = gd.closest('#notebook-container');\n",
              "if (notebookContainer) {{\n",
              "    x.observe(notebookContainer, {childList: true});\n",
              "}}\n",
              "\n",
              "// Listen for the clearing of the current output cell\n",
              "var outputEl = gd.closest('.output');\n",
              "if (outputEl) {{\n",
              "    x.observe(outputEl, {childList: true});\n",
              "}}\n",
              "\n",
              "                        })\n",
              "                };\n",
              "                \n",
              "            </script>\n",
              "        </div>\n",
              "</body>\n",
              "</html>"
            ]
          },
          "metadata": {}
        }
      ]
    },
    {
      "cell_type": "markdown",
      "metadata": {
        "id": "Z0h56qYPUM4q"
      },
      "source": [
        "RSS selection"
      ]
    },
    {
      "cell_type": "code",
      "metadata": {
        "id": "vF_P1-jqUMZK"
      },
      "source": [
        "F_test1 = fTest(RSS, RSS_1_0, RSS_1_1, len(dum1_0), 2)\n",
        "F_test2 = fTest(RSS, RSS_2_0, RSS_2_1, len(dum2_0), 2)"
      ],
      "execution_count": null,
      "outputs": []
    },
    {
      "cell_type": "code",
      "metadata": {
        "colab": {
          "base_uri": "https://localhost:8080/"
        },
        "id": "dtAuNFhWYcAA",
        "outputId": "4e99fdba-56e7-4e38-bcdf-247f43567f64"
      },
      "source": [
        "print('RSS =', RSS)\n",
        "print('1 dummy')\n",
        "print('RSS1 =', RSS_1_0, 'RSS2 =', RSS_1_1)\n",
        "print('2 dummy')\n",
        "print('RSS1 =', RSS_2_0, 'RSS2 =', RSS_2_1)\n",
        "print('F-test results')\n",
        "print('F-test 1 =', F_test1, 'F-test2 =', F_test2)"
      ],
      "execution_count": null,
      "outputs": [
        {
          "output_type": "stream",
          "name": "stdout",
          "text": [
            "RSS = 7334.767883372245\n",
            "1 dummy\n",
            "RSS1 = 0.03924056589293802 RSS2 = 463.9064745532764\n",
            "2 dummy\n",
            "RSS1 = 31180.94781833048 RSS2 = 33486.590228711575\n",
            "F-test results\n",
            "F-test 1 = 0.3085320627834764 F-test2 = -0.01927341919014714\n"
          ]
        }
      ]
    },
    {
      "cell_type": "markdown",
      "metadata": {
        "id": "x7XSeCj8cq9l"
      },
      "source": [
        "# Third file ▶\n",
        "\n"
      ]
    },
    {
      "cell_type": "code",
      "metadata": {
        "id": "jjv6ZZNTEeMD"
      },
      "source": [
        "X_3, y_3 = load_data('3.txt')"
      ],
      "execution_count": null,
      "outputs": []
    },
    {
      "cell_type": "code",
      "metadata": {
        "id": "UnI0HS6ttzqN"
      },
      "source": [
        "# fig = px.scatter(x=X_3[:,0], y=y_3, opacity=1)\n",
        "# fig.add_traces(go.Scatter(x=X_3[:,0], y=predictions_3, name='Regression Fit'))\n",
        "# fig.show()"
      ],
      "execution_count": null,
      "outputs": []
    },
    {
      "cell_type": "markdown",
      "metadata": {
        "id": "WnHjqiMEhlxc"
      },
      "source": [
        "Spearman test"
      ]
    },
    {
      "cell_type": "code",
      "metadata": {
        "id": "r43ZJcrReG7y"
      },
      "source": [
        "predictions_3 = getPredictions(X_3.reshape(-1, 1), y_3)"
      ],
      "execution_count": null,
      "outputs": []
    },
    {
      "cell_type": "code",
      "metadata": {
        "id": "tUoOQFQLzqO_",
        "colab": {
          "base_uri": "https://localhost:8080/"
        },
        "outputId": "ea1bf5bc-8d9a-49bf-b062-3494980cdcf3"
      },
      "source": [
        "SpearmanResult = stats.spearmanr(X_3, y_3)[0]\n",
        "print(SpearmanResult)"
      ],
      "execution_count": null,
      "outputs": [
        {
          "output_type": "stream",
          "name": "stdout",
          "text": [
            "0.19398739873987397\n"
          ]
        }
      ]
    },
    {
      "cell_type": "code",
      "metadata": {
        "colab": {
          "base_uri": "https://localhost:8080/",
          "height": 297
        },
        "id": "q41zIewI3Mvc",
        "outputId": "42615c0b-79f2-4048-ab7b-f0a59d09f5fc"
      },
      "source": [
        "fig, ax = plt.subplots()\n",
        "ax.set_xlabel('x')\n",
        "ax.set_ylabel('y')\n",
        "ax.scatter(X_3, y_3, edgecolor='k', facecolor='blue', alpha=0.7, label='Sample data')\n",
        "ax.plot(X_3, predictions_3, color='black', linewidth=2, label='Regression model')\n",
        "ax.legend(facecolor='white', fontsize=11)\n",
        "ax.set_title('Third file', fontsize=14)\n",
        "\n",
        "fig.tight_layout()\n",
        "fig.savefig('3file.png')"
      ],
      "execution_count": null,
      "outputs": [
        {
          "output_type": "display_data",
          "data": {
            "image/png": "[encoded data removed]",
            "text/plain": [
              "<Figure size 432x288 with 1 Axes>"
            ]
          },
          "metadata": {
            "needs_background": "light"
          }
        }
      ]
    },
    {
      "cell_type": "code",
      "metadata": {
        "colab": {
          "base_uri": "https://localhost:8080/"
        },
        "id": "k_2rw8Eh34nb",
        "outputId": "80de4ee5-90a6-4073-ef10-ace6bbfc3146"
      },
      "source": [
        "n = len(X_3)\n",
        "test_stat = (SpearmanResult * (n - 2) ** 0.5) / (1 - SpearmanResult ** 2) ** 0.5\n",
        "print(test_stat)"
      ],
      "execution_count": null,
      "outputs": [
        {
          "output_type": "stream",
          "name": "stdout",
          "text": [
            "1.9575630992033237\n"
          ]
        }
      ]
    },
    {
      "cell_type": "markdown",
      "metadata": {
        "id": "SUxpU4D75nEE"
      },
      "source": [
        "Goldfeld-Quandt test"
      ]
    },
    {
      "cell_type": "code",
      "metadata": {
        "colab": {
          "base_uri": "https://localhost:8080/"
        },
        "id": "MtL6I8X99V-v",
        "outputId": "5eaeee92-5b9b-4add-e606-c012de22cded"
      },
      "source": [
        "n_streak = int(3 / 8 * n)\n",
        "average = int(n - 2 * n_streak)\n",
        "print(n_streak, average)"
      ],
      "execution_count": null,
      "outputs": [
        {
          "output_type": "stream",
          "name": "stdout",
          "text": [
            "37 26\n"
          ]
        }
      ]
    },
    {
      "cell_type": "code",
      "metadata": {
        "id": "447i6V6o-hJp"
      },
      "source": [
        "sample1_x = np.array(X_3[:n_streak])\n",
        "sample1_y = np.array(y_3[:n_streak])\n",
        "\n",
        "sample2_x = np.array(X_3[(n_streak + average) :])\n",
        "sample2_y = np.array(y_3[(n_streak + average) :])"
      ],
      "execution_count": null,
      "outputs": []
    },
    {
      "cell_type": "code",
      "metadata": {
        "id": "eV7lDl0q_1XE"
      },
      "source": [
        "# print(len(sample1_x), len(sample2_x))"
      ],
      "execution_count": null,
      "outputs": []
    },
    {
      "cell_type": "code",
      "metadata": {
        "id": "sru8PCou_-rg"
      },
      "source": [
        "predictions_s1 = getPredictions(sample1_x.reshape(-1, 1), sample1_y)\n",
        "predictions_s2 = getPredictions(sample2_x.reshape(-1, 1), sample2_y)"
      ],
      "execution_count": null,
      "outputs": []
    },
    {
      "cell_type": "code",
      "metadata": {
        "colab": {
          "base_uri": "https://localhost:8080/"
        },
        "id": "zSmD__ejAPCN",
        "outputId": "9cd8f2c2-b702-424a-8236-06850978b98c"
      },
      "source": [
        "F_stat = rss(sample1_x, predictions_s1) / rss(sample2_x, predictions_s2)\n",
        "print(F_stat)"
      ],
      "execution_count": null,
      "outputs": [
        {
          "output_type": "stream",
          "name": "stdout",
          "text": [
            "[0.16288437]\n"
          ]
        }
      ]
    },
    {
      "cell_type": "markdown",
      "metadata": {
        "id": "D0HbyGCsAtWj"
      },
      "source": [
        "Checking the significance of the model coefficients"
      ]
    },
    {
      "cell_type": "code",
      "metadata": {
        "id": "4dJzkZZ1AswC"
      },
      "source": [
        "a = getPredictions(X_3, y_3, 'coef')[0]\n",
        "b = getPredictions(X_3, y_3, 'coef')[1]"
      ],
      "execution_count": null,
      "outputs": []
    },
    {
      "cell_type": "code",
      "metadata": {
        "id": "gyMR16MvCsuD"
      },
      "source": [
        "variance = variance(X_3)\n",
        "st_dev = st_dev(variance)\n",
        "s_ad = s_(y_3, predictions_3, n)\n",
        "\n",
        "m_a = s_ad / (st_dev * n ** 0.5)\n",
        "\n",
        "squares = [x ** 2 for x in X_3]\n",
        "m_b = sum(squares) ** 0.5 * s_ad / (n * st_dev ** 2)"
      ],
      "execution_count": null,
      "outputs": []
    },
    {
      "cell_type": "code",
      "metadata": {
        "colab": {
          "base_uri": "https://localhost:8080/"
        },
        "id": "LFjNWmiKDTk9",
        "outputId": "7fa79708-5a84-4ada-cb09-e5c4d7a977b7"
      },
      "source": [
        "e_a = 1.984 * m_a\n",
        "e_b = 1.984 * m_b\n",
        "\n",
        "interval_a = interval(e_a, a)\n",
        "interval_b = interval(e_b, b)\n",
        "print(interval_a, interval_b)"
      ],
      "execution_count": null,
      "outputs": [
        {
          "output_type": "stream",
          "name": "stdout",
          "text": [
            "(array([-61.63882488]), array([64.34149828])) (array([-168.10323844]), array([177.83086698]))\n"
          ]
        }
      ]
    },
    {
      "cell_type": "code",
      "metadata": {
        "colab": {
          "base_uri": "https://localhost:8080/"
        },
        "id": "k_sZtCW-DigE",
        "outputId": "cbd91ed0-1631-4cf5-ac9e-a773b0838949"
      },
      "source": [
        "t_crit_a = a / m_a\n",
        "t_crit_b = b / m_b\n",
        "print(t_crit_a, t_crit_b)"
      ],
      "execution_count": null,
      "outputs": [
        {
          "output_type": "stream",
          "name": "stdout",
          "text": [
            "[0.04256303] [0.05578986]\n"
          ]
        }
      ]
    },
    {
      "cell_type": "markdown",
      "metadata": {
        "id": "7TWe6ogdD-8b"
      },
      "source": [
        "Evaluate the adequacy of the model"
      ]
    },
    {
      "cell_type": "code",
      "metadata": {
        "colab": {
          "base_uri": "https://localhost:8080/"
        },
        "id": "qMjv577-D0TL",
        "outputId": "73d8c3ed-280e-494c-91a1-92ebccc5c4d2"
      },
      "source": [
        "deviations = [(y_3[i] - np.mean(y_3)) ** 2 for i in range(n)]\n",
        "s_general = sum(deviations) / (n - 1)\n",
        "\n",
        "f_dist = s_ad ** 2 / s_general ** 2\n",
        "print(f_dist, 1.35)"
      ],
      "execution_count": null,
      "outputs": [
        {
          "output_type": "stream",
          "name": "stdout",
          "text": [
            "0.9178170281349313 1.35\n"
          ]
        }
      ]
    }
  ]
}