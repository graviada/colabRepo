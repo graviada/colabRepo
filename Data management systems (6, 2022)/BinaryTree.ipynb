{
  "nbformat": 4,
  "nbformat_minor": 0,
  "metadata": {
    "colab": {
      "name": "BinaryTree.ipynb",
      "provenance": [],
      "authorship_tag": "ABX9TyOSuREw1GVfcC74Z+R5CgEJ",
      "include_colab_link": true
    },
    "kernelspec": {
      "name": "python3",
      "display_name": "Python 3"
    },
    "language_info": {
      "name": "python"
    }
  },
  "cells": [
    {
      "cell_type": "markdown",
      "metadata": {
        "id": "view-in-github",
        "colab_type": "text"
      },
      "source": [
        "<a href=\"https://colab.research.google.com/github/graviada/colabRepo/blob/master/Data%20management%20systems%20(6%2C%202022)/BinaryTree.ipynb\" target=\"_parent\"><img src=\"https://colab.research.google.com/assets/colab-badge.svg\" alt=\"Open In Colab\"/></a>"
      ]
    },
    {
      "cell_type": "markdown",
      "source": [
        "### **Задание**\n",
        "\n",
        "> Необходимо реализовать структуру бинарное дерево и следующие функции: добавление, удаление, изменение и поиск значения. Сравнить время, затраченное на поиск значения в массиве (списке), и время, затраченное на поиск того же значения в бинарном дереве.\n",
        "\n"
      ],
      "metadata": {
        "id": "hZ7Cw9pi88uv"
      }
    },
    {
      "cell_type": "code",
      "source": [
        "import random\n",
        "import timeit\n",
        "\n",
        "from dataclasses import dataclass\n",
        "from typing import Any, Tuple\n",
        "\n",
        "import plotly.graph_objects as go\n",
        "import numpy as np"
      ],
      "metadata": {
        "id": "nitqhvlMDRNb"
      },
      "execution_count": null,
      "outputs": []
    },
    {
      "cell_type": "code",
      "source": [
        "# вершина и ссылки на потомков\n",
        "@dataclass\n",
        "class Node():\n",
        "    key: Any\n",
        "    left = None # ссылка на потомка слева\n",
        "    right = None # ссылка на потомка справа\n",
        "    parent = None # значение вершины"
      ],
      "metadata": {
        "id": "em2JJXrUDmlM"
      },
      "execution_count": null,
      "outputs": []
    },
    {
      "cell_type": "markdown",
      "source": [
        "Условия вставки значения в дерево:\n",
        "\n",
        "\n",
        ">1. **Дерево пустое (корень имеет значение None).** Тогда мы создаем новый узел и объявляем его корневым.\n",
        "> 2. **Дерево не пустое.** Происходит вставка значения, в зависимости от того, больше ли оно корня или нет.\n",
        "\n",
        "При вставке нового узла, если новое значение меньше значения текущего узла, и левого потомка не существует, то происходит добавление элемента на место левого потомка.\n",
        "В ином случае происходит рекурсивный вызов функции. Тогда мы рассматриваем следующую левую вершину, а так же ее ссылки на потомков. Это действие повторяются до тех пор, пока новое значение не будет добавлено.\n",
        "\n"
      ],
      "metadata": {
        "id": "12Nb1oD4EIZK"
      }
    },
    {
      "cell_type": "code",
      "source": [
        "# дерево\n",
        "class Tree():\n",
        "  root = None\n",
        "\n",
        "  # добавление\n",
        "  def insert_node(self, key, node = None):\n",
        "        if node is None:\n",
        "            node = self.root\n",
        "        if self.root is None:\n",
        "            self.root = Node(key)\n",
        "        else:\n",
        "            if key <= node.key:\n",
        "                if node.left is None:\n",
        "                    node.left = Node(key)\n",
        "                    node.left.parent = node\n",
        "                    return \n",
        "                else:\n",
        "                    return self.insert_node(key, node=node.left)\n",
        "            else:\n",
        "                if node.right is None:\n",
        "                    node.right = Node(key)\n",
        "                    node.right.parent = node\n",
        "                    return \n",
        "                else:\n",
        "                    return self.insert_node(key, node=node.right)\n",
        "\n",
        "  # вставка списка значений\n",
        "  def add_nodes(self, keys: list, node = None):\n",
        "        for key in keys:\n",
        "            self.insert_node(key, node)\n",
        "\n",
        "  # поиск элемента\n",
        "  def search(self, key, node = None) -> Node:\n",
        "        if node is None:\n",
        "            node = self.root\n",
        "        if self.root.key == key:\n",
        "            return self.root\n",
        "        else:\n",
        "            if node.key == key:\n",
        "                return node\n",
        "            elif key < node.key and node.left is not None:\n",
        "                return self.search(key, node=node.left)\n",
        "            elif key > node.key and node.right is not None:\n",
        "                return self.search(key, node=node.right)\n",
        "            else:\n",
        "                return None\n",
        "  \n",
        "  # функция поиска минимума в дереве для удаления элемента\n",
        "  def find_minimum(self, node = None):\n",
        "        if node is None:\n",
        "            node = self.root\n",
        "        if node.right is not None:\n",
        "            node = node.right\n",
        "        else:\n",
        "            return node\n",
        " \n",
        "        if node.left is not None:\n",
        "            return self.find_minimum(node=node.left)\n",
        "        else:\n",
        "            return node\n",
        "  \n",
        "  # удаление элемента\n",
        "  def delete_node(self, key, node = None):\n",
        "        if node is None:\n",
        "            node = self.search(key) \n",
        "        if self.root.key == node.key:\n",
        "            parent_node = self.root\n",
        "        else:\n",
        "            parent_node = node.parent\n",
        " \n",
        "        if node.left is None and node.right is None:\n",
        "            if key <= parent_node.key:\n",
        "                parent_node.left = None\n",
        "            else:\n",
        "                parent_node.right = None\n",
        "            return\n",
        "        if node.left is not None and node.right is None :\n",
        "            if node.left.key < parent_node.key : \n",
        "                parent_node.left = node.left\n",
        "            else:\n",
        "                parent_node.right = node.left\n",
        " \n",
        "            return\n",
        "        if node.right is not None and node.left is None:\n",
        "            if node.key <= parent_node.key:\n",
        "                parent_node.left = node.right\n",
        "            else:\n",
        "                parent_node.right = node.right\n",
        "            return\n",
        "        if node.left is not None and node.right is not None:\n",
        "            min_value = self.find_minimum(node)\n",
        "            node.key = min_value.key\n",
        "            min_value.parent.left = None\n",
        "            return\n",
        "  \n",
        "  # изменение значения\n",
        "  def change_node(self, key, new_key, node = None):\n",
        "        self.delete_node(key, node)\n",
        "        self.insert_node(new_key, node)"
      ],
      "metadata": {
        "id": "ng4N5ZrMRMpf"
      },
      "execution_count": null,
      "outputs": []
    },
    {
      "cell_type": "code",
      "source": [
        "list_length = 10000\n",
        "\n",
        "# повторение поиска\n",
        "repeat = 10000\n",
        " \n",
        "list1 = random.sample(range(1, list_length + 2), list_length)\n",
        "search_num = random.choice(list1)\n",
        "tree = Tree()\n",
        "tree.add_nodes(list1)\n",
        " \n",
        "list_search_times = timeit.repeat(lambda: list1.index(search_num), repeat=repeat, number=1)\n",
        "tree_search_times = timeit.repeat(lambda: tree.search(search_num), repeat=repeat, number=1)\n",
        "\n",
        "list_search_res = sum(list_search_times) / len(list_search_times)\n",
        "tree_search_res = sum(tree_search_times) / len(tree_search_times)\n",
        " \n",
        "print(f'Поиск в списке: {list_search_res:1.12f} sec.')\n",
        "print(f'Поиск в дереве: {tree_search_res:1.12f} sec.')\n",
        " \n",
        "if list_search_res > tree_search_res:\n",
        "  print('Поиск в дереве работает быстрее')\n",
        "else:\n",
        "  print('Поиск в дереве работает медленнее')"
      ],
      "metadata": {
        "colab": {
          "base_uri": "https://localhost:8080/"
        },
        "id": "P-NjKrrpp4Zc",
        "outputId": "06bb0b9f-66d5-4a9f-bbf6-4c9f035e31a8"
      },
      "execution_count": null,
      "outputs": [
        {
          "output_type": "stream",
          "name": "stdout",
          "text": [
            "Поиск в списке: 0.000190352197 sec.\n",
            "Поиск в дереве: 0.000009041652 sec.\n",
            "Поиск в дереве работает быстрее\n"
          ]
        }
      ]
    },
    {
      "cell_type": "markdown",
      "source": [
        "После аргументов функции через двоеточие пишем предполагаемый тип аргумента, после -> пишем тип возвращаемого значения функции."
      ],
      "metadata": {
        "id": "a6beZr2KOhjG"
      }
    },
    {
      "cell_type": "code",
      "source": [
        "lengths = np.arange(10, 10000, 100)\n",
        "\n",
        "list_res = []\n",
        "tree_res = []\n",
        "for length in lengths:\n",
        "    result = experiment(length, repeat=10)\n",
        "    list_res.append(result[0])\n",
        "    tree_res.append(result[1])\n",
        "\n",
        "fig = go.Figure(data=[\n",
        "    go.Scatter(\n",
        "        x=lengths, y=list_res,\n",
        "        mode='lines', name='Поиск в списке'\n",
        "    ),\n",
        "    go.Scatter(\n",
        "        x=lengths, y=tree_res,\n",
        "        mode='lines', name='Поиск в дереве'\n",
        "    )\n",
        "])\n",
        "fig.update_layout(\n",
        "    title='Сравнение производительности поиска',\n",
        "    xaxis_title='Количество элементов в списке',\n",
        "    yaxis_title='Время выполнения поиска, сек'\n",
        ")\n",
        "\n",
        "fig.show()"
      ],
      "metadata": {
        "colab": {
          "base_uri": "https://localhost:8080/",
          "height": 542
        },
        "id": "KKUUwOZOMO33",
        "outputId": "0abedcc4-cb22-41a5-bd8e-a19774722e0d"
      },
      "execution_count": null,
      "outputs": [
        {
          "output_type": "display_data",
          "data": {
            "text/html": [
              "<html>\n",
              "<head><meta charset=\"utf-8\" /></head>\n",
              "<body>\n",
              "    <div>            <script src=\"https://cdnjs.cloudflare.com/ajax/libs/mathjax/2.7.5/MathJax.js?config=TeX-AMS-MML_SVG\"></script><script type=\"text/javascript\">if (window.MathJax) {MathJax.Hub.Config({SVG: {font: \"STIX-Web\"}});}</script>                <script type=\"text/javascript\">window.PlotlyConfig = {MathJaxConfig: 'local'};</script>\n",
              "        <script src=\"https://cdn.plot.ly/plotly-2.8.3.min.js\"></script>                <div id=\"2a4230f5-06b7-4098-a755-ac5756145fc5\" class=\"plotly-graph-div\" style=\"height:525px; width:100%;\"></div>            <script type=\"text/javascript\">                                    window.PLOTLYENV=window.PLOTLYENV || {};                                    if (document.getElementById(\"2a4230f5-06b7-4098-a755-ac5756145fc5\")) {                    Plotly.newPlot(                        \"2a4230f5-06b7-4098-a755-ac5756145fc5\",                        [{\"mode\":\"lines\",\"name\":\"\\u041f\\u043e\\u0438\\u0441\\u043a \\u0432 \\u0441\\u043f\\u0438\\u0441\\u043a\\u0435\",\"x\":[10,110,210,310,410,510,610,710,810,910,1010,1110,1210,1310,1410,1510,1610,1710,1810,1910,2010,2110,2210,2310,2410,2510,2610,2710,2810,2910,3010,3110,3210,3310,3410,3510,3610,3710,3810,3910,4010,4110,4210,4310,4410,4510,4610,4710,4810,4910,5010,5110,5210,5310,5410,5510,5610,5710,5810,5910,6010,6110,6210,6310,6410,6510,6610,6710,6810,6910,7010,7110,7210,7310,7410,7510,7610,7710,7810,7910,8010,8110,8210,8310,8410,8510,8610,8710,8810,8910,9010,9110,9210,9310,9410,9510,9610,9710,9810,9910],\"y\":[6.685000016659615e-07,2.114200003688893e-06,3.902800000332718e-06,6.343000109154673e-07,6.390000010014774e-07,7.355500002859117e-06,7.481000068310095e-07,2.2062999903482704e-06,5.0970999950550325e-06,1.2976700008948683e-05,1.7271900003379414e-05,1.3336999995772202e-05,8.752100001174767e-06,1.677619999327362e-05,5.826500000694068e-06,1.269229999252275e-05,1.2383900008217097e-05,2.235450000966921e-05,1.7805600015208257e-05,2.0916500000112136e-05,3.538830000024973e-05,9.160499996596626e-06,7.3377999967760845e-06,2.784569999221276e-05,3.932339998300449e-05,3.391659999465446e-05,2.488090000838383e-05,1.4683000017612358e-06,1.591250000387845e-05,5.173319999016712e-05,5.821999999398031e-05,1.2152000005016817e-05,2.5793200001089646e-05,1.2660099997674479e-05,3.596279999555918e-05,2.2045199989406684e-05,3.839399999492343e-05,2.7182799993852313e-05,1.3029999990976648e-05,8.992680000119435e-05,7.372999994004203e-06,2.201900002773982e-06,1.132379999830846e-05,0.0001019805999987966,4.7037499984980966e-05,6.872409999800766e-05,2.2813700002188853e-05,2.2273999996968995e-05,9.646880000104829e-05,1.4130000124623621e-06,8.24460001922489e-06,7.366870001987991e-05,6.843070000286388e-05,0.00011730139997894185,2.2373600006631023e-05,9.950870000920986e-05,8.100770000396551e-05,6.777490000331454e-05,1.1936600003537023e-05,0.0001245381999979145,2.2273100000802515e-05,2.3335999969731345e-06,6.743030001530315e-05,9.329070001058426e-05,7.12706999877355e-05,4.334809999022582e-05,6.622980000656754e-05,0.00011356340000361343,8.777920000397898e-05,0.00016099350001468337,6.592939999450209e-05,4.677049998349503e-05,0.00012648930000409565,8.709100006853987e-06,0.00012434590000793834,6.202150000262918e-05,6.662539999524597e-05,0.00014680630000043493,9.410770000499724e-05,0.0001124443000037445,9.339989999830322e-05,5.80200000001696e-05,8.262389999345033e-05,0.00011113450000266312,8.365400003640388e-06,8.236180000835703e-05,1.5883300000041346e-05,0.0001370462999943811,5.7775199991283444e-05,0.00011776370000120551,9.68149000016183e-05,0.00010195479999879354,4.762429999232154e-05,9.153949999927136e-05,7.511499998145155e-05,0.00018146510000747185,5.338509998864538e-05,0.00012336450000702826,9.746599999971295e-06,2.538940000818002e-05],\"type\":\"scatter\"},{\"mode\":\"lines\",\"name\":\"\\u041f\\u043e\\u0438\\u0441\\u043a \\u0432 \\u0434\\u0435\\u0440\\u0435\\u0432\\u0435\",\"x\":[10,110,210,310,410,510,610,710,810,910,1010,1110,1210,1310,1410,1510,1610,1710,1810,1910,2010,2110,2210,2310,2410,2510,2610,2710,2810,2910,3010,3110,3210,3310,3410,3510,3610,3710,3810,3910,4010,4110,4210,4310,4410,4510,4610,4710,4810,4910,5010,5110,5210,5310,5410,5510,5610,5710,5810,5910,6010,6110,6210,6310,6410,6510,6610,6710,6810,6910,7010,7110,7210,7310,7410,7510,7610,7710,7810,7910,8010,8110,8210,8310,8410,8510,8610,8710,8810,8910,9010,9110,9210,9310,9410,9510,9610,9710,9810,9910],\"y\":[2.71509999834052e-06,5.3285999911167895e-06,6.536800003686949e-06,3.705899996475637e-06,2.2242999989430245e-06,7.437599998638689e-06,2.793599998085483e-06,4.366900009245001e-06,7.475199993223214e-06,5.956699999387638e-06,7.387699992023045e-06,7.665399994039036e-06,8.678799997596797e-06,8.846099996162593e-06,8.929600005558313e-06,7.913499990763739e-06,9.982099993521842e-06,7.69170002286046e-06,9.023099994465156e-06,7.325300003913071e-06,6.778399989570971e-06,9.17400000730595e-06,7.4307000090811925e-06,9.041900000283931e-06,8.369400012497863e-06,1.0408100001768616e-05,8.542399990574268e-06,5.219599995598401e-06,3.838700007463558e-06,1.0641500011843164e-05,1.0908600006587222e-05,8.719899989273472e-06,6.400399996664419e-06,5.542600007402143e-06,8.660699995743925e-06,9.358899995959291e-06,9.243900007049887e-06,1.2557600001628089e-05,1.1531500013006734e-05,6.744500007016541e-06,1.0007299999870157e-05,7.699700000785015e-06,7.478700007368389e-06,8.725699984779567e-06,7.736399987834375e-06,1.2089500000911357e-05,8.284399990543534e-06,6.996400003345116e-06,1.608510000323804e-05,5.00370000509065e-06,6.294199999956618e-06,1.0632300001134353e-05,6.241900001668909e-06,8.067400005984383e-06,7.752099980962157e-06,8.317199996099588e-06,8.827599998539881e-06,6.136799987643826e-06,7.361199999422752e-06,8.054900007437027e-06,7.4013000073591685e-06,4.146799989257488e-06,8.606000000099811e-06,1.1313299995663329e-05,5.362700005662191e-06,9.917900001710223e-06,8.425499993336416e-06,9.333699983926635e-06,9.082699995133225e-06,8.517800000618082e-06,8.93749999022475e-06,8.625400005257688e-06,1.0672000001932247e-05,4.681700011133216e-06,8.269799997151494e-06,8.806199986111096e-06,7.957999997643128e-06,9.994400005552962e-06,7.14210000296589e-06,8.507799998369592e-06,1.2519999989990538e-05,7.636100002628155e-06,1.0609899999280969e-05,8.824700000786833e-06,7.989900007032702e-06,9.147799988795669e-06,7.320800006027639e-06,7.2496000029786956e-06,8.365000002186208e-06,5.349749999368214e-05,1.0262499989721618e-05,1.1433699984308988e-05,1.3221599988355593e-05,1.0332199997264979e-05,9.861200010163883e-06,1.1964899999838963e-05,1.0802200000625816e-05,9.260200005201114e-06,8.369199991875576e-06,1.1163200002783925e-05],\"type\":\"scatter\"}],                        {\"template\":{\"data\":{\"bar\":[{\"error_x\":{\"color\":\"#2a3f5f\"},\"error_y\":{\"color\":\"#2a3f5f\"},\"marker\":{\"line\":{\"color\":\"#E5ECF6\",\"width\":0.5},\"pattern\":{\"fillmode\":\"overlay\",\"size\":10,\"solidity\":0.2}},\"type\":\"bar\"}],\"barpolar\":[{\"marker\":{\"line\":{\"color\":\"#E5ECF6\",\"width\":0.5},\"pattern\":{\"fillmode\":\"overlay\",\"size\":10,\"solidity\":0.2}},\"type\":\"barpolar\"}],\"carpet\":[{\"aaxis\":{\"endlinecolor\":\"#2a3f5f\",\"gridcolor\":\"white\",\"linecolor\":\"white\",\"minorgridcolor\":\"white\",\"startlinecolor\":\"#2a3f5f\"},\"baxis\":{\"endlinecolor\":\"#2a3f5f\",\"gridcolor\":\"white\",\"linecolor\":\"white\",\"minorgridcolor\":\"white\",\"startlinecolor\":\"#2a3f5f\"},\"type\":\"carpet\"}],\"choropleth\":[{\"colorbar\":{\"outlinewidth\":0,\"ticks\":\"\"},\"type\":\"choropleth\"}],\"contour\":[{\"colorbar\":{\"outlinewidth\":0,\"ticks\":\"\"},\"colorscale\":[[0.0,\"#0d0887\"],[0.1111111111111111,\"#46039f\"],[0.2222222222222222,\"#7201a8\"],[0.3333333333333333,\"#9c179e\"],[0.4444444444444444,\"#bd3786\"],[0.5555555555555556,\"#d8576b\"],[0.6666666666666666,\"#ed7953\"],[0.7777777777777778,\"#fb9f3a\"],[0.8888888888888888,\"#fdca26\"],[1.0,\"#f0f921\"]],\"type\":\"contour\"}],\"contourcarpet\":[{\"colorbar\":{\"outlinewidth\":0,\"ticks\":\"\"},\"type\":\"contourcarpet\"}],\"heatmap\":[{\"colorbar\":{\"outlinewidth\":0,\"ticks\":\"\"},\"colorscale\":[[0.0,\"#0d0887\"],[0.1111111111111111,\"#46039f\"],[0.2222222222222222,\"#7201a8\"],[0.3333333333333333,\"#9c179e\"],[0.4444444444444444,\"#bd3786\"],[0.5555555555555556,\"#d8576b\"],[0.6666666666666666,\"#ed7953\"],[0.7777777777777778,\"#fb9f3a\"],[0.8888888888888888,\"#fdca26\"],[1.0,\"#f0f921\"]],\"type\":\"heatmap\"}],\"heatmapgl\":[{\"colorbar\":{\"outlinewidth\":0,\"ticks\":\"\"},\"colorscale\":[[0.0,\"#0d0887\"],[0.1111111111111111,\"#46039f\"],[0.2222222222222222,\"#7201a8\"],[0.3333333333333333,\"#9c179e\"],[0.4444444444444444,\"#bd3786\"],[0.5555555555555556,\"#d8576b\"],[0.6666666666666666,\"#ed7953\"],[0.7777777777777778,\"#fb9f3a\"],[0.8888888888888888,\"#fdca26\"],[1.0,\"#f0f921\"]],\"type\":\"heatmapgl\"}],\"histogram\":[{\"marker\":{\"pattern\":{\"fillmode\":\"overlay\",\"size\":10,\"solidity\":0.2}},\"type\":\"histogram\"}],\"histogram2d\":[{\"colorbar\":{\"outlinewidth\":0,\"ticks\":\"\"},\"colorscale\":[[0.0,\"#0d0887\"],[0.1111111111111111,\"#46039f\"],[0.2222222222222222,\"#7201a8\"],[0.3333333333333333,\"#9c179e\"],[0.4444444444444444,\"#bd3786\"],[0.5555555555555556,\"#d8576b\"],[0.6666666666666666,\"#ed7953\"],[0.7777777777777778,\"#fb9f3a\"],[0.8888888888888888,\"#fdca26\"],[1.0,\"#f0f921\"]],\"type\":\"histogram2d\"}],\"histogram2dcontour\":[{\"colorbar\":{\"outlinewidth\":0,\"ticks\":\"\"},\"colorscale\":[[0.0,\"#0d0887\"],[0.1111111111111111,\"#46039f\"],[0.2222222222222222,\"#7201a8\"],[0.3333333333333333,\"#9c179e\"],[0.4444444444444444,\"#bd3786\"],[0.5555555555555556,\"#d8576b\"],[0.6666666666666666,\"#ed7953\"],[0.7777777777777778,\"#fb9f3a\"],[0.8888888888888888,\"#fdca26\"],[1.0,\"#f0f921\"]],\"type\":\"histogram2dcontour\"}],\"mesh3d\":[{\"colorbar\":{\"outlinewidth\":0,\"ticks\":\"\"},\"type\":\"mesh3d\"}],\"parcoords\":[{\"line\":{\"colorbar\":{\"outlinewidth\":0,\"ticks\":\"\"}},\"type\":\"parcoords\"}],\"pie\":[{\"automargin\":true,\"type\":\"pie\"}],\"scatter\":[{\"marker\":{\"colorbar\":{\"outlinewidth\":0,\"ticks\":\"\"}},\"type\":\"scatter\"}],\"scatter3d\":[{\"line\":{\"colorbar\":{\"outlinewidth\":0,\"ticks\":\"\"}},\"marker\":{\"colorbar\":{\"outlinewidth\":0,\"ticks\":\"\"}},\"type\":\"scatter3d\"}],\"scattercarpet\":[{\"marker\":{\"colorbar\":{\"outlinewidth\":0,\"ticks\":\"\"}},\"type\":\"scattercarpet\"}],\"scattergeo\":[{\"marker\":{\"colorbar\":{\"outlinewidth\":0,\"ticks\":\"\"}},\"type\":\"scattergeo\"}],\"scattergl\":[{\"marker\":{\"colorbar\":{\"outlinewidth\":0,\"ticks\":\"\"}},\"type\":\"scattergl\"}],\"scattermapbox\":[{\"marker\":{\"colorbar\":{\"outlinewidth\":0,\"ticks\":\"\"}},\"type\":\"scattermapbox\"}],\"scatterpolar\":[{\"marker\":{\"colorbar\":{\"outlinewidth\":0,\"ticks\":\"\"}},\"type\":\"scatterpolar\"}],\"scatterpolargl\":[{\"marker\":{\"colorbar\":{\"outlinewidth\":0,\"ticks\":\"\"}},\"type\":\"scatterpolargl\"}],\"scatterternary\":[{\"marker\":{\"colorbar\":{\"outlinewidth\":0,\"ticks\":\"\"}},\"type\":\"scatterternary\"}],\"surface\":[{\"colorbar\":{\"outlinewidth\":0,\"ticks\":\"\"},\"colorscale\":[[0.0,\"#0d0887\"],[0.1111111111111111,\"#46039f\"],[0.2222222222222222,\"#7201a8\"],[0.3333333333333333,\"#9c179e\"],[0.4444444444444444,\"#bd3786\"],[0.5555555555555556,\"#d8576b\"],[0.6666666666666666,\"#ed7953\"],[0.7777777777777778,\"#fb9f3a\"],[0.8888888888888888,\"#fdca26\"],[1.0,\"#f0f921\"]],\"type\":\"surface\"}],\"table\":[{\"cells\":{\"fill\":{\"color\":\"#EBF0F8\"},\"line\":{\"color\":\"white\"}},\"header\":{\"fill\":{\"color\":\"#C8D4E3\"},\"line\":{\"color\":\"white\"}},\"type\":\"table\"}]},\"layout\":{\"annotationdefaults\":{\"arrowcolor\":\"#2a3f5f\",\"arrowhead\":0,\"arrowwidth\":1},\"autotypenumbers\":\"strict\",\"coloraxis\":{\"colorbar\":{\"outlinewidth\":0,\"ticks\":\"\"}},\"colorscale\":{\"diverging\":[[0,\"#8e0152\"],[0.1,\"#c51b7d\"],[0.2,\"#de77ae\"],[0.3,\"#f1b6da\"],[0.4,\"#fde0ef\"],[0.5,\"#f7f7f7\"],[0.6,\"#e6f5d0\"],[0.7,\"#b8e186\"],[0.8,\"#7fbc41\"],[0.9,\"#4d9221\"],[1,\"#276419\"]],\"sequential\":[[0.0,\"#0d0887\"],[0.1111111111111111,\"#46039f\"],[0.2222222222222222,\"#7201a8\"],[0.3333333333333333,\"#9c179e\"],[0.4444444444444444,\"#bd3786\"],[0.5555555555555556,\"#d8576b\"],[0.6666666666666666,\"#ed7953\"],[0.7777777777777778,\"#fb9f3a\"],[0.8888888888888888,\"#fdca26\"],[1.0,\"#f0f921\"]],\"sequentialminus\":[[0.0,\"#0d0887\"],[0.1111111111111111,\"#46039f\"],[0.2222222222222222,\"#7201a8\"],[0.3333333333333333,\"#9c179e\"],[0.4444444444444444,\"#bd3786\"],[0.5555555555555556,\"#d8576b\"],[0.6666666666666666,\"#ed7953\"],[0.7777777777777778,\"#fb9f3a\"],[0.8888888888888888,\"#fdca26\"],[1.0,\"#f0f921\"]]},\"colorway\":[\"#636efa\",\"#EF553B\",\"#00cc96\",\"#ab63fa\",\"#FFA15A\",\"#19d3f3\",\"#FF6692\",\"#B6E880\",\"#FF97FF\",\"#FECB52\"],\"font\":{\"color\":\"#2a3f5f\"},\"geo\":{\"bgcolor\":\"white\",\"lakecolor\":\"white\",\"landcolor\":\"#E5ECF6\",\"showlakes\":true,\"showland\":true,\"subunitcolor\":\"white\"},\"hoverlabel\":{\"align\":\"left\"},\"hovermode\":\"closest\",\"mapbox\":{\"style\":\"light\"},\"paper_bgcolor\":\"white\",\"plot_bgcolor\":\"#E5ECF6\",\"polar\":{\"angularaxis\":{\"gridcolor\":\"white\",\"linecolor\":\"white\",\"ticks\":\"\"},\"bgcolor\":\"#E5ECF6\",\"radialaxis\":{\"gridcolor\":\"white\",\"linecolor\":\"white\",\"ticks\":\"\"}},\"scene\":{\"xaxis\":{\"backgroundcolor\":\"#E5ECF6\",\"gridcolor\":\"white\",\"gridwidth\":2,\"linecolor\":\"white\",\"showbackground\":true,\"ticks\":\"\",\"zerolinecolor\":\"white\"},\"yaxis\":{\"backgroundcolor\":\"#E5ECF6\",\"gridcolor\":\"white\",\"gridwidth\":2,\"linecolor\":\"white\",\"showbackground\":true,\"ticks\":\"\",\"zerolinecolor\":\"white\"},\"zaxis\":{\"backgroundcolor\":\"#E5ECF6\",\"gridcolor\":\"white\",\"gridwidth\":2,\"linecolor\":\"white\",\"showbackground\":true,\"ticks\":\"\",\"zerolinecolor\":\"white\"}},\"shapedefaults\":{\"line\":{\"color\":\"#2a3f5f\"}},\"ternary\":{\"aaxis\":{\"gridcolor\":\"white\",\"linecolor\":\"white\",\"ticks\":\"\"},\"baxis\":{\"gridcolor\":\"white\",\"linecolor\":\"white\",\"ticks\":\"\"},\"bgcolor\":\"#E5ECF6\",\"caxis\":{\"gridcolor\":\"white\",\"linecolor\":\"white\",\"ticks\":\"\"}},\"title\":{\"x\":0.05},\"xaxis\":{\"automargin\":true,\"gridcolor\":\"white\",\"linecolor\":\"white\",\"ticks\":\"\",\"title\":{\"standoff\":15},\"zerolinecolor\":\"white\",\"zerolinewidth\":2},\"yaxis\":{\"automargin\":true,\"gridcolor\":\"white\",\"linecolor\":\"white\",\"ticks\":\"\",\"title\":{\"standoff\":15},\"zerolinecolor\":\"white\",\"zerolinewidth\":2}}},\"title\":{\"text\":\"\\u0421\\u0440\\u0430\\u0432\\u043d\\u0435\\u043d\\u0438\\u0435 \\u043f\\u0440\\u043e\\u0438\\u0437\\u0432\\u043e\\u0434\\u0438\\u0442\\u0435\\u043b\\u044c\\u043d\\u043e\\u0441\\u0442\\u0438 \\u043f\\u043e\\u0438\\u0441\\u043a\\u0430\"},\"xaxis\":{\"title\":{\"text\":\"\\u041a\\u043e\\u043b\\u0438\\u0447\\u0435\\u0441\\u0442\\u0432\\u043e \\u044d\\u043b\\u0435\\u043c\\u0435\\u043d\\u0442\\u043e\\u0432 \\u0432 \\u0441\\u043f\\u0438\\u0441\\u043a\\u0435\"}},\"yaxis\":{\"title\":{\"text\":\"\\u0412\\u0440\\u0435\\u043c\\u044f \\u0432\\u044b\\u043f\\u043e\\u043b\\u043d\\u0435\\u043d\\u0438\\u044f \\u043f\\u043e\\u0438\\u0441\\u043a\\u0430, \\u0441\\u0435\\u043a\"}}},                        {\"responsive\": true}                    ).then(function(){\n",
              "                            \n",
              "var gd = document.getElementById('2a4230f5-06b7-4098-a755-ac5756145fc5');\n",
              "var x = new MutationObserver(function (mutations, observer) {{\n",
              "        var display = window.getComputedStyle(gd).display;\n",
              "        if (!display || display === 'none') {{\n",
              "            console.log([gd, 'removed!']);\n",
              "            Plotly.purge(gd);\n",
              "            observer.disconnect();\n",
              "        }}\n",
              "}});\n",
              "\n",
              "// Listen for the removal of the full notebook cells\n",
              "var notebookContainer = gd.closest('#notebook-container');\n",
              "if (notebookContainer) {{\n",
              "    x.observe(notebookContainer, {childList: true});\n",
              "}}\n",
              "\n",
              "// Listen for the clearing of the current output cell\n",
              "var outputEl = gd.closest('.output');\n",
              "if (outputEl) {{\n",
              "    x.observe(outputEl, {childList: true});\n",
              "}}\n",
              "\n",
              "                        })                };                            </script>        </div>\n",
              "</body>\n",
              "</html>"
            ]
          },
          "metadata": {}
        }
      ]
    },
    {
      "cell_type": "code",
      "source": [
        "def experiment(list_len: int, repeat: int = 10000) -> Tuple[float, float]:\n",
        "    list1 = random.sample(range(1, list_len + 2), list_len)\n",
        "    search_num = random.choice(list1)\n",
        "    tree = Tree()\n",
        "    tree.add_nodes(list1)\n",
        "\n",
        "    list_search_times = timeit.repeat(lambda: list1.index(search_num), repeat=repeat, number=1)\n",
        "    tree_search_times = timeit.repeat(lambda: tree.search(search_num), repeat=repeat, number=1)\n",
        "\n",
        "    list_search_res = sum(list_search_times) / len(list_search_times)\n",
        "    tree_search_res = sum(tree_search_times) / len(tree_search_times)\n",
        "    return list_search_res, tree_search_res"
      ],
      "metadata": {
        "id": "F_uAYImSPQg-"
      },
      "execution_count": null,
      "outputs": []
    }
  ]
}