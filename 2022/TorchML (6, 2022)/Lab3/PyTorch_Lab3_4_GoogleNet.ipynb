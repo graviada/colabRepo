{
  "nbformat": 4,
  "nbformat_minor": 0,
  "metadata": {
    "colab": {
      "name": "PyTorch_Lab3_4_GoogleNet.ipynb",
      "provenance": [],
      "authorship_tag": "ABX9TyNDAJvTLOZZ5tURzWb4Ucgj",
      "include_colab_link": true
    },
    "kernelspec": {
      "name": "python3",
      "display_name": "Python 3"
    },
    "language_info": {
      "name": "python"
    }
  },
  "cells": [
    {
      "cell_type": "markdown",
      "metadata": {
        "id": "view-in-github",
        "colab_type": "text"
      },
      "source": [
        "<a href=\"https://colab.research.google.com/github/graviada/colabRepo/blob/master/2022/TorchML%20(6%2C%202022)/Lab3/PyTorch_Lab3_4_GoogleNet.ipynb\" target=\"_parent\"><img src=\"https://colab.research.google.com/assets/colab-badge.svg\" alt=\"Open In Colab\"/></a>"
      ]
    },
    {
      "cell_type": "code",
      "execution_count": null,
      "metadata": {
        "id": "SPs9Me5RuNcZ"
      },
      "outputs": [],
      "source": [
        "# Импортируем основные модули pytorch\n",
        "import torch\n",
        "import torch.nn as nn\n",
        "from torch.utils.data import DataLoader\n",
        "\n",
        "# Импортируем модули, связанные с компьютерным зрением\n",
        "from torchvision import datasets\n",
        "import torchvision.transforms as T  # пакет transforms будет доступен под именем T\n",
        "from torchvision.models import googlenet  # импортируем модель AlexNet\n",
        "\n",
        "# Импортируем вспомогательные модули\n",
        "from sklearn.metrics import accuracy_score\n",
        "import matplotlib.pyplot as plt"
      ]
    },
    {
      "cell_type": "code",
      "source": [
        "# В данной лабораторной работе предлагается дообучить предобученные модели на уже известном нам наборе CIFAR10.\n",
        "# В этой части предлагается поработать с архитектурой GoogleNet.\n",
        "# Необходимо:\n",
        "# 1. Подготовить изображения (см. ниже);\n",
        "# 2. \"Заморозить\" веса предобученной модели;\n",
        "# 3. Заменить последний слой для соответствия размерности выхода 10-яти классам;\n",
        "# 4. Дообучить модель.\n",
        "\n",
        "model = googlenet(pretrained=True)  # загружаем модель с предобученными весами\n",
        "# Здесь необходимо выполнить 2-ой и 3-ий пункты.\n",
        "# ВАШ КОД ЗДЕСЬ\n",
        "\n",
        "# ==============="
      ],
      "metadata": {
        "id": "UGjxuu7UuT_7"
      },
      "execution_count": null,
      "outputs": []
    },
    {
      "cell_type": "code",
      "source": [
        "# Последовательность преобразований исходных изображений. Нужно заполнить.\n",
        "# Смысл этих преобразований в том, чтобы привести входные изображения из набора CIFAR10 к тому виду, который был у\n",
        "# изображений из набора, на котором была предобучена сеть. А именно:\n",
        "# 1. Картинки 3-ех канальные с размером 224 х 224 пикселей.\n",
        "# 2. Картики должны быть преобразованы в тензор и иметь цветовые компоненты на отрезке [0; 1].\n",
        "# 3. Среднее по цветовым каналам должно быть [0.485, 0.456, 0.406], а среднеквадратическое отклонение [0.229, 0.224, 0.225].\n",
        "# Посмотрите документацию по классам Compose, Resize, CenterCrop, ToTensor, Normalize из пакета torchvision.transforms.\n",
        "transforms = T.Compose(\n",
        "    # ВАШ КОД ЗДЕСЬ\n",
        "    ...\n",
        "    # ===============\n",
        ")"
      ],
      "metadata": {
        "id": "OZi946eeuY6Q"
      },
      "execution_count": null,
      "outputs": []
    },
    {
      "cell_type": "code",
      "source": [
        "# Если графический ускоритель поддерживает обучение на нем, будем использовать его,\n",
        "# иначе обучать на процессоре.\n",
        "device = 'cuda' if torch.cuda.is_available() else 'cpu'"
      ],
      "metadata": {
        "id": "PdoQl9uzugUR"
      },
      "execution_count": null,
      "outputs": []
    },
    {
      "cell_type": "code",
      "source": [
        "# Задаем количество эпох (проходов по всей обучающей выборке) и размер пакета, можно варьировать\n",
        "EPOCHS = 10\n",
        "BATCH_SIZE = 256"
      ],
      "metadata": {
        "id": "-9A3rl6lucnE"
      },
      "execution_count": null,
      "outputs": []
    },
    {
      "cell_type": "code",
      "source": [
        "# Загружаем данные из набора CIFAR10\n",
        "train_data = datasets.CIFAR10(root='./data/train', train=True, download=True, transform=transforms)\n",
        "test_data = datasets.CIFAR10(root='./data/test', train=False, download=True, transform=transforms)\n",
        "\n",
        "# DataLoader позволяет разбить выборку на пакеты заданного размера.\n",
        "# Параметр shuffle отвечает за перемешивание данных в пакете\n",
        "train_loader = DataLoader(train_data, batch_size=BATCH_SIZE, shuffle=True)"
      ],
      "metadata": {
        "id": "aqHc_m9Fuiud"
      },
      "execution_count": null,
      "outputs": []
    },
    {
      "cell_type": "code",
      "source": [
        "# Готовимся к обучению\n",
        "model = model.to(device)  # переносим модель на доступное устройство\n",
        "optimizer = ...  # оптимизатор, нужно выбрать и настроить\n",
        "loss_function = ...  # функция потерь, нужно выбрать\n",
        "loss_history = list()  # список для хранения истории изменения функции стоимости"
      ],
      "metadata": {
        "id": "k2DQ5acMulh4"
      },
      "execution_count": null,
      "outputs": []
    },
    {
      "cell_type": "code",
      "source": [
        "# Начинаем обучение\n",
        "for epoch in range(EPOCHS):\n",
        "    for i, (batch, labels) in enumerate(train_loader):  # разбиваем выборку на пакеты\n",
        "        # Нужно реализовать один шаг градиентного спуска\n",
        "        loss = torch.tensor(0, dtype=torch.float32)  # значение функции стоимости на пакете, нужно рассчитать\n",
        "        # ВАШ КОД ЗДЕСЬ\n",
        "        # ===============\n",
        "        loss_history.append(loss.log().item())  # добавляется логарифм стоимости для большей наглядности\n",
        "    print(f'Эпоха {epoch + 1} завершилась с функцией стоимости на последнем пакете = {loss.item()}')"
      ],
      "metadata": {
        "id": "3hds59ipuo_t"
      },
      "execution_count": null,
      "outputs": []
    },
    {
      "cell_type": "code",
      "source": [
        "# Выводим график функции стоимости\n",
        "plt.title('Зависимость функции стоимости от номера шага градиентного спуска')\n",
        "plt.xlabel('Номер шага')\n",
        "plt.ylabel('Функция стоимости')\n",
        "plt.plot(loss_history)\n",
        "plt.show()"
      ],
      "metadata": {
        "id": "yuAdgR_pur5v"
      },
      "execution_count": null,
      "outputs": []
    },
    {
      "cell_type": "code",
      "source": [
        "# Отключаем расчет вычислительного графа для экономии времени и памяти: нам не нужно считать градиенты при тестировании модели\n",
        "with torch.no_grad():\n",
        "    # Оцениваем качество модели\n",
        "    train_data_loader = DataLoader(train_data, batch_size=1024)\n",
        "    train_features, train_targets = next(iter(train_data_loader))\n",
        "\n",
        "    train_features = train_features.to(device)\n",
        "    train_model_predictions = torch.argmax(model(train_features), dim=1)\n",
        "    print('Точность (accuracy) на обучающей выборке:', accuracy_score(train_targets, train_model_predictions))\n",
        "\n",
        "    test_data_loader = DataLoader(test_data, batch_size=1024)\n",
        "    test_features, test_targets = next(iter(test_data_loader))\n",
        "\n",
        "    test_features = test_features.to(device)\n",
        "    test_model_predictions = torch.argmax(model(test_features), dim=1)\n",
        "    print('Точность (accuracy) на тестовой выборке:', accuracy_score(test_targets, test_model_predictions))"
      ],
      "metadata": {
        "id": "YQ0ttBSxuu2_"
      },
      "execution_count": null,
      "outputs": []
    }
  ]
}