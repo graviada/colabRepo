{
  "nbformat": 4,
  "nbformat_minor": 0,
  "metadata": {
    "colab": {
      "name": "Huawei_4.ipynb",
      "provenance": [],
      "collapsed_sections": [
        "X5tixCH4Ifsb",
        "AZGoYp8MJpd0",
        "PwFh87yTAKzw"
      ],
      "include_colab_link": true
    },
    "kernelspec": {
      "name": "python3",
      "display_name": "Python 3"
    },
    "language_info": {
      "name": "python"
    }
  },
  "cells": [
    {
      "cell_type": "markdown",
      "metadata": {
        "id": "view-in-github",
        "colab_type": "text"
      },
      "source": [
        "<a href=\"https://colab.research.google.com/github/graviada/colabRepo/blob/master/HuaweiCourse_AI%20(2022)/Huawei_4.ipynb\" target=\"_parent\"><img src=\"https://colab.research.google.com/assets/colab-badge.svg\" alt=\"Open In Colab\"/></a>"
      ]
    },
    {
      "cell_type": "markdown",
      "source": [
        "# **HCIA-AI Linear regression lab**\n",
        "\n"
      ],
      "metadata": {
        "id": "mMkArOLdldTU"
      }
    },
    {
      "cell_type": "markdown",
      "source": [
        "## **Введение**\n",
        "\n",
        "В данной работе мы рассмотрим основной алгоритм решения задачи регрессии, а также познакомимся с основными техниками работы с обучением и обучаемыми моделями на данных, которые пригодятся в дальнейшем практически для всех задач машинного и глубокого обучения."
      ],
      "metadata": {
        "id": "O32fG7o2JGyi"
      }
    },
    {
      "cell_type": "code",
      "execution_count": null,
      "metadata": {
        "colab": {
          "base_uri": "https://localhost:8080/",
          "height": 36
        },
        "id": "ykzFtiZnlbaL",
        "outputId": "2f641b9a-5d43-44be-b737-7e0fa6b5f26a"
      },
      "outputs": [
        {
          "output_type": "display_data",
          "data": {
            "text/plain": [
              "<Figure size 720x540 with 0 Axes>"
            ]
          },
          "metadata": {}
        }
      ],
      "source": [
        "# Библиотека для продвинутой работы с многомерными массивами данных\n",
        "import numpy as np\n",
        "\n",
        "# Библиотека для простой визуализации данных\n",
        "import matplotlib.pyplot as plt\n",
        "\n",
        "plt.rcParams['figure.figsize'] = 10, 7.5    # Стандартные размеры графиков\n",
        "plt.rcParams['axes.grid'] = True            # Сетка графика\n",
        "plt.pink()                                  # Цветовая схема при раскраске\n",
        "\n",
        "# Работа с таблицами данных\n",
        "import pandas as pd\n",
        "\n",
        "# Машинное обучение\n",
        "import sklearn.datasets as datasets\n",
        "from sklearn.model_selection import train_test_split                    # Деление датасета\n",
        "from sklearn.linear_model import LinearRegression, LassoCV, RidgeCV     # Модели регрессии\n",
        "from sklearn.metrics import r2_score, mean_absolute_error               # Метрики качества регрессии"
      ]
    },
    {
      "cell_type": "markdown",
      "source": [
        "\n",
        "## **Суть метода линейной регрессии**\n",
        "\n",
        "Метод линейной регрессии самый простой метод машинного обучения. Линейная регрессия решает задачу обучения с учителем -- **задачу регрессии**.\n",
        "\n",
        "Задача регрессии заключается в востановлении непрерывной зависимости между предикторами $X = (x_1, x_2, \\dots, x_m)$ (столбцы таблицы данных или переменные, выбранные в качестве зависимых переменных, $x_i,\\ i$ - номер переменной) и откликом $Y$ (выбранным столбцом, который мы хотим предсказать).\n",
        "\n",
        "Линейная модель метода линейной регрессии выглядит следующим образом: \n",
        "\n",
        "\\begin{equation} \n",
        "    \\hat{Y}(\\omega, X) = \\omega_0 + \\sum_{i = 1}^{m} \\omega_i \\cdot x_i = \\omega_0 \\cdot 1 + \\omega_1 \\cdot x_1 + \\omega_2 \\cdot x_2 + \\dots + \\omega_m \\cdot x_m\n",
        "\\end{equation}\n",
        "\n",
        "Пусть у нас в распоряжении имеется таблица данных для решения задачи регресии:\n",
        "\n",
        "\\begin{equation}\n",
        "data = \\begin{vmatrix}  \n",
        "            x_1 & x_2 & \\dots & x_m & y \\\\ \\hline\n",
        "            x_{11} & x_{12} & \\dots & x_{1m} & y_1 \\\\\n",
        "            x_{21} & x_{22} & \\dots & x_{2m} & y_2 \\\\ \n",
        "            \\dots & \\dots & \\dots & \\dots & \\dots \\\\\n",
        "            x_{n1} & x_{n2} & \\dots & x_{nm} & y_n \n",
        "        \\end{vmatrix}\n",
        "\\end{equation}\n",
        "где данная таблица состоит из столбцов-предикторов $X$ и столбца-отклика $Y$:\n",
        "\n",
        "\\begin{equation}\n",
        "X_{n\\times m} = \\begin{pmatrix}  \n",
        "            x_1 & x_2 & \\dots & x_m \\\\ \\hline\n",
        "            x_{11} & x_{12} & \\dots & x_{1m}  \\\\\n",
        "            x_{21} & x_{22} & \\dots & x_{2m}  \\\\ \n",
        "            \\dots & \\dots & \\dots & \\dots  \\\\\n",
        "            x_{n1} & x_{n2} & \\dots & x_{nm} \n",
        "        \\end{pmatrix}, \\ \\ \n",
        "Y_{n\\times 1} = \\begin{pmatrix}  \n",
        "            y \\\\ \\hline\n",
        "            y_1 \\\\\n",
        "            y_2 \\\\ \n",
        "            \\dots \\\\\n",
        "            y_n \n",
        "        \\end{pmatrix}\n",
        "\\end{equation}\n",
        "\n",
        "Тогда для каждой строки или наблюдения $j$ в таблице данных оцениваемое значение по построенной модели $\\hat{Y_j}$ выглядит так:\n",
        "\n",
        "\\begin{equation}\n",
        "    \\hat{Y}(\\omega, X_j) = \\omega_o + \\sum_{i = 1}^{m} \\omega_i \\cdot x_{ji}\n",
        "\\end{equation}"
      ],
      "metadata": {
        "id": "X5tixCH4Ifsb"
      }
    },
    {
      "cell_type": "markdown",
      "source": [
        "## **Пайплайн обучения моделей**\n",
        "\n",
        "0. Загрузка данных\n",
        "1. Исследование данных\n",
        "2. Предобработка данных\n",
        "3. Деление данных на тренировочную выборку и тестовую выборку\n",
        "4. Выбор модели машинного обучения\n",
        "5. Обучение с кросс-валидацией для обучения параметров модели и гиперпараметров архитектуры модели\n",
        "6. Оценка качества моделей на отложенной тестовой выборке по выбранным метрикам качества\n",
        "7. Выводы и сохранение лучшей модели"
      ],
      "metadata": {
        "id": "AZGoYp8MJpd0"
      }
    },
    {
      "cell_type": "markdown",
      "source": [
        "## **Загрузка данных**\n",
        "\n",
        "Возьмем данные из датасета **Ames Housing** с помощью функции загрузки из **scikit_learn.datasets**"
      ],
      "metadata": {
        "id": "9PpB_mJyKgX6"
      }
    },
    {
      "cell_type": "code",
      "source": [
        "df = datasets.fetch_openml(name=\"house_prices\", as_frame=True)\n",
        "dataframe = df['frame']"
      ],
      "metadata": {
        "id": "CT3bh8S7zmBd"
      },
      "execution_count": null,
      "outputs": []
    },
    {
      "cell_type": "markdown",
      "source": [
        "## **Исследование данных**\n",
        "\n",
        "Просмотрим первые значения таблицы для того, чтобы удостовериться в правильности импорта столбцов и корректности определения их типов"
      ],
      "metadata": {
        "id": "IiZEDguYK2_k"
      }
    },
    {
      "cell_type": "code",
      "source": [
        "dataframe.head()"
      ],
      "metadata": {
        "id": "yJ-1nCz92ye-",
        "colab": {
          "base_uri": "https://localhost:8080/",
          "height": 299
        },
        "outputId": "994642b7-2106-4479-e045-9ffc0a77caf2"
      },
      "execution_count": null,
      "outputs": [
        {
          "output_type": "execute_result",
          "data": {
            "text/plain": [
              "    Id  MSSubClass MSZoning  LotFrontage  LotArea Street Alley LotShape  \\\n",
              "0  1.0        60.0       RL         65.0   8450.0   Pave  None      Reg   \n",
              "1  2.0        20.0       RL         80.0   9600.0   Pave  None      Reg   \n",
              "2  3.0        60.0       RL         68.0  11250.0   Pave  None      IR1   \n",
              "3  4.0        70.0       RL         60.0   9550.0   Pave  None      IR1   \n",
              "4  5.0        60.0       RL         84.0  14260.0   Pave  None      IR1   \n",
              "\n",
              "  LandContour Utilities  ... PoolArea PoolQC Fence MiscFeature MiscVal MoSold  \\\n",
              "0         Lvl    AllPub  ...      0.0   None  None        None     0.0    2.0   \n",
              "1         Lvl    AllPub  ...      0.0   None  None        None     0.0    5.0   \n",
              "2         Lvl    AllPub  ...      0.0   None  None        None     0.0    9.0   \n",
              "3         Lvl    AllPub  ...      0.0   None  None        None     0.0    2.0   \n",
              "4         Lvl    AllPub  ...      0.0   None  None        None     0.0   12.0   \n",
              "\n",
              "   YrSold  SaleType  SaleCondition  SalePrice  \n",
              "0  2008.0        WD         Normal   208500.0  \n",
              "1  2007.0        WD         Normal   181500.0  \n",
              "2  2008.0        WD         Normal   223500.0  \n",
              "3  2006.0        WD        Abnorml   140000.0  \n",
              "4  2008.0        WD         Normal   250000.0  \n",
              "\n",
              "[5 rows x 81 columns]"
            ],
            "text/html": [
              "\n",
              "  <div id=\"df-7b804dfb-f05d-4318-85c9-7f6aa699b750\">\n",
              "    <div class=\"colab-df-container\">\n",
              "      <div>\n",
              "<style scoped>\n",
              "    .dataframe tbody tr th:only-of-type {\n",
              "        vertical-align: middle;\n",
              "    }\n",
              "\n",
              "    .dataframe tbody tr th {\n",
              "        vertical-align: top;\n",
              "    }\n",
              "\n",
              "    .dataframe thead th {\n",
              "        text-align: right;\n",
              "    }\n",
              "</style>\n",
              "<table border=\"1\" class=\"dataframe\">\n",
              "  <thead>\n",
              "    <tr style=\"text-align: right;\">\n",
              "      <th></th>\n",
              "      <th>Id</th>\n",
              "      <th>MSSubClass</th>\n",
              "      <th>MSZoning</th>\n",
              "      <th>LotFrontage</th>\n",
              "      <th>LotArea</th>\n",
              "      <th>Street</th>\n",
              "      <th>Alley</th>\n",
              "      <th>LotShape</th>\n",
              "      <th>LandContour</th>\n",
              "      <th>Utilities</th>\n",
              "      <th>...</th>\n",
              "      <th>PoolArea</th>\n",
              "      <th>PoolQC</th>\n",
              "      <th>Fence</th>\n",
              "      <th>MiscFeature</th>\n",
              "      <th>MiscVal</th>\n",
              "      <th>MoSold</th>\n",
              "      <th>YrSold</th>\n",
              "      <th>SaleType</th>\n",
              "      <th>SaleCondition</th>\n",
              "      <th>SalePrice</th>\n",
              "    </tr>\n",
              "  </thead>\n",
              "  <tbody>\n",
              "    <tr>\n",
              "      <th>0</th>\n",
              "      <td>1.0</td>\n",
              "      <td>60.0</td>\n",
              "      <td>RL</td>\n",
              "      <td>65.0</td>\n",
              "      <td>8450.0</td>\n",
              "      <td>Pave</td>\n",
              "      <td>None</td>\n",
              "      <td>Reg</td>\n",
              "      <td>Lvl</td>\n",
              "      <td>AllPub</td>\n",
              "      <td>...</td>\n",
              "      <td>0.0</td>\n",
              "      <td>None</td>\n",
              "      <td>None</td>\n",
              "      <td>None</td>\n",
              "      <td>0.0</td>\n",
              "      <td>2.0</td>\n",
              "      <td>2008.0</td>\n",
              "      <td>WD</td>\n",
              "      <td>Normal</td>\n",
              "      <td>208500.0</td>\n",
              "    </tr>\n",
              "    <tr>\n",
              "      <th>1</th>\n",
              "      <td>2.0</td>\n",
              "      <td>20.0</td>\n",
              "      <td>RL</td>\n",
              "      <td>80.0</td>\n",
              "      <td>9600.0</td>\n",
              "      <td>Pave</td>\n",
              "      <td>None</td>\n",
              "      <td>Reg</td>\n",
              "      <td>Lvl</td>\n",
              "      <td>AllPub</td>\n",
              "      <td>...</td>\n",
              "      <td>0.0</td>\n",
              "      <td>None</td>\n",
              "      <td>None</td>\n",
              "      <td>None</td>\n",
              "      <td>0.0</td>\n",
              "      <td>5.0</td>\n",
              "      <td>2007.0</td>\n",
              "      <td>WD</td>\n",
              "      <td>Normal</td>\n",
              "      <td>181500.0</td>\n",
              "    </tr>\n",
              "    <tr>\n",
              "      <th>2</th>\n",
              "      <td>3.0</td>\n",
              "      <td>60.0</td>\n",
              "      <td>RL</td>\n",
              "      <td>68.0</td>\n",
              "      <td>11250.0</td>\n",
              "      <td>Pave</td>\n",
              "      <td>None</td>\n",
              "      <td>IR1</td>\n",
              "      <td>Lvl</td>\n",
              "      <td>AllPub</td>\n",
              "      <td>...</td>\n",
              "      <td>0.0</td>\n",
              "      <td>None</td>\n",
              "      <td>None</td>\n",
              "      <td>None</td>\n",
              "      <td>0.0</td>\n",
              "      <td>9.0</td>\n",
              "      <td>2008.0</td>\n",
              "      <td>WD</td>\n",
              "      <td>Normal</td>\n",
              "      <td>223500.0</td>\n",
              "    </tr>\n",
              "    <tr>\n",
              "      <th>3</th>\n",
              "      <td>4.0</td>\n",
              "      <td>70.0</td>\n",
              "      <td>RL</td>\n",
              "      <td>60.0</td>\n",
              "      <td>9550.0</td>\n",
              "      <td>Pave</td>\n",
              "      <td>None</td>\n",
              "      <td>IR1</td>\n",
              "      <td>Lvl</td>\n",
              "      <td>AllPub</td>\n",
              "      <td>...</td>\n",
              "      <td>0.0</td>\n",
              "      <td>None</td>\n",
              "      <td>None</td>\n",
              "      <td>None</td>\n",
              "      <td>0.0</td>\n",
              "      <td>2.0</td>\n",
              "      <td>2006.0</td>\n",
              "      <td>WD</td>\n",
              "      <td>Abnorml</td>\n",
              "      <td>140000.0</td>\n",
              "    </tr>\n",
              "    <tr>\n",
              "      <th>4</th>\n",
              "      <td>5.0</td>\n",
              "      <td>60.0</td>\n",
              "      <td>RL</td>\n",
              "      <td>84.0</td>\n",
              "      <td>14260.0</td>\n",
              "      <td>Pave</td>\n",
              "      <td>None</td>\n",
              "      <td>IR1</td>\n",
              "      <td>Lvl</td>\n",
              "      <td>AllPub</td>\n",
              "      <td>...</td>\n",
              "      <td>0.0</td>\n",
              "      <td>None</td>\n",
              "      <td>None</td>\n",
              "      <td>None</td>\n",
              "      <td>0.0</td>\n",
              "      <td>12.0</td>\n",
              "      <td>2008.0</td>\n",
              "      <td>WD</td>\n",
              "      <td>Normal</td>\n",
              "      <td>250000.0</td>\n",
              "    </tr>\n",
              "  </tbody>\n",
              "</table>\n",
              "<p>5 rows × 81 columns</p>\n",
              "</div>\n",
              "      <button class=\"colab-df-convert\" onclick=\"convertToInteractive('df-7b804dfb-f05d-4318-85c9-7f6aa699b750')\"\n",
              "              title=\"Convert this dataframe to an interactive table.\"\n",
              "              style=\"display:none;\">\n",
              "        \n",
              "  <svg xmlns=\"http://www.w3.org/2000/svg\" height=\"24px\"viewBox=\"0 0 24 24\"\n",
              "       width=\"24px\">\n",
              "    <path d=\"M0 0h24v24H0V0z\" fill=\"none\"/>\n",
              "    <path d=\"M18.56 5.44l.94 2.06.94-2.06 2.06-.94-2.06-.94-.94-2.06-.94 2.06-2.06.94zm-11 1L8.5 8.5l.94-2.06 2.06-.94-2.06-.94L8.5 2.5l-.94 2.06-2.06.94zm10 10l.94 2.06.94-2.06 2.06-.94-2.06-.94-.94-2.06-.94 2.06-2.06.94z\"/><path d=\"M17.41 7.96l-1.37-1.37c-.4-.4-.92-.59-1.43-.59-.52 0-1.04.2-1.43.59L10.3 9.45l-7.72 7.72c-.78.78-.78 2.05 0 2.83L4 21.41c.39.39.9.59 1.41.59.51 0 1.02-.2 1.41-.59l7.78-7.78 2.81-2.81c.8-.78.8-2.07 0-2.86zM5.41 20L4 18.59l7.72-7.72 1.47 1.35L5.41 20z\"/>\n",
              "  </svg>\n",
              "      </button>\n",
              "      \n",
              "  <style>\n",
              "    .colab-df-container {\n",
              "      display:flex;\n",
              "      flex-wrap:wrap;\n",
              "      gap: 12px;\n",
              "    }\n",
              "\n",
              "    .colab-df-convert {\n",
              "      background-color: #E8F0FE;\n",
              "      border: none;\n",
              "      border-radius: 50%;\n",
              "      cursor: pointer;\n",
              "      display: none;\n",
              "      fill: #1967D2;\n",
              "      height: 32px;\n",
              "      padding: 0 0 0 0;\n",
              "      width: 32px;\n",
              "    }\n",
              "\n",
              "    .colab-df-convert:hover {\n",
              "      background-color: #E2EBFA;\n",
              "      box-shadow: 0px 1px 2px rgba(60, 64, 67, 0.3), 0px 1px 3px 1px rgba(60, 64, 67, 0.15);\n",
              "      fill: #174EA6;\n",
              "    }\n",
              "\n",
              "    [theme=dark] .colab-df-convert {\n",
              "      background-color: #3B4455;\n",
              "      fill: #D2E3FC;\n",
              "    }\n",
              "\n",
              "    [theme=dark] .colab-df-convert:hover {\n",
              "      background-color: #434B5C;\n",
              "      box-shadow: 0px 1px 3px 1px rgba(0, 0, 0, 0.15);\n",
              "      filter: drop-shadow(0px 1px 2px rgba(0, 0, 0, 0.3));\n",
              "      fill: #FFFFFF;\n",
              "    }\n",
              "  </style>\n",
              "\n",
              "      <script>\n",
              "        const buttonEl =\n",
              "          document.querySelector('#df-7b804dfb-f05d-4318-85c9-7f6aa699b750 button.colab-df-convert');\n",
              "        buttonEl.style.display =\n",
              "          google.colab.kernel.accessAllowed ? 'block' : 'none';\n",
              "\n",
              "        async function convertToInteractive(key) {\n",
              "          const element = document.querySelector('#df-7b804dfb-f05d-4318-85c9-7f6aa699b750');\n",
              "          const dataTable =\n",
              "            await google.colab.kernel.invokeFunction('convertToInteractive',\n",
              "                                                     [key], {});\n",
              "          if (!dataTable) return;\n",
              "\n",
              "          const docLinkHtml = 'Like what you see? Visit the ' +\n",
              "            '<a target=\"_blank\" href=https://colab.research.google.com/notebooks/data_table.ipynb>data table notebook</a>'\n",
              "            + ' to learn more about interactive tables.';\n",
              "          element.innerHTML = '';\n",
              "          dataTable['output_type'] = 'display_data';\n",
              "          await google.colab.output.renderOutput(dataTable, element);\n",
              "          const docLink = document.createElement('div');\n",
              "          docLink.innerHTML = docLinkHtml;\n",
              "          element.appendChild(docLink);\n",
              "        }\n",
              "      </script>\n",
              "    </div>\n",
              "  </div>\n",
              "  "
            ]
          },
          "metadata": {},
          "execution_count": 21
        }
      ]
    },
    {
      "cell_type": "code",
      "source": [
        "dataframe"
      ],
      "metadata": {
        "colab": {
          "base_uri": "https://localhost:8080/",
          "height": 487
        },
        "id": "v1Z3QPaRMWI1",
        "outputId": "495555c0-2206-4a89-dee1-5d5b45173535"
      },
      "execution_count": null,
      "outputs": [
        {
          "output_type": "execute_result",
          "data": {
            "text/plain": [
              "          Id  MSSubClass MSZoning  LotFrontage  LotArea Street Alley LotShape  \\\n",
              "0        1.0        60.0       RL         65.0   8450.0   Pave  None      Reg   \n",
              "1        2.0        20.0       RL         80.0   9600.0   Pave  None      Reg   \n",
              "2        3.0        60.0       RL         68.0  11250.0   Pave  None      IR1   \n",
              "3        4.0        70.0       RL         60.0   9550.0   Pave  None      IR1   \n",
              "4        5.0        60.0       RL         84.0  14260.0   Pave  None      IR1   \n",
              "...      ...         ...      ...          ...      ...    ...   ...      ...   \n",
              "1455  1456.0        60.0       RL         62.0   7917.0   Pave  None      Reg   \n",
              "1456  1457.0        20.0       RL         85.0  13175.0   Pave  None      Reg   \n",
              "1457  1458.0        70.0       RL         66.0   9042.0   Pave  None      Reg   \n",
              "1458  1459.0        20.0       RL         68.0   9717.0   Pave  None      Reg   \n",
              "1459  1460.0        20.0       RL         75.0   9937.0   Pave  None      Reg   \n",
              "\n",
              "     LandContour Utilities  ... PoolArea PoolQC  Fence MiscFeature MiscVal  \\\n",
              "0            Lvl    AllPub  ...      0.0   None   None        None     0.0   \n",
              "1            Lvl    AllPub  ...      0.0   None   None        None     0.0   \n",
              "2            Lvl    AllPub  ...      0.0   None   None        None     0.0   \n",
              "3            Lvl    AllPub  ...      0.0   None   None        None     0.0   \n",
              "4            Lvl    AllPub  ...      0.0   None   None        None     0.0   \n",
              "...          ...       ...  ...      ...    ...    ...         ...     ...   \n",
              "1455         Lvl    AllPub  ...      0.0   None   None        None     0.0   \n",
              "1456         Lvl    AllPub  ...      0.0   None  MnPrv        None     0.0   \n",
              "1457         Lvl    AllPub  ...      0.0   None  GdPrv        Shed  2500.0   \n",
              "1458         Lvl    AllPub  ...      0.0   None   None        None     0.0   \n",
              "1459         Lvl    AllPub  ...      0.0   None   None        None     0.0   \n",
              "\n",
              "     MoSold  YrSold  SaleType  SaleCondition  SalePrice  \n",
              "0       2.0  2008.0        WD         Normal   208500.0  \n",
              "1       5.0  2007.0        WD         Normal   181500.0  \n",
              "2       9.0  2008.0        WD         Normal   223500.0  \n",
              "3       2.0  2006.0        WD        Abnorml   140000.0  \n",
              "4      12.0  2008.0        WD         Normal   250000.0  \n",
              "...     ...     ...       ...            ...        ...  \n",
              "1455    8.0  2007.0        WD         Normal   175000.0  \n",
              "1456    2.0  2010.0        WD         Normal   210000.0  \n",
              "1457    5.0  2010.0        WD         Normal   266500.0  \n",
              "1458    4.0  2010.0        WD         Normal   142125.0  \n",
              "1459    6.0  2008.0        WD         Normal   147500.0  \n",
              "\n",
              "[1460 rows x 81 columns]"
            ],
            "text/html": [
              "\n",
              "  <div id=\"df-7dd3848a-f546-4dae-8b07-d143097a57eb\">\n",
              "    <div class=\"colab-df-container\">\n",
              "      <div>\n",
              "<style scoped>\n",
              "    .dataframe tbody tr th:only-of-type {\n",
              "        vertical-align: middle;\n",
              "    }\n",
              "\n",
              "    .dataframe tbody tr th {\n",
              "        vertical-align: top;\n",
              "    }\n",
              "\n",
              "    .dataframe thead th {\n",
              "        text-align: right;\n",
              "    }\n",
              "</style>\n",
              "<table border=\"1\" class=\"dataframe\">\n",
              "  <thead>\n",
              "    <tr style=\"text-align: right;\">\n",
              "      <th></th>\n",
              "      <th>Id</th>\n",
              "      <th>MSSubClass</th>\n",
              "      <th>MSZoning</th>\n",
              "      <th>LotFrontage</th>\n",
              "      <th>LotArea</th>\n",
              "      <th>Street</th>\n",
              "      <th>Alley</th>\n",
              "      <th>LotShape</th>\n",
              "      <th>LandContour</th>\n",
              "      <th>Utilities</th>\n",
              "      <th>...</th>\n",
              "      <th>PoolArea</th>\n",
              "      <th>PoolQC</th>\n",
              "      <th>Fence</th>\n",
              "      <th>MiscFeature</th>\n",
              "      <th>MiscVal</th>\n",
              "      <th>MoSold</th>\n",
              "      <th>YrSold</th>\n",
              "      <th>SaleType</th>\n",
              "      <th>SaleCondition</th>\n",
              "      <th>SalePrice</th>\n",
              "    </tr>\n",
              "  </thead>\n",
              "  <tbody>\n",
              "    <tr>\n",
              "      <th>0</th>\n",
              "      <td>1.0</td>\n",
              "      <td>60.0</td>\n",
              "      <td>RL</td>\n",
              "      <td>65.0</td>\n",
              "      <td>8450.0</td>\n",
              "      <td>Pave</td>\n",
              "      <td>None</td>\n",
              "      <td>Reg</td>\n",
              "      <td>Lvl</td>\n",
              "      <td>AllPub</td>\n",
              "      <td>...</td>\n",
              "      <td>0.0</td>\n",
              "      <td>None</td>\n",
              "      <td>None</td>\n",
              "      <td>None</td>\n",
              "      <td>0.0</td>\n",
              "      <td>2.0</td>\n",
              "      <td>2008.0</td>\n",
              "      <td>WD</td>\n",
              "      <td>Normal</td>\n",
              "      <td>208500.0</td>\n",
              "    </tr>\n",
              "    <tr>\n",
              "      <th>1</th>\n",
              "      <td>2.0</td>\n",
              "      <td>20.0</td>\n",
              "      <td>RL</td>\n",
              "      <td>80.0</td>\n",
              "      <td>9600.0</td>\n",
              "      <td>Pave</td>\n",
              "      <td>None</td>\n",
              "      <td>Reg</td>\n",
              "      <td>Lvl</td>\n",
              "      <td>AllPub</td>\n",
              "      <td>...</td>\n",
              "      <td>0.0</td>\n",
              "      <td>None</td>\n",
              "      <td>None</td>\n",
              "      <td>None</td>\n",
              "      <td>0.0</td>\n",
              "      <td>5.0</td>\n",
              "      <td>2007.0</td>\n",
              "      <td>WD</td>\n",
              "      <td>Normal</td>\n",
              "      <td>181500.0</td>\n",
              "    </tr>\n",
              "    <tr>\n",
              "      <th>2</th>\n",
              "      <td>3.0</td>\n",
              "      <td>60.0</td>\n",
              "      <td>RL</td>\n",
              "      <td>68.0</td>\n",
              "      <td>11250.0</td>\n",
              "      <td>Pave</td>\n",
              "      <td>None</td>\n",
              "      <td>IR1</td>\n",
              "      <td>Lvl</td>\n",
              "      <td>AllPub</td>\n",
              "      <td>...</td>\n",
              "      <td>0.0</td>\n",
              "      <td>None</td>\n",
              "      <td>None</td>\n",
              "      <td>None</td>\n",
              "      <td>0.0</td>\n",
              "      <td>9.0</td>\n",
              "      <td>2008.0</td>\n",
              "      <td>WD</td>\n",
              "      <td>Normal</td>\n",
              "      <td>223500.0</td>\n",
              "    </tr>\n",
              "    <tr>\n",
              "      <th>3</th>\n",
              "      <td>4.0</td>\n",
              "      <td>70.0</td>\n",
              "      <td>RL</td>\n",
              "      <td>60.0</td>\n",
              "      <td>9550.0</td>\n",
              "      <td>Pave</td>\n",
              "      <td>None</td>\n",
              "      <td>IR1</td>\n",
              "      <td>Lvl</td>\n",
              "      <td>AllPub</td>\n",
              "      <td>...</td>\n",
              "      <td>0.0</td>\n",
              "      <td>None</td>\n",
              "      <td>None</td>\n",
              "      <td>None</td>\n",
              "      <td>0.0</td>\n",
              "      <td>2.0</td>\n",
              "      <td>2006.0</td>\n",
              "      <td>WD</td>\n",
              "      <td>Abnorml</td>\n",
              "      <td>140000.0</td>\n",
              "    </tr>\n",
              "    <tr>\n",
              "      <th>4</th>\n",
              "      <td>5.0</td>\n",
              "      <td>60.0</td>\n",
              "      <td>RL</td>\n",
              "      <td>84.0</td>\n",
              "      <td>14260.0</td>\n",
              "      <td>Pave</td>\n",
              "      <td>None</td>\n",
              "      <td>IR1</td>\n",
              "      <td>Lvl</td>\n",
              "      <td>AllPub</td>\n",
              "      <td>...</td>\n",
              "      <td>0.0</td>\n",
              "      <td>None</td>\n",
              "      <td>None</td>\n",
              "      <td>None</td>\n",
              "      <td>0.0</td>\n",
              "      <td>12.0</td>\n",
              "      <td>2008.0</td>\n",
              "      <td>WD</td>\n",
              "      <td>Normal</td>\n",
              "      <td>250000.0</td>\n",
              "    </tr>\n",
              "    <tr>\n",
              "      <th>...</th>\n",
              "      <td>...</td>\n",
              "      <td>...</td>\n",
              "      <td>...</td>\n",
              "      <td>...</td>\n",
              "      <td>...</td>\n",
              "      <td>...</td>\n",
              "      <td>...</td>\n",
              "      <td>...</td>\n",
              "      <td>...</td>\n",
              "      <td>...</td>\n",
              "      <td>...</td>\n",
              "      <td>...</td>\n",
              "      <td>...</td>\n",
              "      <td>...</td>\n",
              "      <td>...</td>\n",
              "      <td>...</td>\n",
              "      <td>...</td>\n",
              "      <td>...</td>\n",
              "      <td>...</td>\n",
              "      <td>...</td>\n",
              "      <td>...</td>\n",
              "    </tr>\n",
              "    <tr>\n",
              "      <th>1455</th>\n",
              "      <td>1456.0</td>\n",
              "      <td>60.0</td>\n",
              "      <td>RL</td>\n",
              "      <td>62.0</td>\n",
              "      <td>7917.0</td>\n",
              "      <td>Pave</td>\n",
              "      <td>None</td>\n",
              "      <td>Reg</td>\n",
              "      <td>Lvl</td>\n",
              "      <td>AllPub</td>\n",
              "      <td>...</td>\n",
              "      <td>0.0</td>\n",
              "      <td>None</td>\n",
              "      <td>None</td>\n",
              "      <td>None</td>\n",
              "      <td>0.0</td>\n",
              "      <td>8.0</td>\n",
              "      <td>2007.0</td>\n",
              "      <td>WD</td>\n",
              "      <td>Normal</td>\n",
              "      <td>175000.0</td>\n",
              "    </tr>\n",
              "    <tr>\n",
              "      <th>1456</th>\n",
              "      <td>1457.0</td>\n",
              "      <td>20.0</td>\n",
              "      <td>RL</td>\n",
              "      <td>85.0</td>\n",
              "      <td>13175.0</td>\n",
              "      <td>Pave</td>\n",
              "      <td>None</td>\n",
              "      <td>Reg</td>\n",
              "      <td>Lvl</td>\n",
              "      <td>AllPub</td>\n",
              "      <td>...</td>\n",
              "      <td>0.0</td>\n",
              "      <td>None</td>\n",
              "      <td>MnPrv</td>\n",
              "      <td>None</td>\n",
              "      <td>0.0</td>\n",
              "      <td>2.0</td>\n",
              "      <td>2010.0</td>\n",
              "      <td>WD</td>\n",
              "      <td>Normal</td>\n",
              "      <td>210000.0</td>\n",
              "    </tr>\n",
              "    <tr>\n",
              "      <th>1457</th>\n",
              "      <td>1458.0</td>\n",
              "      <td>70.0</td>\n",
              "      <td>RL</td>\n",
              "      <td>66.0</td>\n",
              "      <td>9042.0</td>\n",
              "      <td>Pave</td>\n",
              "      <td>None</td>\n",
              "      <td>Reg</td>\n",
              "      <td>Lvl</td>\n",
              "      <td>AllPub</td>\n",
              "      <td>...</td>\n",
              "      <td>0.0</td>\n",
              "      <td>None</td>\n",
              "      <td>GdPrv</td>\n",
              "      <td>Shed</td>\n",
              "      <td>2500.0</td>\n",
              "      <td>5.0</td>\n",
              "      <td>2010.0</td>\n",
              "      <td>WD</td>\n",
              "      <td>Normal</td>\n",
              "      <td>266500.0</td>\n",
              "    </tr>\n",
              "    <tr>\n",
              "      <th>1458</th>\n",
              "      <td>1459.0</td>\n",
              "      <td>20.0</td>\n",
              "      <td>RL</td>\n",
              "      <td>68.0</td>\n",
              "      <td>9717.0</td>\n",
              "      <td>Pave</td>\n",
              "      <td>None</td>\n",
              "      <td>Reg</td>\n",
              "      <td>Lvl</td>\n",
              "      <td>AllPub</td>\n",
              "      <td>...</td>\n",
              "      <td>0.0</td>\n",
              "      <td>None</td>\n",
              "      <td>None</td>\n",
              "      <td>None</td>\n",
              "      <td>0.0</td>\n",
              "      <td>4.0</td>\n",
              "      <td>2010.0</td>\n",
              "      <td>WD</td>\n",
              "      <td>Normal</td>\n",
              "      <td>142125.0</td>\n",
              "    </tr>\n",
              "    <tr>\n",
              "      <th>1459</th>\n",
              "      <td>1460.0</td>\n",
              "      <td>20.0</td>\n",
              "      <td>RL</td>\n",
              "      <td>75.0</td>\n",
              "      <td>9937.0</td>\n",
              "      <td>Pave</td>\n",
              "      <td>None</td>\n",
              "      <td>Reg</td>\n",
              "      <td>Lvl</td>\n",
              "      <td>AllPub</td>\n",
              "      <td>...</td>\n",
              "      <td>0.0</td>\n",
              "      <td>None</td>\n",
              "      <td>None</td>\n",
              "      <td>None</td>\n",
              "      <td>0.0</td>\n",
              "      <td>6.0</td>\n",
              "      <td>2008.0</td>\n",
              "      <td>WD</td>\n",
              "      <td>Normal</td>\n",
              "      <td>147500.0</td>\n",
              "    </tr>\n",
              "  </tbody>\n",
              "</table>\n",
              "<p>1460 rows × 81 columns</p>\n",
              "</div>\n",
              "      <button class=\"colab-df-convert\" onclick=\"convertToInteractive('df-7dd3848a-f546-4dae-8b07-d143097a57eb')\"\n",
              "              title=\"Convert this dataframe to an interactive table.\"\n",
              "              style=\"display:none;\">\n",
              "        \n",
              "  <svg xmlns=\"http://www.w3.org/2000/svg\" height=\"24px\"viewBox=\"0 0 24 24\"\n",
              "       width=\"24px\">\n",
              "    <path d=\"M0 0h24v24H0V0z\" fill=\"none\"/>\n",
              "    <path d=\"M18.56 5.44l.94 2.06.94-2.06 2.06-.94-2.06-.94-.94-2.06-.94 2.06-2.06.94zm-11 1L8.5 8.5l.94-2.06 2.06-.94-2.06-.94L8.5 2.5l-.94 2.06-2.06.94zm10 10l.94 2.06.94-2.06 2.06-.94-2.06-.94-.94-2.06-.94 2.06-2.06.94z\"/><path d=\"M17.41 7.96l-1.37-1.37c-.4-.4-.92-.59-1.43-.59-.52 0-1.04.2-1.43.59L10.3 9.45l-7.72 7.72c-.78.78-.78 2.05 0 2.83L4 21.41c.39.39.9.59 1.41.59.51 0 1.02-.2 1.41-.59l7.78-7.78 2.81-2.81c.8-.78.8-2.07 0-2.86zM5.41 20L4 18.59l7.72-7.72 1.47 1.35L5.41 20z\"/>\n",
              "  </svg>\n",
              "      </button>\n",
              "      \n",
              "  <style>\n",
              "    .colab-df-container {\n",
              "      display:flex;\n",
              "      flex-wrap:wrap;\n",
              "      gap: 12px;\n",
              "    }\n",
              "\n",
              "    .colab-df-convert {\n",
              "      background-color: #E8F0FE;\n",
              "      border: none;\n",
              "      border-radius: 50%;\n",
              "      cursor: pointer;\n",
              "      display: none;\n",
              "      fill: #1967D2;\n",
              "      height: 32px;\n",
              "      padding: 0 0 0 0;\n",
              "      width: 32px;\n",
              "    }\n",
              "\n",
              "    .colab-df-convert:hover {\n",
              "      background-color: #E2EBFA;\n",
              "      box-shadow: 0px 1px 2px rgba(60, 64, 67, 0.3), 0px 1px 3px 1px rgba(60, 64, 67, 0.15);\n",
              "      fill: #174EA6;\n",
              "    }\n",
              "\n",
              "    [theme=dark] .colab-df-convert {\n",
              "      background-color: #3B4455;\n",
              "      fill: #D2E3FC;\n",
              "    }\n",
              "\n",
              "    [theme=dark] .colab-df-convert:hover {\n",
              "      background-color: #434B5C;\n",
              "      box-shadow: 0px 1px 3px 1px rgba(0, 0, 0, 0.15);\n",
              "      filter: drop-shadow(0px 1px 2px rgba(0, 0, 0, 0.3));\n",
              "      fill: #FFFFFF;\n",
              "    }\n",
              "  </style>\n",
              "\n",
              "      <script>\n",
              "        const buttonEl =\n",
              "          document.querySelector('#df-7dd3848a-f546-4dae-8b07-d143097a57eb button.colab-df-convert');\n",
              "        buttonEl.style.display =\n",
              "          google.colab.kernel.accessAllowed ? 'block' : 'none';\n",
              "\n",
              "        async function convertToInteractive(key) {\n",
              "          const element = document.querySelector('#df-7dd3848a-f546-4dae-8b07-d143097a57eb');\n",
              "          const dataTable =\n",
              "            await google.colab.kernel.invokeFunction('convertToInteractive',\n",
              "                                                     [key], {});\n",
              "          if (!dataTable) return;\n",
              "\n",
              "          const docLinkHtml = 'Like what you see? Visit the ' +\n",
              "            '<a target=\"_blank\" href=https://colab.research.google.com/notebooks/data_table.ipynb>data table notebook</a>'\n",
              "            + ' to learn more about interactive tables.';\n",
              "          element.innerHTML = '';\n",
              "          dataTable['output_type'] = 'display_data';\n",
              "          await google.colab.output.renderOutput(dataTable, element);\n",
              "          const docLink = document.createElement('div');\n",
              "          docLink.innerHTML = docLinkHtml;\n",
              "          element.appendChild(docLink);\n",
              "        }\n",
              "      </script>\n",
              "    </div>\n",
              "  </div>\n",
              "  "
            ]
          },
          "metadata": {},
          "execution_count": 22
        }
      ]
    },
    {
      "cell_type": "markdown",
      "source": [
        "Необходимо удостовериться в имеющихся типах данных и привести типы данных к одному из понятных в случае, если встретим тип **object**"
      ],
      "metadata": {
        "id": "f38jTQOLLFXL"
      }
    },
    {
      "cell_type": "code",
      "source": [
        "dataframe.dtypes"
      ],
      "metadata": {
        "colab": {
          "base_uri": "https://localhost:8080/"
        },
        "id": "Os49ycYhLGEW",
        "outputId": "daa87f0e-d02d-4624-8c19-d901a442d25f"
      },
      "execution_count": null,
      "outputs": [
        {
          "output_type": "execute_result",
          "data": {
            "text/plain": [
              "Id               float64\n",
              "MSSubClass       float64\n",
              "MSZoning          object\n",
              "LotFrontage      float64\n",
              "LotArea          float64\n",
              "                  ...   \n",
              "MoSold           float64\n",
              "YrSold           float64\n",
              "SaleType          object\n",
              "SaleCondition     object\n",
              "SalePrice        float64\n",
              "Length: 81, dtype: object"
            ]
          },
          "metadata": {},
          "execution_count": 23
        }
      ]
    },
    {
      "cell_type": "code",
      "source": [
        "# Определим имена столбцов, тип данных которых object\n",
        "objects_names = dataframe.axes[1][dataframe.dtypes == object]\n",
        "\n",
        "# Приведем столбцы (переменные) на позициях к типу данных категорий\n",
        "dataframe[objects_names] = dataframe[objects_names].astype('category')\n",
        "\n",
        "dataframe.dtypes"
      ],
      "metadata": {
        "colab": {
          "base_uri": "https://localhost:8080/"
        },
        "id": "Xu6XJeGTk2HA",
        "outputId": "bb1bebd2-f871-4009-e2c0-14077a4f2b0c"
      },
      "execution_count": null,
      "outputs": [
        {
          "output_type": "execute_result",
          "data": {
            "text/plain": [
              "Id                float64\n",
              "MSSubClass        float64\n",
              "MSZoning         category\n",
              "LotFrontage       float64\n",
              "LotArea           float64\n",
              "                   ...   \n",
              "MoSold            float64\n",
              "YrSold            float64\n",
              "SaleType         category\n",
              "SaleCondition    category\n",
              "SalePrice         float64\n",
              "Length: 81, dtype: object"
            ]
          },
          "metadata": {},
          "execution_count": 24
        }
      ]
    },
    {
      "cell_type": "markdown",
      "source": [
        "Попробуем осмотреть таблицу описательных статистик с целью:\n",
        "\n",
        "1. Определить какие столбцы являются столбцами с числовыми данными\n",
        "2. Просмотреть описательные статистики на наличие аномалий в столбцах\n",
        "\n",
        "Находим пропуски значений в столбце **LotFrontage** и **MasVnrArea**. Необходимо также удостовериться в отсутствии пропусков в других столбцах более точными способами"
      ],
      "metadata": {
        "id": "lSHJdVioLl5G"
      }
    },
    {
      "cell_type": "markdown",
      "source": [
        "Заполнять можно средним по столбцу, минимумом, максимумом, интерполяцией или регрессией по другому столбцу."
      ],
      "metadata": {
        "id": "ZRRL6DhwK_k4"
      }
    },
    {
      "cell_type": "code",
      "source": [
        "dataframe.describe()"
      ],
      "metadata": {
        "colab": {
          "base_uri": "https://localhost:8080/",
          "height": 393
        },
        "id": "8JmaXsQ4JxAx",
        "outputId": "3d109a1c-14be-40f1-c3e2-3964af17ad98"
      },
      "execution_count": null,
      "outputs": [
        {
          "output_type": "execute_result",
          "data": {
            "text/plain": [
              "                Id   MSSubClass  LotFrontage        LotArea  OverallQual  \\\n",
              "count  1460.000000  1460.000000  1201.000000    1460.000000  1460.000000   \n",
              "mean    730.500000    56.897260    70.049958   10516.828082     6.099315   \n",
              "std     421.610009    42.300571    24.284752    9981.264932     1.382997   \n",
              "min       1.000000    20.000000    21.000000    1300.000000     1.000000   \n",
              "25%     365.750000    20.000000    59.000000    7553.500000     5.000000   \n",
              "50%     730.500000    50.000000    69.000000    9478.500000     6.000000   \n",
              "75%    1095.250000    70.000000    80.000000   11601.500000     7.000000   \n",
              "max    1460.000000   190.000000   313.000000  215245.000000    10.000000   \n",
              "\n",
              "       OverallCond    YearBuilt  YearRemodAdd   MasVnrArea   BsmtFinSF1  ...  \\\n",
              "count  1460.000000  1460.000000   1460.000000  1452.000000  1460.000000  ...   \n",
              "mean      5.575342  1971.267808   1984.865753   103.685262   443.639726  ...   \n",
              "std       1.112799    30.202904     20.645407   181.066207   456.098091  ...   \n",
              "min       1.000000  1872.000000   1950.000000     0.000000     0.000000  ...   \n",
              "25%       5.000000  1954.000000   1967.000000     0.000000     0.000000  ...   \n",
              "50%       5.000000  1973.000000   1994.000000     0.000000   383.500000  ...   \n",
              "75%       6.000000  2000.000000   2004.000000   166.000000   712.250000  ...   \n",
              "max       9.000000  2010.000000   2010.000000  1600.000000  5644.000000  ...   \n",
              "\n",
              "        WoodDeckSF  OpenPorchSF  EnclosedPorch    3SsnPorch  ScreenPorch  \\\n",
              "count  1460.000000  1460.000000    1460.000000  1460.000000  1460.000000   \n",
              "mean     94.244521    46.660274      21.954110     3.409589    15.060959   \n",
              "std     125.338794    66.256028      61.119149    29.317331    55.757415   \n",
              "min       0.000000     0.000000       0.000000     0.000000     0.000000   \n",
              "25%       0.000000     0.000000       0.000000     0.000000     0.000000   \n",
              "50%       0.000000    25.000000       0.000000     0.000000     0.000000   \n",
              "75%     168.000000    68.000000       0.000000     0.000000     0.000000   \n",
              "max     857.000000   547.000000     552.000000   508.000000   480.000000   \n",
              "\n",
              "          PoolArea       MiscVal       MoSold       YrSold      SalePrice  \n",
              "count  1460.000000   1460.000000  1460.000000  1460.000000    1460.000000  \n",
              "mean      2.758904     43.489041     6.321918  2007.815753  180921.195890  \n",
              "std      40.177307    496.123024     2.703626     1.328095   79442.502883  \n",
              "min       0.000000      0.000000     1.000000  2006.000000   34900.000000  \n",
              "25%       0.000000      0.000000     5.000000  2007.000000  129975.000000  \n",
              "50%       0.000000      0.000000     6.000000  2008.000000  163000.000000  \n",
              "75%       0.000000      0.000000     8.000000  2009.000000  214000.000000  \n",
              "max     738.000000  15500.000000    12.000000  2010.000000  755000.000000  \n",
              "\n",
              "[8 rows x 38 columns]"
            ],
            "text/html": [
              "\n",
              "  <div id=\"df-b66f7fb8-b6b9-4090-8b15-ac42c7e31f3f\">\n",
              "    <div class=\"colab-df-container\">\n",
              "      <div>\n",
              "<style scoped>\n",
              "    .dataframe tbody tr th:only-of-type {\n",
              "        vertical-align: middle;\n",
              "    }\n",
              "\n",
              "    .dataframe tbody tr th {\n",
              "        vertical-align: top;\n",
              "    }\n",
              "\n",
              "    .dataframe thead th {\n",
              "        text-align: right;\n",
              "    }\n",
              "</style>\n",
              "<table border=\"1\" class=\"dataframe\">\n",
              "  <thead>\n",
              "    <tr style=\"text-align: right;\">\n",
              "      <th></th>\n",
              "      <th>Id</th>\n",
              "      <th>MSSubClass</th>\n",
              "      <th>LotFrontage</th>\n",
              "      <th>LotArea</th>\n",
              "      <th>OverallQual</th>\n",
              "      <th>OverallCond</th>\n",
              "      <th>YearBuilt</th>\n",
              "      <th>YearRemodAdd</th>\n",
              "      <th>MasVnrArea</th>\n",
              "      <th>BsmtFinSF1</th>\n",
              "      <th>...</th>\n",
              "      <th>WoodDeckSF</th>\n",
              "      <th>OpenPorchSF</th>\n",
              "      <th>EnclosedPorch</th>\n",
              "      <th>3SsnPorch</th>\n",
              "      <th>ScreenPorch</th>\n",
              "      <th>PoolArea</th>\n",
              "      <th>MiscVal</th>\n",
              "      <th>MoSold</th>\n",
              "      <th>YrSold</th>\n",
              "      <th>SalePrice</th>\n",
              "    </tr>\n",
              "  </thead>\n",
              "  <tbody>\n",
              "    <tr>\n",
              "      <th>count</th>\n",
              "      <td>1460.000000</td>\n",
              "      <td>1460.000000</td>\n",
              "      <td>1201.000000</td>\n",
              "      <td>1460.000000</td>\n",
              "      <td>1460.000000</td>\n",
              "      <td>1460.000000</td>\n",
              "      <td>1460.000000</td>\n",
              "      <td>1460.000000</td>\n",
              "      <td>1452.000000</td>\n",
              "      <td>1460.000000</td>\n",
              "      <td>...</td>\n",
              "      <td>1460.000000</td>\n",
              "      <td>1460.000000</td>\n",
              "      <td>1460.000000</td>\n",
              "      <td>1460.000000</td>\n",
              "      <td>1460.000000</td>\n",
              "      <td>1460.000000</td>\n",
              "      <td>1460.000000</td>\n",
              "      <td>1460.000000</td>\n",
              "      <td>1460.000000</td>\n",
              "      <td>1460.000000</td>\n",
              "    </tr>\n",
              "    <tr>\n",
              "      <th>mean</th>\n",
              "      <td>730.500000</td>\n",
              "      <td>56.897260</td>\n",
              "      <td>70.049958</td>\n",
              "      <td>10516.828082</td>\n",
              "      <td>6.099315</td>\n",
              "      <td>5.575342</td>\n",
              "      <td>1971.267808</td>\n",
              "      <td>1984.865753</td>\n",
              "      <td>103.685262</td>\n",
              "      <td>443.639726</td>\n",
              "      <td>...</td>\n",
              "      <td>94.244521</td>\n",
              "      <td>46.660274</td>\n",
              "      <td>21.954110</td>\n",
              "      <td>3.409589</td>\n",
              "      <td>15.060959</td>\n",
              "      <td>2.758904</td>\n",
              "      <td>43.489041</td>\n",
              "      <td>6.321918</td>\n",
              "      <td>2007.815753</td>\n",
              "      <td>180921.195890</td>\n",
              "    </tr>\n",
              "    <tr>\n",
              "      <th>std</th>\n",
              "      <td>421.610009</td>\n",
              "      <td>42.300571</td>\n",
              "      <td>24.284752</td>\n",
              "      <td>9981.264932</td>\n",
              "      <td>1.382997</td>\n",
              "      <td>1.112799</td>\n",
              "      <td>30.202904</td>\n",
              "      <td>20.645407</td>\n",
              "      <td>181.066207</td>\n",
              "      <td>456.098091</td>\n",
              "      <td>...</td>\n",
              "      <td>125.338794</td>\n",
              "      <td>66.256028</td>\n",
              "      <td>61.119149</td>\n",
              "      <td>29.317331</td>\n",
              "      <td>55.757415</td>\n",
              "      <td>40.177307</td>\n",
              "      <td>496.123024</td>\n",
              "      <td>2.703626</td>\n",
              "      <td>1.328095</td>\n",
              "      <td>79442.502883</td>\n",
              "    </tr>\n",
              "    <tr>\n",
              "      <th>min</th>\n",
              "      <td>1.000000</td>\n",
              "      <td>20.000000</td>\n",
              "      <td>21.000000</td>\n",
              "      <td>1300.000000</td>\n",
              "      <td>1.000000</td>\n",
              "      <td>1.000000</td>\n",
              "      <td>1872.000000</td>\n",
              "      <td>1950.000000</td>\n",
              "      <td>0.000000</td>\n",
              "      <td>0.000000</td>\n",
              "      <td>...</td>\n",
              "      <td>0.000000</td>\n",
              "      <td>0.000000</td>\n",
              "      <td>0.000000</td>\n",
              "      <td>0.000000</td>\n",
              "      <td>0.000000</td>\n",
              "      <td>0.000000</td>\n",
              "      <td>0.000000</td>\n",
              "      <td>1.000000</td>\n",
              "      <td>2006.000000</td>\n",
              "      <td>34900.000000</td>\n",
              "    </tr>\n",
              "    <tr>\n",
              "      <th>25%</th>\n",
              "      <td>365.750000</td>\n",
              "      <td>20.000000</td>\n",
              "      <td>59.000000</td>\n",
              "      <td>7553.500000</td>\n",
              "      <td>5.000000</td>\n",
              "      <td>5.000000</td>\n",
              "      <td>1954.000000</td>\n",
              "      <td>1967.000000</td>\n",
              "      <td>0.000000</td>\n",
              "      <td>0.000000</td>\n",
              "      <td>...</td>\n",
              "      <td>0.000000</td>\n",
              "      <td>0.000000</td>\n",
              "      <td>0.000000</td>\n",
              "      <td>0.000000</td>\n",
              "      <td>0.000000</td>\n",
              "      <td>0.000000</td>\n",
              "      <td>0.000000</td>\n",
              "      <td>5.000000</td>\n",
              "      <td>2007.000000</td>\n",
              "      <td>129975.000000</td>\n",
              "    </tr>\n",
              "    <tr>\n",
              "      <th>50%</th>\n",
              "      <td>730.500000</td>\n",
              "      <td>50.000000</td>\n",
              "      <td>69.000000</td>\n",
              "      <td>9478.500000</td>\n",
              "      <td>6.000000</td>\n",
              "      <td>5.000000</td>\n",
              "      <td>1973.000000</td>\n",
              "      <td>1994.000000</td>\n",
              "      <td>0.000000</td>\n",
              "      <td>383.500000</td>\n",
              "      <td>...</td>\n",
              "      <td>0.000000</td>\n",
              "      <td>25.000000</td>\n",
              "      <td>0.000000</td>\n",
              "      <td>0.000000</td>\n",
              "      <td>0.000000</td>\n",
              "      <td>0.000000</td>\n",
              "      <td>0.000000</td>\n",
              "      <td>6.000000</td>\n",
              "      <td>2008.000000</td>\n",
              "      <td>163000.000000</td>\n",
              "    </tr>\n",
              "    <tr>\n",
              "      <th>75%</th>\n",
              "      <td>1095.250000</td>\n",
              "      <td>70.000000</td>\n",
              "      <td>80.000000</td>\n",
              "      <td>11601.500000</td>\n",
              "      <td>7.000000</td>\n",
              "      <td>6.000000</td>\n",
              "      <td>2000.000000</td>\n",
              "      <td>2004.000000</td>\n",
              "      <td>166.000000</td>\n",
              "      <td>712.250000</td>\n",
              "      <td>...</td>\n",
              "      <td>168.000000</td>\n",
              "      <td>68.000000</td>\n",
              "      <td>0.000000</td>\n",
              "      <td>0.000000</td>\n",
              "      <td>0.000000</td>\n",
              "      <td>0.000000</td>\n",
              "      <td>0.000000</td>\n",
              "      <td>8.000000</td>\n",
              "      <td>2009.000000</td>\n",
              "      <td>214000.000000</td>\n",
              "    </tr>\n",
              "    <tr>\n",
              "      <th>max</th>\n",
              "      <td>1460.000000</td>\n",
              "      <td>190.000000</td>\n",
              "      <td>313.000000</td>\n",
              "      <td>215245.000000</td>\n",
              "      <td>10.000000</td>\n",
              "      <td>9.000000</td>\n",
              "      <td>2010.000000</td>\n",
              "      <td>2010.000000</td>\n",
              "      <td>1600.000000</td>\n",
              "      <td>5644.000000</td>\n",
              "      <td>...</td>\n",
              "      <td>857.000000</td>\n",
              "      <td>547.000000</td>\n",
              "      <td>552.000000</td>\n",
              "      <td>508.000000</td>\n",
              "      <td>480.000000</td>\n",
              "      <td>738.000000</td>\n",
              "      <td>15500.000000</td>\n",
              "      <td>12.000000</td>\n",
              "      <td>2010.000000</td>\n",
              "      <td>755000.000000</td>\n",
              "    </tr>\n",
              "  </tbody>\n",
              "</table>\n",
              "<p>8 rows × 38 columns</p>\n",
              "</div>\n",
              "      <button class=\"colab-df-convert\" onclick=\"convertToInteractive('df-b66f7fb8-b6b9-4090-8b15-ac42c7e31f3f')\"\n",
              "              title=\"Convert this dataframe to an interactive table.\"\n",
              "              style=\"display:none;\">\n",
              "        \n",
              "  <svg xmlns=\"http://www.w3.org/2000/svg\" height=\"24px\"viewBox=\"0 0 24 24\"\n",
              "       width=\"24px\">\n",
              "    <path d=\"M0 0h24v24H0V0z\" fill=\"none\"/>\n",
              "    <path d=\"M18.56 5.44l.94 2.06.94-2.06 2.06-.94-2.06-.94-.94-2.06-.94 2.06-2.06.94zm-11 1L8.5 8.5l.94-2.06 2.06-.94-2.06-.94L8.5 2.5l-.94 2.06-2.06.94zm10 10l.94 2.06.94-2.06 2.06-.94-2.06-.94-.94-2.06-.94 2.06-2.06.94z\"/><path d=\"M17.41 7.96l-1.37-1.37c-.4-.4-.92-.59-1.43-.59-.52 0-1.04.2-1.43.59L10.3 9.45l-7.72 7.72c-.78.78-.78 2.05 0 2.83L4 21.41c.39.39.9.59 1.41.59.51 0 1.02-.2 1.41-.59l7.78-7.78 2.81-2.81c.8-.78.8-2.07 0-2.86zM5.41 20L4 18.59l7.72-7.72 1.47 1.35L5.41 20z\"/>\n",
              "  </svg>\n",
              "      </button>\n",
              "      \n",
              "  <style>\n",
              "    .colab-df-container {\n",
              "      display:flex;\n",
              "      flex-wrap:wrap;\n",
              "      gap: 12px;\n",
              "    }\n",
              "\n",
              "    .colab-df-convert {\n",
              "      background-color: #E8F0FE;\n",
              "      border: none;\n",
              "      border-radius: 50%;\n",
              "      cursor: pointer;\n",
              "      display: none;\n",
              "      fill: #1967D2;\n",
              "      height: 32px;\n",
              "      padding: 0 0 0 0;\n",
              "      width: 32px;\n",
              "    }\n",
              "\n",
              "    .colab-df-convert:hover {\n",
              "      background-color: #E2EBFA;\n",
              "      box-shadow: 0px 1px 2px rgba(60, 64, 67, 0.3), 0px 1px 3px 1px rgba(60, 64, 67, 0.15);\n",
              "      fill: #174EA6;\n",
              "    }\n",
              "\n",
              "    [theme=dark] .colab-df-convert {\n",
              "      background-color: #3B4455;\n",
              "      fill: #D2E3FC;\n",
              "    }\n",
              "\n",
              "    [theme=dark] .colab-df-convert:hover {\n",
              "      background-color: #434B5C;\n",
              "      box-shadow: 0px 1px 3px 1px rgba(0, 0, 0, 0.15);\n",
              "      filter: drop-shadow(0px 1px 2px rgba(0, 0, 0, 0.3));\n",
              "      fill: #FFFFFF;\n",
              "    }\n",
              "  </style>\n",
              "\n",
              "      <script>\n",
              "        const buttonEl =\n",
              "          document.querySelector('#df-b66f7fb8-b6b9-4090-8b15-ac42c7e31f3f button.colab-df-convert');\n",
              "        buttonEl.style.display =\n",
              "          google.colab.kernel.accessAllowed ? 'block' : 'none';\n",
              "\n",
              "        async function convertToInteractive(key) {\n",
              "          const element = document.querySelector('#df-b66f7fb8-b6b9-4090-8b15-ac42c7e31f3f');\n",
              "          const dataTable =\n",
              "            await google.colab.kernel.invokeFunction('convertToInteractive',\n",
              "                                                     [key], {});\n",
              "          if (!dataTable) return;\n",
              "\n",
              "          const docLinkHtml = 'Like what you see? Visit the ' +\n",
              "            '<a target=\"_blank\" href=https://colab.research.google.com/notebooks/data_table.ipynb>data table notebook</a>'\n",
              "            + ' to learn more about interactive tables.';\n",
              "          element.innerHTML = '';\n",
              "          dataTable['output_type'] = 'display_data';\n",
              "          await google.colab.output.renderOutput(dataTable, element);\n",
              "          const docLink = document.createElement('div');\n",
              "          docLink.innerHTML = docLinkHtml;\n",
              "          element.appendChild(docLink);\n",
              "        }\n",
              "      </script>\n",
              "    </div>\n",
              "  </div>\n",
              "  "
            ]
          },
          "metadata": {},
          "execution_count": 25
        }
      ]
    },
    {
      "cell_type": "markdown",
      "source": [
        "Нехитрым способом приведения результата к числовому массиву можно посмотреть чему равно количество пропущенных значений для каждого столбца таблицы данных по порядку"
      ],
      "metadata": {
        "id": "mf_910V4K7O8"
      }
    },
    {
      "cell_type": "code",
      "source": [
        "dataframe.isna()"
      ],
      "metadata": {
        "colab": {
          "base_uri": "https://localhost:8080/",
          "height": 487
        },
        "id": "u9qBuwqjOSqC",
        "outputId": "f1d2c418-684a-4cd5-d13d-464a500c03fc"
      },
      "execution_count": null,
      "outputs": [
        {
          "output_type": "execute_result",
          "data": {
            "text/plain": [
              "         Id  MSSubClass  MSZoning  LotFrontage  LotArea  Street  Alley  \\\n",
              "0     False       False     False        False    False   False   True   \n",
              "1     False       False     False        False    False   False   True   \n",
              "2     False       False     False        False    False   False   True   \n",
              "3     False       False     False        False    False   False   True   \n",
              "4     False       False     False        False    False   False   True   \n",
              "...     ...         ...       ...          ...      ...     ...    ...   \n",
              "1455  False       False     False        False    False   False   True   \n",
              "1456  False       False     False        False    False   False   True   \n",
              "1457  False       False     False        False    False   False   True   \n",
              "1458  False       False     False        False    False   False   True   \n",
              "1459  False       False     False        False    False   False   True   \n",
              "\n",
              "      LotShape  LandContour  Utilities  ...  PoolArea  PoolQC  Fence  \\\n",
              "0        False        False      False  ...     False    True   True   \n",
              "1        False        False      False  ...     False    True   True   \n",
              "2        False        False      False  ...     False    True   True   \n",
              "3        False        False      False  ...     False    True   True   \n",
              "4        False        False      False  ...     False    True   True   \n",
              "...        ...          ...        ...  ...       ...     ...    ...   \n",
              "1455     False        False      False  ...     False    True   True   \n",
              "1456     False        False      False  ...     False    True  False   \n",
              "1457     False        False      False  ...     False    True  False   \n",
              "1458     False        False      False  ...     False    True   True   \n",
              "1459     False        False      False  ...     False    True   True   \n",
              "\n",
              "      MiscFeature  MiscVal  MoSold  YrSold  SaleType  SaleCondition  SalePrice  \n",
              "0            True    False   False   False     False          False      False  \n",
              "1            True    False   False   False     False          False      False  \n",
              "2            True    False   False   False     False          False      False  \n",
              "3            True    False   False   False     False          False      False  \n",
              "4            True    False   False   False     False          False      False  \n",
              "...           ...      ...     ...     ...       ...            ...        ...  \n",
              "1455         True    False   False   False     False          False      False  \n",
              "1456         True    False   False   False     False          False      False  \n",
              "1457        False    False   False   False     False          False      False  \n",
              "1458         True    False   False   False     False          False      False  \n",
              "1459         True    False   False   False     False          False      False  \n",
              "\n",
              "[1460 rows x 81 columns]"
            ],
            "text/html": [
              "\n",
              "  <div id=\"df-a7046fda-a367-40b1-a71c-f848d0fdee72\">\n",
              "    <div class=\"colab-df-container\">\n",
              "      <div>\n",
              "<style scoped>\n",
              "    .dataframe tbody tr th:only-of-type {\n",
              "        vertical-align: middle;\n",
              "    }\n",
              "\n",
              "    .dataframe tbody tr th {\n",
              "        vertical-align: top;\n",
              "    }\n",
              "\n",
              "    .dataframe thead th {\n",
              "        text-align: right;\n",
              "    }\n",
              "</style>\n",
              "<table border=\"1\" class=\"dataframe\">\n",
              "  <thead>\n",
              "    <tr style=\"text-align: right;\">\n",
              "      <th></th>\n",
              "      <th>Id</th>\n",
              "      <th>MSSubClass</th>\n",
              "      <th>MSZoning</th>\n",
              "      <th>LotFrontage</th>\n",
              "      <th>LotArea</th>\n",
              "      <th>Street</th>\n",
              "      <th>Alley</th>\n",
              "      <th>LotShape</th>\n",
              "      <th>LandContour</th>\n",
              "      <th>Utilities</th>\n",
              "      <th>...</th>\n",
              "      <th>PoolArea</th>\n",
              "      <th>PoolQC</th>\n",
              "      <th>Fence</th>\n",
              "      <th>MiscFeature</th>\n",
              "      <th>MiscVal</th>\n",
              "      <th>MoSold</th>\n",
              "      <th>YrSold</th>\n",
              "      <th>SaleType</th>\n",
              "      <th>SaleCondition</th>\n",
              "      <th>SalePrice</th>\n",
              "    </tr>\n",
              "  </thead>\n",
              "  <tbody>\n",
              "    <tr>\n",
              "      <th>0</th>\n",
              "      <td>False</td>\n",
              "      <td>False</td>\n",
              "      <td>False</td>\n",
              "      <td>False</td>\n",
              "      <td>False</td>\n",
              "      <td>False</td>\n",
              "      <td>True</td>\n",
              "      <td>False</td>\n",
              "      <td>False</td>\n",
              "      <td>False</td>\n",
              "      <td>...</td>\n",
              "      <td>False</td>\n",
              "      <td>True</td>\n",
              "      <td>True</td>\n",
              "      <td>True</td>\n",
              "      <td>False</td>\n",
              "      <td>False</td>\n",
              "      <td>False</td>\n",
              "      <td>False</td>\n",
              "      <td>False</td>\n",
              "      <td>False</td>\n",
              "    </tr>\n",
              "    <tr>\n",
              "      <th>1</th>\n",
              "      <td>False</td>\n",
              "      <td>False</td>\n",
              "      <td>False</td>\n",
              "      <td>False</td>\n",
              "      <td>False</td>\n",
              "      <td>False</td>\n",
              "      <td>True</td>\n",
              "      <td>False</td>\n",
              "      <td>False</td>\n",
              "      <td>False</td>\n",
              "      <td>...</td>\n",
              "      <td>False</td>\n",
              "      <td>True</td>\n",
              "      <td>True</td>\n",
              "      <td>True</td>\n",
              "      <td>False</td>\n",
              "      <td>False</td>\n",
              "      <td>False</td>\n",
              "      <td>False</td>\n",
              "      <td>False</td>\n",
              "      <td>False</td>\n",
              "    </tr>\n",
              "    <tr>\n",
              "      <th>2</th>\n",
              "      <td>False</td>\n",
              "      <td>False</td>\n",
              "      <td>False</td>\n",
              "      <td>False</td>\n",
              "      <td>False</td>\n",
              "      <td>False</td>\n",
              "      <td>True</td>\n",
              "      <td>False</td>\n",
              "      <td>False</td>\n",
              "      <td>False</td>\n",
              "      <td>...</td>\n",
              "      <td>False</td>\n",
              "      <td>True</td>\n",
              "      <td>True</td>\n",
              "      <td>True</td>\n",
              "      <td>False</td>\n",
              "      <td>False</td>\n",
              "      <td>False</td>\n",
              "      <td>False</td>\n",
              "      <td>False</td>\n",
              "      <td>False</td>\n",
              "    </tr>\n",
              "    <tr>\n",
              "      <th>3</th>\n",
              "      <td>False</td>\n",
              "      <td>False</td>\n",
              "      <td>False</td>\n",
              "      <td>False</td>\n",
              "      <td>False</td>\n",
              "      <td>False</td>\n",
              "      <td>True</td>\n",
              "      <td>False</td>\n",
              "      <td>False</td>\n",
              "      <td>False</td>\n",
              "      <td>...</td>\n",
              "      <td>False</td>\n",
              "      <td>True</td>\n",
              "      <td>True</td>\n",
              "      <td>True</td>\n",
              "      <td>False</td>\n",
              "      <td>False</td>\n",
              "      <td>False</td>\n",
              "      <td>False</td>\n",
              "      <td>False</td>\n",
              "      <td>False</td>\n",
              "    </tr>\n",
              "    <tr>\n",
              "      <th>4</th>\n",
              "      <td>False</td>\n",
              "      <td>False</td>\n",
              "      <td>False</td>\n",
              "      <td>False</td>\n",
              "      <td>False</td>\n",
              "      <td>False</td>\n",
              "      <td>True</td>\n",
              "      <td>False</td>\n",
              "      <td>False</td>\n",
              "      <td>False</td>\n",
              "      <td>...</td>\n",
              "      <td>False</td>\n",
              "      <td>True</td>\n",
              "      <td>True</td>\n",
              "      <td>True</td>\n",
              "      <td>False</td>\n",
              "      <td>False</td>\n",
              "      <td>False</td>\n",
              "      <td>False</td>\n",
              "      <td>False</td>\n",
              "      <td>False</td>\n",
              "    </tr>\n",
              "    <tr>\n",
              "      <th>...</th>\n",
              "      <td>...</td>\n",
              "      <td>...</td>\n",
              "      <td>...</td>\n",
              "      <td>...</td>\n",
              "      <td>...</td>\n",
              "      <td>...</td>\n",
              "      <td>...</td>\n",
              "      <td>...</td>\n",
              "      <td>...</td>\n",
              "      <td>...</td>\n",
              "      <td>...</td>\n",
              "      <td>...</td>\n",
              "      <td>...</td>\n",
              "      <td>...</td>\n",
              "      <td>...</td>\n",
              "      <td>...</td>\n",
              "      <td>...</td>\n",
              "      <td>...</td>\n",
              "      <td>...</td>\n",
              "      <td>...</td>\n",
              "      <td>...</td>\n",
              "    </tr>\n",
              "    <tr>\n",
              "      <th>1455</th>\n",
              "      <td>False</td>\n",
              "      <td>False</td>\n",
              "      <td>False</td>\n",
              "      <td>False</td>\n",
              "      <td>False</td>\n",
              "      <td>False</td>\n",
              "      <td>True</td>\n",
              "      <td>False</td>\n",
              "      <td>False</td>\n",
              "      <td>False</td>\n",
              "      <td>...</td>\n",
              "      <td>False</td>\n",
              "      <td>True</td>\n",
              "      <td>True</td>\n",
              "      <td>True</td>\n",
              "      <td>False</td>\n",
              "      <td>False</td>\n",
              "      <td>False</td>\n",
              "      <td>False</td>\n",
              "      <td>False</td>\n",
              "      <td>False</td>\n",
              "    </tr>\n",
              "    <tr>\n",
              "      <th>1456</th>\n",
              "      <td>False</td>\n",
              "      <td>False</td>\n",
              "      <td>False</td>\n",
              "      <td>False</td>\n",
              "      <td>False</td>\n",
              "      <td>False</td>\n",
              "      <td>True</td>\n",
              "      <td>False</td>\n",
              "      <td>False</td>\n",
              "      <td>False</td>\n",
              "      <td>...</td>\n",
              "      <td>False</td>\n",
              "      <td>True</td>\n",
              "      <td>False</td>\n",
              "      <td>True</td>\n",
              "      <td>False</td>\n",
              "      <td>False</td>\n",
              "      <td>False</td>\n",
              "      <td>False</td>\n",
              "      <td>False</td>\n",
              "      <td>False</td>\n",
              "    </tr>\n",
              "    <tr>\n",
              "      <th>1457</th>\n",
              "      <td>False</td>\n",
              "      <td>False</td>\n",
              "      <td>False</td>\n",
              "      <td>False</td>\n",
              "      <td>False</td>\n",
              "      <td>False</td>\n",
              "      <td>True</td>\n",
              "      <td>False</td>\n",
              "      <td>False</td>\n",
              "      <td>False</td>\n",
              "      <td>...</td>\n",
              "      <td>False</td>\n",
              "      <td>True</td>\n",
              "      <td>False</td>\n",
              "      <td>False</td>\n",
              "      <td>False</td>\n",
              "      <td>False</td>\n",
              "      <td>False</td>\n",
              "      <td>False</td>\n",
              "      <td>False</td>\n",
              "      <td>False</td>\n",
              "    </tr>\n",
              "    <tr>\n",
              "      <th>1458</th>\n",
              "      <td>False</td>\n",
              "      <td>False</td>\n",
              "      <td>False</td>\n",
              "      <td>False</td>\n",
              "      <td>False</td>\n",
              "      <td>False</td>\n",
              "      <td>True</td>\n",
              "      <td>False</td>\n",
              "      <td>False</td>\n",
              "      <td>False</td>\n",
              "      <td>...</td>\n",
              "      <td>False</td>\n",
              "      <td>True</td>\n",
              "      <td>True</td>\n",
              "      <td>True</td>\n",
              "      <td>False</td>\n",
              "      <td>False</td>\n",
              "      <td>False</td>\n",
              "      <td>False</td>\n",
              "      <td>False</td>\n",
              "      <td>False</td>\n",
              "    </tr>\n",
              "    <tr>\n",
              "      <th>1459</th>\n",
              "      <td>False</td>\n",
              "      <td>False</td>\n",
              "      <td>False</td>\n",
              "      <td>False</td>\n",
              "      <td>False</td>\n",
              "      <td>False</td>\n",
              "      <td>True</td>\n",
              "      <td>False</td>\n",
              "      <td>False</td>\n",
              "      <td>False</td>\n",
              "      <td>...</td>\n",
              "      <td>False</td>\n",
              "      <td>True</td>\n",
              "      <td>True</td>\n",
              "      <td>True</td>\n",
              "      <td>False</td>\n",
              "      <td>False</td>\n",
              "      <td>False</td>\n",
              "      <td>False</td>\n",
              "      <td>False</td>\n",
              "      <td>False</td>\n",
              "    </tr>\n",
              "  </tbody>\n",
              "</table>\n",
              "<p>1460 rows × 81 columns</p>\n",
              "</div>\n",
              "      <button class=\"colab-df-convert\" onclick=\"convertToInteractive('df-a7046fda-a367-40b1-a71c-f848d0fdee72')\"\n",
              "              title=\"Convert this dataframe to an interactive table.\"\n",
              "              style=\"display:none;\">\n",
              "        \n",
              "  <svg xmlns=\"http://www.w3.org/2000/svg\" height=\"24px\"viewBox=\"0 0 24 24\"\n",
              "       width=\"24px\">\n",
              "    <path d=\"M0 0h24v24H0V0z\" fill=\"none\"/>\n",
              "    <path d=\"M18.56 5.44l.94 2.06.94-2.06 2.06-.94-2.06-.94-.94-2.06-.94 2.06-2.06.94zm-11 1L8.5 8.5l.94-2.06 2.06-.94-2.06-.94L8.5 2.5l-.94 2.06-2.06.94zm10 10l.94 2.06.94-2.06 2.06-.94-2.06-.94-.94-2.06-.94 2.06-2.06.94z\"/><path d=\"M17.41 7.96l-1.37-1.37c-.4-.4-.92-.59-1.43-.59-.52 0-1.04.2-1.43.59L10.3 9.45l-7.72 7.72c-.78.78-.78 2.05 0 2.83L4 21.41c.39.39.9.59 1.41.59.51 0 1.02-.2 1.41-.59l7.78-7.78 2.81-2.81c.8-.78.8-2.07 0-2.86zM5.41 20L4 18.59l7.72-7.72 1.47 1.35L5.41 20z\"/>\n",
              "  </svg>\n",
              "      </button>\n",
              "      \n",
              "  <style>\n",
              "    .colab-df-container {\n",
              "      display:flex;\n",
              "      flex-wrap:wrap;\n",
              "      gap: 12px;\n",
              "    }\n",
              "\n",
              "    .colab-df-convert {\n",
              "      background-color: #E8F0FE;\n",
              "      border: none;\n",
              "      border-radius: 50%;\n",
              "      cursor: pointer;\n",
              "      display: none;\n",
              "      fill: #1967D2;\n",
              "      height: 32px;\n",
              "      padding: 0 0 0 0;\n",
              "      width: 32px;\n",
              "    }\n",
              "\n",
              "    .colab-df-convert:hover {\n",
              "      background-color: #E2EBFA;\n",
              "      box-shadow: 0px 1px 2px rgba(60, 64, 67, 0.3), 0px 1px 3px 1px rgba(60, 64, 67, 0.15);\n",
              "      fill: #174EA6;\n",
              "    }\n",
              "\n",
              "    [theme=dark] .colab-df-convert {\n",
              "      background-color: #3B4455;\n",
              "      fill: #D2E3FC;\n",
              "    }\n",
              "\n",
              "    [theme=dark] .colab-df-convert:hover {\n",
              "      background-color: #434B5C;\n",
              "      box-shadow: 0px 1px 3px 1px rgba(0, 0, 0, 0.15);\n",
              "      filter: drop-shadow(0px 1px 2px rgba(0, 0, 0, 0.3));\n",
              "      fill: #FFFFFF;\n",
              "    }\n",
              "  </style>\n",
              "\n",
              "      <script>\n",
              "        const buttonEl =\n",
              "          document.querySelector('#df-a7046fda-a367-40b1-a71c-f848d0fdee72 button.colab-df-convert');\n",
              "        buttonEl.style.display =\n",
              "          google.colab.kernel.accessAllowed ? 'block' : 'none';\n",
              "\n",
              "        async function convertToInteractive(key) {\n",
              "          const element = document.querySelector('#df-a7046fda-a367-40b1-a71c-f848d0fdee72');\n",
              "          const dataTable =\n",
              "            await google.colab.kernel.invokeFunction('convertToInteractive',\n",
              "                                                     [key], {});\n",
              "          if (!dataTable) return;\n",
              "\n",
              "          const docLinkHtml = 'Like what you see? Visit the ' +\n",
              "            '<a target=\"_blank\" href=https://colab.research.google.com/notebooks/data_table.ipynb>data table notebook</a>'\n",
              "            + ' to learn more about interactive tables.';\n",
              "          element.innerHTML = '';\n",
              "          dataTable['output_type'] = 'display_data';\n",
              "          await google.colab.output.renderOutput(dataTable, element);\n",
              "          const docLink = document.createElement('div');\n",
              "          docLink.innerHTML = docLinkHtml;\n",
              "          element.appendChild(docLink);\n",
              "        }\n",
              "      </script>\n",
              "    </div>\n",
              "  </div>\n",
              "  "
            ]
          },
          "metadata": {},
          "execution_count": 26
        }
      ]
    },
    {
      "cell_type": "code",
      "source": [
        "# Пропуски значений в столбцах таблицы данных\n",
        "np.array(np.sum(dataframe.isna()))"
      ],
      "metadata": {
        "colab": {
          "base_uri": "https://localhost:8080/"
        },
        "id": "yL0as8xHfiQL",
        "outputId": "682f2afa-06f2-46f5-9af0-af1bdaf46c55"
      },
      "execution_count": null,
      "outputs": [
        {
          "output_type": "execute_result",
          "data": {
            "text/plain": [
              "array([   0,    0,    0,  259,    0,    0, 1369,    0,    0,    0,    0,\n",
              "          0,    0,    0,    0,    0,    0,    0,    0,    0,    0,    0,\n",
              "          0,    0,    0,    8,    8,    0,    0,    0,   37,   37,   38,\n",
              "         37,    0,   38,    0,    0,    0,    0,    0,    0,    1,    0,\n",
              "          0,    0,    0,    0,    0,    0,    0,    0,    0,    0,    0,\n",
              "          0,    0,  690,   81,   81,   81,    0,    0,   81,   81,    0,\n",
              "          0,    0,    0,    0,    0,    0, 1453, 1179, 1406,    0,    0,\n",
              "          0,    0,    0,    0])"
            ]
          },
          "metadata": {},
          "execution_count": 27
        }
      ]
    },
    {
      "cell_type": "code",
      "source": [
        "dataframe.isna().sum().head(6)"
      ],
      "metadata": {
        "colab": {
          "base_uri": "https://localhost:8080/"
        },
        "id": "0fqDvgX7Lddx",
        "outputId": "f3d4e390-bfc9-43f5-d641-0cf5b0c637bc"
      },
      "execution_count": null,
      "outputs": [
        {
          "output_type": "execute_result",
          "data": {
            "text/plain": [
              "Id               0\n",
              "MSSubClass       0\n",
              "MSZoning         0\n",
              "LotFrontage    259\n",
              "LotArea          0\n",
              "Street           0\n",
              "dtype: int64"
            ]
          },
          "metadata": {},
          "execution_count": 28
        }
      ]
    },
    {
      "cell_type": "markdown",
      "source": [
        "В первый раз для демонтрации возможностей модели регрессии мы воспользуемся только числовыми значениями столбцов, поэтому пока очищать пропущенные значения мы не будем\n"
      ],
      "metadata": {
        "id": "BqoXdzS8LWU4"
      }
    },
    {
      "cell_type": "code",
      "source": [
        "# Имена числовых переменных\n",
        "info_real_frame = dataframe.describe()\n",
        "info_real_frame.columns"
      ],
      "metadata": {
        "colab": {
          "base_uri": "https://localhost:8080/"
        },
        "id": "eJQZvvMsKDie",
        "outputId": "17bacc27-4c52-47d6-c4a6-ae1af499b6b7"
      },
      "execution_count": null,
      "outputs": [
        {
          "output_type": "execute_result",
          "data": {
            "text/plain": [
              "Index(['Id', 'MSSubClass', 'LotFrontage', 'LotArea', 'OverallQual',\n",
              "       'OverallCond', 'YearBuilt', 'YearRemodAdd', 'MasVnrArea', 'BsmtFinSF1',\n",
              "       'BsmtFinSF2', 'BsmtUnfSF', 'TotalBsmtSF', '1stFlrSF', '2ndFlrSF',\n",
              "       'LowQualFinSF', 'GrLivArea', 'BsmtFullBath', 'BsmtHalfBath', 'FullBath',\n",
              "       'HalfBath', 'BedroomAbvGr', 'KitchenAbvGr', 'TotRmsAbvGrd',\n",
              "       'Fireplaces', 'GarageYrBlt', 'GarageCars', 'GarageArea', 'WoodDeckSF',\n",
              "       'OpenPorchSF', 'EnclosedPorch', '3SsnPorch', 'ScreenPorch', 'PoolArea',\n",
              "       'MiscVal', 'MoSold', 'YrSold', 'SalePrice'],\n",
              "      dtype='object')"
            ]
          },
          "metadata": {},
          "execution_count": 29
        }
      ]
    },
    {
      "cell_type": "code",
      "source": [
        "data = dataframe[info_real_frame.columns[1:]]\n",
        "print(data.corr())"
      ],
      "metadata": {
        "colab": {
          "base_uri": "https://localhost:8080/"
        },
        "id": "iGC2ldBvKzr5",
        "outputId": "2b7499a7-5bcd-477b-81bf-86115e8efbc6"
      },
      "execution_count": null,
      "outputs": [
        {
          "output_type": "stream",
          "name": "stdout",
          "text": [
            "               MSSubClass  LotFrontage   LotArea  OverallQual  OverallCond  \\\n",
            "MSSubClass       1.000000    -0.386347 -0.139781     0.032628    -0.059316   \n",
            "LotFrontage     -0.386347     1.000000  0.426095     0.251646    -0.059213   \n",
            "LotArea         -0.139781     0.426095  1.000000     0.105806    -0.005636   \n",
            "OverallQual      0.032628     0.251646  0.105806     1.000000    -0.091932   \n",
            "OverallCond     -0.059316    -0.059213 -0.005636    -0.091932     1.000000   \n",
            "YearBuilt        0.027850     0.123349  0.014228     0.572323    -0.375983   \n",
            "YearRemodAdd     0.040581     0.088866  0.013788     0.550684     0.073741   \n",
            "MasVnrArea       0.022936     0.193458  0.104160     0.411876    -0.128101   \n",
            "BsmtFinSF1      -0.069836     0.233633  0.214103     0.239666    -0.046231   \n",
            "BsmtFinSF2      -0.065649     0.049900  0.111170    -0.059119     0.040229   \n",
            "BsmtUnfSF       -0.140759     0.132644 -0.002618     0.308159    -0.136841   \n",
            "TotalBsmtSF     -0.238518     0.392075  0.260833     0.537808    -0.171098   \n",
            "1stFlrSF        -0.251758     0.457181  0.299475     0.476224    -0.144203   \n",
            "2ndFlrSF         0.307886     0.080177  0.050986     0.295493     0.028942   \n",
            "LowQualFinSF     0.046474     0.038469  0.004779    -0.030429     0.025494   \n",
            "GrLivArea        0.074853     0.402797  0.263116     0.593007    -0.079686   \n",
            "BsmtFullBath     0.003491     0.100949  0.158155     0.111098    -0.054942   \n",
            "BsmtHalfBath    -0.002333    -0.007234  0.048046    -0.040150     0.117821   \n",
            "FullBath         0.131608     0.198769  0.126031     0.550600    -0.194149   \n",
            "HalfBath         0.177354     0.053532  0.014259     0.273458    -0.060769   \n",
            "BedroomAbvGr    -0.023438     0.263170  0.119690     0.101676     0.012980   \n",
            "KitchenAbvGr     0.281721    -0.006069 -0.017784    -0.183882    -0.087001   \n",
            "TotRmsAbvGrd     0.040380     0.352096  0.190015     0.427452    -0.057583   \n",
            "Fireplaces      -0.045569     0.266639  0.271364     0.396765    -0.023820   \n",
            "GarageYrBlt      0.085072     0.070250 -0.024947     0.547766    -0.324297   \n",
            "GarageCars      -0.040110     0.285691  0.154871     0.600671    -0.185758   \n",
            "GarageArea      -0.098672     0.344997  0.180403     0.562022    -0.151521   \n",
            "WoodDeckSF      -0.012579     0.088521  0.171698     0.238923    -0.003334   \n",
            "OpenPorchSF     -0.006100     0.151972  0.084774     0.308819    -0.032589   \n",
            "EnclosedPorch   -0.012037     0.010700 -0.018340    -0.113937     0.070356   \n",
            "3SsnPorch       -0.043825     0.070029  0.020423     0.030371     0.025504   \n",
            "ScreenPorch     -0.026030     0.041383  0.043160     0.064886     0.054811   \n",
            "PoolArea         0.008283     0.206167  0.077672     0.065166    -0.001985   \n",
            "MiscVal         -0.007683     0.003368  0.038068    -0.031406     0.068777   \n",
            "MoSold          -0.013585     0.011200  0.001205     0.070815    -0.003511   \n",
            "YrSold          -0.021407     0.007450 -0.014261    -0.027347     0.043950   \n",
            "SalePrice       -0.084284     0.351799  0.263843     0.790982    -0.077856   \n",
            "\n",
            "               YearBuilt  YearRemodAdd  MasVnrArea  BsmtFinSF1  BsmtFinSF2  \\\n",
            "MSSubClass      0.027850      0.040581    0.022936   -0.069836   -0.065649   \n",
            "LotFrontage     0.123349      0.088866    0.193458    0.233633    0.049900   \n",
            "LotArea         0.014228      0.013788    0.104160    0.214103    0.111170   \n",
            "OverallQual     0.572323      0.550684    0.411876    0.239666   -0.059119   \n",
            "OverallCond    -0.375983      0.073741   -0.128101   -0.046231    0.040229   \n",
            "YearBuilt       1.000000      0.592855    0.315707    0.249503   -0.049107   \n",
            "YearRemodAdd    0.592855      1.000000    0.179618    0.128451   -0.067759   \n",
            "MasVnrArea      0.315707      0.179618    1.000000    0.264736   -0.072319   \n",
            "BsmtFinSF1      0.249503      0.128451    0.264736    1.000000   -0.050117   \n",
            "BsmtFinSF2     -0.049107     -0.067759   -0.072319   -0.050117    1.000000   \n",
            "BsmtUnfSF       0.149040      0.181133    0.114442   -0.495251   -0.209294   \n",
            "TotalBsmtSF     0.391452      0.291066    0.363936    0.522396    0.104810   \n",
            "1stFlrSF        0.281986      0.240379    0.344501    0.445863    0.097117   \n",
            "2ndFlrSF        0.010308      0.140024    0.174561   -0.137079   -0.099260   \n",
            "LowQualFinSF   -0.183784     -0.062419   -0.069071   -0.064503    0.014807   \n",
            "GrLivArea       0.199010      0.287389    0.390857    0.208171   -0.009640   \n",
            "BsmtFullBath    0.187599      0.119470    0.085310    0.649212    0.158678   \n",
            "BsmtHalfBath   -0.038162     -0.012337    0.026673    0.067418    0.070948   \n",
            "FullBath        0.468271      0.439046    0.276833    0.058543   -0.076444   \n",
            "HalfBath        0.242656      0.183331    0.201444    0.004262   -0.032148   \n",
            "BedroomAbvGr   -0.070651     -0.040581    0.102821   -0.107355   -0.015728   \n",
            "KitchenAbvGr   -0.174800     -0.149598   -0.037610   -0.081007   -0.040751   \n",
            "TotRmsAbvGrd    0.095589      0.191740    0.280682    0.044316   -0.035227   \n",
            "Fireplaces      0.147716      0.112581    0.249070    0.260011    0.046921   \n",
            "GarageYrBlt     0.825667      0.642277    0.252691    0.153484   -0.088011   \n",
            "GarageCars      0.537850      0.420622    0.364204    0.224054   -0.038264   \n",
            "GarageArea      0.478954      0.371600    0.373066    0.296970   -0.018227   \n",
            "WoodDeckSF      0.224880      0.205726    0.159718    0.204306    0.067898   \n",
            "OpenPorchSF     0.188686      0.226298    0.125703    0.111761    0.003093   \n",
            "EnclosedPorch  -0.387268     -0.193919   -0.110204   -0.102303    0.036543   \n",
            "3SsnPorch       0.031355      0.045286    0.018796    0.026451   -0.029993   \n",
            "ScreenPorch    -0.050364     -0.038740    0.061466    0.062021    0.088871   \n",
            "PoolArea        0.004950      0.005829    0.011723    0.140491    0.041709   \n",
            "MiscVal        -0.034383     -0.010286   -0.029815    0.003571    0.004940   \n",
            "MoSold          0.012398      0.021490   -0.005965   -0.015727   -0.015211   \n",
            "YrSold         -0.013618      0.035743   -0.008201    0.014359    0.031706   \n",
            "SalePrice       0.522897      0.507101    0.477493    0.386420   -0.011378   \n",
            "\n",
            "               ...  WoodDeckSF  OpenPorchSF  EnclosedPorch  3SsnPorch  \\\n",
            "MSSubClass     ...   -0.012579    -0.006100      -0.012037  -0.043825   \n",
            "LotFrontage    ...    0.088521     0.151972       0.010700   0.070029   \n",
            "LotArea        ...    0.171698     0.084774      -0.018340   0.020423   \n",
            "OverallQual    ...    0.238923     0.308819      -0.113937   0.030371   \n",
            "OverallCond    ...   -0.003334    -0.032589       0.070356   0.025504   \n",
            "YearBuilt      ...    0.224880     0.188686      -0.387268   0.031355   \n",
            "YearRemodAdd   ...    0.205726     0.226298      -0.193919   0.045286   \n",
            "MasVnrArea     ...    0.159718     0.125703      -0.110204   0.018796   \n",
            "BsmtFinSF1     ...    0.204306     0.111761      -0.102303   0.026451   \n",
            "BsmtFinSF2     ...    0.067898     0.003093       0.036543  -0.029993   \n",
            "BsmtUnfSF      ...   -0.005316     0.129005      -0.002538   0.020764   \n",
            "TotalBsmtSF    ...    0.232019     0.247264      -0.095478   0.037384   \n",
            "1stFlrSF       ...    0.235459     0.211671      -0.065292   0.056104   \n",
            "2ndFlrSF       ...    0.092165     0.208026       0.061989  -0.024358   \n",
            "LowQualFinSF   ...   -0.025444     0.018251       0.061081  -0.004296   \n",
            "GrLivArea      ...    0.247433     0.330224       0.009113   0.020643   \n",
            "BsmtFullBath   ...    0.175315     0.067341      -0.049911  -0.000106   \n",
            "BsmtHalfBath   ...    0.040161    -0.025324      -0.008555   0.035114   \n",
            "FullBath       ...    0.187703     0.259977      -0.115093   0.035353   \n",
            "HalfBath       ...    0.108080     0.199740      -0.095317  -0.004972   \n",
            "BedroomAbvGr   ...    0.046854     0.093810       0.041570  -0.024478   \n",
            "KitchenAbvGr   ...   -0.090130    -0.070091       0.037312  -0.024600   \n",
            "TotRmsAbvGrd   ...    0.165984     0.234192       0.004151  -0.006683   \n",
            "Fireplaces     ...    0.200019     0.169405      -0.024822   0.011257   \n",
            "GarageYrBlt    ...    0.224577     0.228425      -0.297003   0.023544   \n",
            "GarageCars     ...    0.226342     0.213569      -0.151434   0.035765   \n",
            "GarageArea     ...    0.224666     0.241435      -0.121777   0.035087   \n",
            "WoodDeckSF     ...    1.000000     0.058661      -0.125989  -0.032771   \n",
            "OpenPorchSF    ...    0.058661     1.000000      -0.093079  -0.005842   \n",
            "EnclosedPorch  ...   -0.125989    -0.093079       1.000000  -0.037305   \n",
            "3SsnPorch      ...   -0.032771    -0.005842      -0.037305   1.000000   \n",
            "ScreenPorch    ...   -0.074181     0.074304      -0.082864  -0.031436   \n",
            "PoolArea       ...    0.073378     0.060762       0.054203  -0.007992   \n",
            "MiscVal        ...   -0.009551    -0.018584       0.018361   0.000354   \n",
            "MoSold         ...    0.021011     0.071255      -0.028887   0.029474   \n",
            "YrSold         ...    0.022270    -0.057619      -0.009916   0.018645   \n",
            "SalePrice      ...    0.324413     0.315856      -0.128578   0.044584   \n",
            "\n",
            "               ScreenPorch  PoolArea   MiscVal    MoSold    YrSold  SalePrice  \n",
            "MSSubClass       -0.026030  0.008283 -0.007683 -0.013585 -0.021407  -0.084284  \n",
            "LotFrontage       0.041383  0.206167  0.003368  0.011200  0.007450   0.351799  \n",
            "LotArea           0.043160  0.077672  0.038068  0.001205 -0.014261   0.263843  \n",
            "OverallQual       0.064886  0.065166 -0.031406  0.070815 -0.027347   0.790982  \n",
            "OverallCond       0.054811 -0.001985  0.068777 -0.003511  0.043950  -0.077856  \n",
            "YearBuilt        -0.050364  0.004950 -0.034383  0.012398 -0.013618   0.522897  \n",
            "YearRemodAdd     -0.038740  0.005829 -0.010286  0.021490  0.035743   0.507101  \n",
            "MasVnrArea        0.061466  0.011723 -0.029815 -0.005965 -0.008201   0.477493  \n",
            "BsmtFinSF1        0.062021  0.140491  0.003571 -0.015727  0.014359   0.386420  \n",
            "BsmtFinSF2        0.088871  0.041709  0.004940 -0.015211  0.031706  -0.011378  \n",
            "BsmtUnfSF        -0.012579 -0.035092 -0.023837  0.034888 -0.041258   0.214479  \n",
            "TotalBsmtSF       0.084489  0.126053 -0.018479  0.013196 -0.014969   0.613581  \n",
            "1stFlrSF          0.088758  0.131525 -0.021096  0.031372 -0.013604   0.605852  \n",
            "2ndFlrSF          0.040606  0.081487  0.016197  0.035164 -0.028700   0.319334  \n",
            "LowQualFinSF      0.026799  0.062157 -0.003793 -0.022174 -0.028921  -0.025606  \n",
            "GrLivArea         0.101510  0.170205 -0.002416  0.050240 -0.036526   0.708624  \n",
            "BsmtFullBath      0.023148  0.067616 -0.023047 -0.025361  0.067049   0.227122  \n",
            "BsmtHalfBath      0.032121  0.020025 -0.007367  0.032873 -0.046524  -0.016844  \n",
            "FullBath         -0.008106  0.049604 -0.014290  0.055872 -0.019669   0.560664  \n",
            "HalfBath          0.072426  0.022381  0.001290 -0.009050 -0.010269   0.284108  \n",
            "BedroomAbvGr      0.044300  0.070703  0.007767  0.046544 -0.036014   0.168213  \n",
            "KitchenAbvGr     -0.051613 -0.014525  0.062341  0.026589  0.031687  -0.135907  \n",
            "TotRmsAbvGrd      0.059383  0.083757  0.024763  0.036907 -0.034516   0.533723  \n",
            "Fireplaces        0.184530  0.095074  0.001409  0.046357 -0.024096   0.466929  \n",
            "GarageYrBlt      -0.075418 -0.014501 -0.032417  0.005337 -0.001014   0.486362  \n",
            "GarageCars        0.050494  0.020934 -0.043080  0.040522 -0.039117   0.640409  \n",
            "GarageArea        0.051412  0.061047 -0.027400  0.027974 -0.027378   0.623431  \n",
            "WoodDeckSF       -0.074181  0.073378 -0.009551  0.021011  0.022270   0.324413  \n",
            "OpenPorchSF       0.074304  0.060762 -0.018584  0.071255 -0.057619   0.315856  \n",
            "EnclosedPorch    -0.082864  0.054203  0.018361 -0.028887 -0.009916  -0.128578  \n",
            "3SsnPorch        -0.031436 -0.007992  0.000354  0.029474  0.018645   0.044584  \n",
            "ScreenPorch       1.000000  0.051307  0.031946  0.023217  0.010694   0.111447  \n",
            "PoolArea          0.051307  1.000000  0.029669 -0.033737 -0.059689   0.092404  \n",
            "MiscVal           0.031946  0.029669  1.000000 -0.006495  0.004906  -0.021190  \n",
            "MoSold            0.023217 -0.033737 -0.006495  1.000000 -0.145721   0.046432  \n",
            "YrSold            0.010694 -0.059689  0.004906 -0.145721  1.000000  -0.028923  \n",
            "SalePrice         0.111447  0.092404 -0.021190  0.046432 -0.028923   1.000000  \n",
            "\n",
            "[37 rows x 37 columns]\n"
          ]
        }
      ]
    },
    {
      "cell_type": "code",
      "source": [
        "sales_correlations = data.corr().iloc[-1, :-1]\n",
        "sales_correlations = sales_correlations.sort_values() \n",
        "print(sales_correlations)"
      ],
      "metadata": {
        "colab": {
          "base_uri": "https://localhost:8080/"
        },
        "id": "B0n3LhEIPLrJ",
        "outputId": "d8be7171-519a-45e2-b5d6-9d6260b5a1d7"
      },
      "execution_count": null,
      "outputs": [
        {
          "output_type": "stream",
          "name": "stdout",
          "text": [
            "KitchenAbvGr    -0.135907\n",
            "EnclosedPorch   -0.128578\n",
            "MSSubClass      -0.084284\n",
            "OverallCond     -0.077856\n",
            "YrSold          -0.028923\n",
            "LowQualFinSF    -0.025606\n",
            "MiscVal         -0.021190\n",
            "BsmtHalfBath    -0.016844\n",
            "BsmtFinSF2      -0.011378\n",
            "3SsnPorch        0.044584\n",
            "MoSold           0.046432\n",
            "PoolArea         0.092404\n",
            "ScreenPorch      0.111447\n",
            "BedroomAbvGr     0.168213\n",
            "BsmtUnfSF        0.214479\n",
            "BsmtFullBath     0.227122\n",
            "LotArea          0.263843\n",
            "HalfBath         0.284108\n",
            "OpenPorchSF      0.315856\n",
            "2ndFlrSF         0.319334\n",
            "WoodDeckSF       0.324413\n",
            "LotFrontage      0.351799\n",
            "BsmtFinSF1       0.386420\n",
            "Fireplaces       0.466929\n",
            "MasVnrArea       0.477493\n",
            "GarageYrBlt      0.486362\n",
            "YearRemodAdd     0.507101\n",
            "YearBuilt        0.522897\n",
            "TotRmsAbvGrd     0.533723\n",
            "FullBath         0.560664\n",
            "1stFlrSF         0.605852\n",
            "TotalBsmtSF      0.613581\n",
            "GarageArea       0.623431\n",
            "GarageCars       0.640409\n",
            "GrLivArea        0.708624\n",
            "OverallQual      0.790982\n",
            "Name: SalePrice, dtype: float64\n"
          ]
        }
      ]
    },
    {
      "cell_type": "code",
      "source": [
        "sales_predictors_labels = sales_correlations.axes[0]\n",
        "print(sales_predictors_labels)"
      ],
      "metadata": {
        "colab": {
          "base_uri": "https://localhost:8080/"
        },
        "id": "4UvopsReLIfI",
        "outputId": "b22350d9-ae21-44b7-f054-cbfd2dbe530d"
      },
      "execution_count": null,
      "outputs": [
        {
          "output_type": "stream",
          "name": "stdout",
          "text": [
            "Index(['KitchenAbvGr', 'EnclosedPorch', 'MSSubClass', 'OverallCond', 'YrSold',\n",
            "       'LowQualFinSF', 'MiscVal', 'BsmtHalfBath', 'BsmtFinSF2', '3SsnPorch',\n",
            "       'MoSold', 'PoolArea', 'ScreenPorch', 'BedroomAbvGr', 'BsmtUnfSF',\n",
            "       'BsmtFullBath', 'LotArea', 'HalfBath', 'OpenPorchSF', '2ndFlrSF',\n",
            "       'WoodDeckSF', 'LotFrontage', 'BsmtFinSF1', 'Fireplaces', 'MasVnrArea',\n",
            "       'GarageYrBlt', 'YearRemodAdd', 'YearBuilt', 'TotRmsAbvGrd', 'FullBath',\n",
            "       '1stFlrSF', 'TotalBsmtSF', 'GarageArea', 'GarageCars', 'GrLivArea',\n",
            "       'OverallQual'],\n",
            "      dtype='object')\n"
          ]
        }
      ]
    },
    {
      "cell_type": "code",
      "source": [
        "X = dataframe[sales_predictors_labels]\n",
        "Y = dataframe[sales_correlations.name]\n",
        "print(X.shape)\n",
        "print(Y.shape)"
      ],
      "metadata": {
        "colab": {
          "base_uri": "https://localhost:8080/"
        },
        "id": "_nFV1mPTQgHx",
        "outputId": "36aced88-9a1c-4ff7-9e79-c28ec60aee7c"
      },
      "execution_count": null,
      "outputs": [
        {
          "output_type": "stream",
          "name": "stdout",
          "text": [
            "(1460, 36)\n",
            "(1460,)\n"
          ]
        }
      ]
    },
    {
      "cell_type": "code",
      "source": [
        "np.sum(X.isna())"
      ],
      "metadata": {
        "colab": {
          "base_uri": "https://localhost:8080/"
        },
        "id": "_Ps1IhBRUGtK",
        "outputId": "94ba6d72-6100-4e43-b127-8e73d9c7ff7d"
      },
      "execution_count": null,
      "outputs": [
        {
          "output_type": "execute_result",
          "data": {
            "text/plain": [
              "KitchenAbvGr       0\n",
              "EnclosedPorch      0\n",
              "MSSubClass         0\n",
              "OverallCond        0\n",
              "YrSold             0\n",
              "LowQualFinSF       0\n",
              "MiscVal            0\n",
              "BsmtHalfBath       0\n",
              "BsmtFinSF2         0\n",
              "3SsnPorch          0\n",
              "MoSold             0\n",
              "PoolArea           0\n",
              "ScreenPorch        0\n",
              "BedroomAbvGr       0\n",
              "BsmtUnfSF          0\n",
              "BsmtFullBath       0\n",
              "LotArea            0\n",
              "HalfBath           0\n",
              "OpenPorchSF        0\n",
              "2ndFlrSF           0\n",
              "WoodDeckSF         0\n",
              "LotFrontage      259\n",
              "BsmtFinSF1         0\n",
              "Fireplaces         0\n",
              "MasVnrArea         8\n",
              "GarageYrBlt       81\n",
              "YearRemodAdd       0\n",
              "YearBuilt          0\n",
              "TotRmsAbvGrd       0\n",
              "FullBath           0\n",
              "1stFlrSF           0\n",
              "TotalBsmtSF        0\n",
              "GarageArea         0\n",
              "GarageCars         0\n",
              "GrLivArea          0\n",
              "OverallQual        0\n",
              "dtype: int64"
            ]
          },
          "metadata": {},
          "execution_count": 34
        }
      ]
    },
    {
      "cell_type": "markdown",
      "source": [
        "Восстанавливаем значения с помощью интерполяции:"
      ],
      "metadata": {
        "id": "-0Tzdhc7OG7f"
      }
    },
    {
      "cell_type": "code",
      "source": [
        "X = X.interpolate(Axis = 1)"
      ],
      "metadata": {
        "id": "7CIUyoClUOxL"
      },
      "execution_count": null,
      "outputs": []
    },
    {
      "cell_type": "code",
      "source": [
        "np.sum(X.isna())"
      ],
      "metadata": {
        "colab": {
          "base_uri": "https://localhost:8080/"
        },
        "id": "RRRn-f6uUagj",
        "outputId": "0235ce22-3007-434a-b06b-dbb5b4b6d099"
      },
      "execution_count": null,
      "outputs": [
        {
          "output_type": "execute_result",
          "data": {
            "text/plain": [
              "KitchenAbvGr     0\n",
              "EnclosedPorch    0\n",
              "MSSubClass       0\n",
              "OverallCond      0\n",
              "YrSold           0\n",
              "LowQualFinSF     0\n",
              "MiscVal          0\n",
              "BsmtHalfBath     0\n",
              "BsmtFinSF2       0\n",
              "3SsnPorch        0\n",
              "MoSold           0\n",
              "PoolArea         0\n",
              "ScreenPorch      0\n",
              "BedroomAbvGr     0\n",
              "BsmtUnfSF        0\n",
              "BsmtFullBath     0\n",
              "LotArea          0\n",
              "HalfBath         0\n",
              "OpenPorchSF      0\n",
              "2ndFlrSF         0\n",
              "WoodDeckSF       0\n",
              "LotFrontage      0\n",
              "BsmtFinSF1       0\n",
              "Fireplaces       0\n",
              "MasVnrArea       0\n",
              "GarageYrBlt      0\n",
              "YearRemodAdd     0\n",
              "YearBuilt        0\n",
              "TotRmsAbvGrd     0\n",
              "FullBath         0\n",
              "1stFlrSF         0\n",
              "TotalBsmtSF      0\n",
              "GarageArea       0\n",
              "GarageCars       0\n",
              "GrLivArea        0\n",
              "OverallQual      0\n",
              "dtype: int64"
            ]
          },
          "metadata": {},
          "execution_count": 36
        }
      ]
    },
    {
      "cell_type": "code",
      "source": [
        "seed=123\n",
        "test_ratio = 0.2\n",
        "\n",
        "X_train, X_test, Y_train, Y_test = train_test_split(X, Y, \n",
        "                                                    test_size=test_ratio, \n",
        "                                                    random_state=seed, \n",
        "                                                    shuffle=True)\n",
        "\n",
        "print(\"Размер выборки для тренировки и кросс-валидации\", X_train.shape) \n",
        "print(\"Размер откликов для тренировки и кросс-валидации\", Y_train.shape)"
      ],
      "metadata": {
        "colab": {
          "base_uri": "https://localhost:8080/"
        },
        "id": "jb025mMFQjHI",
        "outputId": "02caa109-e92e-488d-f996-e5bb05a46ec3"
      },
      "execution_count": null,
      "outputs": [
        {
          "output_type": "stream",
          "name": "stdout",
          "text": [
            "Размер выборки для тренировки и кросс-валидации (1168, 36)\n",
            "Размер откликов для тренировки и кросс-валидации (1168,)\n"
          ]
        }
      ]
    },
    {
      "cell_type": "markdown",
      "source": [
        "Можем просто обучить регрессор и посмотреть на результат на тесте, если нужно сделать беглую оценку результату отбора признаков"
      ],
      "metadata": {
        "id": "nHlNuPBfTdPA"
      }
    },
    {
      "cell_type": "code",
      "source": [
        "model_lm = LinearRegression()           # Объект класса\n",
        "model_lm.fit(X_train, Y_train)          # Метод обучение\n",
        "print(\"Coefficients weights: \", model_lm.coef_, \"\\n\")\n",
        "print(\"R2 on train sample is\", model_lm.score(X_train, Y_train))"
      ],
      "metadata": {
        "colab": {
          "base_uri": "https://localhost:8080/"
        },
        "id": "IEQ4qmVxTmT6",
        "outputId": "5516b3fc-18fa-4b1d-aebe-f208e214e594"
      },
      "execution_count": null,
      "outputs": [
        {
          "output_type": "stream",
          "name": "stdout",
          "text": [
            "Coefficients weights:  [-8.73285618e+03  5.70940547e+00 -1.96323360e+02  3.64741208e+03\n",
            " -5.72372529e+02 -1.46815334e+01 -4.93881350e-01  3.06849865e+03\n",
            "  1.75897497e-01  1.53707889e+01  6.46233845e+01 -1.84848128e+01\n",
            "  3.72633195e+01 -9.39149740e+03 -1.62919660e+00  8.64331512e+03\n",
            "  4.16925511e-01 -3.03749920e+03  1.08038405e+00  2.07784833e+01\n",
            "  2.45914971e+01 -1.13337910e+02  1.01560319e+01  5.28838119e+03\n",
            "  2.75823062e+01  9.52209482e+01  1.60643937e+02  2.68948883e+02\n",
            "  4.42180805e+03  2.72420629e+03  2.14815415e+01  8.70273283e+00\n",
            " -1.39965809e+01  1.43348577e+04  2.75784914e+01  1.75949819e+04] \n",
            "\n",
            "R2 on train sample is 0.8043029445018927\n"
          ]
        }
      ]
    },
    {
      "cell_type": "code",
      "source": [
        "plt.figure(figsize = (24, 9))\n",
        "model_coeffs = pd.Series(data = model_lm.coef_, index=sales_predictors_labels)\n",
        "plt.bar(x = model_coeffs.sort_values().axes[0], height = model_coeffs.sort_values())\n",
        "\n",
        "ax = plt.gca()\n",
        "ax.tick_params(axis='x', labelrotation = 45)\n",
        "\n",
        "plt.show()"
      ],
      "metadata": {
        "colab": {
          "base_uri": "https://localhost:8080/",
          "height": 436
        },
        "id": "ZD_Tft3IAr0K",
        "outputId": "8af414d8-0693-4436-efda-45a1c3abde77"
      },
      "execution_count": null,
      "outputs": [
        {
          "output_type": "display_data",
          "data": {
            "text/plain": [
              "<Figure size 1728x648 with 1 Axes>"
            ],
            "image/png": "[encoded data removed]"
          },
          "metadata": {
            "needs_background": "light"
          }
        }
      ]
    },
    {
      "cell_type": "code",
      "source": [
        "preds = model_lm.predict(X_test)\n",
        "R2_real = r2_score(Y_test, preds)\n",
        "print(R2_real)"
      ],
      "metadata": {
        "colab": {
          "base_uri": "https://localhost:8080/"
        },
        "id": "GgP-DKsPUlRS",
        "outputId": "21be8d76-de03-4b6d-9c17-cf8629b89f84"
      },
      "execution_count": null,
      "outputs": [
        {
          "output_type": "stream",
          "name": "stdout",
          "text": [
            "0.8421788031363042\n"
          ]
        }
      ]
    },
    {
      "cell_type": "code",
      "source": [
        "MAE_real = mean_absolute_error(Y_test, preds)\n",
        "print(MAE_real)"
      ],
      "metadata": {
        "colab": {
          "base_uri": "https://localhost:8080/"
        },
        "id": "VCkXwUZo5ixZ",
        "outputId": "0ec6f014-91cb-4f8d-e32d-29c3e2f35a49"
      },
      "execution_count": null,
      "outputs": [
        {
          "output_type": "stream",
          "name": "stdout",
          "text": [
            "19274.53672363394\n"
          ]
        }
      ]
    },
    {
      "cell_type": "code",
      "source": [
        "np.min(Y_test)"
      ],
      "metadata": {
        "colab": {
          "base_uri": "https://localhost:8080/"
        },
        "id": "emiaBxtzQ53W",
        "outputId": "e21ffbf2-d56c-45f6-bbc2-b82c4064b2f5"
      },
      "execution_count": null,
      "outputs": [
        {
          "output_type": "execute_result",
          "data": {
            "text/plain": [
              "37900.0"
            ]
          },
          "metadata": {},
          "execution_count": 42
        }
      ]
    },
    {
      "cell_type": "code",
      "source": [
        "np.mean(Y_test)"
      ],
      "metadata": {
        "colab": {
          "base_uri": "https://localhost:8080/"
        },
        "id": "51XSZzZxRCum",
        "outputId": "a949c58a-34ed-4aac-ece5-950415035de1"
      },
      "execution_count": null,
      "outputs": [
        {
          "output_type": "execute_result",
          "data": {
            "text/plain": [
              "181737.70205479453"
            ]
          },
          "metadata": {},
          "execution_count": 43
        }
      ]
    },
    {
      "cell_type": "code",
      "source": [
        "np.max(Y_test)"
      ],
      "metadata": {
        "colab": {
          "base_uri": "https://localhost:8080/"
        },
        "id": "S89tR12BRFHO",
        "outputId": "de09f8c5-a132-4fff-bfec-64d939466e40"
      },
      "execution_count": null,
      "outputs": [
        {
          "output_type": "execute_result",
          "data": {
            "text/plain": [
              "625000.0"
            ]
          },
          "metadata": {},
          "execution_count": 44
        }
      ]
    },
    {
      "cell_type": "code",
      "source": [
        "plt.scatter(preds, Y_test, c = 'b', label = 'Y to preds')\n",
        "plt.plot(preds, preds, c = 'r', label = 'pred-pred line')\n",
        "plt.xlabel(\"Predictions\")\n",
        "plt.ylabel(\"True values\")\n",
        "plt.title(\"Linear model approximation of test data\")\n",
        "plt.legend()\n",
        "plt.show()"
      ],
      "metadata": {
        "colab": {
          "base_uri": "https://localhost:8080/",
          "height": 486
        },
        "id": "68jCT_LKdjHJ",
        "outputId": "e74cc2e1-6ecd-4996-f4db-5d5b7a46a98b"
      },
      "execution_count": null,
      "outputs": [
        {
          "output_type": "display_data",
          "data": {
            "text/plain": [
              "<Figure size 720x540 with 1 Axes>"
            ],
            "image/png": "[encoded data removed]"
          },
          "metadata": {
            "needs_background": "light"
          }
        }
      ]
    },
    {
      "cell_type": "code",
      "source": [
        "plt.scatter(preds, Y_test - preds, c = 'b')\n",
        "plt.plot(preds, np.zeros_like(preds), c = 'r')\n",
        "plt.xlabel(\"Predictions\")\n",
        "plt.ylabel(\"Residuals\")\n",
        "plt.title(\"Linear model residuals of test data\")\n",
        "plt.show()"
      ],
      "metadata": {
        "colab": {
          "base_uri": "https://localhost:8080/",
          "height": 486
        },
        "id": "omIxbpTWesaZ",
        "outputId": "cb03a5c8-27e1-41ad-a66f-1d0e0dda6e50"
      },
      "execution_count": null,
      "outputs": [
        {
          "output_type": "display_data",
          "data": {
            "text/plain": [
              "<Figure size 720x540 with 1 Axes>"
            ],
            "image/png": "[encoded data removed]"
          },
          "metadata": {
            "needs_background": "light"
          }
        }
      ]
    },
    {
      "cell_type": "code",
      "source": [
        "seed=123\n",
        "test_ratio = 0.2\n",
        "\n",
        "r2_history_train = []\n",
        "r2_history_test = []\n",
        "pred_names = []\n",
        "preds_y = []\n",
        "models = []\n",
        "predictors = np.arange(1, len(sales_correlations) + 1)\n",
        "\n",
        "X = dataframe[sales_predictors_labels]\n",
        "Y = dataframe[sales_correlations.name]\n",
        "X = X.interpolate(Axis = 1)\n",
        "\n",
        "\n",
        "for predictor_name in sales_predictors_labels[::-1]:\n",
        "    pred_names.append(predictor_name)\n",
        "    X_trace = X[pred_names]\n",
        "\n",
        "    X_train, X_test, Y_train, Y_test = train_test_split(X_trace, Y, \n",
        "                                                    test_size=test_ratio, \n",
        "                                                    random_state=seed, \n",
        "                                                    shuffle=True)\n",
        "    model_lm = LinearRegression()\n",
        "    model_lm.fit(X_train, Y_train)\n",
        "    \n",
        "    preds = model_lm.predict(X_test)\n",
        "    models.append(model_lm)\n",
        "    \n",
        "    preds_y.append(preds)\n",
        "    r2_history_train.append(model_lm.score(X_train, Y_train))\n",
        "    r2_history_test.append(model_lm.score(X_test, Y_test))"
      ],
      "metadata": {
        "id": "17wGzg9HfDDL"
      },
      "execution_count": null,
      "outputs": []
    },
    {
      "cell_type": "code",
      "source": [
        "plt.plot(predictors, r2_history_test, c = \"r\", label = 'test r2 curve')\n",
        "plt.plot(predictors, r2_history_train, c = \"g\", label = 'train r2 curve')\n",
        "plt.xlabel(\"Number of sorted predictors\")\n",
        "plt.ylabel(\"R2 metrics on test and train\")\n",
        "plt.title(\"Curve of R2 on increasing number of predictors\")\n",
        "plt.legend()"
      ],
      "metadata": {
        "colab": {
          "base_uri": "https://localhost:8080/",
          "height": 505
        },
        "id": "rnSdt9SQhR1W",
        "outputId": "0aeb2f73-3196-48f7-ab21-d795cd0ed432"
      },
      "execution_count": null,
      "outputs": [
        {
          "output_type": "execute_result",
          "data": {
            "text/plain": [
              "<matplotlib.legend.Legend at 0x7f52de7d2750>"
            ]
          },
          "metadata": {},
          "execution_count": 48
        },
        {
          "output_type": "display_data",
          "data": {
            "text/plain": [
              "<Figure size 720x540 with 1 Axes>"
            ],
            "image/png": "[encoded data removed]"
          },
          "metadata": {
            "needs_background": "light"
          }
        }
      ]
    },
    {
      "cell_type": "markdown",
      "source": [
        "## **Регрессия с категориальными переменными**"
      ],
      "metadata": {
        "id": "sZkaSeWTq1yL"
      }
    },
    {
      "cell_type": "code",
      "source": [
        "dummies_objects = pd.get_dummies(dataframe[objects_names], prefix=objects_names, )\n",
        "dataframe_with_dummies = dataframe.join(dummies_objects)\n",
        "dataframe_with_dummies.head()"
      ],
      "metadata": {
        "colab": {
          "base_uri": "https://localhost:8080/",
          "height": 299
        },
        "id": "RrYo4dotq5mC",
        "outputId": "c628f1f4-0ccb-438e-ecfa-d8ef7f8fc61c"
      },
      "execution_count": null,
      "outputs": [
        {
          "output_type": "execute_result",
          "data": {
            "text/plain": [
              "    Id  MSSubClass MSZoning  LotFrontage  LotArea Street Alley LotShape  \\\n",
              "0  1.0        60.0       RL         65.0   8450.0   Pave   NaN      Reg   \n",
              "1  2.0        20.0       RL         80.0   9600.0   Pave   NaN      Reg   \n",
              "2  3.0        60.0       RL         68.0  11250.0   Pave   NaN      IR1   \n",
              "3  4.0        70.0       RL         60.0   9550.0   Pave   NaN      IR1   \n",
              "4  5.0        60.0       RL         84.0  14260.0   Pave   NaN      IR1   \n",
              "\n",
              "  LandContour Utilities  ... SaleType_ConLw SaleType_New SaleType_Oth  \\\n",
              "0         Lvl    AllPub  ...              0            0            0   \n",
              "1         Lvl    AllPub  ...              0            0            0   \n",
              "2         Lvl    AllPub  ...              0            0            0   \n",
              "3         Lvl    AllPub  ...              0            0            0   \n",
              "4         Lvl    AllPub  ...              0            0            0   \n",
              "\n",
              "  SaleType_WD SaleCondition_Abnorml SaleCondition_AdjLand  \\\n",
              "0           1                     0                     0   \n",
              "1           1                     0                     0   \n",
              "2           1                     0                     0   \n",
              "3           1                     1                     0   \n",
              "4           1                     0                     0   \n",
              "\n",
              "  SaleCondition_Alloca  SaleCondition_Family  SaleCondition_Normal  \\\n",
              "0                    0                     0                     1   \n",
              "1                    0                     0                     1   \n",
              "2                    0                     0                     1   \n",
              "3                    0                     0                     0   \n",
              "4                    0                     0                     1   \n",
              "\n",
              "   SaleCondition_Partial  \n",
              "0                      0  \n",
              "1                      0  \n",
              "2                      0  \n",
              "3                      0  \n",
              "4                      0  \n",
              "\n",
              "[5 rows x 333 columns]"
            ],
            "text/html": [
              "\n",
              "  <div id=\"df-1767b868-cf9f-4fa1-a918-d80c0b999b2b\">\n",
              "    <div class=\"colab-df-container\">\n",
              "      <div>\n",
              "<style scoped>\n",
              "    .dataframe tbody tr th:only-of-type {\n",
              "        vertical-align: middle;\n",
              "    }\n",
              "\n",
              "    .dataframe tbody tr th {\n",
              "        vertical-align: top;\n",
              "    }\n",
              "\n",
              "    .dataframe thead th {\n",
              "        text-align: right;\n",
              "    }\n",
              "</style>\n",
              "<table border=\"1\" class=\"dataframe\">\n",
              "  <thead>\n",
              "    <tr style=\"text-align: right;\">\n",
              "      <th></th>\n",
              "      <th>Id</th>\n",
              "      <th>MSSubClass</th>\n",
              "      <th>MSZoning</th>\n",
              "      <th>LotFrontage</th>\n",
              "      <th>LotArea</th>\n",
              "      <th>Street</th>\n",
              "      <th>Alley</th>\n",
              "      <th>LotShape</th>\n",
              "      <th>LandContour</th>\n",
              "      <th>Utilities</th>\n",
              "      <th>...</th>\n",
              "      <th>SaleType_ConLw</th>\n",
              "      <th>SaleType_New</th>\n",
              "      <th>SaleType_Oth</th>\n",
              "      <th>SaleType_WD</th>\n",
              "      <th>SaleCondition_Abnorml</th>\n",
              "      <th>SaleCondition_AdjLand</th>\n",
              "      <th>SaleCondition_Alloca</th>\n",
              "      <th>SaleCondition_Family</th>\n",
              "      <th>SaleCondition_Normal</th>\n",
              "      <th>SaleCondition_Partial</th>\n",
              "    </tr>\n",
              "  </thead>\n",
              "  <tbody>\n",
              "    <tr>\n",
              "      <th>0</th>\n",
              "      <td>1.0</td>\n",
              "      <td>60.0</td>\n",
              "      <td>RL</td>\n",
              "      <td>65.0</td>\n",
              "      <td>8450.0</td>\n",
              "      <td>Pave</td>\n",
              "      <td>NaN</td>\n",
              "      <td>Reg</td>\n",
              "      <td>Lvl</td>\n",
              "      <td>AllPub</td>\n",
              "      <td>...</td>\n",
              "      <td>0</td>\n",
              "      <td>0</td>\n",
              "      <td>0</td>\n",
              "      <td>1</td>\n",
              "      <td>0</td>\n",
              "      <td>0</td>\n",
              "      <td>0</td>\n",
              "      <td>0</td>\n",
              "      <td>1</td>\n",
              "      <td>0</td>\n",
              "    </tr>\n",
              "    <tr>\n",
              "      <th>1</th>\n",
              "      <td>2.0</td>\n",
              "      <td>20.0</td>\n",
              "      <td>RL</td>\n",
              "      <td>80.0</td>\n",
              "      <td>9600.0</td>\n",
              "      <td>Pave</td>\n",
              "      <td>NaN</td>\n",
              "      <td>Reg</td>\n",
              "      <td>Lvl</td>\n",
              "      <td>AllPub</td>\n",
              "      <td>...</td>\n",
              "      <td>0</td>\n",
              "      <td>0</td>\n",
              "      <td>0</td>\n",
              "      <td>1</td>\n",
              "      <td>0</td>\n",
              "      <td>0</td>\n",
              "      <td>0</td>\n",
              "      <td>0</td>\n",
              "      <td>1</td>\n",
              "      <td>0</td>\n",
              "    </tr>\n",
              "    <tr>\n",
              "      <th>2</th>\n",
              "      <td>3.0</td>\n",
              "      <td>60.0</td>\n",
              "      <td>RL</td>\n",
              "      <td>68.0</td>\n",
              "      <td>11250.0</td>\n",
              "      <td>Pave</td>\n",
              "      <td>NaN</td>\n",
              "      <td>IR1</td>\n",
              "      <td>Lvl</td>\n",
              "      <td>AllPub</td>\n",
              "      <td>...</td>\n",
              "      <td>0</td>\n",
              "      <td>0</td>\n",
              "      <td>0</td>\n",
              "      <td>1</td>\n",
              "      <td>0</td>\n",
              "      <td>0</td>\n",
              "      <td>0</td>\n",
              "      <td>0</td>\n",
              "      <td>1</td>\n",
              "      <td>0</td>\n",
              "    </tr>\n",
              "    <tr>\n",
              "      <th>3</th>\n",
              "      <td>4.0</td>\n",
              "      <td>70.0</td>\n",
              "      <td>RL</td>\n",
              "      <td>60.0</td>\n",
              "      <td>9550.0</td>\n",
              "      <td>Pave</td>\n",
              "      <td>NaN</td>\n",
              "      <td>IR1</td>\n",
              "      <td>Lvl</td>\n",
              "      <td>AllPub</td>\n",
              "      <td>...</td>\n",
              "      <td>0</td>\n",
              "      <td>0</td>\n",
              "      <td>0</td>\n",
              "      <td>1</td>\n",
              "      <td>1</td>\n",
              "      <td>0</td>\n",
              "      <td>0</td>\n",
              "      <td>0</td>\n",
              "      <td>0</td>\n",
              "      <td>0</td>\n",
              "    </tr>\n",
              "    <tr>\n",
              "      <th>4</th>\n",
              "      <td>5.0</td>\n",
              "      <td>60.0</td>\n",
              "      <td>RL</td>\n",
              "      <td>84.0</td>\n",
              "      <td>14260.0</td>\n",
              "      <td>Pave</td>\n",
              "      <td>NaN</td>\n",
              "      <td>IR1</td>\n",
              "      <td>Lvl</td>\n",
              "      <td>AllPub</td>\n",
              "      <td>...</td>\n",
              "      <td>0</td>\n",
              "      <td>0</td>\n",
              "      <td>0</td>\n",
              "      <td>1</td>\n",
              "      <td>0</td>\n",
              "      <td>0</td>\n",
              "      <td>0</td>\n",
              "      <td>0</td>\n",
              "      <td>1</td>\n",
              "      <td>0</td>\n",
              "    </tr>\n",
              "  </tbody>\n",
              "</table>\n",
              "<p>5 rows × 333 columns</p>\n",
              "</div>\n",
              "      <button class=\"colab-df-convert\" onclick=\"convertToInteractive('df-1767b868-cf9f-4fa1-a918-d80c0b999b2b')\"\n",
              "              title=\"Convert this dataframe to an interactive table.\"\n",
              "              style=\"display:none;\">\n",
              "        \n",
              "  <svg xmlns=\"http://www.w3.org/2000/svg\" height=\"24px\"viewBox=\"0 0 24 24\"\n",
              "       width=\"24px\">\n",
              "    <path d=\"M0 0h24v24H0V0z\" fill=\"none\"/>\n",
              "    <path d=\"M18.56 5.44l.94 2.06.94-2.06 2.06-.94-2.06-.94-.94-2.06-.94 2.06-2.06.94zm-11 1L8.5 8.5l.94-2.06 2.06-.94-2.06-.94L8.5 2.5l-.94 2.06-2.06.94zm10 10l.94 2.06.94-2.06 2.06-.94-2.06-.94-.94-2.06-.94 2.06-2.06.94z\"/><path d=\"M17.41 7.96l-1.37-1.37c-.4-.4-.92-.59-1.43-.59-.52 0-1.04.2-1.43.59L10.3 9.45l-7.72 7.72c-.78.78-.78 2.05 0 2.83L4 21.41c.39.39.9.59 1.41.59.51 0 1.02-.2 1.41-.59l7.78-7.78 2.81-2.81c.8-.78.8-2.07 0-2.86zM5.41 20L4 18.59l7.72-7.72 1.47 1.35L5.41 20z\"/>\n",
              "  </svg>\n",
              "      </button>\n",
              "      \n",
              "  <style>\n",
              "    .colab-df-container {\n",
              "      display:flex;\n",
              "      flex-wrap:wrap;\n",
              "      gap: 12px;\n",
              "    }\n",
              "\n",
              "    .colab-df-convert {\n",
              "      background-color: #E8F0FE;\n",
              "      border: none;\n",
              "      border-radius: 50%;\n",
              "      cursor: pointer;\n",
              "      display: none;\n",
              "      fill: #1967D2;\n",
              "      height: 32px;\n",
              "      padding: 0 0 0 0;\n",
              "      width: 32px;\n",
              "    }\n",
              "\n",
              "    .colab-df-convert:hover {\n",
              "      background-color: #E2EBFA;\n",
              "      box-shadow: 0px 1px 2px rgba(60, 64, 67, 0.3), 0px 1px 3px 1px rgba(60, 64, 67, 0.15);\n",
              "      fill: #174EA6;\n",
              "    }\n",
              "\n",
              "    [theme=dark] .colab-df-convert {\n",
              "      background-color: #3B4455;\n",
              "      fill: #D2E3FC;\n",
              "    }\n",
              "\n",
              "    [theme=dark] .colab-df-convert:hover {\n",
              "      background-color: #434B5C;\n",
              "      box-shadow: 0px 1px 3px 1px rgba(0, 0, 0, 0.15);\n",
              "      filter: drop-shadow(0px 1px 2px rgba(0, 0, 0, 0.3));\n",
              "      fill: #FFFFFF;\n",
              "    }\n",
              "  </style>\n",
              "\n",
              "      <script>\n",
              "        const buttonEl =\n",
              "          document.querySelector('#df-1767b868-cf9f-4fa1-a918-d80c0b999b2b button.colab-df-convert');\n",
              "        buttonEl.style.display =\n",
              "          google.colab.kernel.accessAllowed ? 'block' : 'none';\n",
              "\n",
              "        async function convertToInteractive(key) {\n",
              "          const element = document.querySelector('#df-1767b868-cf9f-4fa1-a918-d80c0b999b2b');\n",
              "          const dataTable =\n",
              "            await google.colab.kernel.invokeFunction('convertToInteractive',\n",
              "                                                     [key], {});\n",
              "          if (!dataTable) return;\n",
              "\n",
              "          const docLinkHtml = 'Like what you see? Visit the ' +\n",
              "            '<a target=\"_blank\" href=https://colab.research.google.com/notebooks/data_table.ipynb>data table notebook</a>'\n",
              "            + ' to learn more about interactive tables.';\n",
              "          element.innerHTML = '';\n",
              "          dataTable['output_type'] = 'display_data';\n",
              "          await google.colab.output.renderOutput(dataTable, element);\n",
              "          const docLink = document.createElement('div');\n",
              "          docLink.innerHTML = docLinkHtml;\n",
              "          element.appendChild(docLink);\n",
              "        }\n",
              "      </script>\n",
              "    </div>\n",
              "  </div>\n",
              "  "
            ]
          },
          "metadata": {},
          "execution_count": 54
        }
      ]
    },
    {
      "cell_type": "code",
      "source": [
        "predictor_lasso_colnames = dataframe_with_dummies.describe().axes[1]\n",
        "# Хотелось бы без переприсваивания, но без него не работает\n",
        "predictor_lasso_colnames = predictor_lasso_colnames.drop(['Id', 'SalePrice'])\n",
        "print(predictor_lasso_colnames)"
      ],
      "metadata": {
        "colab": {
          "base_uri": "https://localhost:8080/"
        },
        "id": "JYmMSXD5sdOE",
        "outputId": "f2dc0efb-3402-4d22-b31f-8a5339a636eb"
      },
      "execution_count": null,
      "outputs": [
        {
          "output_type": "stream",
          "name": "stdout",
          "text": [
            "Index(['MSSubClass', 'LotFrontage', 'LotArea', 'OverallQual', 'OverallCond',\n",
            "       'YearBuilt', 'YearRemodAdd', 'MasVnrArea', 'BsmtFinSF1', 'BsmtFinSF2',\n",
            "       ...\n",
            "       'SaleType_ConLw', 'SaleType_New', 'SaleType_Oth', 'SaleType_WD',\n",
            "       'SaleCondition_Abnorml', 'SaleCondition_AdjLand',\n",
            "       'SaleCondition_Alloca', 'SaleCondition_Family', 'SaleCondition_Normal',\n",
            "       'SaleCondition_Partial'],\n",
            "      dtype='object', length=288)\n"
          ]
        }
      ]
    },
    {
      "cell_type": "code",
      "source": [
        "# Выделение предикторов в отдельную таблицу\n",
        "X = dataframe_with_dummies[predictor_lasso_colnames]\n",
        "X = X.interpolate(Axis=1)\n",
        "print(X.shape)\n",
        "\n",
        "# Выделение откликов в отдельную таблицу\n",
        "Y = dataframe_with_dummies['SalePrice']\n",
        "print(Y.shape)"
      ],
      "metadata": {
        "colab": {
          "base_uri": "https://localhost:8080/"
        },
        "id": "dg7gZ_WOtksj",
        "outputId": "9983847a-8267-4555-d3d6-183a38434f1d"
      },
      "execution_count": null,
      "outputs": [
        {
          "output_type": "stream",
          "name": "stdout",
          "text": [
            "(1460, 288)\n",
            "(1460,)\n"
          ]
        }
      ]
    },
    {
      "cell_type": "code",
      "source": [
        "seed=123\n",
        "test_ratio = 0.2\n",
        "cv_parts = 4\n",
        "\n",
        "X_train, X_test, Y_train, Y_test = train_test_split(X, Y, \n",
        "                                                    test_size=test_ratio, \n",
        "                                                    random_state=seed, \n",
        "                                                    shuffle=True)\n",
        "\n",
        "print(\"Размер выборки для тренировки и кросс-валидации\", X_train.shape) \n",
        "print(\"Размер откликов для тренировки и кросс-валидации\", Y_train.shape)"
      ],
      "metadata": {
        "colab": {
          "base_uri": "https://localhost:8080/"
        },
        "id": "Oc9X52pzt7Fl",
        "outputId": "9b7196e3-22c7-42c4-9e57-356655105924"
      },
      "execution_count": null,
      "outputs": [
        {
          "output_type": "stream",
          "name": "stdout",
          "text": [
            "Размер выборки для тренировки и кросс-валидации (1168, 288)\n",
            "Размер откликов для тренировки и кросс-валидации (1168,)\n"
          ]
        }
      ]
    },
    {
      "cell_type": "markdown",
      "source": [
        "## **Модель Lasso**"
      ],
      "metadata": {
        "id": "PwFh87yTAKzw"
      }
    },
    {
      "cell_type": "code",
      "source": [
        "model_LASSO_cv = LassoCV(eps = 0.00001, n_alphas = 10000, cv = 4, random_state = seed)\n",
        "model_LASSO_cv.fit(X_train, Y_train)"
      ],
      "metadata": {
        "colab": {
          "base_uri": "https://localhost:8080/"
        },
        "id": "_6qN2kMzrlU9",
        "outputId": "97dbade6-12f7-4e49-a406-11d9e2d5ed02"
      },
      "execution_count": null,
      "outputs": [
        {
          "output_type": "execute_result",
          "data": {
            "text/plain": [
              "LassoCV(cv=4, eps=1e-05, n_alphas=10000, random_state=123)"
            ]
          },
          "metadata": {},
          "execution_count": 58
        }
      ]
    },
    {
      "cell_type": "code",
      "source": [
        "model_LASSO_cv.score(X_train, Y_train)"
      ],
      "metadata": {
        "colab": {
          "base_uri": "https://localhost:8080/"
        },
        "id": "0DNekP8izHak",
        "outputId": "1a8339b2-57da-4cf8-a208-cb89ff546be4"
      },
      "execution_count": null,
      "outputs": [
        {
          "output_type": "execute_result",
          "data": {
            "text/plain": [
              "0.8030425171940252"
            ]
          },
          "metadata": {},
          "execution_count": 59
        }
      ]
    },
    {
      "cell_type": "code",
      "source": [
        "model_LASSO_cv.score(X_test, Y_test)"
      ],
      "metadata": {
        "colab": {
          "base_uri": "https://localhost:8080/"
        },
        "id": "Z05T64HnvYMD",
        "outputId": "97fadfa8-d15e-4f31-d9e1-6dd8d7654e43"
      },
      "execution_count": null,
      "outputs": [
        {
          "output_type": "execute_result",
          "data": {
            "text/plain": [
              "0.8465557696787853"
            ]
          },
          "metadata": {},
          "execution_count": 60
        }
      ]
    },
    {
      "cell_type": "code",
      "source": [
        "lasso_preds = model_LASSO_cv.predict(X_test)\n",
        "MAE_lasso_dummies = mean_absolute_error(Y_test, lasso_preds)\n",
        "MAE_lasso_dummies"
      ],
      "metadata": {
        "colab": {
          "base_uri": "https://localhost:8080/"
        },
        "id": "4AB5BZyOzfts",
        "outputId": "c0fa300b-c4d2-4658-e014-735abbfc9ec2"
      },
      "execution_count": null,
      "outputs": [
        {
          "output_type": "execute_result",
          "data": {
            "text/plain": [
              "18320.355897973168"
            ]
          },
          "metadata": {},
          "execution_count": 61
        }
      ]
    },
    {
      "cell_type": "code",
      "source": [
        "plt.scatter(lasso_preds, Y_test, c = 'b', label = 'Y to preds Lasso')\n",
        "plt.plot(lasso_preds, lasso_preds, c = 'r', label = 'pred-pred Lasso line')\n",
        "plt.xlabel(\"Predictions\")\n",
        "plt.ylabel(\"True values\")\n",
        "plt.title(\"Linear model approximation of test data via Lasso Regression\")\n",
        "plt.legend()\n",
        "plt.show()"
      ],
      "metadata": {
        "colab": {
          "base_uri": "https://localhost:8080/",
          "height": 486
        },
        "id": "x_o8moK8zdAP",
        "outputId": "1c464bdf-c036-4efb-a5c0-b402ede8f0fe"
      },
      "execution_count": null,
      "outputs": [
        {
          "output_type": "display_data",
          "data": {
            "text/plain": [
              "<Figure size 720x540 with 1 Axes>"
            ],
            "image/png": "[encoded data removed]"
          },
          "metadata": {
            "needs_background": "light"
          }
        }
      ]
    },
    {
      "cell_type": "markdown",
      "source": [
        "## **Модель Ridge**"
      ],
      "metadata": {
        "id": "-NFI_uzDARbh"
      }
    },
    {
      "cell_type": "code",
      "source": [
        "# cv - Cross-Validation\n",
        "model_RIDGE_cv = RidgeCV(alphas = np.linspace(9, 11, 300), cv = 4)\n",
        "model_RIDGE_cv.fit(X_train, Y_train)\n",
        "model_RIDGE_cv.best_score_"
      ],
      "metadata": {
        "colab": {
          "base_uri": "https://localhost:8080/"
        },
        "id": "2yzde7iDv_xf",
        "outputId": "d5a4301d-3df7-4ea7-c37b-8ce908ac3d2d"
      },
      "execution_count": null,
      "outputs": [
        {
          "output_type": "execute_result",
          "data": {
            "text/plain": [
              "0.7949904311249184"
            ]
          },
          "metadata": {},
          "execution_count": 63
        }
      ]
    },
    {
      "cell_type": "code",
      "source": [
        "model_RIDGE_cv.alpha_"
      ],
      "metadata": {
        "colab": {
          "base_uri": "https://localhost:8080/"
        },
        "id": "GBLZLhxsqORK",
        "outputId": "c9e80bb9-73cb-4368-c776-2393d429ff7f"
      },
      "execution_count": null,
      "outputs": [
        {
          "output_type": "execute_result",
          "data": {
            "text/plain": [
              "10.357859531772576"
            ]
          },
          "metadata": {},
          "execution_count": 64
        }
      ]
    },
    {
      "cell_type": "code",
      "source": [
        "model_RIDGE_cv.score(X_train, Y_train)"
      ],
      "metadata": {
        "colab": {
          "base_uri": "https://localhost:8080/"
        },
        "id": "4RitX-1RyTO1",
        "outputId": "dfb08394-f7ed-4523-f739-c2dfbbdd37f5"
      },
      "execution_count": null,
      "outputs": [
        {
          "output_type": "execute_result",
          "data": {
            "text/plain": [
              "0.8990436629162929"
            ]
          },
          "metadata": {},
          "execution_count": 65
        }
      ]
    },
    {
      "cell_type": "code",
      "source": [
        "model_RIDGE_cv.score(X_test, Y_test)"
      ],
      "metadata": {
        "colab": {
          "base_uri": "https://localhost:8080/"
        },
        "id": "vO15sX04xa5Z",
        "outputId": "903d32a7-aa67-4219-c483-26d2274cdadd"
      },
      "execution_count": null,
      "outputs": [
        {
          "output_type": "execute_result",
          "data": {
            "text/plain": [
              "0.8910532612433733"
            ]
          },
          "metadata": {},
          "execution_count": 66
        }
      ]
    },
    {
      "cell_type": "code",
      "source": [
        "ridge_preds = model_RIDGE_cv.predict(X_test)\n",
        "MAE_ridge_dummies = mean_absolute_error(Y_test, ridge_preds)\n",
        "MAE_ridge_dummies"
      ],
      "metadata": {
        "colab": {
          "base_uri": "https://localhost:8080/"
        },
        "id": "abiiqByf0i0g",
        "outputId": "a3ae2aee-0aff-472d-d50c-0167b9ad7e35"
      },
      "execution_count": null,
      "outputs": [
        {
          "output_type": "execute_result",
          "data": {
            "text/plain": [
              "16274.122422841276"
            ]
          },
          "metadata": {},
          "execution_count": 67
        }
      ]
    },
    {
      "cell_type": "code",
      "source": [
        "plt.scatter(ridge_preds, Y_test, c = 'b', label = 'Y to preds Ridge')\n",
        "plt.plot(ridge_preds, ridge_preds, c = 'r', label = 'pred-pred Ridge line')\n",
        "plt.xlabel(\"Predictions\")\n",
        "plt.ylabel(\"True values\")\n",
        "plt.title(\"Linear model approximation of test data via Ridge Regression\")\n",
        "plt.legend()\n",
        "plt.show()"
      ],
      "metadata": {
        "colab": {
          "base_uri": "https://localhost:8080/",
          "height": 486
        },
        "id": "9xZ_gyRU0sd5",
        "outputId": "7d3c80cc-ed52-43cb-b9de-4196abf5b52f"
      },
      "execution_count": null,
      "outputs": [
        {
          "output_type": "display_data",
          "data": {
            "text/plain": [
              "<Figure size 720x540 with 1 Axes>"
            ],
            "image/png": "[encoded data removed]"
          },
          "metadata": {
            "needs_background": "light"
          }
        }
      ]
    },
    {
      "cell_type": "code",
      "source": [
        "# Коэффициенты модели\n",
        "# model_RIDGE_cv.coef_"
      ],
      "metadata": {
        "id": "6pXckufbx_Pj"
      },
      "execution_count": null,
      "outputs": []
    },
    {
      "cell_type": "code",
      "source": [
        "# Стартовая цена дома, при всех предикторах == 0\n",
        "model_RIDGE_cv.intercept_"
      ],
      "metadata": {
        "colab": {
          "base_uri": "https://localhost:8080/"
        },
        "id": "C4xAvLhhyZA6",
        "outputId": "d568cea8-13e7-4364-8009-b87ed4e5d6a3"
      },
      "execution_count": null,
      "outputs": [
        {
          "output_type": "execute_result",
          "data": {
            "text/plain": [
              "466827.57630462287"
            ]
          },
          "metadata": {},
          "execution_count": 69
        }
      ]
    },
    {
      "cell_type": "markdown",
      "source": [
        "## **Итог**"
      ],
      "metadata": {
        "id": "1XNKEipJ6H4I"
      }
    },
    {
      "cell_type": "code",
      "source": [
        "print(\"Средняя абсолютная ошибка по линейной модели с числовыми предикторами\", MAE_real)\n",
        "print(\"Средняя абсолютная ошибка по линейной модели с Lasso и числовыми + категориальными предикторами\", MAE_lasso_dummies)\n",
        "print(\"Средняя абсолютная ошибка по линейной модели с Ridge и числовыми + категориальными предикторами\", MAE_ridge_dummies)"
      ],
      "metadata": {
        "colab": {
          "base_uri": "https://localhost:8080/"
        },
        "id": "I80dkE5G6D8g",
        "outputId": "e4cefda1-b01a-4573-ec94-d9f46c5f1edb"
      },
      "execution_count": null,
      "outputs": [
        {
          "output_type": "stream",
          "name": "stdout",
          "text": [
            "Средняя абсолютная ошибка по линейной модели с числовыми предикторами 19274.53672363394\n",
            "Средняя абсолютная ошибка по линейной модели с Lasso и числовыми + категориальными предикторами 18320.355897973168\n",
            "Средняя абсолютная ошибка по линейной модели с Ridge и числовыми + категориальными предикторами 16274.122422841276\n"
          ]
        }
      ]
    },
    {
      "cell_type": "markdown",
      "source": [
        "\n",
        "\n",
        "---\n",
        "\n",
        "\n",
        "\n",
        "---\n",
        "\n"
      ],
      "metadata": {
        "id": "pTUS1jjjriVD"
      }
    },
    {
      "cell_type": "markdown",
      "source": [
        "# **Домашнее задание**"
      ],
      "metadata": {
        "id": "IahLZRiZ4FEQ"
      }
    },
    {
      "cell_type": "markdown",
      "source": [
        "## **Задание:**\n",
        "Нужна медианная стоимость квартиры в доме.\n",
        "Можно использовать ElasticNet, Rigde, Lasso, обычную регрессию.\n",
        "\n",
        "### **Требование:**\n",
        "Тест более 0.62"
      ],
      "metadata": {
        "id": "HFhpMxgejpVr"
      }
    },
    {
      "cell_type": "code",
      "source": [
        "pip install shap"
      ],
      "metadata": {
        "colab": {
          "base_uri": "https://localhost:8080/"
        },
        "id": "9wWKjGF48Sww",
        "outputId": "e005b9d1-4d11-4a6f-f653-82c3b2cf96c0"
      },
      "execution_count": 461,
      "outputs": [
        {
          "output_type": "stream",
          "name": "stdout",
          "text": [
            "Requirement already satisfied: shap in /usr/local/lib/python3.7/dist-packages (0.40.0)\n",
            "Requirement already satisfied: packaging>20.9 in /usr/local/lib/python3.7/dist-packages (from shap) (21.3)\n",
            "Requirement already satisfied: cloudpickle in /usr/local/lib/python3.7/dist-packages (from shap) (1.3.0)\n",
            "Requirement already satisfied: scipy in /usr/local/lib/python3.7/dist-packages (from shap) (1.4.1)\n",
            "Requirement already satisfied: tqdm>4.25.0 in /usr/local/lib/python3.7/dist-packages (from shap) (4.64.0)\n",
            "Requirement already satisfied: numpy in /usr/local/lib/python3.7/dist-packages (from shap) (1.21.5)\n",
            "Requirement already satisfied: scikit-learn in /usr/local/lib/python3.7/dist-packages (from shap) (1.0.2)\n",
            "Requirement already satisfied: pandas in /usr/local/lib/python3.7/dist-packages (from shap) (1.3.5)\n",
            "Requirement already satisfied: numba in /usr/local/lib/python3.7/dist-packages (from shap) (0.51.2)\n",
            "Requirement already satisfied: slicer==0.0.7 in /usr/local/lib/python3.7/dist-packages (from shap) (0.0.7)\n",
            "Requirement already satisfied: pyparsing!=3.0.5,>=2.0.2 in /usr/local/lib/python3.7/dist-packages (from packaging>20.9->shap) (3.0.8)\n",
            "Requirement already satisfied: setuptools in /usr/local/lib/python3.7/dist-packages (from numba->shap) (57.4.0)\n",
            "Requirement already satisfied: llvmlite<0.35,>=0.34.0.dev0 in /usr/local/lib/python3.7/dist-packages (from numba->shap) (0.34.0)\n",
            "Requirement already satisfied: pytz>=2017.3 in /usr/local/lib/python3.7/dist-packages (from pandas->shap) (2018.9)\n",
            "Requirement already satisfied: python-dateutil>=2.7.3 in /usr/local/lib/python3.7/dist-packages (from pandas->shap) (2.8.2)\n",
            "Requirement already satisfied: six>=1.5 in /usr/local/lib/python3.7/dist-packages (from python-dateutil>=2.7.3->pandas->shap) (1.15.0)\n",
            "Requirement already satisfied: joblib>=0.11 in /usr/local/lib/python3.7/dist-packages (from scikit-learn->shap) (1.1.0)\n",
            "Requirement already satisfied: threadpoolctl>=2.0.0 in /usr/local/lib/python3.7/dist-packages (from scikit-learn->shap) (3.1.0)\n"
          ]
        }
      ]
    },
    {
      "cell_type": "code",
      "source": [
        "import numpy as np\n",
        "\n",
        "import matplotlib.pyplot as plt\n",
        "# Some nice default configuration for plots\n",
        "plt.rcParams['figure.figsize'] = 11, 7\n",
        "plt.rcParams['axes.grid'] = True\n",
        "plt.pink()\n",
        "\n",
        "import shap\n",
        "from seaborn import heatmap\n",
        "from sklearn.preprocessing import StandardScaler\n",
        "\n",
        "from numpy import percentile\n",
        "\n",
        "import pandas as pd\n",
        "import sklearn.datasets as datasets\n",
        "from sklearn.model_selection import train_test_split, cross_validate\n",
        "from sklearn.linear_model import LinearRegression, LassoCV, Lasso, RidgeCV, Ridge, ElasticNet, ElasticNetCV\n",
        "from sklearn.metrics import r2_score, mean_absolute_error, SCORERS"
      ],
      "metadata": {
        "colab": {
          "base_uri": "https://localhost:8080/",
          "height": 35
        },
        "id": "W_v3c-2j4MnM",
        "outputId": "ec787775-4396-4632-e69b-1c88e8a134fa"
      },
      "execution_count": 432,
      "outputs": [
        {
          "output_type": "display_data",
          "data": {
            "text/plain": [
              "<Figure size 792x504 with 0 Axes>"
            ]
          },
          "metadata": {}
        }
      ]
    },
    {
      "cell_type": "code",
      "source": [
        "data_train = pd.read_csv(\"/content/sample_data/california_housing_train.csv\")\n",
        "data_test = pd.read_csv(\"/content/sample_data/california_housing_test.csv\")\n",
        "\n",
        "data_train = pd.concat([data_train, data_test], axis=0)\n",
        "\n",
        "print(data_train.shape, data_test.shape)"
      ],
      "metadata": {
        "colab": {
          "base_uri": "https://localhost:8080/"
        },
        "id": "3ZMV-xbr4VfZ",
        "outputId": "808d4f72-3be2-4896-b524-e9c6320d941e"
      },
      "execution_count": 433,
      "outputs": [
        {
          "output_type": "stream",
          "name": "stdout",
          "text": [
            "(20000, 9) (3000, 9)\n"
          ]
        }
      ]
    },
    {
      "cell_type": "markdown",
      "source": [
        "### **Датасет:**\n",
        "\n",
        "        - longitude               Показатель того, насколько далеко в сторону запада находится дом; более высокое значение - дальше на запад\n",
        "        - latitude                Показатель того, насколько далеко в сторону севера находится дом; более высокое значение - дальше на север\n",
        "        - housing_median_age      Средний возраст дома в пределах квартала; меньшее число означает более новое здание\n",
        "        - total_rooms             Общее количество комнат в квартале\n",
        "        - total_bedrooms          Общее количество спален в квартале\n",
        "        - population              Общее количество людей, проживающих в пределах квартала\n",
        "        - house_holds             Общее число семей - группа людей, проживающих в пределах жилого блока\n",
        "        - median_income           Средний доход на семью в пределах квартала домов (измеряется в десятках тысяч долларов США)\n",
        "        - median_house_value      Средняя стоимость дома для семей в пределах квартала (измеряется в долларах США)"
      ],
      "metadata": {
        "id": "UOvfmQveEFub"
      }
    },
    {
      "cell_type": "markdown",
      "source": [
        "### **Подготовка данных**"
      ],
      "metadata": {
        "id": "fqzE5j1cmxO-"
      }
    },
    {
      "cell_type": "code",
      "source": [
        "data_train.head(3)"
      ],
      "metadata": {
        "colab": {
          "base_uri": "https://localhost:8080/",
          "height": 143
        },
        "id": "M2qcDgOdjuSk",
        "outputId": "95b93c0c-b48e-4c00-8a97-bf00c5f4c3f2"
      },
      "execution_count": 434,
      "outputs": [
        {
          "output_type": "execute_result",
          "data": {
            "text/plain": [
              "   longitude  latitude  housing_median_age  total_rooms  total_bedrooms  \\\n",
              "0    -114.31     34.19                15.0       5612.0          1283.0   \n",
              "1    -114.47     34.40                19.0       7650.0          1901.0   \n",
              "2    -114.56     33.69                17.0        720.0           174.0   \n",
              "\n",
              "   population  households  median_income  median_house_value  \n",
              "0      1015.0       472.0         1.4936             66900.0  \n",
              "1      1129.0       463.0         1.8200             80100.0  \n",
              "2       333.0       117.0         1.6509             85700.0  "
            ],
            "text/html": [
              "\n",
              "  <div id=\"df-3938e0f8-17cf-4aba-af50-bacf4a2b6e72\">\n",
              "    <div class=\"colab-df-container\">\n",
              "      <div>\n",
              "<style scoped>\n",
              "    .dataframe tbody tr th:only-of-type {\n",
              "        vertical-align: middle;\n",
              "    }\n",
              "\n",
              "    .dataframe tbody tr th {\n",
              "        vertical-align: top;\n",
              "    }\n",
              "\n",
              "    .dataframe thead th {\n",
              "        text-align: right;\n",
              "    }\n",
              "</style>\n",
              "<table border=\"1\" class=\"dataframe\">\n",
              "  <thead>\n",
              "    <tr style=\"text-align: right;\">\n",
              "      <th></th>\n",
              "      <th>longitude</th>\n",
              "      <th>latitude</th>\n",
              "      <th>housing_median_age</th>\n",
              "      <th>total_rooms</th>\n",
              "      <th>total_bedrooms</th>\n",
              "      <th>population</th>\n",
              "      <th>households</th>\n",
              "      <th>median_income</th>\n",
              "      <th>median_house_value</th>\n",
              "    </tr>\n",
              "  </thead>\n",
              "  <tbody>\n",
              "    <tr>\n",
              "      <th>0</th>\n",
              "      <td>-114.31</td>\n",
              "      <td>34.19</td>\n",
              "      <td>15.0</td>\n",
              "      <td>5612.0</td>\n",
              "      <td>1283.0</td>\n",
              "      <td>1015.0</td>\n",
              "      <td>472.0</td>\n",
              "      <td>1.4936</td>\n",
              "      <td>66900.0</td>\n",
              "    </tr>\n",
              "    <tr>\n",
              "      <th>1</th>\n",
              "      <td>-114.47</td>\n",
              "      <td>34.40</td>\n",
              "      <td>19.0</td>\n",
              "      <td>7650.0</td>\n",
              "      <td>1901.0</td>\n",
              "      <td>1129.0</td>\n",
              "      <td>463.0</td>\n",
              "      <td>1.8200</td>\n",
              "      <td>80100.0</td>\n",
              "    </tr>\n",
              "    <tr>\n",
              "      <th>2</th>\n",
              "      <td>-114.56</td>\n",
              "      <td>33.69</td>\n",
              "      <td>17.0</td>\n",
              "      <td>720.0</td>\n",
              "      <td>174.0</td>\n",
              "      <td>333.0</td>\n",
              "      <td>117.0</td>\n",
              "      <td>1.6509</td>\n",
              "      <td>85700.0</td>\n",
              "    </tr>\n",
              "  </tbody>\n",
              "</table>\n",
              "</div>\n",
              "      <button class=\"colab-df-convert\" onclick=\"convertToInteractive('df-3938e0f8-17cf-4aba-af50-bacf4a2b6e72')\"\n",
              "              title=\"Convert this dataframe to an interactive table.\"\n",
              "              style=\"display:none;\">\n",
              "        \n",
              "  <svg xmlns=\"http://www.w3.org/2000/svg\" height=\"24px\"viewBox=\"0 0 24 24\"\n",
              "       width=\"24px\">\n",
              "    <path d=\"M0 0h24v24H0V0z\" fill=\"none\"/>\n",
              "    <path d=\"M18.56 5.44l.94 2.06.94-2.06 2.06-.94-2.06-.94-.94-2.06-.94 2.06-2.06.94zm-11 1L8.5 8.5l.94-2.06 2.06-.94-2.06-.94L8.5 2.5l-.94 2.06-2.06.94zm10 10l.94 2.06.94-2.06 2.06-.94-2.06-.94-.94-2.06-.94 2.06-2.06.94z\"/><path d=\"M17.41 7.96l-1.37-1.37c-.4-.4-.92-.59-1.43-.59-.52 0-1.04.2-1.43.59L10.3 9.45l-7.72 7.72c-.78.78-.78 2.05 0 2.83L4 21.41c.39.39.9.59 1.41.59.51 0 1.02-.2 1.41-.59l7.78-7.78 2.81-2.81c.8-.78.8-2.07 0-2.86zM5.41 20L4 18.59l7.72-7.72 1.47 1.35L5.41 20z\"/>\n",
              "  </svg>\n",
              "      </button>\n",
              "      \n",
              "  <style>\n",
              "    .colab-df-container {\n",
              "      display:flex;\n",
              "      flex-wrap:wrap;\n",
              "      gap: 12px;\n",
              "    }\n",
              "\n",
              "    .colab-df-convert {\n",
              "      background-color: #E8F0FE;\n",
              "      border: none;\n",
              "      border-radius: 50%;\n",
              "      cursor: pointer;\n",
              "      display: none;\n",
              "      fill: #1967D2;\n",
              "      height: 32px;\n",
              "      padding: 0 0 0 0;\n",
              "      width: 32px;\n",
              "    }\n",
              "\n",
              "    .colab-df-convert:hover {\n",
              "      background-color: #E2EBFA;\n",
              "      box-shadow: 0px 1px 2px rgba(60, 64, 67, 0.3), 0px 1px 3px 1px rgba(60, 64, 67, 0.15);\n",
              "      fill: #174EA6;\n",
              "    }\n",
              "\n",
              "    [theme=dark] .colab-df-convert {\n",
              "      background-color: #3B4455;\n",
              "      fill: #D2E3FC;\n",
              "    }\n",
              "\n",
              "    [theme=dark] .colab-df-convert:hover {\n",
              "      background-color: #434B5C;\n",
              "      box-shadow: 0px 1px 3px 1px rgba(0, 0, 0, 0.15);\n",
              "      filter: drop-shadow(0px 1px 2px rgba(0, 0, 0, 0.3));\n",
              "      fill: #FFFFFF;\n",
              "    }\n",
              "  </style>\n",
              "\n",
              "      <script>\n",
              "        const buttonEl =\n",
              "          document.querySelector('#df-3938e0f8-17cf-4aba-af50-bacf4a2b6e72 button.colab-df-convert');\n",
              "        buttonEl.style.display =\n",
              "          google.colab.kernel.accessAllowed ? 'block' : 'none';\n",
              "\n",
              "        async function convertToInteractive(key) {\n",
              "          const element = document.querySelector('#df-3938e0f8-17cf-4aba-af50-bacf4a2b6e72');\n",
              "          const dataTable =\n",
              "            await google.colab.kernel.invokeFunction('convertToInteractive',\n",
              "                                                     [key], {});\n",
              "          if (!dataTable) return;\n",
              "\n",
              "          const docLinkHtml = 'Like what you see? Visit the ' +\n",
              "            '<a target=\"_blank\" href=https://colab.research.google.com/notebooks/data_table.ipynb>data table notebook</a>'\n",
              "            + ' to learn more about interactive tables.';\n",
              "          element.innerHTML = '';\n",
              "          dataTable['output_type'] = 'display_data';\n",
              "          await google.colab.output.renderOutput(dataTable, element);\n",
              "          const docLink = document.createElement('div');\n",
              "          docLink.innerHTML = docLinkHtml;\n",
              "          element.appendChild(docLink);\n",
              "        }\n",
              "      </script>\n",
              "    </div>\n",
              "  </div>\n",
              "  "
            ]
          },
          "metadata": {},
          "execution_count": 434
        }
      ]
    },
    {
      "cell_type": "code",
      "source": [
        "# Посмотрим предположение о том, что долгота и ширина связаны с медианной ценой дома\n",
        "plt.scatter(x=data_train['longitude'], y=data_train['latitude'], c=data_train['median_house_value'])\n",
        "plt.title(\"Иллюстрация предположения\")\n",
        "plt.xlabel(\"Долгота (longitude)\")\n",
        "plt.ylabel(\"Широта (latitude)\")\n",
        "plt.show()"
      ],
      "metadata": {
        "colab": {
          "base_uri": "https://localhost:8080/",
          "height": 458
        },
        "id": "JK5VAVKGj8yX",
        "outputId": "78757d3c-9407-41c4-9862-ea4390ef9e85"
      },
      "execution_count": 435,
      "outputs": [
        {
          "output_type": "display_data",
          "data": {
            "text/plain": [
              "<Figure size 792x504 with 1 Axes>"
            ],
            "image/png": "[encoded data removed]"
          },
          "metadata": {
            "needs_background": "light"
          }
        }
      ]
    },
    {
      "cell_type": "markdown",
      "source": [
        "Каких-то явно полезных зависимостей обнаружено не было. Смотрим дальше."
      ],
      "metadata": {
        "id": "B4T596F5tqSe"
      }
    },
    {
      "cell_type": "code",
      "source": [
        "# Смотрим наличие корреляции в атрибутах с целевым столбцом. Нас интересует модуль корреляции.\n",
        "# Но при этом линейно-зависимые признаки нам не сильно мешают в регрессии (мешают в классификации)\n",
        "abs(data_train.corr().iloc[-1, :-1])"
      ],
      "metadata": {
        "colab": {
          "base_uri": "https://localhost:8080/"
        },
        "id": "05oKWSMsj0Kr",
        "outputId": "64267cb0-c728-474d-bd0a-a1cb279bd0cb"
      },
      "execution_count": 436,
      "outputs": [
        {
          "output_type": "execute_result",
          "data": {
            "text/plain": [
              "longitude             0.045788\n",
              "latitude              0.143969\n",
              "housing_median_age    0.104470\n",
              "total_rooms           0.135298\n",
              "total_bedrooms        0.051111\n",
              "population            0.024234\n",
              "households            0.066573\n",
              "median_income         0.689109\n",
              "Name: median_house_value, dtype: float64"
            ]
          },
          "metadata": {},
          "execution_count": 436
        }
      ]
    },
    {
      "cell_type": "code",
      "source": [
        "# Корреляция всех представленных атрибутов друг с другом.\n",
        "heatmap(abs(data_train.corr()), annot=True)"
      ],
      "metadata": {
        "colab": {
          "base_uri": "https://localhost:8080/",
          "height": 545
        },
        "id": "fUeLec1CImGj",
        "outputId": "591d40dd-e7f8-44ef-dd75-287303225c2b"
      },
      "execution_count": 437,
      "outputs": [
        {
          "output_type": "execute_result",
          "data": {
            "text/plain": [
              "<matplotlib.axes._subplots.AxesSubplot at 0x7fc1553867d0>"
            ]
          },
          "metadata": {},
          "execution_count": 437
        },
        {
          "output_type": "display_data",
          "data": {
            "text/plain": [
              "<Figure size 792x504 with 2 Axes>"
            ],
            "image/png": "[encoded data removed]"
          },
          "metadata": {
            "needs_background": "light"
          }
        }
      ]
    },
    {
      "cell_type": "markdown",
      "source": [
        "Из неочевидного - коррелляция между средним доходом (median_income) \n",
        "и средней стоимостью дома (median_house_value) - 0.69.\n",
        "Вероятно, застройщики ориентируются на проживающий там контингент."
      ],
      "metadata": {
        "id": "Z_7Vn9xIXBRy"
      }
    },
    {
      "cell_type": "code",
      "source": [
        "data_train.info()"
      ],
      "metadata": {
        "colab": {
          "base_uri": "https://localhost:8080/"
        },
        "id": "zViBO1g2BvtP",
        "outputId": "a82f894b-e84f-49a8-bb1a-938b0c8fb49b"
      },
      "execution_count": 438,
      "outputs": [
        {
          "output_type": "stream",
          "name": "stdout",
          "text": [
            "<class 'pandas.core.frame.DataFrame'>\n",
            "Int64Index: 20000 entries, 0 to 2999\n",
            "Data columns (total 9 columns):\n",
            " #   Column              Non-Null Count  Dtype  \n",
            "---  ------              --------------  -----  \n",
            " 0   longitude           20000 non-null  float64\n",
            " 1   latitude            20000 non-null  float64\n",
            " 2   housing_median_age  20000 non-null  float64\n",
            " 3   total_rooms         20000 non-null  float64\n",
            " 4   total_bedrooms      20000 non-null  float64\n",
            " 5   population          20000 non-null  float64\n",
            " 6   households          20000 non-null  float64\n",
            " 7   median_income       20000 non-null  float64\n",
            " 8   median_house_value  20000 non-null  float64\n",
            "dtypes: float64(9)\n",
            "memory usage: 1.5 MB\n"
          ]
        }
      ]
    },
    {
      "cell_type": "code",
      "source": [
        "# Смотрим основные статистики\n",
        "data_train.describe()"
      ],
      "metadata": {
        "colab": {
          "base_uri": "https://localhost:8080/",
          "height": 300
        },
        "id": "tw2YtyWZCMvw",
        "outputId": "11876a49-9301-4ef6-c69f-066059211fdb"
      },
      "execution_count": 439,
      "outputs": [
        {
          "output_type": "execute_result",
          "data": {
            "text/plain": [
              "          longitude      latitude  housing_median_age   total_rooms  \\\n",
              "count  20000.000000  20000.000000        20000.000000  20000.000000   \n",
              "mean    -119.566172     35.626750           28.627750   2637.051550   \n",
              "std        2.003609      2.136141           12.582229   2176.314757   \n",
              "min     -124.350000     32.540000            1.000000      2.000000   \n",
              "25%     -121.790000     33.930000           18.000000   1451.000000   \n",
              "50%     -118.490000     34.250000           29.000000   2126.000000   \n",
              "75%     -118.000000     37.710000           37.000000   3149.000000   \n",
              "max     -114.310000     41.950000           52.000000  37937.000000   \n",
              "\n",
              "       total_bedrooms    population    households  median_income  \\\n",
              "count    20000.000000  20000.000000  20000.000000   20000.000000   \n",
              "mean       537.991800   1425.557650    499.525450       3.872132   \n",
              "std        420.631119   1131.048487    381.729517       1.900356   \n",
              "min          1.000000      3.000000      1.000000       0.499900   \n",
              "25%        296.000000    788.000000    280.000000       2.562500   \n",
              "50%        434.000000   1166.000000    409.000000       3.536000   \n",
              "75%        647.000000   1724.000000    604.000000       4.745325   \n",
              "max       6445.000000  35682.000000   6082.000000      15.000100   \n",
              "\n",
              "       median_house_value  \n",
              "count        20000.000000  \n",
              "mean        207082.716750  \n",
              "std         115557.055856  \n",
              "min          14999.000000  \n",
              "25%         119800.000000  \n",
              "50%         179800.000000  \n",
              "75%         265000.000000  \n",
              "max         500001.000000  "
            ],
            "text/html": [
              "\n",
              "  <div id=\"df-2460e6d4-f703-407c-85af-a616dc12a967\">\n",
              "    <div class=\"colab-df-container\">\n",
              "      <div>\n",
              "<style scoped>\n",
              "    .dataframe tbody tr th:only-of-type {\n",
              "        vertical-align: middle;\n",
              "    }\n",
              "\n",
              "    .dataframe tbody tr th {\n",
              "        vertical-align: top;\n",
              "    }\n",
              "\n",
              "    .dataframe thead th {\n",
              "        text-align: right;\n",
              "    }\n",
              "</style>\n",
              "<table border=\"1\" class=\"dataframe\">\n",
              "  <thead>\n",
              "    <tr style=\"text-align: right;\">\n",
              "      <th></th>\n",
              "      <th>longitude</th>\n",
              "      <th>latitude</th>\n",
              "      <th>housing_median_age</th>\n",
              "      <th>total_rooms</th>\n",
              "      <th>total_bedrooms</th>\n",
              "      <th>population</th>\n",
              "      <th>households</th>\n",
              "      <th>median_income</th>\n",
              "      <th>median_house_value</th>\n",
              "    </tr>\n",
              "  </thead>\n",
              "  <tbody>\n",
              "    <tr>\n",
              "      <th>count</th>\n",
              "      <td>20000.000000</td>\n",
              "      <td>20000.000000</td>\n",
              "      <td>20000.000000</td>\n",
              "      <td>20000.000000</td>\n",
              "      <td>20000.000000</td>\n",
              "      <td>20000.000000</td>\n",
              "      <td>20000.000000</td>\n",
              "      <td>20000.000000</td>\n",
              "      <td>20000.000000</td>\n",
              "    </tr>\n",
              "    <tr>\n",
              "      <th>mean</th>\n",
              "      <td>-119.566172</td>\n",
              "      <td>35.626750</td>\n",
              "      <td>28.627750</td>\n",
              "      <td>2637.051550</td>\n",
              "      <td>537.991800</td>\n",
              "      <td>1425.557650</td>\n",
              "      <td>499.525450</td>\n",
              "      <td>3.872132</td>\n",
              "      <td>207082.716750</td>\n",
              "    </tr>\n",
              "    <tr>\n",
              "      <th>std</th>\n",
              "      <td>2.003609</td>\n",
              "      <td>2.136141</td>\n",
              "      <td>12.582229</td>\n",
              "      <td>2176.314757</td>\n",
              "      <td>420.631119</td>\n",
              "      <td>1131.048487</td>\n",
              "      <td>381.729517</td>\n",
              "      <td>1.900356</td>\n",
              "      <td>115557.055856</td>\n",
              "    </tr>\n",
              "    <tr>\n",
              "      <th>min</th>\n",
              "      <td>-124.350000</td>\n",
              "      <td>32.540000</td>\n",
              "      <td>1.000000</td>\n",
              "      <td>2.000000</td>\n",
              "      <td>1.000000</td>\n",
              "      <td>3.000000</td>\n",
              "      <td>1.000000</td>\n",
              "      <td>0.499900</td>\n",
              "      <td>14999.000000</td>\n",
              "    </tr>\n",
              "    <tr>\n",
              "      <th>25%</th>\n",
              "      <td>-121.790000</td>\n",
              "      <td>33.930000</td>\n",
              "      <td>18.000000</td>\n",
              "      <td>1451.000000</td>\n",
              "      <td>296.000000</td>\n",
              "      <td>788.000000</td>\n",
              "      <td>280.000000</td>\n",
              "      <td>2.562500</td>\n",
              "      <td>119800.000000</td>\n",
              "    </tr>\n",
              "    <tr>\n",
              "      <th>50%</th>\n",
              "      <td>-118.490000</td>\n",
              "      <td>34.250000</td>\n",
              "      <td>29.000000</td>\n",
              "      <td>2126.000000</td>\n",
              "      <td>434.000000</td>\n",
              "      <td>1166.000000</td>\n",
              "      <td>409.000000</td>\n",
              "      <td>3.536000</td>\n",
              "      <td>179800.000000</td>\n",
              "    </tr>\n",
              "    <tr>\n",
              "      <th>75%</th>\n",
              "      <td>-118.000000</td>\n",
              "      <td>37.710000</td>\n",
              "      <td>37.000000</td>\n",
              "      <td>3149.000000</td>\n",
              "      <td>647.000000</td>\n",
              "      <td>1724.000000</td>\n",
              "      <td>604.000000</td>\n",
              "      <td>4.745325</td>\n",
              "      <td>265000.000000</td>\n",
              "    </tr>\n",
              "    <tr>\n",
              "      <th>max</th>\n",
              "      <td>-114.310000</td>\n",
              "      <td>41.950000</td>\n",
              "      <td>52.000000</td>\n",
              "      <td>37937.000000</td>\n",
              "      <td>6445.000000</td>\n",
              "      <td>35682.000000</td>\n",
              "      <td>6082.000000</td>\n",
              "      <td>15.000100</td>\n",
              "      <td>500001.000000</td>\n",
              "    </tr>\n",
              "  </tbody>\n",
              "</table>\n",
              "</div>\n",
              "      <button class=\"colab-df-convert\" onclick=\"convertToInteractive('df-2460e6d4-f703-407c-85af-a616dc12a967')\"\n",
              "              title=\"Convert this dataframe to an interactive table.\"\n",
              "              style=\"display:none;\">\n",
              "        \n",
              "  <svg xmlns=\"http://www.w3.org/2000/svg\" height=\"24px\"viewBox=\"0 0 24 24\"\n",
              "       width=\"24px\">\n",
              "    <path d=\"M0 0h24v24H0V0z\" fill=\"none\"/>\n",
              "    <path d=\"M18.56 5.44l.94 2.06.94-2.06 2.06-.94-2.06-.94-.94-2.06-.94 2.06-2.06.94zm-11 1L8.5 8.5l.94-2.06 2.06-.94-2.06-.94L8.5 2.5l-.94 2.06-2.06.94zm10 10l.94 2.06.94-2.06 2.06-.94-2.06-.94-.94-2.06-.94 2.06-2.06.94z\"/><path d=\"M17.41 7.96l-1.37-1.37c-.4-.4-.92-.59-1.43-.59-.52 0-1.04.2-1.43.59L10.3 9.45l-7.72 7.72c-.78.78-.78 2.05 0 2.83L4 21.41c.39.39.9.59 1.41.59.51 0 1.02-.2 1.41-.59l7.78-7.78 2.81-2.81c.8-.78.8-2.07 0-2.86zM5.41 20L4 18.59l7.72-7.72 1.47 1.35L5.41 20z\"/>\n",
              "  </svg>\n",
              "      </button>\n",
              "      \n",
              "  <style>\n",
              "    .colab-df-container {\n",
              "      display:flex;\n",
              "      flex-wrap:wrap;\n",
              "      gap: 12px;\n",
              "    }\n",
              "\n",
              "    .colab-df-convert {\n",
              "      background-color: #E8F0FE;\n",
              "      border: none;\n",
              "      border-radius: 50%;\n",
              "      cursor: pointer;\n",
              "      display: none;\n",
              "      fill: #1967D2;\n",
              "      height: 32px;\n",
              "      padding: 0 0 0 0;\n",
              "      width: 32px;\n",
              "    }\n",
              "\n",
              "    .colab-df-convert:hover {\n",
              "      background-color: #E2EBFA;\n",
              "      box-shadow: 0px 1px 2px rgba(60, 64, 67, 0.3), 0px 1px 3px 1px rgba(60, 64, 67, 0.15);\n",
              "      fill: #174EA6;\n",
              "    }\n",
              "\n",
              "    [theme=dark] .colab-df-convert {\n",
              "      background-color: #3B4455;\n",
              "      fill: #D2E3FC;\n",
              "    }\n",
              "\n",
              "    [theme=dark] .colab-df-convert:hover {\n",
              "      background-color: #434B5C;\n",
              "      box-shadow: 0px 1px 3px 1px rgba(0, 0, 0, 0.15);\n",
              "      filter: drop-shadow(0px 1px 2px rgba(0, 0, 0, 0.3));\n",
              "      fill: #FFFFFF;\n",
              "    }\n",
              "  </style>\n",
              "\n",
              "      <script>\n",
              "        const buttonEl =\n",
              "          document.querySelector('#df-2460e6d4-f703-407c-85af-a616dc12a967 button.colab-df-convert');\n",
              "        buttonEl.style.display =\n",
              "          google.colab.kernel.accessAllowed ? 'block' : 'none';\n",
              "\n",
              "        async function convertToInteractive(key) {\n",
              "          const element = document.querySelector('#df-2460e6d4-f703-407c-85af-a616dc12a967');\n",
              "          const dataTable =\n",
              "            await google.colab.kernel.invokeFunction('convertToInteractive',\n",
              "                                                     [key], {});\n",
              "          if (!dataTable) return;\n",
              "\n",
              "          const docLinkHtml = 'Like what you see? Visit the ' +\n",
              "            '<a target=\"_blank\" href=https://colab.research.google.com/notebooks/data_table.ipynb>data table notebook</a>'\n",
              "            + ' to learn more about interactive tables.';\n",
              "          element.innerHTML = '';\n",
              "          dataTable['output_type'] = 'display_data';\n",
              "          await google.colab.output.renderOutput(dataTable, element);\n",
              "          const docLink = document.createElement('div');\n",
              "          docLink.innerHTML = docLinkHtml;\n",
              "          element.appendChild(docLink);\n",
              "        }\n",
              "      </script>\n",
              "    </div>\n",
              "  </div>\n",
              "  "
            ]
          },
          "metadata": {},
          "execution_count": 439
        }
      ]
    },
    {
      "cell_type": "code",
      "source": [
        "# Распределение других данных\n",
        "data_train.iloc[:, :-1].hist(bins=30, edgecolor=\"black\")\n",
        "plt.subplots_adjust(hspace=0.7, wspace=0.4)"
      ],
      "metadata": {
        "colab": {
          "base_uri": "https://localhost:8080/",
          "height": 444
        },
        "id": "OQL4fbByTPRc",
        "outputId": "3662504e-49b0-47f8-a7f4-ca5d961f3a00"
      },
      "execution_count": 440,
      "outputs": [
        {
          "output_type": "display_data",
          "data": {
            "text/plain": [
              "<Figure size 792x504 with 9 Axes>"
            ],
            "image/png": "[encoded data removed]"
          },
          "metadata": {
            "needs_background": "light"
          }
        }
      ]
    },
    {
      "cell_type": "markdown",
      "source": [
        "Как видно из графиков, распределения значений на некоторых подграфиках сдвинуты влево. Избавимся от этого с помщью логарифмирования"
      ],
      "metadata": {
        "id": "4wu-p4dj4L3v"
      }
    },
    {
      "cell_type": "code",
      "source": [
        "for i in ['total_rooms', 'total_bedrooms', 'population', 'households']:\n",
        "  # Можно еще добавить 'median_income', но от его смещения результаты моделей становятся хуже. Почему?\n",
        "  data_train[i] = np.log(data_train[i]+1)"
      ],
      "metadata": {
        "id": "RRbhNjBI3cnB"
      },
      "execution_count": 441,
      "outputs": []
    },
    {
      "cell_type": "code",
      "source": [
        "data_train.iloc[:, :-1].hist(bins=30, edgecolor=\"black\")\n",
        "plt.subplots_adjust(hspace=0.7, wspace=0.4)"
      ],
      "metadata": {
        "colab": {
          "base_uri": "https://localhost:8080/",
          "height": 444
        },
        "id": "qYqbRIPp4FMU",
        "outputId": "36bf7e17-bd4f-4515-c700-bf2e3c3533a1"
      },
      "execution_count": 442,
      "outputs": [
        {
          "output_type": "display_data",
          "data": {
            "text/plain": [
              "<Figure size 792x504 with 9 Axes>"
            ],
            "image/png": "[encoded data removed]"
          },
          "metadata": {
            "needs_background": "light"
          }
        }
      ]
    },
    {
      "cell_type": "markdown",
      "source": [
        "### **Гипотеза:**\n",
        "\n",
        "\n",
        "    - Стоимость дома тем выше, чем больше средний доход семьи по кварталу.\n",
        "\n"
      ],
      "metadata": {
        "id": "FmlfnKR_DupG"
      }
    },
    {
      "cell_type": "code",
      "source": [
        "# Произведем масштабирование признаков для улучшения качества обучения нашей модели\n",
        "# (используемая функция вычитает среднее значение и делит его на дисперсию)\n",
        "\n",
        "scaler = StandardScaler()\n",
        "scaler.fit(data_train)\n",
        "data_train_scaled = scaler.transform(data_train)"
      ],
      "metadata": {
        "id": "72ClLpesUulF"
      },
      "execution_count": 443,
      "outputs": []
    },
    {
      "cell_type": "code",
      "source": [
        "X = data_train_scaled[:, :-1]\n",
        "Y = data_train_scaled[:, -1]\n",
        "print(X.shape)\n",
        "print(Y.shape)"
      ],
      "metadata": {
        "colab": {
          "base_uri": "https://localhost:8080/"
        },
        "id": "nDRlvI-KXuIf",
        "outputId": "da189206-5a2d-4a13-eb33-e9ba2a63fc8d"
      },
      "execution_count": 444,
      "outputs": [
        {
          "output_type": "stream",
          "name": "stdout",
          "text": [
            "(20000, 8)\n",
            "(20000,)\n"
          ]
        }
      ]
    },
    {
      "cell_type": "code",
      "source": [
        "# Тестовая выборка\n",
        "# data_test_scaled = scaler.transform(data_test)\n",
        "\n",
        "# X_rtest_sc = data_test_scaled[:, :-1]\n",
        "# Y_rtest_sc = data_test_scaled[:, -1]"
      ],
      "metadata": {
        "id": "lMYuwIVK3ktX"
      },
      "execution_count": 445,
      "outputs": []
    },
    {
      "cell_type": "markdown",
      "source": [
        "Теперь посмотрим на распределение самой целевой переменной - median_house_value"
      ],
      "metadata": {
        "id": "oef78Kt6PxXg"
      }
    },
    {
      "cell_type": "code",
      "source": [
        "plt.hist(data_train.median_house_value, bins = 40, ec='black', color = 'orange')\n",
        "plt.xlabel('median_house_value', fontsize=14)\n",
        "plt.ylabel('Количество домов', fontsize=14)\n",
        "plt.title('Распределение медианной цены жилья в квартале', fontsize=14)\n",
        "plt.axvline(data_train['median_house_value'].mean(), color='#21209c', linestyle='dashed', linewidth=3)\n",
        "plt.show()"
      ],
      "metadata": {
        "colab": {
          "base_uri": "https://localhost:8080/",
          "height": 464
        },
        "id": "PzTg--z2Pdla",
        "outputId": "4e4cbe44-1c39-448c-cbec-c0146240a91b"
      },
      "execution_count": 446,
      "outputs": [
        {
          "output_type": "display_data",
          "data": {
            "text/plain": [
              "<Figure size 792x504 with 1 Axes>"
            ],
            "image/png": "[encoded data removed]"
          },
          "metadata": {
            "needs_background": "light"
          }
        }
      ]
    },
    {
      "cell_type": "markdown",
      "source": [
        "Обнаружен выброс в виде экстремально большого количества домов стоимостью около 5000000 долларов.\n",
        "\n",
        "Это показывает наличие в Калифорнии большого количества строений класса люкс или же данная цена является значением по умолчанию.\n",
        "\n",
        "От найденно выброса можно избавиться путем применения метода стандартных отклонений (для гауссоподобного распределения) или квартильным методом. Выберем второй."
      ],
      "metadata": {
        "id": "zWQOV05dSyn0"
      }
    },
    {
      "cell_type": "code",
      "source": [
        "q25, q75 = percentile(Y, 25), percentile(Y, 75)\n",
        "iqr = q75 - q25\n",
        "print('Квартили: 25-ый=%.3f, 75-ый=%.3f, IQR=%.3f' % (q25, q75, iqr))\n",
        "\n",
        "cut_off = iqr * 1.5\n",
        "lower, upper = q25 - cut_off, q75 + cut_off\n",
        "print('Найденные границы: нижняя=%.3f, верхняя=%.3f' % (lower, upper))"
      ],
      "metadata": {
        "colab": {
          "base_uri": "https://localhost:8080/"
        },
        "id": "743pKJcBrCEt",
        "outputId": "dd1cc379-feee-43a6-aff0-cde6953da0ab"
      },
      "execution_count": 447,
      "outputs": [
        {
          "output_type": "stream",
          "name": "stdout",
          "text": [
            "Квартили: 25-ый=-0.755, 75-ый=0.501, IQR=1.257\n",
            "Найденные границы: нижняя=-2.640, верхняя=2.386\n"
          ]
        }
      ]
    },
    {
      "cell_type": "code",
      "source": [
        "indexes = []\n",
        "Y_IQR = []\n",
        "for i in range(len(Y)):\n",
        "  if Y[i] >= lower and Y[i] <= upper:\n",
        "    Y_IQR.append(Y[i])\n",
        "  else:\n",
        "    indexes.append(i)\n",
        "\n",
        "Y_IQR = np.array(Y_IQR)\n",
        "X_IQR = np.delete(X, indexes, axis=0)"
      ],
      "metadata": {
        "id": "aIEHc7kFx0Fr"
      },
      "execution_count": 448,
      "outputs": []
    },
    {
      "cell_type": "code",
      "source": [
        "plt.subplot(1, 2, 1) # row 1, col 2 index 1\n",
        "plt.hist(Y, bins=35, ec='black', color = 'orange')\n",
        "plt.title(\"Данные после нормализации\")\n",
        "plt.xlabel('median_house_value')\n",
        "plt.ylabel('Количество домов')\n",
        "plt.axvline(Y.mean(), color='#21209c', linestyle='dashed', linewidth=3)\n",
        "\n",
        "plt.subplot(1, 2, 2) # index 2\n",
        "plt.hist(Y_IQR, bins=35, ec='black', color = 'orange')\n",
        "plt.title(\"Данные после использования IQT\")\n",
        "plt.xlabel('median_house_value')\n",
        "plt.ylabel('Количество домов')\n",
        "plt.axvline(Y_IQR.mean(), color='#21209c', linestyle='dashed', linewidth=3)\n",
        "\n",
        "plt.subplots_adjust(hspace=0.7, wspace=0.4)\n",
        "plt.show()"
      ],
      "metadata": {
        "colab": {
          "base_uri": "https://localhost:8080/",
          "height": 459
        },
        "id": "ncVf1IAwtqQM",
        "outputId": "a94f8ac9-fee0-4fd0-b051-adfe9c874658"
      },
      "execution_count": 449,
      "outputs": [
        {
          "output_type": "display_data",
          "data": {
            "text/plain": [
              "<Figure size 792x504 with 2 Axes>"
            ],
            "image/png": "[encoded data removed]"
          },
          "metadata": {
            "needs_background": "light"
          }
        }
      ]
    },
    {
      "cell_type": "markdown",
      "source": [
        "### **Работа с моделями**"
      ],
      "metadata": {
        "id": "-88n60u5X4AW"
      }
    },
    {
      "cell_type": "code",
      "source": [
        "# Тренировочный и тестовый наборы\n",
        "seed = 12\n",
        "\n",
        "X_train, X_test, Y_train, Y_test = train_test_split(X, Y,\n",
        "                                                    test_size=0.25,\n",
        "                                                    random_state=seed,\n",
        "                                                    shuffle=True)"
      ],
      "metadata": {
        "id": "qmQcaYovZPFM"
      },
      "execution_count": 450,
      "outputs": []
    },
    {
      "cell_type": "markdown",
      "source": [
        "### **Обычная линейная регрессия**"
      ],
      "metadata": {
        "id": "aNG7rFl52622"
      }
    },
    {
      "cell_type": "code",
      "source": [
        "linear_reg = LinearRegression()\n",
        "linear_reg.fit(X_train, Y_train)\n",
        "\n",
        "prediction_1 = linear_reg.predict(X_test)\n",
        "MAE_1 = mean_absolute_error(Y_test, prediction_1)\n",
        "\n",
        "print(\"Веса коэффициентов: \", linear_reg.coef_, \"\\n\")\n",
        "print(\"R2 на тестовом наборе: %0.5f\" % linear_reg.score(X_test, Y_test))\n",
        "print(\"MAE на тестовом наборе: %0.5f\" % MAE_1)"
      ],
      "metadata": {
        "colab": {
          "base_uri": "https://localhost:8080/"
        },
        "id": "UfenFn0IZFj8",
        "outputId": "606831ed-ea3e-412d-9e69-9d2d693efb79"
      },
      "execution_count": 451,
      "outputs": [
        {
          "output_type": "stream",
          "name": "stdout",
          "text": [
            "Веса коэффициентов:  [-0.7245514  -0.77609083  0.11777215 -0.37691671  0.67701127 -0.59460004\n",
            "  0.32099873  0.71873736] \n",
            "\n",
            "R2 на тестовом наборе: 0.66062\n",
            "MAE на тестовом наборе: 0.42385\n"
          ]
        }
      ]
    },
    {
      "cell_type": "code",
      "source": [
        "# prediction_1 = linear_reg.predict(X_rtest_sc)\n",
        "# R2_1 = linear_reg.score(X_rtest_sc, Y_rtest_sc)\n",
        "# MAE_1 = mean_absolute_error(Y_rtest_sc, prediction_1)\n",
        "\n",
        "# print(\"R2 на тестовом наборе (первоначальный): %0.5f\" % R2_1)\n",
        "# print(\"MAE на тестовом наборе (первоначальный): %0.5f\" % MAE_1)\n",
        "\n",
        "# predict = linear_regr.predict(data_test_scaled[:, :-1])\n",
        "# print(r2_score(data_test_scaled[:, -1], predict))"
      ],
      "metadata": {
        "id": "t3bY_Y553A91"
      },
      "execution_count": 452,
      "outputs": []
    },
    {
      "cell_type": "markdown",
      "source": [
        "### **Промежуточные замечания:**\n",
        "\n",
        "    1. Не было обнаружено разницы между результатами отмасштабированной регрессии и без масштабирования. Почему так?\n",
        "    2. Был удален выброс из целевой переменной, а так же удалены строки из обучающего набора X с неиспользуемыми в новом Y\n",
        "    индексами. Однако удаление выброса ухудшило результаты модели. Почему?"
      ],
      "metadata": {
        "id": "stjUAEgtXI1U"
      }
    },
    {
      "cell_type": "markdown",
      "source": [
        "### **Линейная регрессия с применением кросс-валидации**"
      ],
      "metadata": {
        "id": "TfXBpGh98Bgy"
      }
    },
    {
      "cell_type": "code",
      "source": [
        "k = 3\n",
        "cv_linear_reg = cross_validate(linear_reg, X, Y,\n",
        "                       cv = k,\n",
        "                       scoring = ('r2', 'neg_mean_absolute_error'))\n",
        "\n",
        "sorted(cv_linear_reg.keys())\n",
        "print(cv_linear_reg['test_r2'])\n",
        "print(cv_linear_reg['test_neg_mean_absolute_error'])\n",
        "\n",
        "print(\"Среднее значение R2 для линейной регрессии с применением кросс-валидации при\", k, \": %0.5f\" % cv_linear_reg['test_r2'].mean())\n",
        "print(\"Среднее значение MAE для линейной регрессии с применением кросс-валидации при\", k, \": %0.5f\" % -cv_linear_reg['test_neg_mean_absolute_error'].mean())"
      ],
      "metadata": {
        "colab": {
          "base_uri": "https://localhost:8080/"
        },
        "id": "HHfd_fW4-mvj",
        "outputId": "f4503b67-bb74-46b8-9087-5a9ad86d3f68"
      },
      "execution_count": 453,
      "outputs": [
        {
          "output_type": "stream",
          "name": "stdout",
          "text": [
            "[0.59542959 0.65913435 0.66776997]\n",
            "[-0.39666953 -0.44818747 -0.44927942]\n",
            "Среднее значение R2 для линейной регрессии с применением кросс-валидации при 3 : 0.64078\n",
            "Среднее значение MAE для линейной регрессии с применением кросс-валидации при 3 : 0.43138\n"
          ]
        }
      ]
    },
    {
      "cell_type": "code",
      "source": [
        "# sorted(SCORERS.keys())"
      ],
      "metadata": {
        "id": "YiGD753Lqz1G"
      },
      "execution_count": 454,
      "outputs": []
    },
    {
      "cell_type": "markdown",
      "source": [
        "### **Ridge-регрессия**"
      ],
      "metadata": {
        "id": "tSJjZDHFnMGH"
      }
    },
    {
      "cell_type": "code",
      "source": [
        "ridge_reg = Ridge(1e-4)\n",
        "ridge_reg.fit(X_train, Y_train)\n",
        "\n",
        "prediction_2 = ridge_reg.predict(X_test)\n",
        "R2_2 = ridge_reg.score(X_test, Y_test)\n",
        "MAE_2 = mean_absolute_error(Y_test, prediction_2)\n",
        "\n",
        "print(\"Веса коэффициентов: \", ridge_reg.coef_, \"\\n\")\n",
        "print(\"R2 на тестовом наборе: %0.5f\" % R2_2)\n",
        "print(\"MAE на тестовом наборе: %0.5f\" % MAE_2)"
      ],
      "metadata": {
        "colab": {
          "base_uri": "https://localhost:8080/"
        },
        "id": "E1upSgZmnSE1",
        "outputId": "8b240c74-f258-411e-b119-2f4dde30d3c9"
      },
      "execution_count": 455,
      "outputs": [
        {
          "output_type": "stream",
          "name": "stdout",
          "text": [
            "Веса коэффициентов:  [-0.72455133 -0.77609077  0.11777215 -0.37691659  0.6770111  -0.59460001\n",
            "  0.32099876  0.71873734] \n",
            "\n",
            "R2 на тестовом наборе: 0.66062\n",
            "MAE на тестовом наборе: 0.42385\n"
          ]
        }
      ]
    },
    {
      "cell_type": "code",
      "source": [
        "ridge_reg_cv = RidgeCV(alphas=[1e-4, 1e-3, 1e-2, 0.1], cv=4, scoring='r2').fit(X_train, Y_train)\n",
        "\n",
        "prediction_3 = ridge_reg_cv.predict(X_test)\n",
        "R2_3 = ridge_reg_cv.score(X_test, Y_test)\n",
        "MAE_3 = mean_absolute_error(Y_test, prediction_3)\n",
        "\n",
        "print(\"R2 на тестовом наборе: %0.5f\" % R2_3)\n",
        "print(\"MAE на тестовом наборе: %0.5f\" % MAE_3)"
      ],
      "metadata": {
        "colab": {
          "base_uri": "https://localhost:8080/"
        },
        "id": "MXnmvV-toayi",
        "outputId": "6ab21369-4d95-48ee-fa1a-d542b9906453"
      },
      "execution_count": 456,
      "outputs": [
        {
          "output_type": "stream",
          "name": "stdout",
          "text": [
            "R2 на тестовом наборе: 0.66062\n",
            "MAE на тестовом наборе: 0.42385\n"
          ]
        }
      ]
    },
    {
      "cell_type": "markdown",
      "source": [
        "### **LASSO-регрессия**"
      ],
      "metadata": {
        "id": "BTZKiURvwDrQ"
      }
    },
    {
      "cell_type": "code",
      "source": [
        "lasso_reg = Lasso(1e-4)\n",
        "\n",
        "lasso_reg.fit(X_train, Y_train)\n",
        "\n",
        "prediction_4 = lasso_reg.predict(X_test)\n",
        "R2_4 = lasso_reg.score(X_test, Y_test)\n",
        "MAE_4 = mean_absolute_error(Y_test, prediction_4)\n",
        "\n",
        "print(\"R2 на тестовом наборе: %0.5f\" % R2_4)\n",
        "print(\"MAE на тестовом наборе: %0.5f\" % MAE_4)"
      ],
      "metadata": {
        "colab": {
          "base_uri": "https://localhost:8080/"
        },
        "id": "VhGveFMDwI-f",
        "outputId": "9d075d7f-376c-4f6d-a3bf-0e30aabeb241"
      },
      "execution_count": 457,
      "outputs": [
        {
          "output_type": "stream",
          "name": "stdout",
          "text": [
            "R2 на тестовом наборе: 0.66062\n",
            "MAE на тестовом наборе: 0.42386\n"
          ]
        }
      ]
    },
    {
      "cell_type": "code",
      "source": [
        "lasso_reg_cv = LassoCV(alphas=[1e-4, 1e-3, 1e-2, 0.1], cv=4).fit(X_train, Y_train)\n",
        "\n",
        "prediction_5 = lasso_reg_cv.predict(X_test)\n",
        "R2_5 = lasso_reg_cv.score(X_test, Y_test)\n",
        "MAE_5 = mean_absolute_error(Y_test, prediction_5)\n",
        "\n",
        "print(\"R2 на тестовом наборе: %0.5f\" % R2_5)\n",
        "print(\"MAE на тестовом наборе: %0.5f\" % MAE_5)"
      ],
      "metadata": {
        "colab": {
          "base_uri": "https://localhost:8080/"
        },
        "id": "O9ndsCMuxm8p",
        "outputId": "74247169-4b02-4b4e-8134-d790d52b0a44"
      },
      "execution_count": 458,
      "outputs": [
        {
          "output_type": "stream",
          "name": "stdout",
          "text": [
            "R2 на тестовом наборе: 0.66062\n",
            "MAE на тестовом наборе: 0.42386\n"
          ]
        }
      ]
    },
    {
      "cell_type": "markdown",
      "source": [
        "### **ElasticNet**"
      ],
      "metadata": {
        "id": "krsgYOO8yCti"
      }
    },
    {
      "cell_type": "code",
      "source": [
        "elastic_net = ElasticNet(alpha=0.4, l1_ratio=0.11)\n",
        "elastic_net.fit(X_train, Y_train)\n",
        "\n",
        "prediction_6 = elastic_net.predict(X_test)\n",
        "R2_6 = elastic_net.score(X_test, Y_test)\n",
        "MAE_6 = mean_absolute_error(Y_test, prediction_6)\n",
        "\n",
        "print(\"R2 на тестовом наборе: %0.5f\" % R2_6)\n",
        "print(\"MAE на тестовом наборе: %0.5f\" % MAE_6)"
      ],
      "metadata": {
        "colab": {
          "base_uri": "https://localhost:8080/"
        },
        "id": "e0nxR5mGyL5s",
        "outputId": "1a89c54d-dbf2-4774-da48-b2d46e2ccba6"
      },
      "execution_count": 459,
      "outputs": [
        {
          "output_type": "stream",
          "name": "stdout",
          "text": [
            "R2 на тестовом наборе: 0.47258\n",
            "MAE на тестовом наборе: 0.55677\n"
          ]
        }
      ]
    },
    {
      "cell_type": "code",
      "source": [
        "elastic_net_cv = ElasticNetCV(l1_ratio=0.3, eps=1e-4)\n",
        "elastic_net_cv.fit(X_train, Y_train)\n",
        "\n",
        "prediction_7 = elastic_net_cv.predict(X_test)\n",
        "R2_7 = elastic_net_cv.score(X_test, Y_test)\n",
        "MAE_7 = mean_absolute_error(Y_test, prediction_7)\n",
        "\n",
        "print(\"R2 на тестовом наборе: %0.5f\" % R2_7)\n",
        "print(\"MAE на тестовом наборе: %0.5f\" % MAE_7)"
      ],
      "metadata": {
        "colab": {
          "base_uri": "https://localhost:8080/"
        },
        "id": "lIQ6EZJVzs-l",
        "outputId": "f46b6694-d63e-4cef-f3a5-709f7da2b42e"
      },
      "execution_count": 460,
      "outputs": [
        {
          "output_type": "stream",
          "name": "stdout",
          "text": [
            "R2 на тестовом наборе: 0.66063\n",
            "MAE на тестовом наборе: 0.42387\n"
          ]
        }
      ]
    },
    {
      "cell_type": "markdown",
      "source": [
        "Лучше других отработала Ridge-регрессия."
      ],
      "metadata": {
        "id": "ymcAlM0X09Bj"
      }
    },
    {
      "cell_type": "markdown",
      "source": [
        "### **Заключение**"
      ],
      "metadata": {
        "id": "MyFSlS8s_nxZ"
      }
    },
    {
      "cell_type": "code",
      "source": [
        "explainer = shap.LinearExplainer(ridge_reg, X_train, feature_dependence=\"independent\")\n",
        "shap_values = explainer(X_test)\n",
        "\n",
        "shap.summary_plot(shap_values, X_test)"
      ],
      "metadata": {
        "colab": {
          "base_uri": "https://localhost:8080/",
          "height": 376
        },
        "id": "Is2wZJ0Z704T",
        "outputId": "2f06006a-f4f3-49a5-d7bf-c6307625921f"
      },
      "execution_count": 462,
      "outputs": [
        {
          "output_type": "stream",
          "name": "stderr",
          "text": [
            "The option feature_dependence has been renamed to feature_perturbation!\n",
            "The option feature_perturbation=\"independent\" is has been renamed to feature_perturbation=\"interventional\"!\n",
            "The feature_perturbation option is now deprecated in favor of using the appropriate masker (maskers.Independent, or maskers.Impute)\n"
          ]
        },
        {
          "output_type": "display_data",
          "data": {
            "text/plain": [
              "<Figure size 576x338.4 with 2 Axes>"
            ],
            "image/png": "[encoded data removed]"
          },
          "metadata": {
            "needs_background": "light"
          }
        }
      ]
    },
    {
      "cell_type": "markdown",
      "source": [
        "        - F0 - longitude               Показатель того, насколько далеко в сторону запада находится дом; более высокое значение - дальше на запад\n",
        "        - F1 - latitude                Показатель того, насколько далеко в сторону севера находится дом; более высокое значение - дальше на север\n",
        "        - F2 - housing_median_age      Средний возраст дома в пределах квартала; меньшее число означает более новое здание\n",
        "        - F3 - total_rooms             Общее количество комнат в квартале\n",
        "        - F4 - total_bedrooms          Общее количество спален в квартале\n",
        "        - F5 - population              Общее количество людей, проживающих в пределах квартала\n",
        "        - F6 - house_holds             Общее число семей - группа людей, проживающих в пределах жилого блока\n",
        "        - F7 - median_income           Средний доход на семью в пределах квартала домов (измеряется в десятках тысяч долларов США)\n",
        "        - F8 - median_house_value      Средняя стоимость дома для семей в пределах квартала (измеряется в долларах США)"
      ],
      "metadata": {
        "id": "oEd8lmVv9h8b"
      }
    },
    {
      "cell_type": "markdown",
      "source": [
        "**Выявленные закономерности:**\n",
        "      \n",
        "     1. Три наиболее важных признака: северное местоположение, западное местоположение, средний доход.\n",
        "     2. Самые дешевые дома расположены на северо-западе Калифорнии.\n",
        "     3. Чем выше средний доход населения, тем выше стоимость дома.\n",
        "     4. Чем меньше людей в квартале, тем цена выше.\n",
        "\n"
      ],
      "metadata": {
        "id": "tqh9Tm0C9DS2"
      }
    }
  ]
}
