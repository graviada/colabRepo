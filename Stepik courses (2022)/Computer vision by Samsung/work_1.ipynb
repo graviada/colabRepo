{
  "nbformat": 4,
  "nbformat_minor": 0,
  "metadata": {
    "colab": {
      "name": "work_1.ipynb",
      "provenance": [],
      "authorship_tag": "ABX9TyMVGQ0fjtguiu0aabX1FXNQ",
      "include_colab_link": true
    },
    "kernelspec": {
      "name": "python3",
      "display_name": "Python 3"
    },
    "language_info": {
      "name": "python"
    }
  },
  "cells": [
    {
      "cell_type": "markdown",
      "metadata": {
        "id": "view-in-github",
        "colab_type": "text"
      },
      "source": [
        "<a href=\"https://colab.research.google.com/github/graviada/colabRepo/blob/master/Stepik%20courses%20(2022)/Computer%20vision%20by%20Samsung/work_1.ipynb\" target=\"_parent\"><img src=\"https://colab.research.google.com/assets/colab-badge.svg\" alt=\"Open In Colab\"/></a>"
      ]
    },
    {
      "cell_type": "markdown",
      "source": [
        "### **Gradient descent**"
      ],
      "metadata": {
        "id": "6C0W1CvZSVJe"
      }
    },
    {
      "cell_type": "code",
      "execution_count": 1,
      "metadata": {
        "id": "7hdstlgvSQ7J"
      },
      "outputs": [],
      "source": [
        "import torch"
      ]
    },
    {
      "cell_type": "code",
      "source": [
        "# min = 1.\n",
        "# max = 4.\n",
        "\n",
        "# #create tensor with random values in range (min, max)\n",
        "# rand_tensor = (max-min)*torch.rand((2, 5)) + min\n",
        "# rand_tensor"
      ],
      "metadata": {
        "colab": {
          "base_uri": "https://localhost:8080/"
        },
        "id": "ho22K2X-ShLl",
        "outputId": "ad82ce88-4a5e-4c7a-ffc8-907df7448ada"
      },
      "execution_count": 2,
      "outputs": [
        {
          "output_type": "execute_result",
          "data": {
            "text/plain": [
              "tensor([[1.3769, 3.3946, 3.7833, 1.7678, 1.0258],\n",
              "        [3.0547, 1.2144, 3.6910, 1.3065, 3.6750]])"
            ]
          },
          "metadata": {},
          "execution_count": 2
        }
      ]
    },
    {
      "cell_type": "code",
      "source": [
        "w = torch.tensor([[5., 10.], [1., 2.]], requires_grad=True)\n",
        "\n",
        "function = torch.log(torch.log(w + 7)).prod()\n",
        "\n",
        "function.backward()\n",
        "print(w.grad)"
      ],
      "metadata": {
        "colab": {
          "base_uri": "https://localhost:8080/"
        },
        "id": "JvxcbNXiThhX",
        "outputId": "7e77b480-2bce-49f5-99e6-a59746858fc0"
      },
      "execution_count": 12,
      "outputs": [
        {
          "output_type": "stream",
          "name": "stdout",
          "text": [
            "tensor([[0.0201, 0.0109],\n",
            "        [0.0449, 0.0351]])\n"
          ]
        }
      ]
    },
    {
      "cell_type": "code",
      "source": [
        "w = torch.tensor([[5., 10.], [1., 2.]], requires_grad=True)\n",
        "alpha = 0.001\n",
        "\n",
        "# function = (w + 7).log().log().prod()\n",
        "for _ in range(500):\n",
        "    function = (w + 7).log().log().prod()\n",
        "    function.backward()\n",
        "    w.data -= alpha * w.grad\n",
        "    w.grad.zero_()\n",
        "\n",
        "print(w.data)"
      ],
      "metadata": {
        "colab": {
          "base_uri": "https://localhost:8080/"
        },
        "id": "OEn_ERNUVmTV",
        "outputId": "1b233dc1-1d66-4bd3-aeb2-b07617258dc0"
      },
      "execution_count": 52,
      "outputs": [
        {
          "output_type": "stream",
          "name": "stdout",
          "text": [
            "tensor([[4.9900, 9.9948],\n",
            "        [0.9775, 1.9825]])\n"
          ]
        }
      ]
    },
    {
      "cell_type": "markdown",
      "source": [
        "### **Linear regression**"
      ],
      "metadata": {
        "id": "owTtYFKVfO6L"
      }
    },
    {
      "cell_type": "code",
      "source": [
        ""
      ],
      "metadata": {
        "id": "9FdxSeOyfS9y"
      },
      "execution_count": null,
      "outputs": []
    }
  ]
}