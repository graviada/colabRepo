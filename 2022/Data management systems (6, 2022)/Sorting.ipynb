{
  "nbformat": 4,
  "nbformat_minor": 0,
  "metadata": {
    "colab": {
      "name": "Sorting.ipynb",
      "provenance": [],
      "authorship_tag": "ABX9TyO6b3N5MN3W6e8r5RV2lNtQ",
      "include_colab_link": true
    },
    "kernelspec": {
      "name": "python3",
      "display_name": "Python 3"
    },
    "language_info": {
      "name": "python"
    }
  },
  "cells": [
    {
      "cell_type": "markdown",
      "metadata": {
        "id": "view-in-github",
        "colab_type": "text"
      },
      "source": [
        "<a href=\"https://colab.research.google.com/github/graviada/colabRepo/blob/master/Data%20management%20systems%20(6%2C%202022)/Sorting.ipynb\" target=\"_parent\"><img src=\"https://colab.research.google.com/assets/colab-badge.svg\" alt=\"Open In Colab\"/></a>"
      ]
    },
    {
      "cell_type": "markdown",
      "source": [
        "## **Самый главный вопрос - зачем они нужны в современном программировании, когда есть готовая реализация?**"
      ],
      "metadata": {
        "id": "YMQzQ2iLNvQP"
      }
    },
    {
      "cell_type": "markdown",
      "source": [
        "Если у вас небольшой и понятный массив, то ничто не мешает взять встроенную функцию языка программирования типа sort () в JavaScript. Она пошуршит каким-то своим алгоритмом и вернёт отсортированный массив.\n",
        "\n",
        "Сложности с сортировкой начинаются, когда:\n",
        "\n",
        "❌ *массивы данных большие — на тысячи, десятки и сотни тысяч элементов;*\n",
        "\n",
        "❌ *может быть затруднён доступ к данным (например, они идут потоком);*\n",
        "\n",
        "❌ *возможностей железа не хватает и нужны более экономные алгоритмы, чем те, которые встроены в язык программирования.*\n",
        "\n",
        "Тогда нужно выбирать специализированные алгоритмы сортировки, а то и оптимизировать их под свои задачи."
      ],
      "metadata": {
        "id": "onf1SX1qNrBw"
      }
    },
    {
      "cell_type": "markdown",
      "source": [
        "### Подготовительный этап\n",
        "Формирование основных функций, подключение необходимых библиотек."
      ],
      "metadata": {
        "id": "lK0ghuy7eQfu"
      }
    },
    {
      "cell_type": "code",
      "source": [
        "import time\n",
        "from random import randint"
      ],
      "metadata": {
        "id": "2RRl7GwRX52t"
      },
      "execution_count": null,
      "outputs": []
    },
    {
      "cell_type": "markdown",
      "source": [
        "Формирование массивов для проверки скорости"
      ],
      "metadata": {
        "id": "zldlu9RJXoLs"
      }
    },
    {
      "cell_type": "code",
      "source": [
        "def creation():\n",
        "\n",
        "  N1 = 1000\n",
        "  array_2 = []\n",
        "  for i in range(N1):\n",
        "    array_2.append(randint(1, 799))\n",
        "\n",
        "  N2 = 10000\n",
        "  array_3 = []\n",
        "  for i in range(N2):\n",
        "    array_3.append(randint(1, 6000))\n",
        "  \n",
        "  return array_2, array_3\n",
        "\n",
        "array_2, array_3 = creation()[0], creation()[1]"
      ],
      "metadata": {
        "id": "1g-laDvcxRE8"
      },
      "execution_count": null,
      "outputs": []
    },
    {
      "cell_type": "code",
      "source": [
        "array_1 = [3, 1, 9, 8, 11, 6]\n",
        "array_1 = tuple(array_1)\n",
        "\n",
        "N1 = 1000\n",
        "array_2 = []\n",
        "for i in range(N1):\n",
        "    array_2.append(randint(1, 799))\n",
        "array_2 = tuple(array_2)\n",
        "\n",
        "N2 = 10000\n",
        "array_3 = []\n",
        "for i in range(N2):\n",
        "    array_3.append(randint(1, 6000))"
      ],
      "metadata": {
        "id": "ZUwkYjT5XsRU"
      },
      "execution_count": null,
      "outputs": []
    },
    {
      "cell_type": "code",
      "source": [
        "print(array_1)"
      ],
      "metadata": {
        "colab": {
          "base_uri": "https://localhost:8080/"
        },
        "id": "vtYK_khly328",
        "outputId": "05e02330-8f1f-4b18-b501-15212d4e6202"
      },
      "execution_count": null,
      "outputs": [
        {
          "output_type": "stream",
          "name": "stdout",
          "text": [
            "(3, 1, 9, 8, 11, 6)\n"
          ]
        }
      ]
    },
    {
      "cell_type": "markdown",
      "source": [
        "Функция проверки"
      ],
      "metadata": {
        "id": "ldo1Hg2OZCD0"
      }
    },
    {
      "cell_type": "code",
      "source": [
        "def timeCheck(name, array):\n",
        "  n = len(array)\n",
        "  start_time = time.time()\n",
        "  name(array, n)\n",
        "  print(\"--- %s seconds ---\" % (time.time() - start_time))"
      ],
      "metadata": {
        "id": "MHl7ZOEWYhUH"
      },
      "execution_count": null,
      "outputs": []
    },
    {
      "cell_type": "markdown",
      "source": [
        "## **Пузырьковая сортировка**\n",
        "На каждом шаге мы находим наибольший элемент из двух соседних и ставим этот элемент в конец пары. Получается, что при каждом прогоне цикла большие элементы будут всплывать к концу массива, как пузырьки воздуха — отсюда и название.\n",
        "\n",
        "\n",
        "---\n",
        "### **Алгоритм**\n",
        "> 1. Берём самый первый элемент массива и сравниваем его со вторым. Если первый больше второго — меняем их местами с первым, если нет — ничего не делаем.\n",
        "2. Затем берём второй элемент массива и сравниваем его со следующим — третьим. Если второй больше третьего — меняем их местами, если нет — ничего не делаем.\n",
        "3. Проходим так до предпоследнего элемента, сравниваем его с последним и ставим наибольший из них в конец массива. Всё, мы нашли самое большое число в массиве и поставили его на своё место.\n",
        "4. Возвращаемся в начало алгоритма и делаем всё снова точно так же, начиная с первого и второго элемента. Только теперь даём себе задание не проверять последний элемент — мы знаем, что теперь в конце массива самый большой элемент. \n",
        "5. Когда закончим очередной проход — уменьшаем значение финальной позиции, до которой проверяем, и снова начинаем сначала.\n",
        "Так делаем до тех пор, пока у нас не останется один элемент.\n"
      ],
      "metadata": {
        "id": "lZvKMhYUO1Ow"
      }
    },
    {
      "cell_type": "code",
      "execution_count": null,
      "metadata": {
        "id": "7OtXOZQ2Nk_a"
      },
      "outputs": [],
      "source": [
        "def bubble_sort_my(array, n):\n",
        "  while n > 1:\n",
        "    for i in range(n-1):\n",
        "      if array[i] > array[i+1]:\n",
        "        temp = array[i]\n",
        "        array[i] = array[i+1]\n",
        "        array[i+1] = temp\n",
        "    n -= 1"
      ]
    },
    {
      "cell_type": "markdown",
      "source": [
        "Проверки"
      ],
      "metadata": {
        "id": "rWVheNcSXs6p"
      }
    },
    {
      "cell_type": "code",
      "source": [
        "name = bubble_sort_my\n",
        "# type(name)\n",
        "\n",
        "a1 = list(array_1)\n",
        "a2 = list(array_2)\n",
        "a3 = list(array_3)\n",
        "\n",
        "# Проверка скорости выполнения 1\n",
        "timeCheck(name, a1)\n",
        "\n",
        "# Проверка скорости выполнения 2\n",
        "timeCheck(name, a2)\n",
        "\n",
        "# Проверка скорости выполнения 3\n",
        "timeCheck(name, a3)"
      ],
      "metadata": {
        "colab": {
          "base_uri": "https://localhost:8080/"
        },
        "id": "h-5PQ3AzV5-D",
        "outputId": "a7e4b13c-8117-4680-f100-b32e46f0806f"
      },
      "execution_count": null,
      "outputs": [
        {
          "output_type": "stream",
          "name": "stdout",
          "text": [
            "--- 1.3828277587890625e-05 seconds ---\n",
            "--- 0.1175992488861084 seconds ---\n",
            "--- 11.987413167953491 seconds ---\n"
          ]
        }
      ]
    },
    {
      "cell_type": "markdown",
      "source": [
        "Не моя реализация:\n",
        "\n",
        "1"
      ],
      "metadata": {
        "id": "DjJCTskdUuV4"
      }
    },
    {
      "cell_type": "code",
      "source": [
        "def bubble_sort_1(array, N):\n",
        "  for i in range(N-1):\n",
        "    for j in range(N-i-1):\n",
        "      if array[j] > array[j+1]:\n",
        "        buff = array[j]\n",
        "        array[j] = array[j+1]\n",
        "        array[j+1] = buff"
      ],
      "metadata": {
        "id": "bLD4OLs3UpT2"
      },
      "execution_count": null,
      "outputs": []
    },
    {
      "cell_type": "code",
      "source": [
        "name = bubble_sort_1\n",
        "# type(name)\n",
        "\n",
        "a1 = list(array_1)\n",
        "a2 = list(array_2)\n",
        "a3 = list(array_3)\n",
        "\n",
        "# Проверка скорости выполнения 1\n",
        "timeCheck(name, a1)\n",
        "\n",
        "# # Проверка скорости выполнения 2\n",
        "timeCheck(name, a2)\n",
        "\n",
        "# Проверка скорости выполнения 3\n",
        "timeCheck(name, a3)"
      ],
      "metadata": {
        "colab": {
          "base_uri": "https://localhost:8080/"
        },
        "id": "OyWbPNV3Z9Uk",
        "outputId": "e96f05c8-6e84-4416-8c0c-158555de62ee"
      },
      "execution_count": null,
      "outputs": [
        {
          "output_type": "stream",
          "name": "stdout",
          "text": [
            "--- 7.867813110351562e-06 seconds ---\n",
            "--- 0.11453533172607422 seconds ---\n",
            "--- 11.867377519607544 seconds ---\n"
          ]
        }
      ]
    },
    {
      "cell_type": "markdown",
      "source": [
        "2"
      ],
      "metadata": {
        "id": "MwwcPWorc8ku"
      }
    },
    {
      "cell_type": "code",
      "source": [
        "def bubble_sort_2(array, N):\n",
        "  i = 0\n",
        "  while i < N - 1:\n",
        "    j = 0\n",
        "    while j < N - 1 - i:\n",
        "      if array[j] > array[j+1]:\n",
        "        array[j], array[j+1] = array[j+1], array[j]\n",
        "      j += 1\n",
        "    i += 1"
      ],
      "metadata": {
        "id": "tycLNgMBaO8s"
      },
      "execution_count": null,
      "outputs": []
    },
    {
      "cell_type": "code",
      "source": [
        "name = bubble_sort_2\n",
        "# type(name)\n",
        "\n",
        "a1 = list(array_1)\n",
        "a2 = list(array_2)\n",
        "a3 = list(array_3)\n",
        "\n",
        "# Проверка скорости выполнения 1\n",
        "timeCheck(name, a1)\n",
        "\n",
        "# # Проверка скорости выполнения 2\n",
        "timeCheck(name, a2)\n",
        "\n",
        "# Проверка скорости выполнения 3\n",
        "timeCheck(name, a3)"
      ],
      "metadata": {
        "colab": {
          "base_uri": "https://localhost:8080/"
        },
        "id": "aXVFEQNrbfHj",
        "outputId": "2f7146dc-4128-4ce5-d681-b1dffa4a766a"
      },
      "execution_count": null,
      "outputs": [
        {
          "output_type": "stream",
          "name": "stdout",
          "text": [
            "--- 1.1682510375976562e-05 seconds ---\n",
            "--- 0.16760015487670898 seconds ---\n",
            "--- 17.19641923904419 seconds ---\n"
          ]
        }
      ]
    },
    {
      "cell_type": "markdown",
      "source": [
        "3"
      ],
      "metadata": {
        "id": "G2m0VAyJBv18"
      }
    },
    {
      "cell_type": "code",
      "source": [
        "def bubble_sort_3(array, N):\n",
        "  for i in range(N-1):\n",
        "    for j in range(N-i-1):\n",
        "      if array[j] > array[j+1]:\n",
        "        array[j], array[j+1] = array[j+1], array[j]"
      ],
      "metadata": {
        "id": "NjmZ3ySDc1P-"
      },
      "execution_count": null,
      "outputs": []
    },
    {
      "cell_type": "code",
      "source": [
        "name = bubble_sort_3\n",
        "# type(name)\n",
        "\n",
        "a1 = list(array_1)\n",
        "a2 = list(array_2)\n",
        "a3 = list(array_3)\n",
        "\n",
        "# Проверка скорости выполнения 1\n",
        "timeCheck(name, a1)\n",
        "\n",
        "# # Проверка скорости выполнения 2\n",
        "timeCheck(name, a2)\n",
        "\n",
        "# Проверка скорости выполнения 3\n",
        "timeCheck(name, a3)"
      ],
      "metadata": {
        "colab": {
          "base_uri": "https://localhost:8080/"
        },
        "id": "Bz7NDMIfdcE-",
        "outputId": "dc0f2a81-7492-480c-d7b8-52d526bb01d1"
      },
      "execution_count": null,
      "outputs": [
        {
          "output_type": "stream",
          "name": "stdout",
          "text": [
            "--- 8.58306884765625e-06 seconds ---\n",
            "--- 0.11735343933105469 seconds ---\n",
            "--- 11.895326852798462 seconds ---\n"
          ]
        }
      ]
    },
    {
      "cell_type": "markdown",
      "source": [
        "## **Сортировка расческой**\n",
        "---\n",
        "### **Алгоритм**\n",
        "> 1. На первом шаге мы находим длину массива (например, 10 элементов) и делим её на 1,247. Допустим, после округления у нас получилось число 8. Теперь мы проходим первый цикл пузырьковой сортировки, только сравнивая не 1 и 2, 2 и 3, а сразу 1 и 8, 2 и 9, 3 и 10. Это отправит самые большие числа, если они есть в начале, в самый конец. Всего на первом шаге будет три сравнения.\n",
        "2. На втором шаге мы берём число 8 из предыдущего этапа и снова делим его на 1,247, получая число 6. Теперь мы снова проходим весь массив и сравниваем так: 1 и 6, 2 и 7, 3 и 8, 4 и 9, 5 и 10.\n",
        "Уже получилось 5 перестановок и снова крупные числа улетели поближе к концу массива.\n",
        "3. Так мы уменьшаем размер шага до тех пор, пока он не станет меньше единицы — к этому моменту массив будет полностью отсортирован."
      ],
      "metadata": {
        "id": "SR1X-NktdmYw"
      }
    },
    {
      "cell_type": "code",
      "source": [
        "def hairbrush_my(array, N):\n",
        "  const = 1.247\n",
        "  i = 0\n",
        "  num = int(N//const)\n",
        "  while num > 0:\n",
        "    while i+num < N:\n",
        "      if array[i] > array[i+num]:\n",
        "        array[i], array[i+num] = array[i+num], array[i]\n",
        "      i += 1\n",
        "    num = int(num//const)\n",
        "    i = 0"
      ],
      "metadata": {
        "id": "kolZ5pI9eK_Q"
      },
      "execution_count": null,
      "outputs": []
    },
    {
      "cell_type": "markdown",
      "source": [
        "Проверки"
      ],
      "metadata": {
        "id": "BQtJ0v5LLkjQ"
      }
    },
    {
      "cell_type": "code",
      "source": [
        "# n = 10\n",
        "# proba = []\n",
        "# for i in range(n):\n",
        "#   proba.append(randint(1, 99))\n",
        "\n",
        "# print(proba, '\\n')\n",
        "# timeCheck(name, proba)\n",
        "# print(proba)"
      ],
      "metadata": {
        "id": "FTPovToQLjso"
      },
      "execution_count": null,
      "outputs": []
    },
    {
      "cell_type": "code",
      "source": [
        "name = hairbrush_my\n",
        "\n",
        "a1 = list(array_1)\n",
        "a2 = list(array_2)\n",
        "a3 = list(array_3)\n",
        "\n",
        "# Проверка скорости выполнения 1\n",
        "# print(a1)\n",
        "timeCheck(name, a1)\n",
        "# print(a1)\n",
        "\n",
        "# Проверка скорости выполнения 2\n",
        "# print(a2)\n",
        "timeCheck(name, a2)\n",
        "# print(a2)\n",
        "\n",
        "# Проверка скорости выполнения 3\n",
        "# print(a3)\n",
        "timeCheck(name, a3)\n",
        "# print(a3)"
      ],
      "metadata": {
        "colab": {
          "base_uri": "https://localhost:8080/"
        },
        "id": "IRjs677ZB-B1",
        "outputId": "ea3935c7-dc2f-47dd-beb5-8dcdfd0a86b7"
      },
      "execution_count": null,
      "outputs": [
        {
          "output_type": "stream",
          "name": "stdout",
          "text": [
            "--- 1.7404556274414062e-05 seconds ---\n",
            "--- 0.009002923965454102 seconds ---\n",
            "--- 0.08684325218200684 seconds ---\n"
          ]
        }
      ]
    },
    {
      "cell_type": "markdown",
      "source": [
        "Не моя реализация:\n",
        "\n",
        "1"
      ],
      "metadata": {
        "id": "FMAYxqXnLm1q"
      }
    },
    {
      "cell_type": "code",
      "source": [
        "def comb(massiv, n):\n",
        "  step = int(n/1.247)\n",
        "  swap = 1\n",
        "  while step > 1 or swap > 0:\n",
        "    swap = 0\n",
        "    i = 0\n",
        "    while i + step < n:\n",
        "      if massiv[i] > massiv[i+step]:\n",
        "        massiv[i], massiv[i+step] = massiv[i+step], massiv[i]\n",
        "        swap += 1\n",
        "      i = i + 1\n",
        "    if step > 1:\n",
        "      step = int(step / 1.247)"
      ],
      "metadata": {
        "id": "8iM1_RIHLpE7"
      },
      "execution_count": null,
      "outputs": []
    },
    {
      "cell_type": "code",
      "source": [
        "name = comb\n",
        "\n",
        "a1 = list(array_1)\n",
        "a2 = list(array_2)\n",
        "a3 = list(array_3)\n",
        "\n",
        "# Проверка скорости выполнения 1\n",
        "# print(a1)\n",
        "timeCheck(name, a1)\n",
        "# print(a1)\n",
        "\n",
        "# Проверка скорости выполнения 2\n",
        "# print(a2)\n",
        "timeCheck(name, a2)\n",
        "print(a2)\n",
        "\n",
        "# Проверка скорости выполнения 3\n",
        "# print(a3)\n",
        "timeCheck(name, a3)\n",
        "# print(a3)"
      ],
      "metadata": {
        "colab": {
          "base_uri": "https://localhost:8080/"
        },
        "id": "J0u1zx3OLusI",
        "outputId": "cb34444b-86f5-4a7d-9ca5-c376f41fc97b"
      },
      "execution_count": null,
      "outputs": [
        {
          "output_type": "stream",
          "name": "stdout",
          "text": [
            "--- 1.0013580322265625e-05 seconds ---\n",
            "--- 0.006802558898925781 seconds ---\n",
            "[2, 2, 3, 3, 5, 6, 6, 7, 7, 8, 8, 9, 10, 12, 15, 15, 15, 16, 18, 18, 19, 19, 21, 21, 22, 23, 23, 24, 24, 25, 26, 28, 29, 30, 30, 32, 32, 32, 33, 34, 35, 35, 35, 37, 38, 39, 41, 42, 43, 44, 45, 49, 49, 50, 50, 53, 56, 56, 59, 59, 61, 62, 63, 63, 64, 66, 68, 68, 69, 69, 70, 71, 71, 73, 76, 76, 76, 77, 77, 78, 78, 79, 80, 80, 81, 83, 84, 85, 85, 86, 86, 88, 88, 88, 89, 89, 89, 90, 92, 92, 95, 96, 96, 97, 98, 98, 98, 99, 99, 100, 100, 103, 104, 104, 105, 105, 105, 106, 108, 108, 109, 109, 110, 111, 111, 112, 113, 113, 113, 114, 114, 115, 115, 116, 116, 116, 117, 118, 119, 119, 120, 121, 122, 123, 124, 125, 125, 126, 126, 126, 127, 127, 127, 129, 130, 133, 134, 134, 135, 135, 135, 135, 136, 137, 138, 139, 139, 139, 141, 141, 142, 143, 148, 151, 155, 156, 158, 158, 158, 160, 161, 161, 162, 162, 163, 163, 163, 165, 165, 165, 166, 168, 168, 168, 169, 170, 170, 170, 171, 172, 173, 177, 177, 178, 179, 180, 181, 182, 182, 183, 184, 184, 185, 186, 187, 188, 188, 189, 190, 190, 190, 191, 193, 193, 193, 193, 194, 194, 196, 198, 200, 200, 201, 201, 202, 203, 204, 205, 206, 207, 207, 207, 211, 212, 212, 212, 213, 213, 213, 214, 214, 216, 216, 218, 218, 219, 220, 220, 222, 222, 223, 224, 225, 225, 227, 227, 227, 229, 229, 229, 229, 230, 230, 231, 231, 232, 233, 233, 234, 235, 235, 236, 236, 236, 236, 236, 238, 239, 239, 240, 240, 240, 241, 244, 244, 245, 245, 245, 246, 247, 247, 248, 248, 249, 249, 250, 250, 251, 251, 254, 254, 256, 256, 259, 259, 260, 262, 263, 263, 263, 265, 265, 266, 267, 267, 267, 268, 269, 269, 270, 271, 271, 271, 272, 275, 275, 275, 276, 277, 277, 278, 278, 279, 280, 281, 282, 282, 282, 283, 283, 283, 285, 285, 286, 286, 289, 289, 290, 291, 291, 291, 291, 292, 292, 294, 294, 294, 296, 296, 297, 297, 298, 299, 299, 300, 300, 301, 304, 304, 309, 311, 313, 313, 313, 314, 314, 314, 314, 316, 316, 318, 321, 322, 322, 324, 324, 324, 324, 324, 325, 327, 328, 328, 328, 330, 330, 330, 330, 331, 331, 335, 336, 336, 337, 337, 337, 338, 340, 340, 341, 341, 343, 346, 347, 348, 348, 349, 349, 350, 351, 352, 352, 353, 353, 353, 354, 355, 356, 357, 359, 359, 359, 360, 360, 360, 361, 364, 364, 364, 364, 365, 366, 366, 367, 368, 370, 373, 373, 373, 376, 376, 378, 379, 379, 380, 381, 382, 382, 383, 383, 383, 384, 384, 385, 385, 386, 386, 386, 387, 387, 388, 388, 389, 390, 390, 390, 391, 391, 392, 392, 392, 394, 395, 395, 396, 396, 396, 397, 400, 400, 401, 403, 404, 404, 405, 405, 405, 406, 406, 407, 410, 413, 414, 415, 415, 417, 417, 419, 421, 422, 423, 423, 423, 424, 424, 425, 426, 427, 428, 429, 430, 430, 431, 431, 434, 436, 436, 437, 438, 439, 441, 442, 443, 443, 443, 443, 444, 444, 444, 447, 448, 450, 451, 452, 452, 452, 453, 454, 456, 457, 459, 460, 462, 464, 464, 464, 465, 465, 465, 465, 466, 467, 467, 468, 469, 469, 471, 472, 472, 472, 473, 473, 474, 474, 475, 475, 475, 475, 476, 476, 477, 477, 477, 477, 477, 478, 478, 479, 479, 479, 480, 481, 482, 483, 485, 485, 485, 485, 487, 487, 488, 488, 489, 491, 492, 492, 493, 493, 493, 494, 494, 494, 494, 495, 497, 498, 499, 500, 501, 501, 502, 504, 505, 508, 509, 509, 511, 511, 512, 514, 514, 515, 515, 517, 517, 517, 520, 520, 521, 521, 521, 521, 521, 522, 522, 523, 525, 525, 525, 525, 527, 527, 527, 528, 529, 530, 531, 532, 532, 533, 533, 533, 534, 534, 535, 535, 537, 537, 537, 540, 540, 540, 543, 543, 543, 544, 545, 546, 548, 549, 551, 551, 551, 551, 553, 553, 553, 554, 555, 557, 557, 558, 559, 559, 559, 559, 559, 560, 561, 561, 561, 561, 562, 567, 567, 568, 568, 568, 569, 570, 572, 573, 575, 575, 577, 580, 581, 583, 583, 583, 585, 585, 586, 587, 587, 587, 588, 590, 590, 591, 591, 592, 592, 593, 593, 595, 595, 598, 598, 599, 600, 600, 600, 600, 601, 604, 604, 605, 607, 608, 609, 609, 610, 611, 612, 613, 614, 615, 615, 615, 616, 616, 616, 617, 619, 620, 620, 621, 621, 621, 621, 621, 622, 622, 623, 623, 624, 625, 625, 626, 626, 627, 629, 631, 632, 634, 635, 637, 637, 637, 638, 639, 641, 641, 641, 641, 641, 643, 644, 645, 645, 646, 648, 649, 650, 650, 651, 652, 654, 656, 656, 657, 658, 659, 660, 660, 661, 662, 662, 662, 662, 662, 663, 664, 664, 665, 666, 667, 667, 668, 668, 669, 670, 672, 672, 675, 675, 676, 677, 678, 678, 678, 678, 679, 682, 683, 684, 686, 687, 688, 688, 689, 691, 691, 692, 693, 694, 694, 695, 695, 696, 697, 699, 700, 703, 705, 706, 707, 707, 707, 708, 710, 710, 710, 711, 711, 712, 712, 713, 714, 716, 716, 717, 717, 717, 718, 722, 725, 726, 726, 727, 727, 727, 728, 729, 729, 730, 731, 732, 732, 733, 734, 734, 734, 735, 735, 736, 737, 738, 739, 739, 741, 741, 743, 744, 745, 748, 748, 749, 749, 750, 750, 751, 751, 751, 751, 754, 754, 754, 757, 757, 757, 758, 759, 759, 759, 759, 761, 762, 763, 764, 764, 765, 765, 766, 766, 767, 767, 768, 768, 769, 769, 772, 772, 773, 774, 775, 775, 775, 775, 776, 776, 776, 777, 777, 780, 780, 780, 781, 781, 781, 781, 781, 782, 783, 783, 784, 784, 785, 789, 791, 791, 792, 793, 793, 794, 794, 797, 797, 798]\n",
            "--- 0.09578156471252441 seconds ---\n"
          ]
        }
      ]
    },
    {
      "cell_type": "markdown",
      "source": [
        "## **Сортировка перемешиванием (шейкерная сортировка)**\n",
        "\n",
        "---\n",
        "\n",
        "### **Алгоритм**\n",
        "\n",
        "> Проанализировав алгоритм пузырьковой сортировки, можно заметить:\n",
        "\n",
        "* если при обходе части массива не было обменов элементов, то эту часть можно исключить, так как она уже отсортирована;\n",
        "* при проходе от конца массива к началу минимальное значение сдвигается на первую позицию, при этом максимальный элемент перемещается только на один индекс вправо.\n",
        "\n",
        "> Исходя из приведенных идей, модифицируем сортировку пузырьком следующим образом:\n",
        "\n",
        "* на каждой итерации, фиксируем границы части массива в которой происходит обмен;\n",
        "* массив обходиться поочередно от начала массива к концу и от конца к началу;\n",
        "\n",
        "> При этом минимальный элемент перемещается в начало массива, а максимальный - в конец, после этого уменьшается рабочая область массива."
      ],
      "metadata": {
        "id": "NwozqgdRM_go"
      }
    },
    {
      "cell_type": "code",
      "source": [
        "def shaker_sort(array, N): \n",
        "  swapped = True\n",
        "  start_index = 0\n",
        "  end_index = N - 1\n",
        "    \n",
        "  while (swapped == True): \n",
        "        \n",
        "    swapped = False\n",
        "          \n",
        "    # проход слева направо\n",
        "    for i in range(start_index, end_index): \n",
        "      if (array[i] > array[i + 1]) : \n",
        "        # обмен элементов\n",
        "        array[i], array[i + 1] = array[i + 1], array[i] \n",
        "        swapped = True\n",
        "  \n",
        "    # если не было обменов прерываем цикл\n",
        "    if (not(swapped)): \n",
        "      break\n",
        "\n",
        "    swapped = False\n",
        "\n",
        "    end_index = end_index - 1\n",
        "  \n",
        "    # проход справа налево\n",
        "    for i in range(end_index - 1, start_index - 1, -1): \n",
        "      if (array[i] > array[i + 1]): \n",
        "        # обмен элементов\n",
        "        array[i], array[i + 1] = array[i + 1], array[i] \n",
        "        swapped = True\n",
        " \n",
        "    start_index = start_index + 1"
      ],
      "metadata": {
        "id": "Csfem0qdRHkC"
      },
      "execution_count": null,
      "outputs": []
    },
    {
      "cell_type": "code",
      "source": [
        "name = shaker_sort\n",
        "\n",
        "a1 = list(array_1)\n",
        "a2 = list(array_2)\n",
        "a3 = list(array_3)\n",
        "\n",
        "# Проверка скорости выполнения 1\n",
        "# print(a1)\n",
        "timeCheck(name, a1)\n",
        "# print(a1)\n",
        "\n",
        "# Проверка скорости выполнения 2\n",
        "# print(a2)\n",
        "timeCheck(name, a2)\n",
        "# print(a2)\n",
        "\n",
        "# Проверка скорости выполнения 3\n",
        "# print(a3)\n",
        "timeCheck(name, a3)\n",
        "# print(a3)"
      ],
      "metadata": {
        "colab": {
          "base_uri": "https://localhost:8080/"
        },
        "id": "YJd7VzmtTd1V",
        "outputId": "a707c0b5-74ab-4117-d5a9-8aa3703866e1"
      },
      "execution_count": null,
      "outputs": [
        {
          "output_type": "stream",
          "name": "stdout",
          "text": [
            "--- 1.3113021850585938e-05 seconds ---\n",
            "--- 0.09710502624511719 seconds ---\n",
            "--- 10.210460901260376 seconds ---\n"
          ]
        }
      ]
    },
    {
      "cell_type": "markdown",
      "source": [
        "## **Сортировка вставками**\n",
        "---\n",
        "\n",
        "### **Алгоритм**\n",
        "\n",
        ">Предполагается, что изначально есть готовая последовательность. На каждой итерации ее необходимо дополнить путем вставки нового числа в последовательность. Вставка производится таким образом, чтобы не нарушать упорядоченность готовой последовательности."
      ],
      "metadata": {
        "id": "G7DtQUjFOj3Z"
      }
    },
    {
      "cell_type": "code",
      "source": [
        "def insertionSert(array, n):\n",
        "  for i in range(n):\n",
        "    j = i - 1\n",
        "    while j >= 0 and array[j] > array[j+1]:\n",
        "      temp = array[j]\n",
        "      array[j] = array[j+1]\n",
        "      array[j+1] = temp\n",
        "      j -= 1"
      ],
      "metadata": {
        "id": "E2am5CiwGilA"
      },
      "execution_count": null,
      "outputs": []
    },
    {
      "cell_type": "code",
      "source": [
        "name = insertionSert\n",
        "\n",
        "a1 = list(array_1)\n",
        "a2 = list(array_2)\n",
        "a3 = list(array_3)\n",
        "\n",
        "# Проверка скорости выполнения 1\n",
        "# print(a1)\n",
        "timeCheck(name, a1)\n",
        "# print(a1)\n",
        "\n",
        "# Проверка скорости выполнения 2\n",
        "# print(a2)\n",
        "timeCheck(name, a2)\n",
        "# print(a2)\n",
        "\n",
        "# Проверка скорости выполнения 3\n",
        "# print(a3)\n",
        "timeCheck(name, a3)\n",
        "# print(a3)"
      ],
      "metadata": {
        "colab": {
          "base_uri": "https://localhost:8080/"
        },
        "id": "u74qctpJK5wL",
        "outputId": "f61e521b-9971-41f1-bc72-0e969afe3afa"
      },
      "execution_count": null,
      "outputs": [
        {
          "output_type": "stream",
          "name": "stdout",
          "text": [
            "--- 6.4373016357421875e-06 seconds ---\n",
            "--- 0.0979304313659668 seconds ---\n",
            "--- 10.05223560333252 seconds ---\n"
          ]
        }
      ]
    },
    {
      "cell_type": "markdown",
      "source": [
        "## **Сортировка выбором**\n",
        "---\n",
        "\n",
        "### **Алгоритм**\n",
        "\n",
        "> 1. В неотсортированном подмассиве ищется локальный максимум (минимум).\n",
        "> 2. Найденный максимум (минимум) меняется местами с последним (первым) элементом в подмассиве.\n",
        "> 3. Если в массиве остались неотсортированные подмассивы — смотри пункт 1.\n"
      ],
      "metadata": {
        "id": "tRcfvzHYOssy"
      }
    },
    {
      "cell_type": "code",
      "source": [
        "def swap(array, i, j):\n",
        "    array[i], array[j] = array[j], array[i]\n",
        "  \n",
        "def select_sort(array, n):\n",
        "    i = n\n",
        "    while i > 1:\n",
        "        max = 0\n",
        "        for j in range(i):\n",
        "            if array[j] > array[max]:\n",
        "                max = j\n",
        "        swap(array, i - 1, max)\n",
        "        i -= 1\n",
        "    return array"
      ],
      "metadata": {
        "id": "MmuITU4obvq6"
      },
      "execution_count": null,
      "outputs": []
    },
    {
      "cell_type": "code",
      "source": [
        "name = select_sort\n",
        "\n",
        "a1 = list(array_1)\n",
        "a2 = list(array_2)\n",
        "a3 = list(array_3)\n",
        "\n",
        "# Проверка скорости выполнения 1\n",
        "# print(a1)\n",
        "timeCheck(name, a1)\n",
        "# print(a1)\n",
        "\n",
        "# Проверка скорости выполнения 2\n",
        "# print(a2)\n",
        "timeCheck(name, a2)\n",
        "# print(a2)\n",
        "\n",
        "# Проверка скорости выполнения 3\n",
        "# print(a3)\n",
        "timeCheck(name, a3)\n",
        "# print(a3)"
      ],
      "metadata": {
        "colab": {
          "base_uri": "https://localhost:8080/"
        },
        "id": "u9H3io0uSx5E",
        "outputId": "a14fcaec-72f3-40e2-97c9-84c44e054531"
      },
      "execution_count": null,
      "outputs": [
        {
          "output_type": "stream",
          "name": "stdout",
          "text": [
            "--- 1.1205673217773438e-05 seconds ---\n",
            "--- 0.05360007286071777 seconds ---\n",
            "--- 4.921923875808716 seconds ---\n"
          ]
        }
      ]
    },
    {
      "cell_type": "code",
      "source": [
        "def select_sort_stable(arr, n):\n",
        "    for j in range(n):\n",
        "        min = j\n",
        "\n",
        "        for i in range(j+1, n):\n",
        "            if(arr[i] < arr[min]):\n",
        "              min = i\n",
        "            \n",
        "              if(min != j):\n",
        "                value = arr[min]\n",
        "                for l in range(min, j-1,-1):\n",
        "                  arr[l] = arr[l-1]\n",
        "                  arr[j] = value"
      ],
      "metadata": {
        "id": "dIvEmkkTfr-7"
      },
      "execution_count": null,
      "outputs": []
    },
    {
      "cell_type": "markdown",
      "source": [
        "## **Быстрая сортировка**"
      ],
      "metadata": {
        "id": "tzvqa-AhO3DR"
      }
    },
    {
      "cell_type": "markdown",
      "source": [
        "## **Сортировка слиянием**"
      ],
      "metadata": {
        "id": "PhpJkeEHPFGB"
      }
    },
    {
      "cell_type": "markdown",
      "source": [
        "## **Пирамидальная сортировка**"
      ],
      "metadata": {
        "id": "EEDYkqkTPIkZ"
      }
    },
    {
      "cell_type": "code",
      "source": [
        "def swap(array, i, j):                    \n",
        "    array[i], array[j] = array[j], array[i] \n",
        "\n",
        "def Heapify(array, end, i):   \n",
        "    left = 2 * i + 1  \n",
        "    right = 2 * (i + 1)   \n",
        "    max = i   \n",
        "    if left < end and array[i] < array[left]:   \n",
        "        max = left   \n",
        "    if right < end and array[max] < array[right]:   \n",
        "        max = right  \n",
        "    if max != i:   \n",
        "        swap(array, i, max)   \n",
        "        Heapify(array, end, max)   \n",
        "\n",
        "def HeapSort(array, n):     \n",
        "    end = n   \n",
        "    start = end // 2 - 1\n",
        "    for i in range(start, -1, -1):   \n",
        "        Heapify(array, end, i)   \n",
        "    for i in range(end-1, 0, -1):   \n",
        "        swap(array, i, 0)   \n",
        "        Heapify(array, i, 0) \n",
        "    return array"
      ],
      "metadata": {
        "id": "Aox9-j8fC-hb"
      },
      "execution_count": null,
      "outputs": []
    },
    {
      "cell_type": "code",
      "source": [
        "a = [71, 5, 8, 89, 13, 57]\n",
        "print(HeapSort(a, len(a)))"
      ],
      "metadata": {
        "colab": {
          "base_uri": "https://localhost:8080/"
        },
        "id": "rOPMi24jFVzz",
        "outputId": "b98d88d6-f3cd-4f19-f1ed-26407e354ed9"
      },
      "execution_count": null,
      "outputs": [
        {
          "output_type": "stream",
          "name": "stdout",
          "text": [
            "[5, 8, 13, 57, 71, 89]\n"
          ]
        }
      ]
    },
    {
      "cell_type": "code",
      "source": [
        "name = HeapSort\n",
        "\n",
        "a1 = list(array_1)\n",
        "a2 = list(array_2)\n",
        "a3 = list(array_3)\n",
        "\n",
        "# Проверка скорости выполнения 1\n",
        "# print(a1)\n",
        "timeCheck(name, a1)\n",
        "# print(a1)\n",
        "\n",
        "# Проверка скорости выполнения 2\n",
        "# print(a2)\n",
        "timeCheck(name, a2)\n",
        "# print(a2)\n",
        "\n",
        "# Проверка скорости выполнения 3\n",
        "# print(a3)\n",
        "timeCheck(name, a3)\n",
        "# print(a3)"
      ],
      "metadata": {
        "colab": {
          "base_uri": "https://localhost:8080/"
        },
        "id": "JF_bUU2aJU8T",
        "outputId": "a2c8caf2-1e1a-4a20-8f33-6652b0225625"
      },
      "execution_count": null,
      "outputs": [
        {
          "output_type": "stream",
          "name": "stdout",
          "text": [
            "--- 2.8848648071289062e-05 seconds ---\n",
            "--- 0.008138656616210938 seconds ---\n",
            "--- 0.09914612770080566 seconds ---\n"
          ]
        }
      ]
    },
    {
      "cell_type": "markdown",
      "source": [
        "## **Сортировка Шелла**"
      ],
      "metadata": {
        "id": "L3YX9qFBPQSK"
      }
    },
    {
      "cell_type": "code",
      "source": [
        "def shell_sort(array, n):\n",
        "  gap = n // 2\n",
        "\n",
        "  while gap > 0:\n",
        "    for value in range(gap, n):\n",
        "\n",
        "      current_value = array[value]\n",
        "      position = value\n",
        "\n",
        "      while position >= gap and array[position - gap] > current_value:\n",
        "        array[position] = array[position - gap]\n",
        "        position -= gap\n",
        "        array[position] = current_value\n",
        "\n",
        "    gap //= 2\n",
        "  return array"
      ],
      "metadata": {
        "id": "8nPOSZOLZWWy"
      },
      "execution_count": null,
      "outputs": []
    },
    {
      "cell_type": "code",
      "source": [
        "a = [71, 5, 8, 89, 13, 57]\n",
        "print(shell_sort(a, len(a)))"
      ],
      "metadata": {
        "colab": {
          "base_uri": "https://localhost:8080/"
        },
        "id": "fJ4XzgLIahtC",
        "outputId": "350a61f6-c4e3-4270-d044-0b20b72fee3f"
      },
      "execution_count": null,
      "outputs": [
        {
          "output_type": "stream",
          "name": "stdout",
          "text": [
            "[5, 8, 13, 57, 71, 89]\n"
          ]
        }
      ]
    },
    {
      "cell_type": "code",
      "source": [
        "name = shell_sort\n",
        "\n",
        "a1 = list(array_1)\n",
        "a2 = list(array_2)\n",
        "a3 = list(array_3)\n",
        "\n",
        "# Проверка скорости выполнения 1\n",
        "# print(a1)\n",
        "timeCheck(name, a1)\n",
        "# print(a1)\n",
        "\n",
        "# Проверка скорости выполнения 2\n",
        "# print(a2)\n",
        "timeCheck(name, a2)\n",
        "# print(a2)\n",
        "\n",
        "# Проверка скорости выполнения 3\n",
        "# print(a3)\n",
        "timeCheck(name, a3)\n",
        "# print(a3)"
      ],
      "metadata": {
        "colab": {
          "base_uri": "https://localhost:8080/"
        },
        "id": "ABdcesHZZz8T",
        "outputId": "431ffe86-953e-4091-cc74-93472c5712c8"
      },
      "execution_count": null,
      "outputs": [
        {
          "output_type": "stream",
          "name": "stdout",
          "text": [
            "--- 1.2636184692382812e-05 seconds ---\n",
            "--- 0.004012107849121094 seconds ---\n",
            "--- 0.0859682559967041 seconds ---\n"
          ]
        }
      ]
    },
    {
      "cell_type": "code",
      "source": [
        "def avr(check):\n",
        "  count = 0\n",
        "  for i in range (10000):\n",
        "    count += check\n",
        "  return count / 10000"
      ],
      "metadata": {
        "id": "jtgThtQntUpa"
      },
      "execution_count": null,
      "outputs": []
    },
    {
      "cell_type": "code",
      "source": [
        "def timeCheck_1(name, array):\n",
        "  n = len(array)\n",
        "  start_time = time.time()\n",
        "  name(array, n)\n",
        "  return time.time() - start_time"
      ],
      "metadata": {
        "id": "HnhrphOntnxq"
      },
      "execution_count": null,
      "outputs": []
    },
    {
      "cell_type": "code",
      "source": [
        "a3 = list(array_3)\n",
        "print (avr(timeCheck_1(shell_sort, a3)))\n",
        "print (avr(timeCheck_1(smoothsort, a3)))\n",
        "print (avr(timeCheck_1(HeapSort, a3)))"
      ],
      "metadata": {
        "colab": {
          "base_uri": "https://localhost:8080/"
        },
        "id": "GBBQOztNttra",
        "outputId": "99be6978-c144-4abb-bc11-6fcde508b0cd"
      },
      "execution_count": null,
      "outputs": [
        {
          "output_type": "stream",
          "name": "stdout",
          "text": [
            "0.07856988906860352\n",
            "0.03847455978393555\n",
            "0.10027956962585449\n"
          ]
        }
      ]
    },
    {
      "cell_type": "markdown",
      "source": [
        "## **Плавная сортировка**"
      ],
      "metadata": {
        "id": "w-Pt47PkPSbg"
      }
    },
    {
      "cell_type": "code",
      "source": [
        "_leonardo_nums = [1, 1]\n",
        "\n",
        "# returns the k-th Leonardo number\n",
        "def L(k):\n",
        "    try:\n",
        "        return _leonardo_nums[k]\n",
        "    except IndexError:\n",
        "        while len(_leonardo_nums) <= k:\n",
        "            _leonardo_nums.append(_leonardo_nums[-2] + _leonardo_nums[-1] + 1)\n",
        "        return _leonardo_nums[k]\n",
        "\n",
        "\n",
        "# sorts into ascending order\n",
        "def smoothsort(arr, n):\n",
        "    size_list = _create_heap(arr, n)\n",
        "    _sort_heap(arr, size_list)\n",
        "    return arr\n",
        "\n",
        "\n",
        "# sorts the max heap in-place. requires the list of sizes of leonardo trees in\n",
        "# the forest\n",
        "def _sort_heap(heap, size_list):\n",
        "    for heap_size in reversed(range(len(heap))):\n",
        "        _dequeue_max(heap, size_list, heap_size)\n",
        "\n",
        "\n",
        "# removes the max value from the graph\n",
        "def _dequeue_max(heap, size_list, heap_size):\n",
        "    removed_size = size_list.pop()\n",
        "    # case 1: rightmost tree has a single node\n",
        "    if removed_size == 0 or removed_size == 1:\n",
        "        pass  # already removed\n",
        "    # case 2: rightmost tree has two children\n",
        "    else:\n",
        "        # add sizes back\n",
        "        size_list.append(removed_size - 1)\n",
        "        size_list.append(removed_size - 2)\n",
        "        # calculate indices of left and right children\n",
        "        left_idx = heap_size - L(size_list[-1]) - 1\n",
        "        right_idx = heap_size - 1\n",
        "        left_size_idx = len(size_list) - 2\n",
        "        right_size_idx = len(size_list) - 1\n",
        "        # fix left child\n",
        "        idx, size_idx = _fix_roots(heap, size_list, left_idx, left_size_idx)\n",
        "        _sift_down(heap, idx, size_list[size_idx])\n",
        "        # fix right child\n",
        "        idx, size_idx = _fix_roots(heap, size_list, right_idx, right_size_idx)\n",
        "        _sift_down(heap, idx, size_list[size_idx])\n",
        "\n",
        "\n",
        "# modifies array in-place to make a heap. returns list of sizes of leonardo\n",
        "# trees in the forest\n",
        "def _create_heap(arr, n):\n",
        "    size_list = []\n",
        "    for heap_end in range(n):\n",
        "        # Update the sizes of the trees in the forest\n",
        "        _add_new_root(size_list)\n",
        "\n",
        "        # Swap the root nodes of the trees. Return [heap index, size index]\n",
        "        idx, size_idx = _fix_roots(arr, size_list, heap_end, len(size_list) - 1)\n",
        "\n",
        "        # Fix the tree that now has the new node\n",
        "        _sift_down(arr, idx, size_list[size_idx])\n",
        "\n",
        "    return size_list\n",
        "\n",
        "\n",
        "# updates the list of sizes of leonardo trees in a forest after a new node is\n",
        "# added\n",
        "def _add_new_root(size_list):\n",
        "    # case 1: Empty forest. Add L_1 tree.\n",
        "    if len(size_list) == 0:\n",
        "        size_list.append(1)\n",
        "    # case 2: Forest with two rightmost trees differing in size by 1.\n",
        "    #         Replace the last two trees of size L_k-1 and L_k-2 by a single\n",
        "    #         tree of size L_k.\n",
        "    elif len(size_list) > 1 and size_list[-2] == size_list[-1] + 1:\n",
        "        size_list[-2] = size_list[-2] + 1\n",
        "        del size_list[-1]\n",
        "    # case 3: Add a new tree, either L_1 or L_0\n",
        "    else:\n",
        "        # case 1: Rightmost tree is an L_1 tree. Add L_0 tree.\n",
        "        if size_list[-1] == 1:\n",
        "            size_list.append(0)\n",
        "        # case 2: Rightmost tree is not an L_1 tree. Add L_1 tree.\n",
        "        else:\n",
        "            size_list.append(1)\n",
        "\n",
        "\n",
        "# modifies 'heap' in place, assuming an implicit Leonardo heap structure exists\n",
        "# with trees having sizes in the order given by 'sizes'\n",
        "def _fix_roots(heap, sizes, start_heap_idx, start_size_idx):\n",
        "    # variables in this function are referring to indexes\n",
        "    cur = start_heap_idx\n",
        "    size_cur = start_size_idx\n",
        "    # keep fixing roots until we're at the leftmost root\n",
        "    while size_cur > 0:\n",
        "        next = cur - L(sizes[size_cur])\n",
        "        # stop if the next root is not strictly greater than the current root\n",
        "        if heap[next] <= heap[cur]:\n",
        "            break\n",
        "        # stop if the next root is not greater than both children of the\n",
        "        # current root, if those children exist, i.e. the size of the current\n",
        "        # tree is not 0 or 1.\n",
        "        if sizes[size_cur] > 1:\n",
        "            right = cur - 1\n",
        "            left = right - L(sizes[size_cur]-2)\n",
        "            if heap[next] <= heap[right] or heap[next] <= heap[left]:\n",
        "                break\n",
        "\n",
        "        # swap the current root with the next root\n",
        "        temp = heap[cur]\n",
        "        heap[cur] = heap[next]\n",
        "        heap[next] = temp\n",
        "        # continue, starting with the next root as the current root\n",
        "        size_cur = size_cur - 1\n",
        "        cur = next\n",
        "    return (cur, size_cur)\n",
        "\n",
        "\n",
        "# Fixes the tree of size tree_size rooted at root_idx in heap, where heap is otherwise a valid heap\n",
        "def _sift_down(heap, root_idx, tree_size):\n",
        "    cur = root_idx\n",
        "    # continue iterating until there are no child nodes\n",
        "    while tree_size > 1:\n",
        "        right = cur - 1\n",
        "        left = cur - 1 - L(tree_size - 2)\n",
        "        # the root is at least as large as both children\n",
        "        if heap[cur] >= heap[left] and heap[cur] >= heap[right]:\n",
        "            break\n",
        "        # the right child is at least as large as the left child\n",
        "        elif heap[right] >= heap[left]:\n",
        "            heap[cur], heap[right] = heap[right], heap[cur]\n",
        "            cur = right\n",
        "            tree_size = tree_size - 2\n",
        "        # the left child is the greatest of the three\n",
        "        else:\n",
        "            heap[cur], heap[left] = heap[left], heap[cur]\n",
        "            cur = left\n",
        "            tree_size = tree_size - 1"
      ],
      "metadata": {
        "id": "0LyuXuUUj12a"
      },
      "execution_count": null,
      "outputs": []
    },
    {
      "cell_type": "code",
      "source": [
        "a = [71, 5, 8, 89, 13, 57]\n",
        "print(smoothsort(a))"
      ],
      "metadata": {
        "colab": {
          "base_uri": "https://localhost:8080/"
        },
        "id": "UlzTPTq_rsWK",
        "outputId": "92846441-6f7a-4bcc-aad8-f14ca69fa097"
      },
      "execution_count": null,
      "outputs": [
        {
          "output_type": "stream",
          "name": "stdout",
          "text": [
            "[5, 8, 13, 57, 71, 89]\n"
          ]
        }
      ]
    },
    {
      "cell_type": "code",
      "source": [
        "name = smoothsort\n",
        "\n",
        "a1 = list(array_1)\n",
        "a2 = list(array_2)\n",
        "a3 = list(array_3)\n",
        "\n",
        "# Проверка скорости выполнения 1\n",
        "# print(a1)\n",
        "timeCheck(name, a1)\n",
        "# print(a1)\n",
        "\n",
        "# Проверка скорости выполнения 2\n",
        "# print(a2)\n",
        "timeCheck(name, a2)\n",
        "# print(a2)\n",
        "\n",
        "# Проверка скорости выполнения 3\n",
        "# print(a3)\n",
        "timeCheck(name, a3)\n",
        "# print(a3)"
      ],
      "metadata": {
        "colab": {
          "base_uri": "https://localhost:8080/"
        },
        "id": "Fd5s-G7Tr5Q9",
        "outputId": "b447e787-48b0-4098-947f-8d2a01495549"
      },
      "execution_count": null,
      "outputs": [
        {
          "output_type": "stream",
          "name": "stdout",
          "text": [
            "--- 6.437301635742188e-05 seconds ---\n",
            "--- 0.01448369026184082 seconds ---\n",
            "--- 0.16311430931091309 seconds ---\n"
          ]
        }
      ]
    }
  ]
}
