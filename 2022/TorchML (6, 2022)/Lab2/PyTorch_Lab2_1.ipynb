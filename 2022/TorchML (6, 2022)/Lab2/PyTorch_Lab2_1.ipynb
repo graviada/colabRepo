{
  "cells": [
    {
      "cell_type": "markdown",
      "metadata": {
        "id": "view-in-github",
        "colab_type": "text"
      },
      "source": [
        "<a href=\"https://colab.research.google.com/github/graviada/colabRepo/blob/master/2022/TorchML%20(6%2C%202022)/Lab2/PyTorch_Lab2_1.ipynb\" target=\"_parent\"><img src=\"https://colab.research.google.com/assets/colab-badge.svg\" alt=\"Open In Colab\"/></a>"
      ]
    },
    {
      "cell_type": "code",
      "execution_count": null,
      "metadata": {
        "id": "SEyWxpqKZT5R"
      },
      "outputs": [],
      "source": [
        "# Импортируем основные модули pytorch\n",
        "import torch\n",
        "import torch.nn as nn\n",
        "import torch.nn.functional as F \n",
        "from torch.utils.data import DataLoader\n",
        "\n",
        "# Импортируем модули, связанные с компьютерным зрением\n",
        "from torchvision import datasets, transforms\n",
        "from torchvision.transforms import ToTensor\n",
        "\n",
        "# Импортируем вспомогательные модули\n",
        "from sklearn.metrics import accuracy_score\n",
        "import matplotlib.pyplot as plt\n",
        "import numpy as np\n",
        "import random"
      ]
    },
    {
      "cell_type": "code",
      "source": [
        "def randomSet():\n",
        "  # random.seed(0)\n",
        "  np.random.seed(0)\n",
        "  torch.manual_seed(0)\n",
        "  torch.cuda.manual_seed(0)\n",
        "  # torch.backends.cudnn.deterministic = True"
      ],
      "metadata": {
        "id": "b2QFhgYrDsTo"
      },
      "execution_count": null,
      "outputs": []
    },
    {
      "cell_type": "code",
      "source": [
        "# Если графический ускоритель поддерживает обучение на нем, будем использовать его,\n",
        "# иначе обучать на процессоре.\n",
        "device = 'cuda' if torch.cuda.is_available() else 'cpu'"
      ],
      "metadata": {
        "id": "uliB0HkzDVaw"
      },
      "execution_count": null,
      "outputs": []
    },
    {
      "cell_type": "code",
      "source": [
        "# Для воспроизводимости результатов обучения нейронной сети\n",
        "randomSet()"
      ],
      "metadata": {
        "id": "XB-Qc6hFDXk1"
      },
      "execution_count": null,
      "outputs": []
    },
    {
      "cell_type": "code",
      "execution_count": null,
      "metadata": {
        "id": "-4r4mRHRZfjd"
      },
      "outputs": [],
      "source": [
        "# В данной лабораторной работе вам необходимо обучить две сети с архитектурой,\n",
        "# которую вам необходимо разработать самостоятельно.\n",
        "# В этой части предлагается реализовать полносвязную сеть без использования сверточных слоев.\n",
        "# Поэкспериментируйте с использованием слоев пакетной нормализации и дропаута.\n",
        "# Сравните точность на тестовой выборке с аналогичными результатами одногруппников.\n",
        "class FCNet(nn.Module):\n",
        "\n",
        "    def __init__(self, input_size=32*32*3, output_size=10):\n",
        "        super().__init__()\n",
        "        print(input_size)\n",
        "        self.fc1 = nn.Linear(input_size, 512)\n",
        "        self.act1 = nn.ReLU()\n",
        "        self.fc2 = nn.Linear(512, 1024)\n",
        "        self.act2 = nn.ReLU()\n",
        "        # self.dropout = nn.Dropout(p=0.6)\n",
        "        self.fc3 = nn.Linear(1024, 128)\n",
        "        self.batchnorm1 = nn.BatchNorm1d(128)\n",
        "        self.act3 = nn.ReLU()\n",
        "        self.fc4 = nn.Linear(128, 32)\n",
        "        self.batchnorm2 = nn.BatchNorm1d(32)\n",
        "        self.act4 = nn.ReLU()\n",
        "        self.fc5 = nn.Linear(32, output_size)\n",
        "\n",
        "    def forward(self, x):\n",
        "        # x = torch.flatten(x, start_dim=3)\n",
        "        x = self.act1(self.fc1(x))\n",
        "        x = self.act2(self.fc2(x))\n",
        "        # x = self.dropout(x)\n",
        "        x = self.act3(self.batchnorm1(self.fc3(x)))\n",
        "        x = self.act4(self.batchnorm2(self.fc4(x)))\n",
        "        x = self.fc5(x)\n",
        "\n",
        "        return x"
      ]
    },
    {
      "cell_type": "code",
      "execution_count": null,
      "metadata": {
        "id": "PD17yKABVB3k"
      },
      "outputs": [],
      "source": [
        "# Задаем количество эпох (проходов по всей обучающей выборке) и размер пакета, можно варьировать\n",
        "EPOCHS = 15\n",
        "BATCH_SIZE = 256"
      ]
    },
    {
      "cell_type": "code",
      "execution_count": null,
      "metadata": {
        "colab": {
          "base_uri": "https://localhost:8080/",
          "height": 151,
          "referenced_widgets": [
            "2daec31abbf948ea8278db3fe66c2a7e",
            "096ef6d358794beaa2fdde628b151c7a",
            "6aa1bb2484b34b70889148d36ec9cdf7",
            "424abdafd1944dae9368f629d7056cca",
            "4494b1f523754f8688d1a759404f709c",
            "3451288687d8415faf31913e5c934cf6",
            "65912974d6ac4fd8a37a2fe5c77c368a",
            "505986af414c447caf8c9bacecbc2c98",
            "1f00279d8cfb41c693c57e145317a251",
            "61127ece64184ae289864010f8259178",
            "68ed5242018846708cad80af6c502b9b",
            "fc462a45381b40fe844619520b112d73",
            "a9e5dec419e1458cb408b7665ed93353",
            "e92aefdf356949c88aca5f1f12c96fa2",
            "b59a4db53a834164925e5e44ab74a30d",
            "d8181046a871426ea28a7e4cf2f7fdb9",
            "05a8bbbf39284ec0af482ff24ce9dafc",
            "9055237b001f47988e2723794a009b90",
            "ea2867cd0ffd4c50973e50d635152272",
            "1cba3095172b456db2703166228a8c70",
            "79d548e6a3a7407d9d5c448a71b04c40",
            "b11782c81a7e4914baa9c23449f59fab"
          ]
        },
        "id": "cjzMkJCvZjoC",
        "outputId": "353d6c7d-b62c-402f-e4aa-02c7c3916c7c"
      },
      "outputs": [
        {
          "output_type": "stream",
          "name": "stdout",
          "text": [
            "Downloading https://www.cs.toronto.edu/~kriz/cifar-10-python.tar.gz to ./data/train/cifar-10-python.tar.gz\n"
          ]
        },
        {
          "output_type": "display_data",
          "data": {
            "text/plain": [
              "  0%|          | 0/170498071 [00:00<?, ?it/s]"
            ],
            "application/vnd.jupyter.widget-view+json": {
              "version_major": 2,
              "version_minor": 0,
              "model_id": "2daec31abbf948ea8278db3fe66c2a7e"
            }
          },
          "metadata": {}
        },
        {
          "output_type": "stream",
          "name": "stdout",
          "text": [
            "Extracting ./data/train/cifar-10-python.tar.gz to ./data/train\n",
            "Downloading https://www.cs.toronto.edu/~kriz/cifar-10-python.tar.gz to ./data/test/cifar-10-python.tar.gz\n"
          ]
        },
        {
          "output_type": "display_data",
          "data": {
            "text/plain": [
              "  0%|          | 0/170498071 [00:00<?, ?it/s]"
            ],
            "application/vnd.jupyter.widget-view+json": {
              "version_major": 2,
              "version_minor": 0,
              "model_id": "fc462a45381b40fe844619520b112d73"
            }
          },
          "metadata": {}
        },
        {
          "output_type": "stream",
          "name": "stdout",
          "text": [
            "Extracting ./data/test/cifar-10-python.tar.gz to ./data/test\n"
          ]
        }
      ],
      "source": [
        "# Второй шаг используется для нормализации данных путем указания среднего значения и\n",
        "# стандартного отклонения для каждого из трех каналов\n",
        "# Это преобразует данные из [0,1] в [-1,1]\n",
        "\n",
        "# Нормализация данных должна помочь ускорить преобразование и уменьшить вероятность\n",
        "# исчезновения градиентов с определенными функциями активации\n",
        "transform_ = transforms.Compose(\n",
        "    [transforms.ToTensor(),\n",
        "     transforms.Normalize((0.5, 0.5, 0.5), (0.5, 0.5, 0.5))])\n",
        "\n",
        "# Загружаем данные из набора CIFAR10\n",
        "train_data = datasets.CIFAR10(root='./data/train', train=True, download=True, transform=transform_)\n",
        "test_data = datasets.CIFAR10(root='./data/test', train=False, download=True, transform=transform_)\n",
        "\n",
        "# DataLoader позволяет разбить выборку на пакеты заданного размера.\n",
        "# Параметр shuffle отвечает за перемешивание данных в пакете\n",
        "train_loader = DataLoader(train_data, batch_size=BATCH_SIZE, shuffle=True)"
      ]
    },
    {
      "cell_type": "code",
      "execution_count": null,
      "metadata": {
        "colab": {
          "base_uri": "https://localhost:8080/",
          "height": 105
        },
        "id": "xtKVw5UON8m2",
        "outputId": "44811e34-7642-44b3-faaf-9fc0d88394bf"
      },
      "outputs": [
        {
          "output_type": "execute_result",
          "data": {
            "text/plain": [
              "'\\ndef convert_to_imshow_format(image):\\n    # first convert back to [0,1] range from [-1,1] range\\n    image = image / 2 + 0.5\\n    image = image.numpy()\\n    # convert from CHW to HWC\\n    # from 3x32x32 to 32x32x3\\n    return image.transpose(1,2,0)\\n\\ntrain_data_loader = DataLoader(train_data, batch_size=len(train_data))\\nimages, labels = next(iter(train_data_loader))\\n\\n# dataiter = iter(trainloader)\\n# images, labels = dataiter.next()\\n\\nfig, axes = plt.subplots(1, len(images), figsize=(12,2.5))\\nfor idx, image in enumerate(images):\\n    axes[idx].imshow(convert_to_imshow_format(image))\\n    axes[idx].set_title(classes[labels[idx]])\\n    axes[idx].set_xticks([])\\n    axes[idx].set_yticks([])\\n'"
            ],
            "application/vnd.google.colaboratory.intrinsic+json": {
              "type": "string"
            }
          },
          "metadata": {},
          "execution_count": 3
        }
      ],
      "source": [
        "'''\n",
        "def convert_to_imshow_format(image):\n",
        "    # first convert back to [0,1] range from [-1,1] range\n",
        "    image = image / 2 + 0.5\n",
        "    image = image.numpy()\n",
        "    # convert from CHW to HWC\n",
        "    # from 3x32x32 to 32x32x3\n",
        "    return image.transpose(1,2,0)\n",
        "\n",
        "train_data_loader = DataLoader(train_data, batch_size=len(train_data))\n",
        "images, labels = next(iter(train_data_loader))\n",
        "\n",
        "# dataiter = iter(trainloader)\n",
        "# images, labels = dataiter.next()\n",
        "\n",
        "fig, axes = plt.subplots(1, len(images), figsize=(12,2.5))\n",
        "for idx, image in enumerate(images):\n",
        "    axes[idx].imshow(convert_to_imshow_format(image))\n",
        "    axes[idx].set_title(classes[labels[idx]])\n",
        "    axes[idx].set_xticks([])\n",
        "    axes[idx].set_yticks([])\n",
        "'''"
      ]
    },
    {
      "cell_type": "code",
      "execution_count": null,
      "metadata": {
        "colab": {
          "base_uri": "https://localhost:8080/"
        },
        "id": "2W6ERXBjZuoz",
        "outputId": "6c87fbf9-a4ba-4eec-81c4-efce345f4b70"
      },
      "outputs": [
        {
          "output_type": "stream",
          "name": "stdout",
          "text": [
            "3072\n"
          ]
        }
      ],
      "source": [
        "# Готовимся к обучению\n",
        "model = FCNet().to(device)  # создаем модель\n",
        "optimizer = torch.optim.Adam(model.parameters(), lr=3e-4)  # оптимизатор, нужно выбрать и настроить\n",
        "loss_function = nn.CrossEntropyLoss()  # функция потерь, нужно выбрать\n",
        "loss_history = list()  # список для хранения истории изменения функции стоимости"
      ]
    },
    {
      "cell_type": "code",
      "execution_count": null,
      "metadata": {
        "colab": {
          "base_uri": "https://localhost:8080/"
        },
        "id": "PtvMel8JZzJF",
        "outputId": "129ea78e-1612-4110-aa16-b888d1819498"
      },
      "outputs": [
        {
          "output_type": "stream",
          "name": "stdout",
          "text": [
            "Эпоха 1 завершилась с функцией стоимости на последнем пакете = 1.599491000175476\n",
            "Эпоха 2 завершилась с функцией стоимости на последнем пакете = 1.5764954090118408\n",
            "Эпоха 3 завершилась с функцией стоимости на последнем пакете = 1.5583852529525757\n",
            "Эпоха 4 завершилась с функцией стоимости на последнем пакете = 1.3676543235778809\n",
            "Эпоха 5 завершилась с функцией стоимости на последнем пакете = 1.264444351196289\n",
            "Эпоха 6 завершилась с функцией стоимости на последнем пакете = 1.1549632549285889\n",
            "Эпоха 7 завершилась с функцией стоимости на последнем пакете = 1.1110236644744873\n",
            "Эпоха 8 завершилась с функцией стоимости на последнем пакете = 1.078973650932312\n",
            "Эпоха 9 завершилась с функцией стоимости на последнем пакете = 0.9528512954711914\n",
            "Эпоха 10 завершилась с функцией стоимости на последнем пакете = 0.9556400179862976\n",
            "Эпоха 11 завершилась с функцией стоимости на последнем пакете = 0.69871985912323\n",
            "Эпоха 12 завершилась с функцией стоимости на последнем пакете = 0.42164936661720276\n",
            "Эпоха 13 завершилась с функцией стоимости на последнем пакете = 0.4151647984981537\n",
            "Эпоха 14 завершилась с функцией стоимости на последнем пакете = 0.3718956708908081\n",
            "Эпоха 15 завершилась с функцией стоимости на последнем пакете = 0.35362088680267334\n"
          ]
        }
      ],
      "source": [
        "# Начинаем обучение\n",
        "for epoch in range(EPOCHS):\n",
        "    for i, (batch, labels) in enumerate(train_loader):  # разбиваем выборку на пакеты\n",
        "        # Нужно реализовать один шаг градиентного спуска\n",
        "        batch = batch.reshape(batch.shape[0], -1).to(device)\n",
        "        loss = torch.tensor(0, dtype=torch.float32)  # значение функции стоимости на пакете, нужно рассчитать\n",
        "        # ВАШ КОД ЗДЕСЬ\n",
        "        optimizer.zero_grad()\n",
        "        loss = loss_function(model(batch), labels.to(device))\n",
        "        loss.backward()\n",
        "        optimizer.step()\n",
        "        loss_history.append(loss.log().item())  # добавляется логарифм стоимости для большей наглядности\n",
        "    print(f'Эпоха {epoch + 1} завершилась с функцией стоимости на последнем пакете = {loss.item()}')"
      ]
    },
    {
      "cell_type": "code",
      "execution_count": null,
      "metadata": {
        "colab": {
          "base_uri": "https://localhost:8080/",
          "height": 295
        },
        "id": "EzxsTnaDZ26b",
        "outputId": "6d712ce4-fcba-426b-e40f-4fb423a000c8"
      },
      "outputs": [
        {
          "output_type": "display_data",
          "data": {
            "text/plain": [
              "<Figure size 432x288 with 1 Axes>"
            ],
            "image/png": "[encoded data removed]"
          },
          "metadata": {
            "needs_background": "light"
          }
        }
      ],
      "source": [
        "# Выводим график функции стоимости\n",
        "plt.title('Зависимость функции стоимости от номера шага градиентного спуска')\n",
        "plt.xlabel('Номер шага')\n",
        "plt.ylabel('Функция стоимости')\n",
        "plt.plot(loss_history)\n",
        "plt.show()"
      ]
    },
    {
      "cell_type": "code",
      "execution_count": null,
      "metadata": {
        "colab": {
          "base_uri": "https://localhost:8080/"
        },
        "id": "wQZyc6XGZ7UU",
        "outputId": "93929012-8ddd-4887-ebc1-dabbf0a34ae9"
      },
      "outputs": [
        {
          "output_type": "stream",
          "name": "stdout",
          "text": [
            "Точность (accuracy) на обучающей выборке: 0.94468\n",
            "Точность (accuracy) на тестовой выборке: 0.5498\n"
          ]
        }
      ],
      "source": [
        "# Отключаем расчет вычислительного графа для экономии времени и памяти: нам не нужно считать градиенты при тестировании модели\n",
        "with torch.no_grad():\n",
        "    # Оцениваем качество модели\n",
        "    train_data_loader = DataLoader(train_data, batch_size=len(train_data))\n",
        "    train_features, train_targets = next(iter(train_data_loader))\n",
        "\n",
        "    train_features = train_features.to(device)\n",
        "    train_features = train_features.reshape(train_features.shape[0], -1).to(device)\n",
        "    train_model_predictions = torch.argmax(model(train_features), dim=1)\n",
        "    print('Точность (accuracy) на обучающей выборке:', accuracy_score(train_data.targets, train_model_predictions))\n",
        "\n",
        "    test_data_loader = DataLoader(test_data, batch_size=len(test_data))\n",
        "    test_features, test_targets = next(iter(test_data_loader))\n",
        "\n",
        "    test_features = test_features.to(device)\n",
        "    test_features = test_features.reshape(test_features.shape[0], -1).to(device)\n",
        "    test_model_predictions = torch.argmax(model(test_features), dim=1)\n",
        "    print('Точность (accuracy) на тестовой выборке:', accuracy_score(test_data.targets, test_model_predictions))"
      ]
    }
  ],
  "metadata": {
    "colab": {
      "collapsed_sections": [],
      "name": "PyTorch_Lab2_1.ipynb",
      "provenance": [],
      "authorship_tag": "ABX9TyP6nFH22+cxoYl0xHVCykN9",
      "include_colab_link": true
    },
    "kernelspec": {
      "display_name": "Python 3",
      "name": "python3"
    },
    "language_info": {
      "name": "python"
    },
    "widgets": {
      "application/vnd.jupyter.widget-state+json": {
        "2daec31abbf948ea8278db3fe66c2a7e": {
          "model_module": "@jupyter-widgets/controls",
          "model_name": "HBoxModel",
          "model_module_version": "1.5.0",
          "state": {
            "_dom_classes": [],
            "_model_module": "@jupyter-widgets/controls",
            "_model_module_version": "1.5.0",
            "_model_name": "HBoxModel",
            "_view_count": null,
            "_view_module": "@jupyter-widgets/controls",
            "_view_module_version": "1.5.0",
            "_view_name": "HBoxView",
            "box_style": "",
            "children": [
              "IPY_MODEL_096ef6d358794beaa2fdde628b151c7a",
              "IPY_MODEL_6aa1bb2484b34b70889148d36ec9cdf7",
              "IPY_MODEL_424abdafd1944dae9368f629d7056cca"
            ],
            "layout": "IPY_MODEL_4494b1f523754f8688d1a759404f709c"
          }
        },
        "096ef6d358794beaa2fdde628b151c7a": {
          "model_module": "@jupyter-widgets/controls",
          "model_name": "HTMLModel",
          "model_module_version": "1.5.0",
          "state": {
            "_dom_classes": [],
            "_model_module": "@jupyter-widgets/controls",
            "_model_module_version": "1.5.0",
            "_model_name": "HTMLModel",
            "_view_count": null,
            "_view_module": "@jupyter-widgets/controls",
            "_view_module_version": "1.5.0",
            "_view_name": "HTMLView",
            "description": "",
            "description_tooltip": null,
            "layout": "IPY_MODEL_3451288687d8415faf31913e5c934cf6",
            "placeholder": "​",
            "style": "IPY_MODEL_65912974d6ac4fd8a37a2fe5c77c368a",
            "value": ""
          }
        },
        "6aa1bb2484b34b70889148d36ec9cdf7": {
          "model_module": "@jupyter-widgets/controls",
          "model_name": "FloatProgressModel",
          "model_module_version": "1.5.0",
          "state": {
            "_dom_classes": [],
            "_model_module": "@jupyter-widgets/controls",
            "_model_module_version": "1.5.0",
            "_model_name": "FloatProgressModel",
            "_view_count": null,
            "_view_module": "@jupyter-widgets/controls",
            "_view_module_version": "1.5.0",
            "_view_name": "ProgressView",
            "bar_style": "success",
            "description": "",
            "description_tooltip": null,
            "layout": "IPY_MODEL_505986af414c447caf8c9bacecbc2c98",
            "max": 170498071,
            "min": 0,
            "orientation": "horizontal",
            "style": "IPY_MODEL_1f00279d8cfb41c693c57e145317a251",
            "value": 170498071
          }
        },
        "424abdafd1944dae9368f629d7056cca": {
          "model_module": "@jupyter-widgets/controls",
          "model_name": "HTMLModel",
          "model_module_version": "1.5.0",
          "state": {
            "_dom_classes": [],
            "_model_module": "@jupyter-widgets/controls",
            "_model_module_version": "1.5.0",
            "_model_name": "HTMLModel",
            "_view_count": null,
            "_view_module": "@jupyter-widgets/controls",
            "_view_module_version": "1.5.0",
            "_view_name": "HTMLView",
            "description": "",
            "description_tooltip": null,
            "layout": "IPY_MODEL_61127ece64184ae289864010f8259178",
            "placeholder": "​",
            "style": "IPY_MODEL_68ed5242018846708cad80af6c502b9b",
            "value": " 170499072/? [00:02&lt;00:00, 67270981.56it/s]"
          }
        },
        "4494b1f523754f8688d1a759404f709c": {
          "model_module": "@jupyter-widgets/base",
          "model_name": "LayoutModel",
          "model_module_version": "1.2.0",
          "state": {
            "_model_module": "@jupyter-widgets/base",
            "_model_module_version": "1.2.0",
            "_model_name": "LayoutModel",
            "_view_count": null,
            "_view_module": "@jupyter-widgets/base",
            "_view_module_version": "1.2.0",
            "_view_name": "LayoutView",
            "align_content": null,
            "align_items": null,
            "align_self": null,
            "border": null,
            "bottom": null,
            "display": null,
            "flex": null,
            "flex_flow": null,
            "grid_area": null,
            "grid_auto_columns": null,
            "grid_auto_flow": null,
            "grid_auto_rows": null,
            "grid_column": null,
            "grid_gap": null,
            "grid_row": null,
            "grid_template_areas": null,
            "grid_template_columns": null,
            "grid_template_rows": null,
            "height": null,
            "justify_content": null,
            "justify_items": null,
            "left": null,
            "margin": null,
            "max_height": null,
            "max_width": null,
            "min_height": null,
            "min_width": null,
            "object_fit": null,
            "object_position": null,
            "order": null,
            "overflow": null,
            "overflow_x": null,
            "overflow_y": null,
            "padding": null,
            "right": null,
            "top": null,
            "visibility": null,
            "width": null
          }
        },
        "3451288687d8415faf31913e5c934cf6": {
          "model_module": "@jupyter-widgets/base",
          "model_name": "LayoutModel",
          "model_module_version": "1.2.0",
          "state": {
            "_model_module": "@jupyter-widgets/base",
            "_model_module_version": "1.2.0",
            "_model_name": "LayoutModel",
            "_view_count": null,
            "_view_module": "@jupyter-widgets/base",
            "_view_module_version": "1.2.0",
            "_view_name": "LayoutView",
            "align_content": null,
            "align_items": null,
            "align_self": null,
            "border": null,
            "bottom": null,
            "display": null,
            "flex": null,
            "flex_flow": null,
            "grid_area": null,
            "grid_auto_columns": null,
            "grid_auto_flow": null,
            "grid_auto_rows": null,
            "grid_column": null,
            "grid_gap": null,
            "grid_row": null,
            "grid_template_areas": null,
            "grid_template_columns": null,
            "grid_template_rows": null,
            "height": null,
            "justify_content": null,
            "justify_items": null,
            "left": null,
            "margin": null,
            "max_height": null,
            "max_width": null,
            "min_height": null,
            "min_width": null,
            "object_fit": null,
            "object_position": null,
            "order": null,
            "overflow": null,
            "overflow_x": null,
            "overflow_y": null,
            "padding": null,
            "right": null,
            "top": null,
            "visibility": null,
            "width": null
          }
        },
        "65912974d6ac4fd8a37a2fe5c77c368a": {
          "model_module": "@jupyter-widgets/controls",
          "model_name": "DescriptionStyleModel",
          "model_module_version": "1.5.0",
          "state": {
            "_model_module": "@jupyter-widgets/controls",
            "_model_module_version": "1.5.0",
            "_model_name": "DescriptionStyleModel",
            "_view_count": null,
            "_view_module": "@jupyter-widgets/base",
            "_view_module_version": "1.2.0",
            "_view_name": "StyleView",
            "description_width": ""
          }
        },
        "505986af414c447caf8c9bacecbc2c98": {
          "model_module": "@jupyter-widgets/base",
          "model_name": "LayoutModel",
          "model_module_version": "1.2.0",
          "state": {
            "_model_module": "@jupyter-widgets/base",
            "_model_module_version": "1.2.0",
            "_model_name": "LayoutModel",
            "_view_count": null,
            "_view_module": "@jupyter-widgets/base",
            "_view_module_version": "1.2.0",
            "_view_name": "LayoutView",
            "align_content": null,
            "align_items": null,
            "align_self": null,
            "border": null,
            "bottom": null,
            "display": null,
            "flex": null,
            "flex_flow": null,
            "grid_area": null,
            "grid_auto_columns": null,
            "grid_auto_flow": null,
            "grid_auto_rows": null,
            "grid_column": null,
            "grid_gap": null,
            "grid_row": null,
            "grid_template_areas": null,
            "grid_template_columns": null,
            "grid_template_rows": null,
            "height": null,
            "justify_content": null,
            "justify_items": null,
            "left": null,
            "margin": null,
            "max_height": null,
            "max_width": null,
            "min_height": null,
            "min_width": null,
            "object_fit": null,
            "object_position": null,
            "order": null,
            "overflow": null,
            "overflow_x": null,
            "overflow_y": null,
            "padding": null,
            "right": null,
            "top": null,
            "visibility": null,
            "width": null
          }
        },
        "1f00279d8cfb41c693c57e145317a251": {
          "model_module": "@jupyter-widgets/controls",
          "model_name": "ProgressStyleModel",
          "model_module_version": "1.5.0",
          "state": {
            "_model_module": "@jupyter-widgets/controls",
            "_model_module_version": "1.5.0",
            "_model_name": "ProgressStyleModel",
            "_view_count": null,
            "_view_module": "@jupyter-widgets/base",
            "_view_module_version": "1.2.0",
            "_view_name": "StyleView",
            "bar_color": null,
            "description_width": ""
          }
        },
        "61127ece64184ae289864010f8259178": {
          "model_module": "@jupyter-widgets/base",
          "model_name": "LayoutModel",
          "model_module_version": "1.2.0",
          "state": {
            "_model_module": "@jupyter-widgets/base",
            "_model_module_version": "1.2.0",
            "_model_name": "LayoutModel",
            "_view_count": null,
            "_view_module": "@jupyter-widgets/base",
            "_view_module_version": "1.2.0",
            "_view_name": "LayoutView",
            "align_content": null,
            "align_items": null,
            "align_self": null,
            "border": null,
            "bottom": null,
            "display": null,
            "flex": null,
            "flex_flow": null,
            "grid_area": null,
            "grid_auto_columns": null,
            "grid_auto_flow": null,
            "grid_auto_rows": null,
            "grid_column": null,
            "grid_gap": null,
            "grid_row": null,
            "grid_template_areas": null,
            "grid_template_columns": null,
            "grid_template_rows": null,
            "height": null,
            "justify_content": null,
            "justify_items": null,
            "left": null,
            "margin": null,
            "max_height": null,
            "max_width": null,
            "min_height": null,
            "min_width": null,
            "object_fit": null,
            "object_position": null,
            "order": null,
            "overflow": null,
            "overflow_x": null,
            "overflow_y": null,
            "padding": null,
            "right": null,
            "top": null,
            "visibility": null,
            "width": null
          }
        },
        "68ed5242018846708cad80af6c502b9b": {
          "model_module": "@jupyter-widgets/controls",
          "model_name": "DescriptionStyleModel",
          "model_module_version": "1.5.0",
          "state": {
            "_model_module": "@jupyter-widgets/controls",
            "_model_module_version": "1.5.0",
            "_model_name": "DescriptionStyleModel",
            "_view_count": null,
            "_view_module": "@jupyter-widgets/base",
            "_view_module_version": "1.2.0",
            "_view_name": "StyleView",
            "description_width": ""
          }
        },
        "fc462a45381b40fe844619520b112d73": {
          "model_module": "@jupyter-widgets/controls",
          "model_name": "HBoxModel",
          "model_module_version": "1.5.0",
          "state": {
            "_dom_classes": [],
            "_model_module": "@jupyter-widgets/controls",
            "_model_module_version": "1.5.0",
            "_model_name": "HBoxModel",
            "_view_count": null,
            "_view_module": "@jupyter-widgets/controls",
            "_view_module_version": "1.5.0",
            "_view_name": "HBoxView",
            "box_style": "",
            "children": [
              "IPY_MODEL_a9e5dec419e1458cb408b7665ed93353",
              "IPY_MODEL_e92aefdf356949c88aca5f1f12c96fa2",
              "IPY_MODEL_b59a4db53a834164925e5e44ab74a30d"
            ],
            "layout": "IPY_MODEL_d8181046a871426ea28a7e4cf2f7fdb9"
          }
        },
        "a9e5dec419e1458cb408b7665ed93353": {
          "model_module": "@jupyter-widgets/controls",
          "model_name": "HTMLModel",
          "model_module_version": "1.5.0",
          "state": {
            "_dom_classes": [],
            "_model_module": "@jupyter-widgets/controls",
            "_model_module_version": "1.5.0",
            "_model_name": "HTMLModel",
            "_view_count": null,
            "_view_module": "@jupyter-widgets/controls",
            "_view_module_version": "1.5.0",
            "_view_name": "HTMLView",
            "description": "",
            "description_tooltip": null,
            "layout": "IPY_MODEL_05a8bbbf39284ec0af482ff24ce9dafc",
            "placeholder": "​",
            "style": "IPY_MODEL_9055237b001f47988e2723794a009b90",
            "value": ""
          }
        },
        "e92aefdf356949c88aca5f1f12c96fa2": {
          "model_module": "@jupyter-widgets/controls",
          "model_name": "FloatProgressModel",
          "model_module_version": "1.5.0",
          "state": {
            "_dom_classes": [],
            "_model_module": "@jupyter-widgets/controls",
            "_model_module_version": "1.5.0",
            "_model_name": "FloatProgressModel",
            "_view_count": null,
            "_view_module": "@jupyter-widgets/controls",
            "_view_module_version": "1.5.0",
            "_view_name": "ProgressView",
            "bar_style": "success",
            "description": "",
            "description_tooltip": null,
            "layout": "IPY_MODEL_ea2867cd0ffd4c50973e50d635152272",
            "max": 170498071,
            "min": 0,
            "orientation": "horizontal",
            "style": "IPY_MODEL_1cba3095172b456db2703166228a8c70",
            "value": 170498071
          }
        },
        "b59a4db53a834164925e5e44ab74a30d": {
          "model_module": "@jupyter-widgets/controls",
          "model_name": "HTMLModel",
          "model_module_version": "1.5.0",
          "state": {
            "_dom_classes": [],
            "_model_module": "@jupyter-widgets/controls",
            "_model_module_version": "1.5.0",
            "_model_name": "HTMLModel",
            "_view_count": null,
            "_view_module": "@jupyter-widgets/controls",
            "_view_module_version": "1.5.0",
            "_view_name": "HTMLView",
            "description": "",
            "description_tooltip": null,
            "layout": "IPY_MODEL_79d548e6a3a7407d9d5c448a71b04c40",
            "placeholder": "​",
            "style": "IPY_MODEL_b11782c81a7e4914baa9c23449f59fab",
            "value": " 170499072/? [00:04&lt;00:00, 60628789.13it/s]"
          }
        },
        "d8181046a871426ea28a7e4cf2f7fdb9": {
          "model_module": "@jupyter-widgets/base",
          "model_name": "LayoutModel",
          "model_module_version": "1.2.0",
          "state": {
            "_model_module": "@jupyter-widgets/base",
            "_model_module_version": "1.2.0",
            "_model_name": "LayoutModel",
            "_view_count": null,
            "_view_module": "@jupyter-widgets/base",
            "_view_module_version": "1.2.0",
            "_view_name": "LayoutView",
            "align_content": null,
            "align_items": null,
            "align_self": null,
            "border": null,
            "bottom": null,
            "display": null,
            "flex": null,
            "flex_flow": null,
            "grid_area": null,
            "grid_auto_columns": null,
            "grid_auto_flow": null,
            "grid_auto_rows": null,
            "grid_column": null,
            "grid_gap": null,
            "grid_row": null,
            "grid_template_areas": null,
            "grid_template_columns": null,
            "grid_template_rows": null,
            "height": null,
            "justify_content": null,
            "justify_items": null,
            "left": null,
            "margin": null,
            "max_height": null,
            "max_width": null,
            "min_height": null,
            "min_width": null,
            "object_fit": null,
            "object_position": null,
            "order": null,
            "overflow": null,
            "overflow_x": null,
            "overflow_y": null,
            "padding": null,
            "right": null,
            "top": null,
            "visibility": null,
            "width": null
          }
        },
        "05a8bbbf39284ec0af482ff24ce9dafc": {
          "model_module": "@jupyter-widgets/base",
          "model_name": "LayoutModel",
          "model_module_version": "1.2.0",
          "state": {
            "_model_module": "@jupyter-widgets/base",
            "_model_module_version": "1.2.0",
            "_model_name": "LayoutModel",
            "_view_count": null,
            "_view_module": "@jupyter-widgets/base",
            "_view_module_version": "1.2.0",
            "_view_name": "LayoutView",
            "align_content": null,
            "align_items": null,
            "align_self": null,
            "border": null,
            "bottom": null,
            "display": null,
            "flex": null,
            "flex_flow": null,
            "grid_area": null,
            "grid_auto_columns": null,
            "grid_auto_flow": null,
            "grid_auto_rows": null,
            "grid_column": null,
            "grid_gap": null,
            "grid_row": null,
            "grid_template_areas": null,
            "grid_template_columns": null,
            "grid_template_rows": null,
            "height": null,
            "justify_content": null,
            "justify_items": null,
            "left": null,
            "margin": null,
            "max_height": null,
            "max_width": null,
            "min_height": null,
            "min_width": null,
            "object_fit": null,
            "object_position": null,
            "order": null,
            "overflow": null,
            "overflow_x": null,
            "overflow_y": null,
            "padding": null,
            "right": null,
            "top": null,
            "visibility": null,
            "width": null
          }
        },
        "9055237b001f47988e2723794a009b90": {
          "model_module": "@jupyter-widgets/controls",
          "model_name": "DescriptionStyleModel",
          "model_module_version": "1.5.0",
          "state": {
            "_model_module": "@jupyter-widgets/controls",
            "_model_module_version": "1.5.0",
            "_model_name": "DescriptionStyleModel",
            "_view_count": null,
            "_view_module": "@jupyter-widgets/base",
            "_view_module_version": "1.2.0",
            "_view_name": "StyleView",
            "description_width": ""
          }
        },
        "ea2867cd0ffd4c50973e50d635152272": {
          "model_module": "@jupyter-widgets/base",
          "model_name": "LayoutModel",
          "model_module_version": "1.2.0",
          "state": {
            "_model_module": "@jupyter-widgets/base",
            "_model_module_version": "1.2.0",
            "_model_name": "LayoutModel",
            "_view_count": null,
            "_view_module": "@jupyter-widgets/base",
            "_view_module_version": "1.2.0",
            "_view_name": "LayoutView",
            "align_content": null,
            "align_items": null,
            "align_self": null,
            "border": null,
            "bottom": null,
            "display": null,
            "flex": null,
            "flex_flow": null,
            "grid_area": null,
            "grid_auto_columns": null,
            "grid_auto_flow": null,
            "grid_auto_rows": null,
            "grid_column": null,
            "grid_gap": null,
            "grid_row": null,
            "grid_template_areas": null,
            "grid_template_columns": null,
            "grid_template_rows": null,
            "height": null,
            "justify_content": null,
            "justify_items": null,
            "left": null,
            "margin": null,
            "max_height": null,
            "max_width": null,
            "min_height": null,
            "min_width": null,
            "object_fit": null,
            "object_position": null,
            "order": null,
            "overflow": null,
            "overflow_x": null,
            "overflow_y": null,
            "padding": null,
            "right": null,
            "top": null,
            "visibility": null,
            "width": null
          }
        },
        "1cba3095172b456db2703166228a8c70": {
          "model_module": "@jupyter-widgets/controls",
          "model_name": "ProgressStyleModel",
          "model_module_version": "1.5.0",
          "state": {
            "_model_module": "@jupyter-widgets/controls",
            "_model_module_version": "1.5.0",
            "_model_name": "ProgressStyleModel",
            "_view_count": null,
            "_view_module": "@jupyter-widgets/base",
            "_view_module_version": "1.2.0",
            "_view_name": "StyleView",
            "bar_color": null,
            "description_width": ""
          }
        },
        "79d548e6a3a7407d9d5c448a71b04c40": {
          "model_module": "@jupyter-widgets/base",
          "model_name": "LayoutModel",
          "model_module_version": "1.2.0",
          "state": {
            "_model_module": "@jupyter-widgets/base",
            "_model_module_version": "1.2.0",
            "_model_name": "LayoutModel",
            "_view_count": null,
            "_view_module": "@jupyter-widgets/base",
            "_view_module_version": "1.2.0",
            "_view_name": "LayoutView",
            "align_content": null,
            "align_items": null,
            "align_self": null,
            "border": null,
            "bottom": null,
            "display": null,
            "flex": null,
            "flex_flow": null,
            "grid_area": null,
            "grid_auto_columns": null,
            "grid_auto_flow": null,
            "grid_auto_rows": null,
            "grid_column": null,
            "grid_gap": null,
            "grid_row": null,
            "grid_template_areas": null,
            "grid_template_columns": null,
            "grid_template_rows": null,
            "height": null,
            "justify_content": null,
            "justify_items": null,
            "left": null,
            "margin": null,
            "max_height": null,
            "max_width": null,
            "min_height": null,
            "min_width": null,
            "object_fit": null,
            "object_position": null,
            "order": null,
            "overflow": null,
            "overflow_x": null,
            "overflow_y": null,
            "padding": null,
            "right": null,
            "top": null,
            "visibility": null,
            "width": null
          }
        },
        "b11782c81a7e4914baa9c23449f59fab": {
          "model_module": "@jupyter-widgets/controls",
          "model_name": "DescriptionStyleModel",
          "model_module_version": "1.5.0",
          "state": {
            "_model_module": "@jupyter-widgets/controls",
            "_model_module_version": "1.5.0",
            "_model_name": "DescriptionStyleModel",
            "_view_count": null,
            "_view_module": "@jupyter-widgets/base",
            "_view_module_version": "1.2.0",
            "_view_name": "StyleView",
            "description_width": ""
          }
        }
      }
    }
  },
  "nbformat": 4,
  "nbformat_minor": 0
}