{
  "cells": [
    {
      "cell_type": "markdown",
      "metadata": {
        "id": "view-in-github",
        "colab_type": "text"
      },
      "source": [
        "<a href=\"https://colab.research.google.com/github/graviada/colabRepo/blob/master/TorchML/PyTorch_Lab1_2.ipynb\" target=\"_parent\"><img src=\"https://colab.research.google.com/assets/colab-badge.svg\" alt=\"Open In Colab\"/></a>"
      ]
    },
    {
      "cell_type": "code",
      "execution_count": null,
      "metadata": {
        "id": "1QrsJefMOOsj"
      },
      "outputs": [],
      "source": [
        "# Импортируем основные модули pytorch\n",
        "import torch\n",
        "import torch.nn as nn\n",
        "from torch.utils.data import DataLoader\n",
        "\n",
        "# Импортируем модули, связанные с компьютерным зрением\n",
        "from torchvision import datasets\n",
        "from torchvision.transforms import ToTensor\n",
        "\n",
        "# Импортируем вспомогательные модули\n",
        "from sklearn.metrics import accuracy_score\n",
        "import matplotlib.pyplot as plt"
      ]
    },
    {
      "cell_type": "code",
      "execution_count": null,
      "metadata": {
        "id": "omzYTJD2OS-m"
      },
      "outputs": [],
      "source": [
        "# Во второй части вам необходимо воспроизвести в PyTorch сверточную сеть LeNet и также обучить ее на наборе MNIST.\n",
        "\n",
        "# Класс сети LeNet.\n",
        "# Нужно реализовать сеть с архитектурой, описанной на изображении lenet.png.\n",
        "class LeNet(nn.Module):\n",
        "\n",
        "    def __init__(self):\n",
        "        super().__init__()\n",
        "        # ВАШ КОД ЗДЕСЬ\n",
        "        self.conv1 = nn.Conv2d(in_channels=1, out_channels=6, kernel_size=(5, 5), padding=(2, 2), stride=(1, 1))\n",
        "        self.act1 = nn.Tanh()\n",
        "        self.pool1 = nn.AvgPool2d(kernel_size=(2, 2), stride=(2, 2))\n",
        "\n",
        "        self.conv2 = nn.Conv2d(in_channels=6, out_channels=16, kernel_size=(5, 5), padding=(0, 0), stride=(1, 1))\n",
        "        self.act2 = nn.Tanh()\n",
        "        self.pool2 = nn.AvgPool2d(kernel_size=(2, 2), stride=(2, 2))\n",
        "\n",
        "        self.conv3 = nn.Conv2d(in_channels=16, out_channels=120, kernel_size=(5, 5), padding=(0, 0), stride=(1, 1))\n",
        "        self.act3 = nn.Tanh()\n",
        "\n",
        "        self.fc1 = nn.Linear(in_features=120, out_features=84)\n",
        "        self.act4 = nn.Tanh()\n",
        "\n",
        "        self.fc2 = nn.Linear(in_features=84, out_features=10)\n",
        "        self.act_final = nn.LogSoftmax(dim=1)\n",
        "        # ===============\n",
        "\n",
        "    def forward(self, x):\n",
        "        # ВАШ КОД ЗДЕСЬ\n",
        "        x = self.pool1(self.act1(self.conv1(x)))\n",
        "        x = self.pool2(self.act2(self.conv2(x)))\n",
        "        x = self.act3(self.conv3(x))\n",
        "        x = x.view(-1 , x.size(1))\n",
        "        x = self.act4(self.fc1(x))\n",
        "        x = self.act_final(self.fc2(x))\n",
        "        return x\n",
        "        # ==============="
      ]
    },
    {
      "cell_type": "code",
      "execution_count": null,
      "metadata": {
        "id": "M7DuupVAOXX5"
      },
      "outputs": [],
      "source": [
        "# Задаем количество эпох (проходов по всей обучающей выборке) и размер пакета, можно варьировать\n",
        "EPOCHS = 10\n",
        "BATCH_SIZE = 256\n",
        "\n",
        "# Загружаем данные из набора MNIST\n",
        "train_data = datasets.MNIST(root='./data/train', train=True, download=True, transform=ToTensor())\n",
        "test_data = datasets.MNIST(root='./data/test', train=False, download=True, transform=ToTensor())\n",
        "\n",
        "# DataLoader позволяет разбить выборку на пакеты заданного размера.\n",
        "# Параметр shuffle отвечает за перемешивание данных в пакете\n",
        "train_loader = DataLoader(train_data, batch_size=BATCH_SIZE, shuffle=True)\n",
        "\n",
        "# Если графический ускоритель поддерживает обучение на нем, будем использовать его,\n",
        "# иначе обучать на процессоре.\n",
        "device = 'cuda' if torch.cuda.is_available() else 'cpu'"
      ]
    },
    {
      "cell_type": "code",
      "execution_count": null,
      "metadata": {
        "id": "jaVxavdZZkrq"
      },
      "outputs": [],
      "source": [
        "# Готовимся к обучению\n",
        "model = LeNet().to(device)  # создаем модель\n",
        "optimizer = torch.optim.AdamW(model.parameters(), lr=3e-4)  # оптимизатор, нужно выбрать и настроить\n",
        "loss_function = nn.NLLLoss()  # функция потерь, нужно выбрать\n",
        "loss_history = list()  # список для хранения истории изменения функции стоимости"
      ]
    },
    {
      "cell_type": "code",
      "execution_count": null,
      "metadata": {
        "colab": {
          "base_uri": "https://localhost:8080/"
        },
        "id": "dAXP6WCEOb9U",
        "outputId": "dc6f9fd3-87a3-400a-9dba-b20337cc2185"
      },
      "outputs": [
        {
          "name": "stdout",
          "output_type": "stream",
          "text": [
            "Эпоха 1 завершилась с функцией стоимости на последнем пакете = 0.3587157726287842\n",
            "Эпоха 2 завершилась с функцией стоимости на последнем пакете = 0.32709580659866333\n",
            "Эпоха 3 завершилась с функцией стоимости на последнем пакете = 0.26954421401023865\n",
            "Эпоха 4 завершилась с функцией стоимости на последнем пакете = 0.1657884269952774\n",
            "Эпоха 5 завершилась с функцией стоимости на последнем пакете = 0.12179639935493469\n",
            "Эпоха 6 завершилась с функцией стоимости на последнем пакете = 0.18833576142787933\n",
            "Эпоха 7 завершилась с функцией стоимости на последнем пакете = 0.0771927759051323\n",
            "Эпоха 8 завершилась с функцией стоимости на последнем пакете = 0.06162428483366966\n",
            "Эпоха 9 завершилась с функцией стоимости на последнем пакете = 0.06455116719007492\n",
            "Эпоха 10 завершилась с функцией стоимости на последнем пакете = 0.1635991930961609\n"
          ]
        }
      ],
      "source": [
        "# Начинаем обучение\n",
        "for epoch in range(EPOCHS):\n",
        "    for i, (batch, labels) in enumerate(train_loader):  # разбиваем выборку на пакеты\n",
        "        # Нужно реализовать один шаг градиентного спуска\n",
        "        loss = torch.tensor(0, dtype=torch.float32)  # значение функции стоимости на пакете, нужно рассчитать\n",
        "        # ВАШ КОД ЗДЕСЬ\n",
        "        # batch = batch.reshape(batch.shape[0], -1).to(device)\n",
        "        optimizer.zero_grad()\n",
        "        loss = loss_function(model(batch), labels.to(device))\n",
        "        loss.backward()\n",
        "        optimizer.step()\n",
        "        # ===============\n",
        "        loss_history.append(loss.log().item())  # добавляется логарифм стоимости для большей наглядности\n",
        "    print(f'Эпоха {epoch + 1} завершилась с функцией стоимости на последнем пакете = {loss.item()}')"
      ]
    },
    {
      "cell_type": "code",
      "execution_count": null,
      "metadata": {
        "colab": {
          "base_uri": "https://localhost:8080/",
          "height": 295
        },
        "id": "6oAhzUAVOdwH",
        "outputId": "209404fa-aa1c-4298-adcd-ac79f351ac91"
      },
      "outputs": [
        {
          "data": {
            "image/png": "[encoded data removed]",
            "text/plain": [
              "<Figure size 432x288 with 1 Axes>"
            ]
          },
          "metadata": {
            "needs_background": "light"
          },
          "output_type": "display_data"
        }
      ],
      "source": [
        "# Выводим график функции стоимости\n",
        "plt.title('Зависимость функции стоимости от номера шага градиентного спуска')\n",
        "plt.xlabel('Номер шага')\n",
        "plt.ylabel('Функция стоимости')\n",
        "plt.plot(loss_history)\n",
        "plt.show()"
      ]
    },
    {
      "cell_type": "code",
      "execution_count": null,
      "metadata": {
        "colab": {
          "base_uri": "https://localhost:8080/"
        },
        "id": "3oPAYlrlOfDC",
        "outputId": "47b3d462-419c-42a1-efc6-5d54b8149179"
      },
      "outputs": [
        {
          "name": "stdout",
          "output_type": "stream",
          "text": [
            "Точность (accuracy) на обучающей выборке: 0.9812333333333333\n",
            "Точность (accuracy) на тестовой выборке: 0.9776\n"
          ]
        }
      ],
      "source": [
        "# Отключаем расчет вычислительного графа для экономии времени и памяти: нам не нужно считать градиенты при тестировании модели\n",
        "with torch.no_grad():\n",
        "    # Оцениваем качество модели\n",
        "    train_data_loader = DataLoader(train_data, batch_size=len(train_data))\n",
        "    train_features, train_targets = next(iter(train_data_loader))\n",
        "\n",
        "    train_features = train_features.to(device)\n",
        "    train_model_predictions = torch.argmax(model(train_features), dim=1)\n",
        "    print('Точность (accuracy) на обучающей выборке:', accuracy_score(train_data.targets, train_model_predictions.cpu()))\n",
        "\n",
        "    test_data_loader = DataLoader(test_data, batch_size=len(test_data))\n",
        "    test_features, test_targets = next(iter(test_data_loader))\n",
        "\n",
        "    test_features = test_features.to(device)\n",
        "    test_model_predictions = torch.argmax(model(test_features), dim=1)\n",
        "    print('Точность (accuracy) на тестовой выборке:', accuracy_score(test_data.targets, test_model_predictions.cpu()))"
      ]
    }
  ],
  "metadata": {
    "colab": {
      "name": "PyTorch_Lab1_2.ipynb",
      "provenance": [],
      "include_colab_link": true
    },
    "kernelspec": {
      "display_name": "Python 3",
      "name": "python3"
    },
    "language_info": {
      "codemirror_mode": {
        "name": "ipython",
        "version": 3
      },
      "file_extension": ".py",
      "mimetype": "text/x-python",
      "name": "python",
      "nbconvert_exporter": "python",
      "pygments_lexer": "ipython3",
      "version": "3.9.7"
    }
  },
  "nbformat": 4,
  "nbformat_minor": 0
}