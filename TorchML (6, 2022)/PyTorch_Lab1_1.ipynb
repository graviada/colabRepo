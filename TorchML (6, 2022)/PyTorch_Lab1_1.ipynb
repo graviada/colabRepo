{
  "cells": [
    {
      "cell_type": "markdown",
      "metadata": {
        "id": "view-in-github",
        "colab_type": "text"
      },
      "source": [
        "<a href=\"https://colab.research.google.com/github/graviada/colabRepo/blob/master/TorchML%20(6%2C%202022)/PyTorch_Lab1_1.ipynb\" target=\"_parent\"><img src=\"https://colab.research.google.com/assets/colab-badge.svg\" alt=\"Open In Colab\"/></a>"
      ]
    },
    {
      "cell_type": "code",
      "execution_count": null,
      "metadata": {
        "id": "hnoxKcvBMfxo"
      },
      "outputs": [],
      "source": [
        "# Импортируем основные модули pytorch\n",
        "import torch\n",
        "import torch.nn as nn\n",
        "from torch.utils.data import DataLoader\n",
        "\n",
        "# Импортируем модули, связанные с компьютерным зрением\n",
        "from torchvision import datasets\n",
        "from torchvision.transforms import ToTensor\n",
        "\n",
        "# Импортируем вспомогательные модули\n",
        "from sklearn.metrics import accuracy_score\n",
        "import matplotlib.pyplot as plt"
      ]
    },
    {
      "cell_type": "code",
      "execution_count": null,
      "metadata": {
        "id": "8YQ_i84qMloi"
      },
      "outputs": [],
      "source": [
        "# В первой части работы вам предстоит создать и обучить модель на основе полносвязной нейронной сети, аналогичной той,\n",
        "# что вы уже обучали в первом семестре вручную: сети с одним скрытым слоем и логистической функцией активации.\n",
        "# В качестве обучающего набора будем использовать уже известный нам набор MNIST.\n",
        "\n",
        "# Класс полносвязной нейронной сети.\n",
        "# Необходимо реализовать полносвязную нейронную сеть с одним скрытым слоем\n",
        "# с логистической функцией активации на скрытом слое и SoftMax на выходном слое.\n",
        "# Схема сети: Линейный слой -> Логическая функция -> Линейный слой -> SoftMax\n",
        "# Сеть должна классифицировать черно-белые картинки с цифрами (0-9) размера 28х28 пискселей из набора данных MNIST.\n",
        "# Подумайте, какую функцию потерь будете использовать при обучении: от этого будет зависеть функция на последнем слое.\n",
        "# Разберитесь в функциях потерь CrossEntropyLoss, NLLLoss, а также в функцих активации LogSoftmax и Softmax по документации.\n",
        "# После успешной реализации требуемой сети, попробуйте поиграть с количеством нейронов, слоев, типами функций активации.\n",
        "# Какой максимальной точности на тестовой выборке удалось достичь?\n",
        "class FullyConnectedNet(nn.Module):\n",
        "\n",
        "    def __init__(self):\n",
        "        super().__init__()\n",
        "        # ВАШ КОД ЗДЕСЬ\n",
        "        self.nl1 = nn.Linear(28 * 28, 256) # входной слой\n",
        "        self.act1 = nn.Sigmoid() # функция активации этого слоя\n",
        "        self.nl2 = nn.Linear(256, 10) # скрытый слой\n",
        "        self.act_final = nn.LogSoftmax(dim=1) # его функция активации \n",
        "        # ===============\n",
        "\n",
        "    # Метод для выполнения прямого распространения сигнала, необходимо заполнить\n",
        "    def forward(self, x):\n",
        "        # ВАШ КОД ЗДЕСЬ\n",
        "        x = self.act1(self.nl1(x))\n",
        "        x = self.act_final(self.nl2(x))\n",
        "        return x\n",
        "        # ==============="
      ]
    },
    {
      "cell_type": "code",
      "execution_count": null,
      "metadata": {
        "id": "ZDp49mWtMl7_"
      },
      "outputs": [],
      "source": [
        "# Задаем количество эпох (проходов по всей обучающей выборке) и размер пакета, можно варьировать\n",
        "EPOCHS = 10\n",
        "# Размер батчей, как правило, варьируется от 8 до 64\n",
        "BATCH_SIZE = 128\n",
        "\n",
        "# Загружаем данные из набора MNIST\n",
        "train_data = datasets.MNIST(root='./data/train', train=True, download=True, transform=ToTensor())\n",
        "test_data = datasets.MNIST(root='./data/test', train=False, download=True, transform=ToTensor())\n",
        "\n",
        "# DataLoader позволяет разбить выборку на пакеты заданного размера.\n",
        "# Параметр shuffle отвечает за перемешивание данных в пакете\n",
        "train_loader = DataLoader(train_data, batch_size=BATCH_SIZE, shuffle=True)\n",
        "\n",
        "# Если графический ускоритель поддерживает обучение на нем, будем использовать его,\n",
        "# иначе обучать на процессоре.\n",
        "device = 'cuda' if torch.cuda.is_available() else 'cpu'\n",
        "\n",
        "# Готовимся к обучению\n",
        "model = FullyConnectedNet().to(device)  # создаем модель\n",
        "optimizer = torch.optim.AdamW(model.parameters(), lr=3e-4)  # оптимизатор, нужно выбрать и настроить\n",
        "loss_function = nn.NLLLoss()  # функция потерь, нужно выбрать\n",
        "loss_history = list()  # список для хранения истории изменения функции стоимости"
      ]
    },
    {
      "cell_type": "code",
      "execution_count": null,
      "metadata": {
        "colab": {
          "base_uri": "https://localhost:8080/"
        },
        "id": "eaavgDyzMqKl",
        "outputId": "83269378-56c0-46e0-f88d-0c9b3df46752"
      },
      "outputs": [
        {
          "output_type": "stream",
          "name": "stdout",
          "text": [
            "Эпоха 1 завершилась с функцией стоимости на последнем пакете = 0.5105816721916199\n",
            "Эпоха 2 завершилась с функцией стоимости на последнем пакете = 0.31793153285980225\n",
            "Эпоха 3 завершилась с функцией стоимости на последнем пакете = 0.21820177137851715\n",
            "Эпоха 4 завершилась с функцией стоимости на последнем пакете = 0.21929238736629486\n",
            "Эпоха 5 завершилась с функцией стоимости на последнем пакете = 0.29078415036201477\n",
            "Эпоха 6 завершилась с функцией стоимости на последнем пакете = 0.23031024634838104\n"
          ]
        }
      ],
      "source": [
        "# Начинаем обучение\n",
        "for epoch in range(EPOCHS):\n",
        "    for i, (batch, labels) in enumerate(train_loader):  # разбиваем выборку на пакеты\n",
        "        # Нужно реализовать один шаг градиентного спуска\n",
        "        loss = torch.tensor(0, dtype=torch.float32)  # значение функции стоимости на пакете, нужно рассчитать\n",
        "        # ВАШ КОД ЗДЕСЬ\n",
        "        batch = batch.reshape(batch.shape[0], -1).to(device)\n",
        "        optimizer.zero_grad()\n",
        "        loss = loss_function(model(batch), labels.to(device))\n",
        "        loss.backward()\n",
        "        optimizer.step()\n",
        "        # ===============\n",
        "        loss_history.append(loss.log().item())  # добавляется логарифм стоимости для большей наглядности\n",
        "    print(f'Эпоха {epoch + 1} завершилась с функцией стоимости на последнем пакете = {loss.item()}')"
      ]
    },
    {
      "cell_type": "code",
      "execution_count": null,
      "metadata": {
        "colab": {
          "base_uri": "https://localhost:8080/",
          "height": 295
        },
        "id": "Db2O2VAzMspB",
        "outputId": "0f6e90e3-9540-4477-8708-981e98c381a8"
      },
      "outputs": [
        {
          "output_type": "display_data",
          "data": {
            "text/plain": [
              "<Figure size 432x288 with 1 Axes>"
            ],
            "image/png": "[encoded data removed]"
          },
          "metadata": {
            "needs_background": "light"
          }
        }
      ],
      "source": [
        "# Выводим график функции стоимости\n",
        "plt.title('Зависимость функции стоимости от номера шага градиентного спуска')\n",
        "plt.xlabel('Номер шага')\n",
        "plt.ylabel('Функция стоимости')\n",
        "plt.plot(loss_history)\n",
        "plt.show()"
      ]
    },
    {
      "cell_type": "code",
      "execution_count": null,
      "metadata": {
        "colab": {
          "base_uri": "https://localhost:8080/"
        },
        "id": "Vxfk1o7LMuPH",
        "outputId": "9dc6eba9-4567-496d-abc7-45a5029d39d4"
      },
      "outputs": [
        {
          "output_type": "stream",
          "name": "stdout",
          "text": [
            "Точность (accuracy) на обучающей выборке: 0.9555666666666667\n",
            "Точность (accuracy) на тестовой выборке: 0.9517\n"
          ]
        }
      ],
      "source": [
        "# Отключаем расчет вычислительного графа для экономии времени и памяти: нам не нужно считать градиенты при тестировании модели\n",
        "with torch.no_grad():\n",
        "    # Оцениваем качество модели\n",
        "    train_data_loader = DataLoader(train_data, batch_size=len(train_data))\n",
        "    train_features, train_targets = next(iter(train_data_loader))\n",
        "\n",
        "    train_features = train_features.reshape(len(train_data), -1).to(device)\n",
        "    train_model_predictions = torch.argmax(model(train_features), dim=1)\n",
        "    print('Точность (accuracy) на обучающей выборке:', accuracy_score(train_data.targets, train_model_predictions.cpu()))\n",
        "\n",
        "    test_data_loader = DataLoader(test_data, batch_size=len(test_data))\n",
        "    test_features, test_targets = next(iter(test_data_loader))\n",
        "\n",
        "    test_features = test_features.reshape(len(test_data), -1).to(device)\n",
        "    test_model_predictions = torch.argmax(model(test_features), dim=1)\n",
        "    print('Точность (accuracy) на тестовой выборке:', accuracy_score(test_data.targets, test_model_predictions.cpu()))"
      ]
    },
    {
      "cell_type": "code",
      "source": [
        "plt.imshow(test_features[0].view(28, 28))\n",
        "plt.show"
      ],
      "metadata": {
        "colab": {
          "base_uri": "https://localhost:8080/",
          "height": 284
        },
        "id": "SSO6gHSXIY7b",
        "outputId": "49c78514-9076-4197-fc4f-3602fde62f31"
      },
      "execution_count": null,
      "outputs": [
        {
          "output_type": "execute_result",
          "data": {
            "text/plain": [
              "<function matplotlib.pyplot.show>"
            ]
          },
          "metadata": {},
          "execution_count": 26
        },
        {
          "output_type": "display_data",
          "data": {
            "text/plain": [
              "<Figure size 432x288 with 1 Axes>"
            ],
            "image/png": "[encoded data removed]"
          },
          "metadata": {
            "needs_background": "light"
          }
        }
      ]
    },
    {
      "cell_type": "code",
      "source": [
        "print(torch.argmax(model(test_features[0].view(-1,784))[0]))"
      ],
      "metadata": {
        "colab": {
          "base_uri": "https://localhost:8080/"
        },
        "id": "z8ycnz22IR9q",
        "outputId": "2270316a-6f5f-4cb0-8ca1-97d041412916"
      },
      "execution_count": null,
      "outputs": [
        {
          "output_type": "stream",
          "name": "stdout",
          "text": [
            "tensor(7)\n"
          ]
        }
      ]
    }
  ],
  "metadata": {
    "colab": {
      "name": "PyTorch_Lab1_1.ipynb",
      "provenance": [],
      "include_colab_link": true
    },
    "kernelspec": {
      "display_name": "Python 3",
      "name": "python3"
    },
    "language_info": {
      "codemirror_mode": {
        "name": "ipython",
        "version": 3
      },
      "file_extension": ".py",
      "mimetype": "text/x-python",
      "name": "python",
      "nbconvert_exporter": "python",
      "pygments_lexer": "ipython3",
      "version": "3.9.7"
    },
    "accelerator": "TPU"
  },
  "nbformat": 4,
  "nbformat_minor": 0
}