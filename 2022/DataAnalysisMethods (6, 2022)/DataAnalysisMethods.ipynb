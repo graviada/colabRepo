{
  "cells": [
    {
      "cell_type": "markdown",
      "metadata": {
        "id": "view-in-github",
        "colab_type": "text"
      },
      "source": [
        "<a href=\"https://colab.research.google.com/github/graviada/colabRepo/blob/master/2022/DataAnalysisMethods%20(6%2C%202022)/DataAnalysisMethods.ipynb\" target=\"_parent\"><img src=\"https://colab.research.google.com/assets/colab-badge.svg\" alt=\"Open In Colab\"/></a>"
      ]
    },
    {
      "cell_type": "markdown",
      "metadata": {
        "id": "hZyccSe70d1z"
      },
      "source": [
        "### Задание 2\n",
        "\n",
        "Компании:\n",
        "> * Heineken\n",
        "> * Anheuser-Busch InBev\n",
        "> * Carlsberg\n",
        "> * Brown-Forman\n",
        "> * Asahi\n",
        "> * Pernod Ricard\n",
        "> * Compañía Cervecerías Unidas\n",
        "\n",
        "\n",
        "\n"
      ]
    },
    {
      "cell_type": "code",
      "execution_count": 39,
      "metadata": {
        "colab": {
          "base_uri": "https://localhost:8080/"
        },
        "id": "N6AQYycm0G4S",
        "outputId": "35c2d514-d37c-41eb-872f-0afb6a1082ef"
      },
      "outputs": [
        {
          "output_type": "stream",
          "name": "stdout",
          "text": [
            "Requirement already satisfied: yfinance in /usr/local/lib/python3.7/dist-packages (0.1.70)\n",
            "Requirement already satisfied: lxml>=4.5.1 in /usr/local/lib/python3.7/dist-packages (from yfinance) (4.8.0)\n",
            "Requirement already satisfied: pandas>=0.24.0 in /usr/local/lib/python3.7/dist-packages (from yfinance) (1.3.5)\n",
            "Requirement already satisfied: requests>=2.26 in /usr/local/lib/python3.7/dist-packages (from yfinance) (2.27.1)\n",
            "Requirement already satisfied: multitasking>=0.0.7 in /usr/local/lib/python3.7/dist-packages (from yfinance) (0.0.10)\n",
            "Requirement already satisfied: numpy>=1.15 in /usr/local/lib/python3.7/dist-packages (from yfinance) (1.21.5)\n",
            "Requirement already satisfied: pytz>=2017.3 in /usr/local/lib/python3.7/dist-packages (from pandas>=0.24.0->yfinance) (2018.9)\n",
            "Requirement already satisfied: python-dateutil>=2.7.3 in /usr/local/lib/python3.7/dist-packages (from pandas>=0.24.0->yfinance) (2.8.2)\n",
            "Requirement already satisfied: six>=1.5 in /usr/local/lib/python3.7/dist-packages (from python-dateutil>=2.7.3->pandas>=0.24.0->yfinance) (1.15.0)\n",
            "Requirement already satisfied: certifi>=2017.4.17 in /usr/local/lib/python3.7/dist-packages (from requests>=2.26->yfinance) (2021.10.8)\n",
            "Requirement already satisfied: charset-normalizer~=2.0.0 in /usr/local/lib/python3.7/dist-packages (from requests>=2.26->yfinance) (2.0.12)\n",
            "Requirement already satisfied: urllib3<1.27,>=1.21.1 in /usr/local/lib/python3.7/dist-packages (from requests>=2.26->yfinance) (1.24.3)\n",
            "Requirement already satisfied: idna<4,>=2.5 in /usr/local/lib/python3.7/dist-packages (from requests>=2.26->yfinance) (2.10)\n"
          ]
        }
      ],
      "source": [
        "pip install yfinance"
      ]
    },
    {
      "cell_type": "code",
      "execution_count": 40,
      "metadata": {
        "id": "oAVVZVjh1cyh"
      },
      "outputs": [],
      "source": [
        "import pandas as pd\n",
        "import matplotlib.pyplot as plt\n",
        "import plotly.graph_objects as go\n",
        "import yfinance as yf\n",
        "\n",
        "import numpy as np\n",
        "from math import log\n",
        "from decimal import Decimal\n",
        "from plotly.subplots import make_subplots"
      ]
    },
    {
      "cell_type": "code",
      "execution_count": 41,
      "metadata": {
        "id": "9oPcEWRMMTJU"
      },
      "outputs": [],
      "source": [
        "def addline(fig, type=\"h\", x0=0, x1=1, y0=0, y1=1):\n",
        "  \n",
        "  if type == \"h\":\n",
        "    fig.add_shape(type='line',\n",
        "                  x0 = x0,\n",
        "                  x1 = x0,\n",
        "                  y0 = y0,\n",
        "                  y1 = y1,\n",
        "                  line = dict(color=\"blue\", dash=\"dashdot\"),\n",
        "                  opacity = 0.8)\n",
        "  elif type == \"v\":\n",
        "    fig.add_shape(type='line',\n",
        "                  x0 = x0,\n",
        "                  x1 = x1,\n",
        "                  y0 = y0,\n",
        "                  y1 = y0,\n",
        "                  line = dict(color=\"LightSeaGreen\", dash=\"dashdot\"),\n",
        "                  opacity = 0.8)\n",
        "  elif type == \"r\":\n",
        "    fig.add_shape(type='rect',\n",
        "                  x0 = x0,\n",
        "                  x1 = x1,\n",
        "                  y0 = y0,\n",
        "                  y1 = y1,\n",
        "                  fillcolor='goldenrod',\n",
        "                  opacity = 0.2)\n",
        "  return fig"
      ]
    },
    {
      "cell_type": "code",
      "execution_count": 42,
      "metadata": {
        "colab": {
          "base_uri": "https://localhost:8080/"
        },
        "id": "LmzH9DUs3sbJ",
        "outputId": "6ba883ac-2b27-4ee7-86b3-5c0b959e9735"
      },
      "outputs": [
        {
          "output_type": "stream",
          "name": "stdout",
          "text": [
            "[*********************100%***********************]  1 of 1 completed\n",
            "[*********************100%***********************]  1 of 1 completed\n",
            "[*********************100%***********************]  1 of 1 completed\n",
            "[*********************100%***********************]  1 of 1 completed\n",
            "[*********************100%***********************]  1 of 1 completed\n",
            "[*********************100%***********************]  1 of 1 completed\n",
            "[*********************100%***********************]  1 of 1 completed\n"
          ]
        }
      ],
      "source": [
        "heineken = yf.download('HEINY','2011-02-10','2022-03-22')[['Close', 'Volume']]\n",
        "an_busch = yf.download('BUD','2011-02-10','2022-03-22')[['Close', 'Volume']]\n",
        "carlsberg = yf.download('CABGY','2011-02-10','2022-03-22')[['Close', 'Volume']]\n",
        "brown_for = yf.download('BF-B','2011-02-10','2022-03-22')[['Close', 'Volume']]\n",
        "asahi = yf.download('AHKSY','2011-02-10','2022-03-22')[['Close', 'Volume']]\n",
        "per_ric = yf.download('PRNDY','2011-02-10','2022-03-22')[['Close', 'Volume']]\n",
        "comp_cer = yf.download('CCU','2011-02-10','2022-03-22')[['Close', 'Volume']]"
      ]
    },
    {
      "cell_type": "code",
      "execution_count": 43,
      "metadata": {
        "id": "ojzNb3EnJSy-"
      },
      "outputs": [],
      "source": [
        "CONST_SIZE = len(heineken)\n",
        "CONST_COUNT = 7"
      ]
    },
    {
      "cell_type": "code",
      "source": [
        "id = [i for i in range(CONST_SIZE)]"
      ],
      "metadata": {
        "id": "z8U7-wh2Ycxs"
      },
      "execution_count": 44,
      "outputs": []
    },
    {
      "cell_type": "code",
      "source": [
        "brown_for = brown_for.reset_index()\n",
        "comp_cer = comp_cer.reset_index()"
      ],
      "metadata": {
        "id": "fjfjuShEaOVE"
      },
      "execution_count": 45,
      "outputs": []
    },
    {
      "cell_type": "code",
      "source": [
        "i = 0\n",
        "\n",
        "while comp_cer.Date[i] == brown_for.Date[i]:\n",
        "    index = i\n",
        "    i += 1"
      ],
      "metadata": {
        "id": "ig0HhQZ6aq4n"
      },
      "execution_count": 46,
      "outputs": []
    },
    {
      "cell_type": "code",
      "source": [
        "index"
      ],
      "metadata": {
        "colab": {
          "base_uri": "https://localhost:8080/"
        },
        "id": "j_wflDQWcSmE",
        "outputId": "d31ad8a5-8362-4f8a-d50d-4297e7594b5a"
      },
      "execution_count": 47,
      "outputs": [
        {
          "output_type": "execute_result",
          "data": {
            "text/plain": [
              "1967"
            ]
          },
          "metadata": {},
          "execution_count": 47
        }
      ]
    },
    {
      "cell_type": "code",
      "source": [
        "brown_for.iloc[1966:1970]"
      ],
      "metadata": {
        "colab": {
          "base_uri": "https://localhost:8080/",
          "height": 175
        },
        "id": "OwQPO4JTcYku",
        "outputId": "6b55bb63-06aa-4f1b-ccac-5a90c293b4af"
      },
      "execution_count": 48,
      "outputs": [
        {
          "output_type": "execute_result",
          "data": {
            "text/plain": [
              "           Date      Close     Volume\n",
              "1966 2018-12-03  49.000000  1152000.0\n",
              "1967 2018-12-04  46.660000  2287300.0\n",
              "1968 2018-12-05        NaN        NaN\n",
              "1969 2018-12-06  46.790001  1928700.0"
            ],
            "text/html": [
              "\n",
              "  <div id=\"df-be4d1144-4bca-4df4-86f6-1cd635ad561a\">\n",
              "    <div class=\"colab-df-container\">\n",
              "      <div>\n",
              "<style scoped>\n",
              "    .dataframe tbody tr th:only-of-type {\n",
              "        vertical-align: middle;\n",
              "    }\n",
              "\n",
              "    .dataframe tbody tr th {\n",
              "        vertical-align: top;\n",
              "    }\n",
              "\n",
              "    .dataframe thead th {\n",
              "        text-align: right;\n",
              "    }\n",
              "</style>\n",
              "<table border=\"1\" class=\"dataframe\">\n",
              "  <thead>\n",
              "    <tr style=\"text-align: right;\">\n",
              "      <th></th>\n",
              "      <th>Date</th>\n",
              "      <th>Close</th>\n",
              "      <th>Volume</th>\n",
              "    </tr>\n",
              "  </thead>\n",
              "  <tbody>\n",
              "    <tr>\n",
              "      <th>1966</th>\n",
              "      <td>2018-12-03</td>\n",
              "      <td>49.000000</td>\n",
              "      <td>1152000.0</td>\n",
              "    </tr>\n",
              "    <tr>\n",
              "      <th>1967</th>\n",
              "      <td>2018-12-04</td>\n",
              "      <td>46.660000</td>\n",
              "      <td>2287300.0</td>\n",
              "    </tr>\n",
              "    <tr>\n",
              "      <th>1968</th>\n",
              "      <td>2018-12-05</td>\n",
              "      <td>NaN</td>\n",
              "      <td>NaN</td>\n",
              "    </tr>\n",
              "    <tr>\n",
              "      <th>1969</th>\n",
              "      <td>2018-12-06</td>\n",
              "      <td>46.790001</td>\n",
              "      <td>1928700.0</td>\n",
              "    </tr>\n",
              "  </tbody>\n",
              "</table>\n",
              "</div>\n",
              "      <button class=\"colab-df-convert\" onclick=\"convertToInteractive('df-be4d1144-4bca-4df4-86f6-1cd635ad561a')\"\n",
              "              title=\"Convert this dataframe to an interactive table.\"\n",
              "              style=\"display:none;\">\n",
              "        \n",
              "  <svg xmlns=\"http://www.w3.org/2000/svg\" height=\"24px\"viewBox=\"0 0 24 24\"\n",
              "       width=\"24px\">\n",
              "    <path d=\"M0 0h24v24H0V0z\" fill=\"none\"/>\n",
              "    <path d=\"M18.56 5.44l.94 2.06.94-2.06 2.06-.94-2.06-.94-.94-2.06-.94 2.06-2.06.94zm-11 1L8.5 8.5l.94-2.06 2.06-.94-2.06-.94L8.5 2.5l-.94 2.06-2.06.94zm10 10l.94 2.06.94-2.06 2.06-.94-2.06-.94-.94-2.06-.94 2.06-2.06.94z\"/><path d=\"M17.41 7.96l-1.37-1.37c-.4-.4-.92-.59-1.43-.59-.52 0-1.04.2-1.43.59L10.3 9.45l-7.72 7.72c-.78.78-.78 2.05 0 2.83L4 21.41c.39.39.9.59 1.41.59.51 0 1.02-.2 1.41-.59l7.78-7.78 2.81-2.81c.8-.78.8-2.07 0-2.86zM5.41 20L4 18.59l7.72-7.72 1.47 1.35L5.41 20z\"/>\n",
              "  </svg>\n",
              "      </button>\n",
              "      \n",
              "  <style>\n",
              "    .colab-df-container {\n",
              "      display:flex;\n",
              "      flex-wrap:wrap;\n",
              "      gap: 12px;\n",
              "    }\n",
              "\n",
              "    .colab-df-convert {\n",
              "      background-color: #E8F0FE;\n",
              "      border: none;\n",
              "      border-radius: 50%;\n",
              "      cursor: pointer;\n",
              "      display: none;\n",
              "      fill: #1967D2;\n",
              "      height: 32px;\n",
              "      padding: 0 0 0 0;\n",
              "      width: 32px;\n",
              "    }\n",
              "\n",
              "    .colab-df-convert:hover {\n",
              "      background-color: #E2EBFA;\n",
              "      box-shadow: 0px 1px 2px rgba(60, 64, 67, 0.3), 0px 1px 3px 1px rgba(60, 64, 67, 0.15);\n",
              "      fill: #174EA6;\n",
              "    }\n",
              "\n",
              "    [theme=dark] .colab-df-convert {\n",
              "      background-color: #3B4455;\n",
              "      fill: #D2E3FC;\n",
              "    }\n",
              "\n",
              "    [theme=dark] .colab-df-convert:hover {\n",
              "      background-color: #434B5C;\n",
              "      box-shadow: 0px 1px 3px 1px rgba(0, 0, 0, 0.15);\n",
              "      filter: drop-shadow(0px 1px 2px rgba(0, 0, 0, 0.3));\n",
              "      fill: #FFFFFF;\n",
              "    }\n",
              "  </style>\n",
              "\n",
              "      <script>\n",
              "        const buttonEl =\n",
              "          document.querySelector('#df-be4d1144-4bca-4df4-86f6-1cd635ad561a button.colab-df-convert');\n",
              "        buttonEl.style.display =\n",
              "          google.colab.kernel.accessAllowed ? 'block' : 'none';\n",
              "\n",
              "        async function convertToInteractive(key) {\n",
              "          const element = document.querySelector('#df-be4d1144-4bca-4df4-86f6-1cd635ad561a');\n",
              "          const dataTable =\n",
              "            await google.colab.kernel.invokeFunction('convertToInteractive',\n",
              "                                                     [key], {});\n",
              "          if (!dataTable) return;\n",
              "\n",
              "          const docLinkHtml = 'Like what you see? Visit the ' +\n",
              "            '<a target=\"_blank\" href=https://colab.research.google.com/notebooks/data_table.ipynb>data table notebook</a>'\n",
              "            + ' to learn more about interactive tables.';\n",
              "          element.innerHTML = '';\n",
              "          dataTable['output_type'] = 'display_data';\n",
              "          await google.colab.output.renderOutput(dataTable, element);\n",
              "          const docLink = document.createElement('div');\n",
              "          docLink.innerHTML = docLinkHtml;\n",
              "          element.appendChild(docLink);\n",
              "        }\n",
              "      </script>\n",
              "    </div>\n",
              "  </div>\n",
              "  "
            ]
          },
          "metadata": {},
          "execution_count": 48
        }
      ]
    },
    {
      "cell_type": "code",
      "source": [
        "comp_cer.iloc[1966:1970]"
      ],
      "metadata": {
        "colab": {
          "base_uri": "https://localhost:8080/",
          "height": 175
        },
        "id": "f8C8lK4SaR3f",
        "outputId": "012dbac2-1e61-44c7-d916-71e73e4c9268"
      },
      "execution_count": 49,
      "outputs": [
        {
          "output_type": "execute_result",
          "data": {
            "text/plain": [
              "           Date      Close  Volume\n",
              "1966 2018-12-03  26.049999  233600\n",
              "1967 2018-12-04  25.809999  223200\n",
              "1968 2018-12-06  25.629999  236500\n",
              "1969 2018-12-07  25.030001  199300"
            ],
            "text/html": [
              "\n",
              "  <div id=\"df-05c43ecd-349f-451c-87fb-a4670a7acda8\">\n",
              "    <div class=\"colab-df-container\">\n",
              "      <div>\n",
              "<style scoped>\n",
              "    .dataframe tbody tr th:only-of-type {\n",
              "        vertical-align: middle;\n",
              "    }\n",
              "\n",
              "    .dataframe tbody tr th {\n",
              "        vertical-align: top;\n",
              "    }\n",
              "\n",
              "    .dataframe thead th {\n",
              "        text-align: right;\n",
              "    }\n",
              "</style>\n",
              "<table border=\"1\" class=\"dataframe\">\n",
              "  <thead>\n",
              "    <tr style=\"text-align: right;\">\n",
              "      <th></th>\n",
              "      <th>Date</th>\n",
              "      <th>Close</th>\n",
              "      <th>Volume</th>\n",
              "    </tr>\n",
              "  </thead>\n",
              "  <tbody>\n",
              "    <tr>\n",
              "      <th>1966</th>\n",
              "      <td>2018-12-03</td>\n",
              "      <td>26.049999</td>\n",
              "      <td>233600</td>\n",
              "    </tr>\n",
              "    <tr>\n",
              "      <th>1967</th>\n",
              "      <td>2018-12-04</td>\n",
              "      <td>25.809999</td>\n",
              "      <td>223200</td>\n",
              "    </tr>\n",
              "    <tr>\n",
              "      <th>1968</th>\n",
              "      <td>2018-12-06</td>\n",
              "      <td>25.629999</td>\n",
              "      <td>236500</td>\n",
              "    </tr>\n",
              "    <tr>\n",
              "      <th>1969</th>\n",
              "      <td>2018-12-07</td>\n",
              "      <td>25.030001</td>\n",
              "      <td>199300</td>\n",
              "    </tr>\n",
              "  </tbody>\n",
              "</table>\n",
              "</div>\n",
              "      <button class=\"colab-df-convert\" onclick=\"convertToInteractive('df-05c43ecd-349f-451c-87fb-a4670a7acda8')\"\n",
              "              title=\"Convert this dataframe to an interactive table.\"\n",
              "              style=\"display:none;\">\n",
              "        \n",
              "  <svg xmlns=\"http://www.w3.org/2000/svg\" height=\"24px\"viewBox=\"0 0 24 24\"\n",
              "       width=\"24px\">\n",
              "    <path d=\"M0 0h24v24H0V0z\" fill=\"none\"/>\n",
              "    <path d=\"M18.56 5.44l.94 2.06.94-2.06 2.06-.94-2.06-.94-.94-2.06-.94 2.06-2.06.94zm-11 1L8.5 8.5l.94-2.06 2.06-.94-2.06-.94L8.5 2.5l-.94 2.06-2.06.94zm10 10l.94 2.06.94-2.06 2.06-.94-2.06-.94-.94-2.06-.94 2.06-2.06.94z\"/><path d=\"M17.41 7.96l-1.37-1.37c-.4-.4-.92-.59-1.43-.59-.52 0-1.04.2-1.43.59L10.3 9.45l-7.72 7.72c-.78.78-.78 2.05 0 2.83L4 21.41c.39.39.9.59 1.41.59.51 0 1.02-.2 1.41-.59l7.78-7.78 2.81-2.81c.8-.78.8-2.07 0-2.86zM5.41 20L4 18.59l7.72-7.72 1.47 1.35L5.41 20z\"/>\n",
              "  </svg>\n",
              "      </button>\n",
              "      \n",
              "  <style>\n",
              "    .colab-df-container {\n",
              "      display:flex;\n",
              "      flex-wrap:wrap;\n",
              "      gap: 12px;\n",
              "    }\n",
              "\n",
              "    .colab-df-convert {\n",
              "      background-color: #E8F0FE;\n",
              "      border: none;\n",
              "      border-radius: 50%;\n",
              "      cursor: pointer;\n",
              "      display: none;\n",
              "      fill: #1967D2;\n",
              "      height: 32px;\n",
              "      padding: 0 0 0 0;\n",
              "      width: 32px;\n",
              "    }\n",
              "\n",
              "    .colab-df-convert:hover {\n",
              "      background-color: #E2EBFA;\n",
              "      box-shadow: 0px 1px 2px rgba(60, 64, 67, 0.3), 0px 1px 3px 1px rgba(60, 64, 67, 0.15);\n",
              "      fill: #174EA6;\n",
              "    }\n",
              "\n",
              "    [theme=dark] .colab-df-convert {\n",
              "      background-color: #3B4455;\n",
              "      fill: #D2E3FC;\n",
              "    }\n",
              "\n",
              "    [theme=dark] .colab-df-convert:hover {\n",
              "      background-color: #434B5C;\n",
              "      box-shadow: 0px 1px 3px 1px rgba(0, 0, 0, 0.15);\n",
              "      filter: drop-shadow(0px 1px 2px rgba(0, 0, 0, 0.3));\n",
              "      fill: #FFFFFF;\n",
              "    }\n",
              "  </style>\n",
              "\n",
              "      <script>\n",
              "        const buttonEl =\n",
              "          document.querySelector('#df-05c43ecd-349f-451c-87fb-a4670a7acda8 button.colab-df-convert');\n",
              "        buttonEl.style.display =\n",
              "          google.colab.kernel.accessAllowed ? 'block' : 'none';\n",
              "\n",
              "        async function convertToInteractive(key) {\n",
              "          const element = document.querySelector('#df-05c43ecd-349f-451c-87fb-a4670a7acda8');\n",
              "          const dataTable =\n",
              "            await google.colab.kernel.invokeFunction('convertToInteractive',\n",
              "                                                     [key], {});\n",
              "          if (!dataTable) return;\n",
              "\n",
              "          const docLinkHtml = 'Like what you see? Visit the ' +\n",
              "            '<a target=\"_blank\" href=https://colab.research.google.com/notebooks/data_table.ipynb>data table notebook</a>'\n",
              "            + ' to learn more about interactive tables.';\n",
              "          element.innerHTML = '';\n",
              "          dataTable['output_type'] = 'display_data';\n",
              "          await google.colab.output.renderOutput(dataTable, element);\n",
              "          const docLink = document.createElement('div');\n",
              "          docLink.innerHTML = docLinkHtml;\n",
              "          element.appendChild(docLink);\n",
              "        }\n",
              "      </script>\n",
              "    </div>\n",
              "  </div>\n",
              "  "
            ]
          },
          "metadata": {},
          "execution_count": 49
        }
      ]
    },
    {
      "cell_type": "code",
      "source": [
        "brown_for = brown_for.drop(brown_for[brown_for.Date == '2018-12-05'].index)"
      ],
      "metadata": {
        "id": "ehMXq2l5dX1M"
      },
      "execution_count": 50,
      "outputs": []
    },
    {
      "cell_type": "code",
      "source": [
        "brown_for = brown_for.set_index('Date')\n",
        "comp_cer = comp_cer.set_index('Date')"
      ],
      "metadata": {
        "id": "8vt_R3pBfOqe"
      },
      "execution_count": 51,
      "outputs": []
    },
    {
      "cell_type": "code",
      "source": [
        "heineken.insert(0, \"id\", id)\n",
        "an_busch.insert(0, \"id\", id)\n",
        "carlsberg.insert(0, \"id\", id)\n",
        "brown_for.insert(0, \"id\", id)\n",
        "asahi.insert(0, \"id\", id)\n",
        "per_ric.insert(0, \"id\", id)\n",
        "comp_cer.insert(0, \"id\", id)"
      ],
      "metadata": {
        "id": "eSsAj0HWZz8r"
      },
      "execution_count": 52,
      "outputs": []
    },
    {
      "cell_type": "code",
      "source": [
        "'''\n",
        "heineken = heineken.set_index('id')\n",
        "an_busch = an_busch.set_index('id')\n",
        "carlsberg = carlsberg.set_index('id')\n",
        "brown_for = brown_for.set_index('id')\n",
        "asahi = asahi.set_index('id')\n",
        "per_ric = per_ric.set_index('id')\n",
        "comp_cer = comp_cer.set_index('id')\n",
        "'''"
      ],
      "metadata": {
        "id": "zUhMB1ySYnfb",
        "outputId": "db8962ba-44bc-4a47-c79c-26c0a033045d",
        "colab": {
          "base_uri": "https://localhost:8080/",
          "height": 53
        }
      },
      "execution_count": 53,
      "outputs": [
        {
          "output_type": "execute_result",
          "data": {
            "text/plain": [
              "\"\\nheineken = heineken.set_index('id')\\nan_busch = an_busch.set_index('id')\\ncarlsberg = carlsberg.set_index('id')\\nbrown_for = brown_for.set_index('id')\\nasahi = asahi.set_index('id')\\nper_ric = per_ric.set_index('id')\\ncomp_cer = comp_cer.set_index('id')\\n\""
            ],
            "application/vnd.google.colaboratory.intrinsic+json": {
              "type": "string"
            }
          },
          "metadata": {},
          "execution_count": 53
        }
      ]
    },
    {
      "cell_type": "code",
      "execution_count": 54,
      "metadata": {
        "id": "nw-jmihp3EM2",
        "colab": {
          "base_uri": "https://localhost:8080/",
          "height": 331
        },
        "outputId": "cde2c04b-15d1-4b0a-8f3a-302321874898"
      },
      "outputs": [
        {
          "output_type": "execute_result",
          "data": {
            "text/plain": [
              "            id      Close  Volume\n",
              "Date                             \n",
              "2011-02-10   0  24.780001   10100\n",
              "2011-02-11   1  24.650000   22000\n",
              "2011-02-14   2  24.450001    8800\n",
              "2011-02-15   3  24.799999    5100\n",
              "2011-02-16   4  25.840000   21800\n",
              "2011-02-17   5  25.830000   27400\n",
              "2011-02-18   6  25.990000   58800\n",
              "2011-02-22   7  25.520000   15900"
            ],
            "text/html": [
              "\n",
              "  <div id=\"df-06f43cc8-40c1-4d6a-9653-c2e42cb79181\">\n",
              "    <div class=\"colab-df-container\">\n",
              "      <div>\n",
              "<style scoped>\n",
              "    .dataframe tbody tr th:only-of-type {\n",
              "        vertical-align: middle;\n",
              "    }\n",
              "\n",
              "    .dataframe tbody tr th {\n",
              "        vertical-align: top;\n",
              "    }\n",
              "\n",
              "    .dataframe thead th {\n",
              "        text-align: right;\n",
              "    }\n",
              "</style>\n",
              "<table border=\"1\" class=\"dataframe\">\n",
              "  <thead>\n",
              "    <tr style=\"text-align: right;\">\n",
              "      <th></th>\n",
              "      <th>id</th>\n",
              "      <th>Close</th>\n",
              "      <th>Volume</th>\n",
              "    </tr>\n",
              "    <tr>\n",
              "      <th>Date</th>\n",
              "      <th></th>\n",
              "      <th></th>\n",
              "      <th></th>\n",
              "    </tr>\n",
              "  </thead>\n",
              "  <tbody>\n",
              "    <tr>\n",
              "      <th>2011-02-10</th>\n",
              "      <td>0</td>\n",
              "      <td>24.780001</td>\n",
              "      <td>10100</td>\n",
              "    </tr>\n",
              "    <tr>\n",
              "      <th>2011-02-11</th>\n",
              "      <td>1</td>\n",
              "      <td>24.650000</td>\n",
              "      <td>22000</td>\n",
              "    </tr>\n",
              "    <tr>\n",
              "      <th>2011-02-14</th>\n",
              "      <td>2</td>\n",
              "      <td>24.450001</td>\n",
              "      <td>8800</td>\n",
              "    </tr>\n",
              "    <tr>\n",
              "      <th>2011-02-15</th>\n",
              "      <td>3</td>\n",
              "      <td>24.799999</td>\n",
              "      <td>5100</td>\n",
              "    </tr>\n",
              "    <tr>\n",
              "      <th>2011-02-16</th>\n",
              "      <td>4</td>\n",
              "      <td>25.840000</td>\n",
              "      <td>21800</td>\n",
              "    </tr>\n",
              "    <tr>\n",
              "      <th>2011-02-17</th>\n",
              "      <td>5</td>\n",
              "      <td>25.830000</td>\n",
              "      <td>27400</td>\n",
              "    </tr>\n",
              "    <tr>\n",
              "      <th>2011-02-18</th>\n",
              "      <td>6</td>\n",
              "      <td>25.990000</td>\n",
              "      <td>58800</td>\n",
              "    </tr>\n",
              "    <tr>\n",
              "      <th>2011-02-22</th>\n",
              "      <td>7</td>\n",
              "      <td>25.520000</td>\n",
              "      <td>15900</td>\n",
              "    </tr>\n",
              "  </tbody>\n",
              "</table>\n",
              "</div>\n",
              "      <button class=\"colab-df-convert\" onclick=\"convertToInteractive('df-06f43cc8-40c1-4d6a-9653-c2e42cb79181')\"\n",
              "              title=\"Convert this dataframe to an interactive table.\"\n",
              "              style=\"display:none;\">\n",
              "        \n",
              "  <svg xmlns=\"http://www.w3.org/2000/svg\" height=\"24px\"viewBox=\"0 0 24 24\"\n",
              "       width=\"24px\">\n",
              "    <path d=\"M0 0h24v24H0V0z\" fill=\"none\"/>\n",
              "    <path d=\"M18.56 5.44l.94 2.06.94-2.06 2.06-.94-2.06-.94-.94-2.06-.94 2.06-2.06.94zm-11 1L8.5 8.5l.94-2.06 2.06-.94-2.06-.94L8.5 2.5l-.94 2.06-2.06.94zm10 10l.94 2.06.94-2.06 2.06-.94-2.06-.94-.94-2.06-.94 2.06-2.06.94z\"/><path d=\"M17.41 7.96l-1.37-1.37c-.4-.4-.92-.59-1.43-.59-.52 0-1.04.2-1.43.59L10.3 9.45l-7.72 7.72c-.78.78-.78 2.05 0 2.83L4 21.41c.39.39.9.59 1.41.59.51 0 1.02-.2 1.41-.59l7.78-7.78 2.81-2.81c.8-.78.8-2.07 0-2.86zM5.41 20L4 18.59l7.72-7.72 1.47 1.35L5.41 20z\"/>\n",
              "  </svg>\n",
              "      </button>\n",
              "      \n",
              "  <style>\n",
              "    .colab-df-container {\n",
              "      display:flex;\n",
              "      flex-wrap:wrap;\n",
              "      gap: 12px;\n",
              "    }\n",
              "\n",
              "    .colab-df-convert {\n",
              "      background-color: #E8F0FE;\n",
              "      border: none;\n",
              "      border-radius: 50%;\n",
              "      cursor: pointer;\n",
              "      display: none;\n",
              "      fill: #1967D2;\n",
              "      height: 32px;\n",
              "      padding: 0 0 0 0;\n",
              "      width: 32px;\n",
              "    }\n",
              "\n",
              "    .colab-df-convert:hover {\n",
              "      background-color: #E2EBFA;\n",
              "      box-shadow: 0px 1px 2px rgba(60, 64, 67, 0.3), 0px 1px 3px 1px rgba(60, 64, 67, 0.15);\n",
              "      fill: #174EA6;\n",
              "    }\n",
              "\n",
              "    [theme=dark] .colab-df-convert {\n",
              "      background-color: #3B4455;\n",
              "      fill: #D2E3FC;\n",
              "    }\n",
              "\n",
              "    [theme=dark] .colab-df-convert:hover {\n",
              "      background-color: #434B5C;\n",
              "      box-shadow: 0px 1px 3px 1px rgba(0, 0, 0, 0.15);\n",
              "      filter: drop-shadow(0px 1px 2px rgba(0, 0, 0, 0.3));\n",
              "      fill: #FFFFFF;\n",
              "    }\n",
              "  </style>\n",
              "\n",
              "      <script>\n",
              "        const buttonEl =\n",
              "          document.querySelector('#df-06f43cc8-40c1-4d6a-9653-c2e42cb79181 button.colab-df-convert');\n",
              "        buttonEl.style.display =\n",
              "          google.colab.kernel.accessAllowed ? 'block' : 'none';\n",
              "\n",
              "        async function convertToInteractive(key) {\n",
              "          const element = document.querySelector('#df-06f43cc8-40c1-4d6a-9653-c2e42cb79181');\n",
              "          const dataTable =\n",
              "            await google.colab.kernel.invokeFunction('convertToInteractive',\n",
              "                                                     [key], {});\n",
              "          if (!dataTable) return;\n",
              "\n",
              "          const docLinkHtml = 'Like what you see? Visit the ' +\n",
              "            '<a target=\"_blank\" href=https://colab.research.google.com/notebooks/data_table.ipynb>data table notebook</a>'\n",
              "            + ' to learn more about interactive tables.';\n",
              "          element.innerHTML = '';\n",
              "          dataTable['output_type'] = 'display_data';\n",
              "          await google.colab.output.renderOutput(dataTable, element);\n",
              "          const docLink = document.createElement('div');\n",
              "          docLink.innerHTML = docLinkHtml;\n",
              "          element.appendChild(docLink);\n",
              "        }\n",
              "      </script>\n",
              "    </div>\n",
              "  </div>\n",
              "  "
            ]
          },
          "metadata": {},
          "execution_count": 54
        }
      ],
      "source": [
        "heineken.head(8)"
      ]
    },
    {
      "cell_type": "code",
      "source": [
        "names = ['heineken', 'an_busch', 'carlsberg', 'brown_for',\n",
        "             'asahi', 'per_ric', 'comp_cer']\n",
        "\n",
        "dfs = [heineken, an_busch, carlsberg, brown_for, asahi, per_ric, comp_cer]\n",
        "\n",
        "df_final = pd.concat([df.set_index('id').add_prefix(name + '_') for name, df in zip(names, dfs)], axis=1).dropna()"
      ],
      "metadata": {
        "id": "Snqj_HxPXeEj"
      },
      "execution_count": 55,
      "outputs": []
    },
    {
      "cell_type": "code",
      "source": [
        "for name in names:\n",
        "  df_final = df_final.drop(df_final[df_final[name + '_Volume'] == 0].index)"
      ],
      "metadata": {
        "id": "6u_K0k6hgGcE"
      },
      "execution_count": 56,
      "outputs": []
    },
    {
      "cell_type": "code",
      "source": [
        "df_final.head(6)"
      ],
      "metadata": {
        "colab": {
          "base_uri": "https://localhost:8080/",
          "height": 333
        },
        "id": "3VQnpA4_gfsj",
        "outputId": "9f2a94c6-08c5-47a2-e4df-73eff5038c75"
      },
      "execution_count": 57,
      "outputs": [
        {
          "output_type": "execute_result",
          "data": {
            "text/plain": [
              "    heineken_Close  heineken_Volume  an_busch_Close  an_busch_Volume  \\\n",
              "id                                                                     \n",
              "8        25.549999            64200       55.299999          2411300   \n",
              "9        25.650000            11200       55.169998          1944900   \n",
              "10       25.790001            10800       55.200001          1444400   \n",
              "11       25.730000             6900       56.029999           710500   \n",
              "12       25.700001            22300       56.230000          1265900   \n",
              "14       26.420000            21700       57.820000          3545900   \n",
              "\n",
              "    carlsberg_Close  carlsberg_Volume  brown_for_Close  brown_for_Volume  \\\n",
              "id                                                                         \n",
              "8         20.860001              3400        18.072001          888375.0   \n",
              "9         21.240000               600        18.056000          556500.0   \n",
              "10        21.450001              3100        18.333332          533250.0   \n",
              "11        21.450001               700        18.440001         1213125.0   \n",
              "12        21.980000               200        18.143999         1030500.0   \n",
              "14        22.180000              1200        18.143999         1039500.0   \n",
              "\n",
              "    asahi_Close  asahi_Volume  per_ric_Close  per_ric_Volume  comp_cer_Close  \\\n",
              "id                                                                             \n",
              "8         13.50         12200      18.270000            8400       21.136000   \n",
              "9         13.25          4500      18.400000            1500       20.980000   \n",
              "10        13.51          4800      18.530001            4000       20.924000   \n",
              "11        13.85          2800      18.330000            1300       21.660000   \n",
              "12        13.84         10900      18.830000            3500       21.440001   \n",
              "14        14.21         22700      18.879999             500       22.379999   \n",
              "\n",
              "    comp_cer_Volume  \n",
              "id                   \n",
              "8            166750  \n",
              "9            102000  \n",
              "10            62000  \n",
              "11            82250  \n",
              "12            64500  \n",
              "14           258000  "
            ],
            "text/html": [
              "\n",
              "  <div id=\"df-19f54c21-3f07-4b8d-b9bb-240f6383142a\">\n",
              "    <div class=\"colab-df-container\">\n",
              "      <div>\n",
              "<style scoped>\n",
              "    .dataframe tbody tr th:only-of-type {\n",
              "        vertical-align: middle;\n",
              "    }\n",
              "\n",
              "    .dataframe tbody tr th {\n",
              "        vertical-align: top;\n",
              "    }\n",
              "\n",
              "    .dataframe thead th {\n",
              "        text-align: right;\n",
              "    }\n",
              "</style>\n",
              "<table border=\"1\" class=\"dataframe\">\n",
              "  <thead>\n",
              "    <tr style=\"text-align: right;\">\n",
              "      <th></th>\n",
              "      <th>heineken_Close</th>\n",
              "      <th>heineken_Volume</th>\n",
              "      <th>an_busch_Close</th>\n",
              "      <th>an_busch_Volume</th>\n",
              "      <th>carlsberg_Close</th>\n",
              "      <th>carlsberg_Volume</th>\n",
              "      <th>brown_for_Close</th>\n",
              "      <th>brown_for_Volume</th>\n",
              "      <th>asahi_Close</th>\n",
              "      <th>asahi_Volume</th>\n",
              "      <th>per_ric_Close</th>\n",
              "      <th>per_ric_Volume</th>\n",
              "      <th>comp_cer_Close</th>\n",
              "      <th>comp_cer_Volume</th>\n",
              "    </tr>\n",
              "    <tr>\n",
              "      <th>id</th>\n",
              "      <th></th>\n",
              "      <th></th>\n",
              "      <th></th>\n",
              "      <th></th>\n",
              "      <th></th>\n",
              "      <th></th>\n",
              "      <th></th>\n",
              "      <th></th>\n",
              "      <th></th>\n",
              "      <th></th>\n",
              "      <th></th>\n",
              "      <th></th>\n",
              "      <th></th>\n",
              "      <th></th>\n",
              "    </tr>\n",
              "  </thead>\n",
              "  <tbody>\n",
              "    <tr>\n",
              "      <th>8</th>\n",
              "      <td>25.549999</td>\n",
              "      <td>64200</td>\n",
              "      <td>55.299999</td>\n",
              "      <td>2411300</td>\n",
              "      <td>20.860001</td>\n",
              "      <td>3400</td>\n",
              "      <td>18.072001</td>\n",
              "      <td>888375.0</td>\n",
              "      <td>13.50</td>\n",
              "      <td>12200</td>\n",
              "      <td>18.270000</td>\n",
              "      <td>8400</td>\n",
              "      <td>21.136000</td>\n",
              "      <td>166750</td>\n",
              "    </tr>\n",
              "    <tr>\n",
              "      <th>9</th>\n",
              "      <td>25.650000</td>\n",
              "      <td>11200</td>\n",
              "      <td>55.169998</td>\n",
              "      <td>1944900</td>\n",
              "      <td>21.240000</td>\n",
              "      <td>600</td>\n",
              "      <td>18.056000</td>\n",
              "      <td>556500.0</td>\n",
              "      <td>13.25</td>\n",
              "      <td>4500</td>\n",
              "      <td>18.400000</td>\n",
              "      <td>1500</td>\n",
              "      <td>20.980000</td>\n",
              "      <td>102000</td>\n",
              "    </tr>\n",
              "    <tr>\n",
              "      <th>10</th>\n",
              "      <td>25.790001</td>\n",
              "      <td>10800</td>\n",
              "      <td>55.200001</td>\n",
              "      <td>1444400</td>\n",
              "      <td>21.450001</td>\n",
              "      <td>3100</td>\n",
              "      <td>18.333332</td>\n",
              "      <td>533250.0</td>\n",
              "      <td>13.51</td>\n",
              "      <td>4800</td>\n",
              "      <td>18.530001</td>\n",
              "      <td>4000</td>\n",
              "      <td>20.924000</td>\n",
              "      <td>62000</td>\n",
              "    </tr>\n",
              "    <tr>\n",
              "      <th>11</th>\n",
              "      <td>25.730000</td>\n",
              "      <td>6900</td>\n",
              "      <td>56.029999</td>\n",
              "      <td>710500</td>\n",
              "      <td>21.450001</td>\n",
              "      <td>700</td>\n",
              "      <td>18.440001</td>\n",
              "      <td>1213125.0</td>\n",
              "      <td>13.85</td>\n",
              "      <td>2800</td>\n",
              "      <td>18.330000</td>\n",
              "      <td>1300</td>\n",
              "      <td>21.660000</td>\n",
              "      <td>82250</td>\n",
              "    </tr>\n",
              "    <tr>\n",
              "      <th>12</th>\n",
              "      <td>25.700001</td>\n",
              "      <td>22300</td>\n",
              "      <td>56.230000</td>\n",
              "      <td>1265900</td>\n",
              "      <td>21.980000</td>\n",
              "      <td>200</td>\n",
              "      <td>18.143999</td>\n",
              "      <td>1030500.0</td>\n",
              "      <td>13.84</td>\n",
              "      <td>10900</td>\n",
              "      <td>18.830000</td>\n",
              "      <td>3500</td>\n",
              "      <td>21.440001</td>\n",
              "      <td>64500</td>\n",
              "    </tr>\n",
              "    <tr>\n",
              "      <th>14</th>\n",
              "      <td>26.420000</td>\n",
              "      <td>21700</td>\n",
              "      <td>57.820000</td>\n",
              "      <td>3545900</td>\n",
              "      <td>22.180000</td>\n",
              "      <td>1200</td>\n",
              "      <td>18.143999</td>\n",
              "      <td>1039500.0</td>\n",
              "      <td>14.21</td>\n",
              "      <td>22700</td>\n",
              "      <td>18.879999</td>\n",
              "      <td>500</td>\n",
              "      <td>22.379999</td>\n",
              "      <td>258000</td>\n",
              "    </tr>\n",
              "  </tbody>\n",
              "</table>\n",
              "</div>\n",
              "      <button class=\"colab-df-convert\" onclick=\"convertToInteractive('df-19f54c21-3f07-4b8d-b9bb-240f6383142a')\"\n",
              "              title=\"Convert this dataframe to an interactive table.\"\n",
              "              style=\"display:none;\">\n",
              "        \n",
              "  <svg xmlns=\"http://www.w3.org/2000/svg\" height=\"24px\"viewBox=\"0 0 24 24\"\n",
              "       width=\"24px\">\n",
              "    <path d=\"M0 0h24v24H0V0z\" fill=\"none\"/>\n",
              "    <path d=\"M18.56 5.44l.94 2.06.94-2.06 2.06-.94-2.06-.94-.94-2.06-.94 2.06-2.06.94zm-11 1L8.5 8.5l.94-2.06 2.06-.94-2.06-.94L8.5 2.5l-.94 2.06-2.06.94zm10 10l.94 2.06.94-2.06 2.06-.94-2.06-.94-.94-2.06-.94 2.06-2.06.94z\"/><path d=\"M17.41 7.96l-1.37-1.37c-.4-.4-.92-.59-1.43-.59-.52 0-1.04.2-1.43.59L10.3 9.45l-7.72 7.72c-.78.78-.78 2.05 0 2.83L4 21.41c.39.39.9.59 1.41.59.51 0 1.02-.2 1.41-.59l7.78-7.78 2.81-2.81c.8-.78.8-2.07 0-2.86zM5.41 20L4 18.59l7.72-7.72 1.47 1.35L5.41 20z\"/>\n",
              "  </svg>\n",
              "      </button>\n",
              "      \n",
              "  <style>\n",
              "    .colab-df-container {\n",
              "      display:flex;\n",
              "      flex-wrap:wrap;\n",
              "      gap: 12px;\n",
              "    }\n",
              "\n",
              "    .colab-df-convert {\n",
              "      background-color: #E8F0FE;\n",
              "      border: none;\n",
              "      border-radius: 50%;\n",
              "      cursor: pointer;\n",
              "      display: none;\n",
              "      fill: #1967D2;\n",
              "      height: 32px;\n",
              "      padding: 0 0 0 0;\n",
              "      width: 32px;\n",
              "    }\n",
              "\n",
              "    .colab-df-convert:hover {\n",
              "      background-color: #E2EBFA;\n",
              "      box-shadow: 0px 1px 2px rgba(60, 64, 67, 0.3), 0px 1px 3px 1px rgba(60, 64, 67, 0.15);\n",
              "      fill: #174EA6;\n",
              "    }\n",
              "\n",
              "    [theme=dark] .colab-df-convert {\n",
              "      background-color: #3B4455;\n",
              "      fill: #D2E3FC;\n",
              "    }\n",
              "\n",
              "    [theme=dark] .colab-df-convert:hover {\n",
              "      background-color: #434B5C;\n",
              "      box-shadow: 0px 1px 3px 1px rgba(0, 0, 0, 0.15);\n",
              "      filter: drop-shadow(0px 1px 2px rgba(0, 0, 0, 0.3));\n",
              "      fill: #FFFFFF;\n",
              "    }\n",
              "  </style>\n",
              "\n",
              "      <script>\n",
              "        const buttonEl =\n",
              "          document.querySelector('#df-19f54c21-3f07-4b8d-b9bb-240f6383142a button.colab-df-convert');\n",
              "        buttonEl.style.display =\n",
              "          google.colab.kernel.accessAllowed ? 'block' : 'none';\n",
              "\n",
              "        async function convertToInteractive(key) {\n",
              "          const element = document.querySelector('#df-19f54c21-3f07-4b8d-b9bb-240f6383142a');\n",
              "          const dataTable =\n",
              "            await google.colab.kernel.invokeFunction('convertToInteractive',\n",
              "                                                     [key], {});\n",
              "          if (!dataTable) return;\n",
              "\n",
              "          const docLinkHtml = 'Like what you see? Visit the ' +\n",
              "            '<a target=\"_blank\" href=https://colab.research.google.com/notebooks/data_table.ipynb>data table notebook</a>'\n",
              "            + ' to learn more about interactive tables.';\n",
              "          element.innerHTML = '';\n",
              "          dataTable['output_type'] = 'display_data';\n",
              "          await google.colab.output.renderOutput(dataTable, element);\n",
              "          const docLink = document.createElement('div');\n",
              "          docLink.innerHTML = docLinkHtml;\n",
              "          element.appendChild(docLink);\n",
              "        }\n",
              "      </script>\n",
              "    </div>\n",
              "  </div>\n",
              "  "
            ]
          },
          "metadata": {},
          "execution_count": 57
        }
      ]
    },
    {
      "cell_type": "markdown",
      "metadata": {
        "id": "_EKIQVyl8qGT"
      },
      "source": [
        "1. Агрегированная характеристика для каждой компании"
      ]
    },
    {
      "cell_type": "code",
      "source": [
        "'''\n",
        "mean_carl = carlsberg.Volume.mean()\n",
        "mean_asahi = asahi.Volume.mean()\n",
        "mean_per = per_ric.Volume.mean()\n",
        "\n",
        "carlsberg.Volume = carlsberg.Volume.replace(to_replace=0, value=mean_carl)\n",
        "asahi.Volume = asahi.Volume.replace(to_replace=0, value=mean_asahi)\n",
        "per_ric.Volume = per_ric.Volume.replace(to_replace=0, value=mean_per)\n",
        "'''"
      ],
      "metadata": {
        "id": "f991Alr6KdHy",
        "outputId": "aa62b253-c717-4c6c-bfb1-ffd7e6ef8698",
        "colab": {
          "base_uri": "https://localhost:8080/",
          "height": 70
        }
      },
      "execution_count": 58,
      "outputs": [
        {
          "output_type": "execute_result",
          "data": {
            "text/plain": [
              "'\\nmean_carl = carlsberg.Volume.mean()\\nmean_asahi = asahi.Volume.mean()\\nmean_per = per_ric.Volume.mean()\\n\\ncarlsberg.Volume = carlsberg.Volume.replace(to_replace=0, value=mean_carl)\\nasahi.Volume = asahi.Volume.replace(to_replace=0, value=mean_asahi)\\nper_ric.Volume = per_ric.Volume.replace(to_replace=0, value=mean_per)\\n'"
            ],
            "application/vnd.google.colaboratory.intrinsic+json": {
              "type": "string"
            }
          },
          "metadata": {},
          "execution_count": 58
        }
      ]
    },
    {
      "cell_type": "code",
      "execution_count": 59,
      "metadata": {
        "id": "hngQNBRfD0ZT",
        "outputId": "646a321a-07cd-47e5-8a7a-7ffc248804a4",
        "colab": {
          "base_uri": "https://localhost:8080/",
          "height": 87
        }
      },
      "outputs": [
        {
          "output_type": "execute_result",
          "data": {
            "text/plain": [
              "\"\\ncompany_list = [heineken, an_busch, carlsberg, brown_for, asahi, per_ric, comp_cer]\\n\\ndef aggr_char(array):\\n  n = len(array)\\n  answ = []\\n\\n  for i in range(n):\\n    answ.append(array['Close'][i] * array['Volume'][i])\\n\\n  return answ\\n\\nchars = []\\nS = []\\nsumm = 0\\nfor comp in company_list:\\n  chars.append(aggr_char(comp))\\n\\nS = []\\n\\nfor j in range(CONST_SIZE):\\n  elem = 0\\n  for i in range(CONST_COUNT):\\n    elem += chars[i][j]\\n  S.append(elem)\\n\\nfor i in range(CONST_SIZE):\\n  S[i] = log(S[i])\\n\\n# print(S)\\n\""
            ],
            "application/vnd.google.colaboratory.intrinsic+json": {
              "type": "string"
            }
          },
          "metadata": {},
          "execution_count": 59
        }
      ],
      "source": [
        "'''\n",
        "company_list = [heineken, an_busch, carlsberg, brown_for, asahi, per_ric, comp_cer]\n",
        "\n",
        "def aggr_char(array):\n",
        "  n = len(array)\n",
        "  answ = []\n",
        "\n",
        "  for i in range(n):\n",
        "    answ.append(array['Close'][i] * array['Volume'][i])\n",
        "\n",
        "  return answ\n",
        "\n",
        "chars = []\n",
        "S = []\n",
        "summ = 0\n",
        "for comp in company_list:\n",
        "  chars.append(aggr_char(comp))\n",
        "\n",
        "S = []\n",
        "\n",
        "for j in range(CONST_SIZE):\n",
        "  elem = 0\n",
        "  for i in range(CONST_COUNT):\n",
        "    elem += chars[i][j]\n",
        "  S.append(elem)\n",
        "\n",
        "for i in range(CONST_SIZE):\n",
        "  S[i] = log(S[i])\n",
        "\n",
        "# print(S)\n",
        "'''"
      ]
    },
    {
      "cell_type": "code",
      "source": [
        "def aggr_characteristic(df, names):\n",
        "  df_char = pd.DataFrame()\n",
        "  for name in names:\n",
        "    i = 0\n",
        "    df_char.insert(i, name + '_aggr', df[name + '_Close'] * df[name + '_Volume'])\n",
        "    i += 1\n",
        "  return df_char"
      ],
      "metadata": {
        "id": "euPgFvrhhCVT"
      },
      "execution_count": 60,
      "outputs": []
    },
    {
      "cell_type": "code",
      "source": [
        "df_char = aggr_characteristic(df_final, names)"
      ],
      "metadata": {
        "id": "KDFR25_ZiQ0U"
      },
      "execution_count": 61,
      "outputs": []
    },
    {
      "cell_type": "code",
      "source": [
        "df_char['comp_cer_aggr'].iloc[1]"
      ],
      "metadata": {
        "colab": {
          "base_uri": "https://localhost:8080/"
        },
        "id": "xVrlNQXXqTWv",
        "outputId": "a1d5f45c-2851-410b-9921-95aa951849bb"
      },
      "execution_count": 62,
      "outputs": [
        {
          "output_type": "execute_result",
          "data": {
            "text/plain": [
              "2139959.9533081055"
            ]
          },
          "metadata": {},
          "execution_count": 62
        }
      ]
    },
    {
      "cell_type": "code",
      "source": [
        "length_df_char = len(df_char)"
      ],
      "metadata": {
        "id": "ecft0Q7zuo1_"
      },
      "execution_count": 63,
      "outputs": []
    },
    {
      "cell_type": "code",
      "execution_count": 64,
      "metadata": {
        "id": "H-_h2wrvGgla"
      },
      "outputs": [],
      "source": [
        "summa = []\n",
        "\n",
        "for i in range(length_df_char):\n",
        "  summ = 0\n",
        "  for name in names:\n",
        "    summ += df_char[name + '_aggr'].iloc[i]\n",
        "  summa.append(log(summ))\n",
        "\n",
        "df_char.insert(0, 'S', summa)"
      ]
    },
    {
      "cell_type": "code",
      "source": [
        "df_char.head(3)"
      ],
      "metadata": {
        "colab": {
          "base_uri": "https://localhost:8080/",
          "height": 175
        },
        "id": "ji9FwG6arW6I",
        "outputId": "77420bdc-5998-469d-ae9c-6496d76af952"
      },
      "execution_count": 65,
      "outputs": [
        {
          "output_type": "execute_result",
          "data": {
            "text/plain": [
              "            S  comp_cer_aggr   per_ric_aggr     asahi_aggr  brown_for_aggr  \\\n",
              "id                                                                           \n",
              "8   18.858635   3.524428e+06  153468.003845  164700.000000    1.605471e+07   \n",
              "9   18.601964   2.139960e+06   27599.999428   59625.000000    1.004816e+07   \n",
              "10  18.329534   1.297288e+06   74120.002747   64848.001099    9.776249e+06   \n",
              "\n",
              "    carlsberg_aggr  an_busch_aggr  heineken_aggr  \n",
              "id                                                \n",
              "8     70924.002075   1.333449e+08   1.640310e+06  \n",
              "9     12743.999863   1.073001e+08   2.872800e+05  \n",
              "10    66495.002365   7.973088e+07   2.785320e+05  "
            ],
            "text/html": [
              "\n",
              "  <div id=\"df-606124be-3bea-4d36-a87e-9e22ddc80e38\">\n",
              "    <div class=\"colab-df-container\">\n",
              "      <div>\n",
              "<style scoped>\n",
              "    .dataframe tbody tr th:only-of-type {\n",
              "        vertical-align: middle;\n",
              "    }\n",
              "\n",
              "    .dataframe tbody tr th {\n",
              "        vertical-align: top;\n",
              "    }\n",
              "\n",
              "    .dataframe thead th {\n",
              "        text-align: right;\n",
              "    }\n",
              "</style>\n",
              "<table border=\"1\" class=\"dataframe\">\n",
              "  <thead>\n",
              "    <tr style=\"text-align: right;\">\n",
              "      <th></th>\n",
              "      <th>S</th>\n",
              "      <th>comp_cer_aggr</th>\n",
              "      <th>per_ric_aggr</th>\n",
              "      <th>asahi_aggr</th>\n",
              "      <th>brown_for_aggr</th>\n",
              "      <th>carlsberg_aggr</th>\n",
              "      <th>an_busch_aggr</th>\n",
              "      <th>heineken_aggr</th>\n",
              "    </tr>\n",
              "    <tr>\n",
              "      <th>id</th>\n",
              "      <th></th>\n",
              "      <th></th>\n",
              "      <th></th>\n",
              "      <th></th>\n",
              "      <th></th>\n",
              "      <th></th>\n",
              "      <th></th>\n",
              "      <th></th>\n",
              "    </tr>\n",
              "  </thead>\n",
              "  <tbody>\n",
              "    <tr>\n",
              "      <th>8</th>\n",
              "      <td>18.858635</td>\n",
              "      <td>3.524428e+06</td>\n",
              "      <td>153468.003845</td>\n",
              "      <td>164700.000000</td>\n",
              "      <td>1.605471e+07</td>\n",
              "      <td>70924.002075</td>\n",
              "      <td>1.333449e+08</td>\n",
              "      <td>1.640310e+06</td>\n",
              "    </tr>\n",
              "    <tr>\n",
              "      <th>9</th>\n",
              "      <td>18.601964</td>\n",
              "      <td>2.139960e+06</td>\n",
              "      <td>27599.999428</td>\n",
              "      <td>59625.000000</td>\n",
              "      <td>1.004816e+07</td>\n",
              "      <td>12743.999863</td>\n",
              "      <td>1.073001e+08</td>\n",
              "      <td>2.872800e+05</td>\n",
              "    </tr>\n",
              "    <tr>\n",
              "      <th>10</th>\n",
              "      <td>18.329534</td>\n",
              "      <td>1.297288e+06</td>\n",
              "      <td>74120.002747</td>\n",
              "      <td>64848.001099</td>\n",
              "      <td>9.776249e+06</td>\n",
              "      <td>66495.002365</td>\n",
              "      <td>7.973088e+07</td>\n",
              "      <td>2.785320e+05</td>\n",
              "    </tr>\n",
              "  </tbody>\n",
              "</table>\n",
              "</div>\n",
              "      <button class=\"colab-df-convert\" onclick=\"convertToInteractive('df-606124be-3bea-4d36-a87e-9e22ddc80e38')\"\n",
              "              title=\"Convert this dataframe to an interactive table.\"\n",
              "              style=\"display:none;\">\n",
              "        \n",
              "  <svg xmlns=\"http://www.w3.org/2000/svg\" height=\"24px\"viewBox=\"0 0 24 24\"\n",
              "       width=\"24px\">\n",
              "    <path d=\"M0 0h24v24H0V0z\" fill=\"none\"/>\n",
              "    <path d=\"M18.56 5.44l.94 2.06.94-2.06 2.06-.94-2.06-.94-.94-2.06-.94 2.06-2.06.94zm-11 1L8.5 8.5l.94-2.06 2.06-.94-2.06-.94L8.5 2.5l-.94 2.06-2.06.94zm10 10l.94 2.06.94-2.06 2.06-.94-2.06-.94-.94-2.06-.94 2.06-2.06.94z\"/><path d=\"M17.41 7.96l-1.37-1.37c-.4-.4-.92-.59-1.43-.59-.52 0-1.04.2-1.43.59L10.3 9.45l-7.72 7.72c-.78.78-.78 2.05 0 2.83L4 21.41c.39.39.9.59 1.41.59.51 0 1.02-.2 1.41-.59l7.78-7.78 2.81-2.81c.8-.78.8-2.07 0-2.86zM5.41 20L4 18.59l7.72-7.72 1.47 1.35L5.41 20z\"/>\n",
              "  </svg>\n",
              "      </button>\n",
              "      \n",
              "  <style>\n",
              "    .colab-df-container {\n",
              "      display:flex;\n",
              "      flex-wrap:wrap;\n",
              "      gap: 12px;\n",
              "    }\n",
              "\n",
              "    .colab-df-convert {\n",
              "      background-color: #E8F0FE;\n",
              "      border: none;\n",
              "      border-radius: 50%;\n",
              "      cursor: pointer;\n",
              "      display: none;\n",
              "      fill: #1967D2;\n",
              "      height: 32px;\n",
              "      padding: 0 0 0 0;\n",
              "      width: 32px;\n",
              "    }\n",
              "\n",
              "    .colab-df-convert:hover {\n",
              "      background-color: #E2EBFA;\n",
              "      box-shadow: 0px 1px 2px rgba(60, 64, 67, 0.3), 0px 1px 3px 1px rgba(60, 64, 67, 0.15);\n",
              "      fill: #174EA6;\n",
              "    }\n",
              "\n",
              "    [theme=dark] .colab-df-convert {\n",
              "      background-color: #3B4455;\n",
              "      fill: #D2E3FC;\n",
              "    }\n",
              "\n",
              "    [theme=dark] .colab-df-convert:hover {\n",
              "      background-color: #434B5C;\n",
              "      box-shadow: 0px 1px 3px 1px rgba(0, 0, 0, 0.15);\n",
              "      filter: drop-shadow(0px 1px 2px rgba(0, 0, 0, 0.3));\n",
              "      fill: #FFFFFF;\n",
              "    }\n",
              "  </style>\n",
              "\n",
              "      <script>\n",
              "        const buttonEl =\n",
              "          document.querySelector('#df-606124be-3bea-4d36-a87e-9e22ddc80e38 button.colab-df-convert');\n",
              "        buttonEl.style.display =\n",
              "          google.colab.kernel.accessAllowed ? 'block' : 'none';\n",
              "\n",
              "        async function convertToInteractive(key) {\n",
              "          const element = document.querySelector('#df-606124be-3bea-4d36-a87e-9e22ddc80e38');\n",
              "          const dataTable =\n",
              "            await google.colab.kernel.invokeFunction('convertToInteractive',\n",
              "                                                     [key], {});\n",
              "          if (!dataTable) return;\n",
              "\n",
              "          const docLinkHtml = 'Like what you see? Visit the ' +\n",
              "            '<a target=\"_blank\" href=https://colab.research.google.com/notebooks/data_table.ipynb>data table notebook</a>'\n",
              "            + ' to learn more about interactive tables.';\n",
              "          element.innerHTML = '';\n",
              "          dataTable['output_type'] = 'display_data';\n",
              "          await google.colab.output.renderOutput(dataTable, element);\n",
              "          const docLink = document.createElement('div');\n",
              "          docLink.innerHTML = docLinkHtml;\n",
              "          element.appendChild(docLink);\n",
              "        }\n",
              "      </script>\n",
              "    </div>\n",
              "  </div>\n",
              "  "
            ]
          },
          "metadata": {},
          "execution_count": 65
        }
      ]
    },
    {
      "cell_type": "code",
      "source": [
        "df_char.S"
      ],
      "metadata": {
        "colab": {
          "base_uri": "https://localhost:8080/"
        },
        "id": "ZUx-SvzjsS-m",
        "outputId": "63b629b2-765a-427a-e5e8-f17a41a39af1"
      },
      "execution_count": 66,
      "outputs": [
        {
          "output_type": "execute_result",
          "data": {
            "text/plain": [
              "id\n",
              "8       18.858635\n",
              "9       18.601964\n",
              "10      18.329534\n",
              "11      17.977764\n",
              "12      18.337909\n",
              "          ...    \n",
              "2791    19.309767\n",
              "2792    19.141545\n",
              "2793    19.068973\n",
              "2794    19.427014\n",
              "2795    19.045694\n",
              "Name: S, Length: 2665, dtype: float64"
            ]
          },
          "metadata": {},
          "execution_count": 66
        }
      ]
    },
    {
      "cell_type": "code",
      "source": [
        "S = pd.Series(df_char.S)"
      ],
      "metadata": {
        "id": "QgWXYEE2sqvc"
      },
      "execution_count": 67,
      "outputs": []
    },
    {
      "cell_type": "code",
      "execution_count": 68,
      "metadata": {
        "id": "Tbi6dkdqKVe8"
      },
      "outputs": [],
      "source": [
        "day_list = pd.Series([i for i in range(length_df_char)])"
      ]
    },
    {
      "cell_type": "code",
      "execution_count": 69,
      "metadata": {
        "id": "EawjFODnJeCD",
        "colab": {
          "base_uri": "https://localhost:8080/",
          "height": 617
        },
        "outputId": "2b62a65d-7383-48de-96ef-7024eaaafd7d"
      },
      "outputs": [
        {
          "output_type": "display_data",
          "data": {
            "text/html": [
              "<html>\n",
              "<head><meta charset=\"utf-8\" /></head>\n",
              "<body>\n",
              "    <div>            <script src=\"https://cdnjs.cloudflare.com/ajax/libs/mathjax/2.7.5/MathJax.js?config=TeX-AMS-MML_SVG\"></script><script type=\"text/javascript\">if (window.MathJax) {MathJax.Hub.Config({SVG: {font: \"STIX-Web\"}});}</script>                <script type=\"text/javascript\">window.PlotlyConfig = {MathJaxConfig: 'local'};</script>\n",
              "        <script src=\"https://cdn.plot.ly/plotly-2.8.3.min.js\"></script>                <div id=\"e681a4de-3e56-45a2-b1f9-c8a1b32ef31f\" class=\"plotly-graph-div\" style=\"height:600px; width:800px;\"></div>            <script type=\"text/javascript\">                                    window.PLOTLYENV=window.PLOTLYENV || {};                                    if (document.getElementById(\"e681a4de-3e56-45a2-b1f9-c8a1b32ef31f\")) {                    Plotly.newPlot(                        \"e681a4de-3e56-45a2-b1f9-c8a1b32ef31f\",                        [{\"line\":{\"color\":\"LightSeaGreen\",\"width\":1.5},\"x\":[0,1,2,3,4,5,6,7,8,9,10,11,12,13,14,15,16,17,18,19,20,21,22,23,24,25,26,27,28,29,30,31,32,33,34,35,36,37,38,39,40,41,42,43,44,45,46,47,48,49,50,51,52,53,54,55,56,57,58,59,60,61,62,63,64,65,66,67,68,69,70,71,72,73,74,75,76,77,78,79,80,81,82,83,84,85,86,87,88,89,90,91,92,93,94,95,96,97,98,99,100,101,102,103,104,105,106,107,108,109,110,111,112,113,114,115,116,117,118,119,120,121,122,123,124,125,126,127,128,129,130,131,132,133,134,135,136,137,138,139,140,141,142,143,144,145,146,147,148,149,150,151,152,153,154,155,156,157,158,159,160,161,162,163,164,165,166,167,168,169,170,171,172,173,174,175,176,177,178,179,180,181,182,183,184,185,186,187,188,189,190,191,192,193,194,195,196,197,198,199,200,201,202,203,204,205,206,207,208,209,210,211,212,213,214,215,216,217,218,219,220,221,222,223,224,225,226,227,228,229,230,231,232,233,234,235,236,237,238,239,240,241,242,243,244,245,246,247,248,249,250,251,252,253,254,255,256,257,258,259,260,261,262,263,264,265,266,267,268,269,270,271,272,273,274,275,276,277,278,279,280,281,282,283,284,285,286,287,288,289,290,291,292,293,294,295,296,297,298,299,300,301,302,303,304,305,306,307,308,309,310,311,312,313,314,315,316,317,318,319,320,321,322,323,324,325,326,327,328,329,330,331,332,333,334,335,336,337,338,339,340,341,342,343,344,345,346,347,348,349,350,351,352,353,354,355,356,357,358,359,360,361,362,363,364,365,366,367,368,369,370,371,372,373,374,375,376,377,378,379,380,381,382,383,384,385,386,387,388,389,390,391,392,393,394,395,396,397,398,399,400,401,402,403,404,405,406,407,408,409,410,411,412,413,414,415,416,417,418,419,420,421,422,423,424,425,426,427,428,429,430,431,432,433,434,435,436,437,438,439,440,441,442,443,444,445,446,447,448,449,450,451,452,453,454,455,456,457,458,459,460,461,462,463,464,465,466,467,468,469,470,471,472,473,474,475,476,477,478,479,480,481,482,483,484,485,486,487,488,489,490,491,492,493,494,495,496,497,498,499,500,501,502,503,504,505,506,507,508,509,510,511,512,513,514,515,516,517,518,519,520,521,522,523,524,525,526,527,528,529,530,531,532,533,534,535,536,537,538,539,540,541,542,543,544,545,546,547,548,549,550,551,552,553,554,555,556,557,558,559,560,561,562,563,564,565,566,567,568,569,570,571,572,573,574,575,576,577,578,579,580,581,582,583,584,585,586,587,588,589,590,591,592,593,594,595,596,597,598,599,600,601,602,603,604,605,606,607,608,609,610,611,612,613,614,615,616,617,618,619,620,621,622,623,624,625,626,627,628,629,630,631,632,633,634,635,636,637,638,639,640,641,642,643,644,645,646,647,648,649,650,651,652,653,654,655,656,657,658,659,660,661,662,663,664,665,666,667,668,669,670,671,672,673,674,675,676,677,678,679,680,681,682,683,684,685,686,687,688,689,690,691,692,693,694,695,696,697,698,699,700,701,702,703,704,705,706,707,708,709,710,711,712,713,714,715,716,717,718,719,720,721,722,723,724,725,726,727,728,729,730,731,732,733,734,735,736,737,738,739,740,741,742,743,744,745,746,747,748,749,750,751,752,753,754,755,756,757,758,759,760,761,762,763,764,765,766,767,768,769,770,771,772,773,774,775,776,777,778,779,780,781,782,783,784,785,786,787,788,789,790,791,792,793,794,795,796,797,798,799,800,801,802,803,804,805,806,807,808,809,810,811,812,813,814,815,816,817,818,819,820,821,822,823,824,825,826,827,828,829,830,831,832,833,834,835,836,837,838,839,840,841,842,843,844,845,846,847,848,849,850,851,852,853,854,855,856,857,858,859,860,861,862,863,864,865,866,867,868,869,870,871,872,873,874,875,876,877,878,879,880,881,882,883,884,885,886,887,888,889,890,891,892,893,894,895,896,897,898,899,900,901,902,903,904,905,906,907,908,909,910,911,912,913,914,915,916,917,918,919,920,921,922,923,924,925,926,927,928,929,930,931,932,933,934,935,936,937,938,939,940,941,942,943,944,945,946,947,948,949,950,951,952,953,954,955,956,957,958,959,960,961,962,963,964,965,966,967,968,969,970,971,972,973,974,975,976,977,978,979,980,981,982,983,984,985,986,987,988,989,990,991,992,993,994,995,996,997,998,999,1000,1001,1002,1003,1004,1005,1006,1007,1008,1009,1010,1011,1012,1013,1014,1015,1016,1017,1018,1019,1020,1021,1022,1023,1024,1025,1026,1027,1028,1029,1030,1031,1032,1033,1034,1035,1036,1037,1038,1039,1040,1041,1042,1043,1044,1045,1046,1047,1048,1049,1050,1051,1052,1053,1054,1055,1056,1057,1058,1059,1060,1061,1062,1063,1064,1065,1066,1067,1068,1069,1070,1071,1072,1073,1074,1075,1076,1077,1078,1079,1080,1081,1082,1083,1084,1085,1086,1087,1088,1089,1090,1091,1092,1093,1094,1095,1096,1097,1098,1099,1100,1101,1102,1103,1104,1105,1106,1107,1108,1109,1110,1111,1112,1113,1114,1115,1116,1117,1118,1119,1120,1121,1122,1123,1124,1125,1126,1127,1128,1129,1130,1131,1132,1133,1134,1135,1136,1137,1138,1139,1140,1141,1142,1143,1144,1145,1146,1147,1148,1149,1150,1151,1152,1153,1154,1155,1156,1157,1158,1159,1160,1161,1162,1163,1164,1165,1166,1167,1168,1169,1170,1171,1172,1173,1174,1175,1176,1177,1178,1179,1180,1181,1182,1183,1184,1185,1186,1187,1188,1189,1190,1191,1192,1193,1194,1195,1196,1197,1198,1199,1200,1201,1202,1203,1204,1205,1206,1207,1208,1209,1210,1211,1212,1213,1214,1215,1216,1217,1218,1219,1220,1221,1222,1223,1224,1225,1226,1227,1228,1229,1230,1231,1232,1233,1234,1235,1236,1237,1238,1239,1240,1241,1242,1243,1244,1245,1246,1247,1248,1249,1250,1251,1252,1253,1254,1255,1256,1257,1258,1259,1260,1261,1262,1263,1264,1265,1266,1267,1268,1269,1270,1271,1272,1273,1274,1275,1276,1277,1278,1279,1280,1281,1282,1283,1284,1285,1286,1287,1288,1289,1290,1291,1292,1293,1294,1295,1296,1297,1298,1299,1300,1301,1302,1303,1304,1305,1306,1307,1308,1309,1310,1311,1312,1313,1314,1315,1316,1317,1318,1319,1320,1321,1322,1323,1324,1325,1326,1327,1328,1329,1330,1331,1332,1333,1334,1335,1336,1337,1338,1339,1340,1341,1342,1343,1344,1345,1346,1347,1348,1349,1350,1351,1352,1353,1354,1355,1356,1357,1358,1359,1360,1361,1362,1363,1364,1365,1366,1367,1368,1369,1370,1371,1372,1373,1374,1375,1376,1377,1378,1379,1380,1381,1382,1383,1384,1385,1386,1387,1388,1389,1390,1391,1392,1393,1394,1395,1396,1397,1398,1399,1400,1401,1402,1403,1404,1405,1406,1407,1408,1409,1410,1411,1412,1413,1414,1415,1416,1417,1418,1419,1420,1421,1422,1423,1424,1425,1426,1427,1428,1429,1430,1431,1432,1433,1434,1435,1436,1437,1438,1439,1440,1441,1442,1443,1444,1445,1446,1447,1448,1449,1450,1451,1452,1453,1454,1455,1456,1457,1458,1459,1460,1461,1462,1463,1464,1465,1466,1467,1468,1469,1470,1471,1472,1473,1474,1475,1476,1477,1478,1479,1480,1481,1482,1483,1484,1485,1486,1487,1488,1489,1490,1491,1492,1493,1494,1495,1496,1497,1498,1499,1500,1501,1502,1503,1504,1505,1506,1507,1508,1509,1510,1511,1512,1513,1514,1515,1516,1517,1518,1519,1520,1521,1522,1523,1524,1525,1526,1527,1528,1529,1530,1531,1532,1533,1534,1535,1536,1537,1538,1539,1540,1541,1542,1543,1544,1545,1546,1547,1548,1549,1550,1551,1552,1553,1554,1555,1556,1557,1558,1559,1560,1561,1562,1563,1564,1565,1566,1567,1568,1569,1570,1571,1572,1573,1574,1575,1576,1577,1578,1579,1580,1581,1582,1583,1584,1585,1586,1587,1588,1589,1590,1591,1592,1593,1594,1595,1596,1597,1598,1599,1600,1601,1602,1603,1604,1605,1606,1607,1608,1609,1610,1611,1612,1613,1614,1615,1616,1617,1618,1619,1620,1621,1622,1623,1624,1625,1626,1627,1628,1629,1630,1631,1632,1633,1634,1635,1636,1637,1638,1639,1640,1641,1642,1643,1644,1645,1646,1647,1648,1649,1650,1651,1652,1653,1654,1655,1656,1657,1658,1659,1660,1661,1662,1663,1664,1665,1666,1667,1668,1669,1670,1671,1672,1673,1674,1675,1676,1677,1678,1679,1680,1681,1682,1683,1684,1685,1686,1687,1688,1689,1690,1691,1692,1693,1694,1695,1696,1697,1698,1699,1700,1701,1702,1703,1704,1705,1706,1707,1708,1709,1710,1711,1712,1713,1714,1715,1716,1717,1718,1719,1720,1721,1722,1723,1724,1725,1726,1727,1728,1729,1730,1731,1732,1733,1734,1735,1736,1737,1738,1739,1740,1741,1742,1743,1744,1745,1746,1747,1748,1749,1750,1751,1752,1753,1754,1755,1756,1757,1758,1759,1760,1761,1762,1763,1764,1765,1766,1767,1768,1769,1770,1771,1772,1773,1774,1775,1776,1777,1778,1779,1780,1781,1782,1783,1784,1785,1786,1787,1788,1789,1790,1791,1792,1793,1794,1795,1796,1797,1798,1799,1800,1801,1802,1803,1804,1805,1806,1807,1808,1809,1810,1811,1812,1813,1814,1815,1816,1817,1818,1819,1820,1821,1822,1823,1824,1825,1826,1827,1828,1829,1830,1831,1832,1833,1834,1835,1836,1837,1838,1839,1840,1841,1842,1843,1844,1845,1846,1847,1848,1849,1850,1851,1852,1853,1854,1855,1856,1857,1858,1859,1860,1861,1862,1863,1864,1865,1866,1867,1868,1869,1870,1871,1872,1873,1874,1875,1876,1877,1878,1879,1880,1881,1882,1883,1884,1885,1886,1887,1888,1889,1890,1891,1892,1893,1894,1895,1896,1897,1898,1899,1900,1901,1902,1903,1904,1905,1906,1907,1908,1909,1910,1911,1912,1913,1914,1915,1916,1917,1918,1919,1920,1921,1922,1923,1924,1925,1926,1927,1928,1929,1930,1931,1932,1933,1934,1935,1936,1937,1938,1939,1940,1941,1942,1943,1944,1945,1946,1947,1948,1949,1950,1951,1952,1953,1954,1955,1956,1957,1958,1959,1960,1961,1962,1963,1964,1965,1966,1967,1968,1969,1970,1971,1972,1973,1974,1975,1976,1977,1978,1979,1980,1981,1982,1983,1984,1985,1986,1987,1988,1989,1990,1991,1992,1993,1994,1995,1996,1997,1998,1999,2000,2001,2002,2003,2004,2005,2006,2007,2008,2009,2010,2011,2012,2013,2014,2015,2016,2017,2018,2019,2020,2021,2022,2023,2024,2025,2026,2027,2028,2029,2030,2031,2032,2033,2034,2035,2036,2037,2038,2039,2040,2041,2042,2043,2044,2045,2046,2047,2048,2049,2050,2051,2052,2053,2054,2055,2056,2057,2058,2059,2060,2061,2062,2063,2064,2065,2066,2067,2068,2069,2070,2071,2072,2073,2074,2075,2076,2077,2078,2079,2080,2081,2082,2083,2084,2085,2086,2087,2088,2089,2090,2091,2092,2093,2094,2095,2096,2097,2098,2099,2100,2101,2102,2103,2104,2105,2106,2107,2108,2109,2110,2111,2112,2113,2114,2115,2116,2117,2118,2119,2120,2121,2122,2123,2124,2125,2126,2127,2128,2129,2130,2131,2132,2133,2134,2135,2136,2137,2138,2139,2140,2141,2142,2143,2144,2145,2146,2147,2148,2149,2150,2151,2152,2153,2154,2155,2156,2157,2158,2159,2160,2161,2162,2163,2164,2165,2166,2167,2168,2169,2170,2171,2172,2173,2174,2175,2176,2177,2178,2179,2180,2181,2182,2183,2184,2185,2186,2187,2188,2189,2190,2191,2192,2193,2194,2195,2196,2197,2198,2199,2200,2201,2202,2203,2204,2205,2206,2207,2208,2209,2210,2211,2212,2213,2214,2215,2216,2217,2218,2219,2220,2221,2222,2223,2224,2225,2226,2227,2228,2229,2230,2231,2232,2233,2234,2235,2236,2237,2238,2239,2240,2241,2242,2243,2244,2245,2246,2247,2248,2249,2250,2251,2252,2253,2254,2255,2256,2257,2258,2259,2260,2261,2262,2263,2264,2265,2266,2267,2268,2269,2270,2271,2272,2273,2274,2275,2276,2277,2278,2279,2280,2281,2282,2283,2284,2285,2286,2287,2288,2289,2290,2291,2292,2293,2294,2295,2296,2297,2298,2299,2300,2301,2302,2303,2304,2305,2306,2307,2308,2309,2310,2311,2312,2313,2314,2315,2316,2317,2318,2319,2320,2321,2322,2323,2324,2325,2326,2327,2328,2329,2330,2331,2332,2333,2334,2335,2336,2337,2338,2339,2340,2341,2342,2343,2344,2345,2346,2347,2348,2349,2350,2351,2352,2353,2354,2355,2356,2357,2358,2359,2360,2361,2362,2363,2364,2365,2366,2367,2368,2369,2370,2371,2372,2373,2374,2375,2376,2377,2378,2379,2380,2381,2382,2383,2384,2385,2386,2387,2388,2389,2390,2391,2392,2393,2394,2395,2396,2397,2398,2399,2400,2401,2402,2403,2404,2405,2406,2407,2408,2409,2410,2411,2412,2413,2414,2415,2416,2417,2418,2419,2420,2421,2422,2423,2424,2425,2426,2427,2428,2429,2430,2431,2432,2433,2434,2435,2436,2437,2438,2439,2440,2441,2442,2443,2444,2445,2446,2447,2448,2449,2450,2451,2452,2453,2454,2455,2456,2457,2458,2459,2460,2461,2462,2463,2464,2465,2466,2467,2468,2469,2470,2471,2472,2473,2474,2475,2476,2477,2478,2479,2480,2481,2482,2483,2484,2485,2486,2487,2488,2489,2490,2491,2492,2493,2494,2495,2496,2497,2498,2499,2500,2501,2502,2503,2504,2505,2506,2507,2508,2509,2510,2511,2512,2513,2514,2515,2516,2517,2518,2519,2520,2521,2522,2523,2524,2525,2526,2527,2528,2529,2530,2531,2532,2533,2534,2535,2536,2537,2538,2539,2540,2541,2542,2543,2544,2545,2546,2547,2548,2549,2550,2551,2552,2553,2554,2555,2556,2557,2558,2559,2560,2561,2562,2563,2564,2565,2566,2567,2568,2569,2570,2571,2572,2573,2574,2575,2576,2577,2578,2579,2580,2581,2582,2583,2584,2585,2586,2587,2588,2589,2590,2591,2592,2593,2594,2595,2596,2597,2598,2599,2600,2601,2602,2603,2604,2605,2606,2607,2608,2609,2610,2611,2612,2613,2614,2615,2616,2617,2618,2619,2620,2621,2622,2623,2624,2625,2626,2627,2628,2629,2630,2631,2632,2633,2634,2635,2636,2637,2638,2639,2640,2641,2642,2643,2644,2645,2646,2647,2648,2649,2650,2651,2652,2653,2654,2655,2656,2657,2658,2659,2660,2661,2662,2663,2664],\"y\":[18.858635187878363,18.601964280950494,18.32953443090487,17.977763515763048,18.337908672528826,19.256154405072575,18.658096234681537,18.646605963109806,18.1338168426728,18.582773872249902,17.8779248198194,18.817848583292072,18.33787263809358,18.558110248005455,17.93252918189172,18.030644991349757,17.90618636751152,17.96597411816057,17.872364656044745,18.14212512353137,17.7418490735204,17.939608866447443,18.153204196578237,18.604330516527945,18.525830592717472,17.80409259193783,18.482444535573972,19.05258734195677,18.244169336516823,17.96884330531528,18.23091140203484,18.234410988832252,17.97362292836326,18.16688957304038,17.987408816633195,18.014530395833713,17.75454450214852,17.720131300265887,17.78555628546547,18.369452672797,18.17237339288825,18.12199782916835,17.82847803821875,18.183274490013204,18.078889919648997,18.61624835048949,18.24062469857253,18.41433689394896,18.326171049659933,18.369866449502048,18.37252963952817,18.121749247600707,18.445455012670482,18.244892194042407,18.24980184146699,19.294300328571932,18.744661396254855,18.787933341076513,18.63054337437908,18.47407423634098,18.27118898725702,18.35826161527126,18.543151844039542,18.33119241937415,18.54826941890631,19.629648472608178,19.485870942227898,19.602556122556553,19.287985755937832,19.668057814395702,19.575842125137182,19.21936460957948,18.488811542788934,18.64624029313582,18.738651300518967,19.651450380473502,19.307526493084605,18.397653973924637,18.430022264795625,18.282806343614457,18.20620624981677,18.382142992783603,18.664222892849523,18.15512826364466,18.477526333844413,18.74645351240378,18.696407265331676,18.450287909044267,18.646030753078843,18.575471541224992,18.28433828974911,18.28376638885287,18.677264594206825,18.729351752999637,18.8726922557205,18.644961961529727,18.408935979634933,17.961498057516486,18.288643679873726,18.772354031325456,18.383895529448782,18.573417328782863,18.050235841978054,18.325195579619265,18.833627799038663,18.295852808815887,18.10033957193113,18.004638930606987,18.585250544335416,18.534232701972417,18.583332874626382,18.01490567635108,18.281197876211937,18.33199549057752,18.102471834359054,18.140562510405687,18.690164670856934,18.520269489971433,18.33519841176749,18.951279782663924,18.450010478220502,18.299603719139785,18.46048954521488,18.3210428633207,19.068871508826994,18.339123357899556,18.22775019708041,17.383151093272414,18.10855015651128,18.0630471320133,18.097367635733036,18.253741455474078,18.11094735854418,18.572329667635003,18.11950336174488,18.42208682246109,18.3314912521286,18.596873343846188,18.814038787994598,18.042847750521585,18.414594235071586,18.06688430489459,18.228078195406834,18.347894611848357,18.130014908834774,18.355438195852336,18.502493873477516,18.71757573379282,18.12892871718283,18.604375502179842,18.45212252383103,18.861559075896118,18.886573899676744,18.88221588651834,18.76455566521373,18.315602571457443,18.046690144354372,18.108373119915548,18.306162657571075,18.243647751645806,18.46254524917487,18.583546962901664,18.204010787310743,18.934943301794505,18.605304825123866,18.495214203934474,19.18992010870132,18.601123865376895,18.247650781499274,18.756897926378453,18.29002912403983,18.49440318277555,18.288673780037303,19.209141082231564,18.837185316667806,18.08706107617383,18.44655284682959,18.419309109602505,18.22771366875638,18.19788415709258,18.939337312191245,18.601143244444234,18.281437743637927,19.118222252059248,18.750099425514534,18.53214567278383,18.26468434786477,17.722529142125424,18.804146891527058,18.914016740437017,19.328094134133295,19.24993232792072,19.133206165012567,18.73051555009546,18.916510933119135,19.38450915160495,19.531606401486943,18.74331120786362,18.436991672999294,18.649313927741815,18.56110661661719,19.38818574574868,18.68666030433464,18.57016028802716,18.54897231242757,18.762266457166877,18.653534207224162,18.852036860521135,18.821596281525714,19.3245742410466,18.8103957317025,18.691077240440677,18.454819121333458,18.18721838890986,18.653730373841817,18.216786760405537,18.45757850486647,19.036319562542353,19.126019942473086,19.144173015786958,18.623873093035538,20.00084647251578,19.21682339358668,18.453399087800054,18.98950539214886,18.64563397810136,18.97339719869786,18.64229418499925,19.060267830512252,18.70428158314508,18.63279060605011,18.531084703573303,18.41195963267082,18.433085892604943,18.65644413823003,19.036834663228042,18.38129114518869,18.463887524414694,18.367687867179953,19.015523579809106,18.954390835560645,18.739052609852305,18.953076862911036,20.241873389417524,18.6213742651094,19.29749971906308,18.5667052812403,18.46019357441485,18.340590632296227,18.43865384397274,18.390505183453996,17.861296394360014,17.641038812869454,17.934168964904682,17.866252878258862,18.13691053648757,18.332479940290824,18.612008209725314,18.42671198566214,18.30044032711729,18.68637744076825,18.41057784647575,18.63763205427504,18.762122335393407,18.502289036487404,18.514980355826065,18.909744017399863,18.870052552351098,19.204608238894426,19.164437157181613,18.674303867931346,18.91683116839436,18.690972422651466,18.568583961993493,18.634758045298696,19.069544487491022,18.785518873313503,18.780043519547537,18.35056187055118,18.624085143180867,17.783340008714106,18.597832542870695,18.463959227000643,18.538864466446807,18.76221460507961,18.411051082922953,18.799631040003238,19.468258603517686,18.63974956266396,19.34397786133256,17.86792631118111,18.65725829934699,18.32293965134176,18.305119951588697,18.649330705235297,18.980095917772527,19.046083933319252,19.127657923849586,18.667181036777958,18.683977358406313,18.389830034159267,18.205001474237992,18.491101687891845,17.8694814677026,18.350432293317404,18.884655387663656,18.90716165123031,18.33760414499762,18.285809306312686,17.964326116294423,18.209369179240035,18.051269747792002,18.255774386907365,17.901251111970765,18.662527197187885,18.25983319975129,18.673115092790287,18.713360820560172,18.494062020174137,18.27758465474099,17.973188104845537,17.53064063432316,18.269825015674467,18.62026831825501,18.356313143376518,18.65058488710618,18.884664235427948,18.761367571055608,18.884766888519835,18.58195707541149,18.220599498770543,19.16474555273447,18.308894332164513,18.91516942538754,18.87716938139432,18.587863675603423,18.65647809747504,18.468209052601253,18.778685275530467,18.29099256931307,18.695382214692305,18.714694601153123,17.235571598489788,17.713692196404935,18.095946070905793,17.801518175117025,18.052503541470546,18.799548960156105,18.41117177544139,18.76963000248165,18.925247628887302,19.043277789160868,19.342785229506152,18.44285525599827,18.494271562924315,18.267889813333092,18.290474142100788,18.77952133755035,19.066852819377438,18.355206144449255,18.186556804852845,18.29168693860139,18.110064145395317,18.733465405296375,19.102021920534508,18.671494628186096,18.839535939846208,20.95009110722836,19.987393891540822,19.910246506037257,19.36506981770171,18.707057999709033,19.21455111087409,19.270973093004823,19.116046800830635,19.130824521511528,18.98695191730622,20.051851615759983,19.583994029816743,19.150144975515335,19.346985887304342,19.13040385294663,18.48754250433227,19.59384481870224,19.07748818678584,19.371443490253228,19.360758480250272,19.249671063760285,19.1934165622485,18.957147684767897,18.357201451678943,18.819473286762182,19.20657417501764,18.758420728923145,18.5162489049961,18.523715784210093,18.349796985978042,18.918729192904316,18.87366629939502,18.69790422711891,18.819323758823295,19.196116948115623,19.33535256899603,19.35701178166255,18.841556214581903,18.68074541522499,18.713675995770952,18.114642338995427,19.067098015476347,19.84316962179983,18.638058264453868,18.863724760064912,18.747811354465096,18.522808588546205,19.31641470278524,18.485220912605367,18.955410541212757,18.762896081259385,18.42078544613539,19.14187589522849,18.910219606645683,18.841985155877804,18.567462262904623,18.834007582485274,18.936051870266763,18.981010376374893,19.674490517406152,19.776905197467745,20.04427095652146,18.759206093495855,19.29024348844733,19.328485653276864,18.178540652080894,18.50110699150889,18.80121469822081,18.3433445612095,17.992182542684784,18.55352751935925,18.47009264519991,18.59696520186548,18.197092143595825,18.87081941340917,18.387474820245377,18.66597748497416,18.59107681871511,18.53771787282733,18.15867635567702,18.202042971984763,18.37431011111726,18.55522714344243,19.082937252522044,18.764524174604688,18.431053606377237,18.906313301703452,18.786276395743123,19.05490594931935,18.28009363775104,18.43319168940985,18.399509494735682,18.583937200631564,18.322342045486643,19.328346459596464,19.097609900775602,18.767199587120718,19.772163107582706,19.321296942967468,19.89407534723356,19.172643063091773,19.1987229777487,18.927874379777794,19.381842942940313,19.317605245457365,18.750718898816597,19.006877653142382,18.4371829337803,18.827905603931573,18.42568933452218,18.62490665721953,19.274430154196054,19.237432555688063,18.63664432038669,19.33948644426135,19.008288029946,19.501154735832177,19.100794485534433,18.70166502664706,19.45386104065018,19.41559826723133,18.641919954468246,18.619596333937256,18.432134381744362,18.89277577506163,20.042346892440072,19.441980952524972,19.08708298051702,18.493282857272195,18.677930076297052,18.88449804706627,19.52470834245353,18.84769895099534,18.628975442513013,18.33441041408503,18.78293194209942,18.82391763299958,18.710031418569088,18.802301302341053,18.829238578934604,18.801038664437257,18.18388419461681,18.1961027307114,18.087380756227194,18.67225976282871,18.90915626229705,18.672151499725743,18.77320154472636,18.579665497133334,18.779818977991404,18.579064573940947,19.022344239947156,18.74327775884126,18.44599715014019,18.88955521322725,19.697759242212094,19.00708280495453,18.943535705733108,18.84558968870826,19.079670675578953,19.556671933004075,19.520894498423907,18.920990065294465,18.85259317606448,19.11573959503956,19.5846317300642,18.929897337609795,18.82281671831666,19.150661788009632,18.81184341593837,18.02666745665032,18.19180717737659,18.695849950987473,18.830728760857074,19.556160773119323,18.70720446790268,18.69645416112146,18.427516533017965,18.383905480987217,18.38096656834584,18.8573510729571,18.76753030624665,18.495393294311665,18.62960295672269,18.755408879684115,18.352873507981798,18.964629233360935,18.913928345668637,18.784445409069125,19.32323611831869,19.642069758030523,18.8002441749939,18.95626330264279,18.41949815680532,18.564485522981478,18.589444274819492,19.14768016287887,19.498907142143356,19.141358737937427,18.75127023106291,18.969397111192833,18.72596085154725,19.004398734761043,18.772196523652646,18.330629064401943,18.05592698266333,18.743396679249603,18.669559908952824,18.5206962113995,18.33033396676747,17.765986734009292,18.83896266663223,19.16197879461537,19.022442129011974,19.094156304714367,18.611607923388963,18.635715684763586,18.70221195624081,18.83703246600878,18.56309857435236,18.798291152597525,18.504222718781776,18.51026492106335,18.532447190081268,18.92970605186559,18.76312340877131,18.568443948516148,17.32087976995649,18.236196768142264,18.522935297028834,18.681450731390445,18.13456013071295,19.002135363067314,18.212271309229042,19.220383426778643,18.995337726181475,18.92849092254323,18.947232924886464,18.58517321624292,19.264947955450594,19.20472004886349,19.14587924086982,18.941514359100232,19.686208765670134,19.3495649212099,18.87894653920232,19.084290607223412,19.613667750925547,19.150535840739916,19.25296328423022,19.577705711288225,19.26721594765937,19.497838187830936,19.731618836469348,19.531239383846806,19.16054275061107,18.865151105582143,18.96760598184464,18.71596001314775,19.15318653005424,18.87002075609989,18.521533689583432,18.92285162629696,18.977654898702454,18.639586146879633,18.56534263972864,18.75220946854014,19.433073351959667,19.445219638097914,19.680216501787243,18.68887578133924,19.188410169397823,19.314662873554354,18.73699081522861,19.102605996107968,18.8812625312382,18.864931101044963,18.48847942413125,18.528972462490827,19.025285434276874,19.316793630430983,19.049942863597305,18.98279260243089,19.142998149235304,19.1727929024478,18.715012902612568,19.209904708065384,18.905673099432487,18.683200732470656,18.719502103401425,18.96753196368378,18.935585395591634,19.084286776051243,18.98918675795185,18.66915167524092,19.17910171058299,19.060922620438305,19.52651732509128,19.25464350464685,19.094717307819963,18.907188966131358,18.995847027239446,19.401380411874534,19.45055572800906,18.835349523661872,19.18712599802262,18.24240717045807,18.467706429758316,18.61286255061895,18.861594678879825,18.66188361972767,19.23171466677286,19.301720094690747,19.646419592502262,18.711266687676744,18.53536446348623,18.522335054761115,18.67455879903648,19.046033803483024,18.806266163748123,18.492320734070063,18.473247418333,18.82930365067958,18.550166831264825,18.932981472128795,19.03329139531415,19.265650466613724,18.64136430948266,18.35871955660805,18.300857199729442,18.30080257996273,18.565586083536175,18.960376389379753,18.971483039288927,18.93665405506375,18.660249846662662,18.511150959909575,18.746755850987515,18.636015344245223,18.737654379553263,18.875569682010646,19.823638103527525,19.044862852083842,18.968868328516482,18.566804954185923,18.67235970989757,18.63303353599454,18.760598833144837,18.744266673640425,20.30059045579155,19.58343467170504,19.01001841456614,19.053956466760702,19.464171963712786,18.606306620974497,18.865304714232707,18.96481846917693,18.848895157673866,18.278982931965746,18.59876186897015,18.741261336357237,18.484938497275312,18.60126224840835,18.63337493312534,18.25977696584647,18.735166600215013,18.516479163592905,19.086204294078218,18.601102991100618,18.640855886931487,18.502483608081228,18.23830996521911,18.60049805306826,18.80824723305404,19.09689321749205,19.007645517763958,18.7842908763707,19.346331309045596,19.360398125979803,19.125216227400568,19.311312356395412,18.923371100929092,18.5991649305813,18.701130272834618,18.6846548707715,19.008915683859502,18.681179208377703,18.334359786342905,18.665938245437413,18.586525670399794,18.501629133837252,18.593296749756853,18.37819806145337,18.497526963676655,18.637886759517123,18.85076321335192,18.7475825457346,18.535377636229548,18.846601872630753,18.81057246991444,18.76737476175744,19.086486183854174,18.440368828653966,18.600021053622232,18.554416033894736,18.38728662359706,18.437120572193248,18.662253386709754,19.976194694008672,19.796419808295298,18.693570565784384,18.848304764668516,19.17136255264992,18.81486570989427,19.33771163825382,18.63869082096531,18.550416312883787,18.649059471327618,18.856015332423382,19.163028338857682,19.656688989936228,19.381344246449725,19.456844588422513,18.704087055443374,19.30354096769843,19.661629822997263,19.41569501265833,19.625804483300307,19.146326819084027,18.935881930308952,19.604625831258055,19.919491061111966,19.15551668929917,18.724300118030683,19.23811650022306,19.412258203307932,18.86725022248349,18.393168519914067,19.053015767791315,18.654828788107814,18.794903266038773,19.08338626259538,19.566804871831167,19.05908790610096,19.17028335360717,19.093581670850675,19.08147207525492,18.478646595233098,18.3011914746955,18.655052527914375,18.627678148076185,18.60377417757139,18.49279251564493,18.356207825435845,18.751737717600577,18.969166869488646,19.07167292107864,19.461873104130795,19.27896731628584,18.961884401193167,18.642607247511922,18.465129109132288,19.928823133774568,19.03667807637159,19.220373806653416,19.335285058551545,19.11059949309001,19.508103212702437,19.560204720132965,19.365867660967865,19.12824790181579,19.53019979937476,19.540489408827646,19.820800678377406,19.412160575585187,19.52743710870534,19.154285041256944,19.030985380517777,18.663452351651607,17.640893134983717,17.940403374926262,18.154697362875453,18.828334076147314,18.610989458019883,18.878406057602753,19.420766956924286,19.41899315451109,19.337343810171987,19.17767579325269,18.832637454060013,19.019840772708637,19.89226871457733,18.79162758607035,19.089433355202946,19.404517069200587,19.094765405506397,19.425769899797615,19.268257822945674,20.028065300476936,19.991061970046623,19.58430821421362,19.53163468766972,19.999129356060944,19.917517758207143,19.153869449100487,19.592720542195607,19.59502572784611,19.247156641031893,19.555974390679783,19.588178978713035,19.223960437420477,18.994426886916305,19.186421935926802,19.015779606410888,19.177856744466702,18.798204938903687,18.933860230546898,19.209783519545294,19.235636096872973,19.530028154346468,19.26242731045385,19.33221759439668,19.41645736663991,19.250911988720937,19.689380704901907,19.411530814166476,18.893038519138983,19.56299140087399,19.159316791910975,19.923290914283232,19.402631373422846,19.18910983124786,19.324349104562717,19.030766667953174,18.772716286667645,19.323882569879412,19.041276331704786,19.134058359015484,19.049861469750997,18.847722527886315,19.295250476140684,19.43300964123074,19.14330338549633,18.87193412954079,18.99264887269208,19.174651432166854,18.976279325432902,18.63555171817409,18.82217494679218,19.24646831957582,19.17513292442654,18.874361997387172,18.582171521511444,18.358926244030254,18.57292239102534,18.711611225205644,18.72083705559402,18.97075864650877,18.581814928588567,18.81227949798682,19.127571879135203,18.698829548364163,18.861976040664267,18.74653060532646,19.484035793008875,18.95694922413428,18.77755896509304,19.32787022463919,19.274473038634053,19.56249982394752,19.13061346303643,19.526876588789392,19.21322031079652,19.05997712315677,18.734024331263434,18.94122333405964,18.930359771110417,18.95558369060041,18.825307738852977,18.50325316100494,18.521775320487368,18.466235679229015,18.735192116674465,19.228273511085504,18.604165597063773,19.049703887247958,18.989768158959443,19.33501947577467,19.421130191858825,19.472260523579305,20.337017278177036,19.785421314503633,18.989910775966685,18.995052904427215,19.04893281656303,19.05362658309848,19.279785305696578,18.564931753874113,19.036023829833034,19.20405185970395,19.32658905794172,19.133189967284284,19.0061033806482,18.950014685167204,19.258052552372398,19.20489171068221,19.360737072709775,19.67634781868448,19.121904060694632,18.8069691466593,19.854345197884783,19.68317719164933,18.920924646386183,19.361424500316605,20.005683420017363,19.285334391805442,19.50022918357495,18.961706390503817,19.387638077200013,18.770961881750264,18.85198503958855,19.231340186528143,18.737378890233323,19.156433241423045,18.962781088327542,19.186589371267363,19.068716589072885,19.069223421692556,20.086094723146847,19.70364111878553,19.4770180928024,18.80590935750624,18.842241097799594,18.85273275414806,18.775286399225493,18.877681059790852,19.006871074412437,19.451721910424798,18.734784440911916,19.26799528628437,19.659264492946285,19.73519852101732,19.461614498666222,19.549872269352353,19.932963815114977,20.368096185462647,19.658159418940247,19.860115483178348,19.744230505587126,19.373993610779845,19.260555696805238,19.59629463640957,19.274695519413974,19.10917535401573,19.038517025383698,19.144524209721528,19.763026172528225,20.206250236289208,19.64935034215686,19.75578214711192,19.882732944768787,21.011142129659085,19.837657456890433,21.01302335728193,20.350759523396324,19.977761456907114,19.528307303134444,19.64337731113008,19.711333171393854,20.083840070707996,20.009568482215734,19.385723365748984,19.416475263753746,19.830654733167453,19.487148272431163,19.35041249237312,19.429619379834307,19.18328067157433,19.325962452803253,19.395654612845213,20.115960299768457,20.03759234915101,19.729790314699628,19.059523397696054,18.807945948254794,19.138864468272853,19.105764420678334,19.511960386861897,19.298891620190535,18.97891826959,19.11794743264849,19.228817047451702,19.536448991893703,19.645980612866868,19.460810972905243,19.48504222736853,19.065876436447564,19.4345720486284,19.14662119860871,18.568849564610673,19.18472230256831,19.7935455839943,18.925392894180963,18.92913873282523,19.277235581014114,19.536549392204943,19.015751248099658,18.876484968821234,19.2164604569069,19.2255389478918,19.352543656209207,19.65554511097787,18.47154835519122,19.743974827145188,19.558985084216552,19.394291354025476,19.416751182060416,19.227739059794533,19.373946448101083,19.697758842125655,19.322006203167938,19.150997675280852,20.219210124834273,19.920298898699247,19.610514932654876,19.67320181467345,19.680166772683446,19.864271012580073,19.195164712292048,18.8682142976263,19.571487282106204,17.86639435605117,18.823950863144763,18.752546814480002,18.629801919718727,18.906540884718293,19.513722967946137,19.255526849527524,19.641046645764987,19.67778597482984,19.6510841214734,19.414693192818138,19.083040385301906,19.920380760398853,19.49775613833032,20.077141205594373,19.939503787409482,20.01508327513012,19.387134856629988,19.280496683877086,19.107503384316864,19.200344943309556,19.423811221532812,19.626690454365153,19.785998094668827,19.40744081414303,19.271371101967567,20.17559771114684,19.798543473816622,19.87334439098731,20.033427216780975,19.917930313154763,19.305127753210858,19.564006902990705,19.173455170798544,19.329437762565124,19.708171089864024,19.52740483214554,19.347019859418694,18.903186606238037,19.088803393003275,19.333117291611956,19.463044697869293,19.709562446988834,19.35664171437157,19.488641443449385,20.024885433357294,19.50235109204563,19.761352989520702,19.49326187471306,18.931619367646185,18.61684511385452,19.548700280120798,19.08269483098377,18.75725434871373,19.135587917097077,19.32591954480749,19.41850217249184,19.808248438999527,19.069530997090805,19.35288413800548,19.211501433125346,19.240574201136727,18.63712648402105,19.534584448270117,19.809475840322268,19.5693234761942,19.900597426676946,19.60095658457588,19.737712536315005,19.07389823701749,19.44841840147086,19.076345772691575,19.19264000832402,19.029215472509023,19.267210562765943,19.88359453841273,19.27483054581863,19.587405894262442,20.127179444873896,19.316538795332047,19.649289046664762,19.508845620977826,19.17233525260376,19.120418061779983,19.130139578657836,19.357057827512705,19.439523108082234,18.80163191153399,19.380824619482098,20.027476852403776,19.265239998997814,19.294691102385656,19.470669235659834,18.930816843644934,18.833846895560207,18.702769327191234,19.116746695738765,18.569536554428343,19.030866657182553,19.040758118365606,19.271072588760855,19.288093111800457,18.76672495208388,19.243000814562745,19.299916921759205,18.947913091976428,19.056525084359592,19.300819401464526,19.58479974177928,18.95188169489145,19.19743781706137,19.201342845169325,19.0955547173837,19.38750637397428,19.250549263855653,19.732302656244592,19.60804616096124,19.62994298689509,19.347851755931313,19.54730359870849,19.49741503932806,19.499233585637057,19.303436434148118,18.929391521577294,19.3683589134867,20.174124636555955,19.8633877609052,19.458311400430333,19.389460005276938,20.010189906649206,19.58075997163011,19.313988682472825,19.498215056258807,18.98939292094822,18.97773147579044,18.980878247566814,18.846615376004006,18.799334648562493,19.323687234202392,19.366157246245702,19.158896713086076,18.9286304942643,19.881330323802832,19.35551550707623,19.192883872037466,18.51360989338324,19.34318811914858,20.173973502170433,20.326703869863902,19.906270351423053,19.55596483976239,19.1536488365059,19.14878444409055,19.103039824008338,19.46540884654959,19.253623185893556,19.482691070273155,18.820160090262963,18.84321086900159,19.168382967839328,18.796139465564536,18.841868097256878,18.637160979654798,18.525929348982128,19.066286373210975,18.76589742889631,18.758517577089886,18.744625703481503,18.56306737126596,18.822213735267876,18.646279101613075,18.914181629988207,19.605532575997113,19.017304359553584,18.949101981519668,18.956174338732186,18.87574708997088,19.320699510027282,19.348723719349174,18.77557251567263,18.981675177236706,19.570102292792807,19.048522331397866,18.56959014540697,18.757512394694118,19.252545456055998,18.89343086495573,19.93208004279743,19.634216907054846,19.659106212238893,20.06127560952745,19.497214641631505,19.342126681950095,19.57165700768353,19.79173418887148,19.35063898292945,19.113010074074836,19.057642145947213,19.176645550834603,19.197410035767604,19.16264896195112,19.019836101966824,19.020823913892073,19.465019624700517,19.287911456833776,19.217100999524845,19.107021719959825,19.109237829305986,19.267802509502616,19.70383043114813,20.340435515168615,19.617559647388866,19.370166997771538,19.383585024873547,19.874756659195924,19.601392333339426,19.79012583096473,19.7567672283967,20.031890305938354,20.443764678837937,20.29167866124899,20.398148345895184,19.691684639557277,19.649862053739795,20.01662191926789,19.865185794991405,19.898793637686087,19.863301522274483,19.3118322682448,18.99444374224559,19.486334536950647,19.612956877893033,19.66287805933845,20.535450526381965,19.58361285298981,19.671133561833322,19.646027767766476,19.730700106980485,19.678404533433053,19.462451546586333,19.22302260931056,19.39012812397471,19.962924173770148,19.520567869020343,19.564724714316952,19.120101234407645,19.238442913807265,19.111260158291405,19.293763077667812,18.51103828323812,18.929551987205777,18.701060558151998,18.75783767925659,19.18236485389514,19.234114076179868,19.288257970991122,19.39787004181274,19.087433167099388,18.9076744782052,18.957256291625466,18.96516058895935,19.19201379696607,18.836915569376668,19.181321885018953,18.830392441042047,18.830289088151105,19.154695688106912,19.045240616887906,18.877076429819674,18.884647084410673,19.18006629640518,18.876993275864674,18.906322430346524,18.995902054642194,18.89125940691165,19.136892867005976,19.184219163389226,18.881712238189905,19.03668762955151,19.18723264590494,19.116357006045966,19.288381463702585,18.78542263227798,19.508045602171723,19.257816832283353,18.74933985328658,19.330294208631514,19.101329580947326,19.249567304594347,18.88984368089365,18.815646760886523,18.843093948786276,19.05131205358761,19.67417008164855,20.341451073044286,19.704008708718288,19.411090849549815,20.197986665500775,19.74181041361939,19.18596334157617,19.29311881431018,19.04807724268535,18.868614989598345,19.238597487813976,19.753437808773313,19.8140938254484,19.056853333157584,19.08133284270892,18.897692711498845,18.82705150857178,18.980381617557974,18.949170159264387,18.76818243208577,19.377021809122752,19.72370086386144,19.120078877698102,19.022900222354163,18.656685563563315,19.14059649039353,18.881843094975174,19.137255644030553,18.785825201067322,18.91366218489943,18.766031295139484,18.61281435123146,18.776540585272713,18.971432718291993,19.552715284076978,19.236514467964735,19.277048944951787,19.740421566786893,19.565339537432934,19.437277768466277,19.216902751471387,19.38421809110101,19.207518278758478,18.98138371183123,19.788800264130078,20.099632328249744,19.853577518968578,19.30201536172955,19.199989077333147,18.935428111514227,18.83785665726667,19.119747890442863,19.018650269356687,19.098431707325172,19.471556235059204,20.46603930723953,19.316263002886927,19.68616510552101,20.022456896023474,19.46757627764793,19.332493338088884,19.004118970732613,19.484082917899627,19.19722362355212,19.098471512108937,18.885819563421364,18.793439190869353,18.791801859154948,19.4421827480238,20.303811331662416,19.404886814262095,19.135427140146344,18.746947349986858,18.75443653530359,18.756142235063304,18.96052345104978,18.85974946398645,18.911140260286654,18.911010226984825,19.11442727687821,18.830245245468866,18.723793700356364,18.688312202614767,18.849228147150374,19.791543623459507,19.176568789110544,18.24047484566039,18.785161737757115,19.90874887884501,19.052212960978267,18.995926503907754,19.31042197159773,18.806039128342587,18.58341483535632,18.970335500232867,19.515233008727115,18.796205201681918,18.789713740820257,19.3992062429632,19.101299268652177,18.776314526231833,19.009242453076343,19.73910453354243,20.70929891839927,19.536502830080273,19.089188791967484,19.105291925903902,19.645036209515247,18.96351447849211,18.755703274545823,18.360838719576716,18.870671861530898,19.66033444271531,19.178530141789516,19.172693075739815,18.621186501616958,18.89493623630638,19.251572416149852,18.91559519240279,19.68436707557712,19.06490468516668,19.186353142598843,18.973068015152293,19.203101081673115,19.09263005818487,18.78044935117303,19.145880762440132,19.307623998393804,18.971525995859448,18.87353892600171,19.118138440164948,19.07488185444435,20.32014997187219,18.945541454446204,19.29379942545076,18.803607533994303,18.8177817945617,19.0962047830216,19.76194669636767,19.442336842974616,19.253130205214525,19.444455555934937,18.73423081252033,18.95687406630038,19.143403697991502,19.820191299593663,19.733892691887338,19.57581085423675,19.144972249124123,19.273479099055827,18.916495179909663,19.498482417184793,19.27104992050632,18.605967048063206,19.01815260222885,19.478759149402112,18.845860386364585,19.1746334883421,19.361156419412165,19.163016314826173,18.764023718944028,19.494756620525358,18.88377528295754,18.9381003633471,19.479424750061877,19.427487182947328,19.918234538981256,20.413429789045644,19.637773840397458,19.17628681771072,19.44324985397613,19.213205716494922,18.860376680333484,18.728371962689103,19.204943518567074,19.659005330209492,19.363833539244872,19.06683372428461,19.144538587625377,19.751700843306942,19.61164150073107,19.704724172974576,19.4550359329194,19.25077722739903,19.192981813273896,19.105210229341456,18.598708381828814,18.529612830150427,19.447426673257336,19.066095759150105,19.267317383819613,19.614860153265642,19.213839410945827,19.09523588310572,19.665499524245618,19.40008568559843,19.5866866996396,19.2787651128335,19.4335467787962,19.466458561794422,19.35740267062063,19.15226990214129,19.62491864827785,19.248333696813535,19.16825749117013,19.08499018532521,18.92144998016514,18.919799594388415,18.321355995919102,18.848935107555736,18.69263675975135,18.840223926816613,19.187276137766183,19.329120972357867,19.266830893654074,19.321353591863414,19.43855100085022,19.160265318890275,19.073995776272216,19.358079744033407,20.016688846636434,19.430160219576006,19.95531331998553,19.583238319086863,19.003442966254816,18.990974959285264,19.540741049463563,19.297619678940173,19.22470075859331,19.03888365328027,20.389849265654057,19.335495514125828,19.763791351533875,19.045587769936596,19.452644832203582,19.75369205018141,19.673683372325645,19.298408088789966,19.459262922874625,19.59636765568851,19.55728343222779,19.291235632069927,20.229591752557678,19.2542597046466,19.333850535695877,19.22405279157692,19.310051465237436,19.62044909306509,19.180954817042863,19.586988148383803,19.458840668887056,19.666531691079953,20.40077715653398,19.951015037212144,19.642611324689256,19.55801422830981,19.403959056163472,19.858744772148516,19.695700282997652,20.114137939979653,20.161614597299724,19.747370290885108,19.634327994420698,20.570654845826507,19.245475909027466,19.267682837980097,19.313788870174598,19.234877530731563,19.20888415231606,19.166367863394804,19.650407945683607,19.684810342474748,19.499125099474707,19.112635468449188,19.283140800686738,19.150703367398016,19.21161279557,19.406229359483667,19.013125984896952,19.238975265478917,19.414171516081787,19.58560781189731,19.121781320921002,19.270431592962233,19.821549546523055,19.37209340376132,19.425573999148625,19.455816650348833,19.139339542865812,19.306557074859374,19.265389668907407,19.7294523697906,20.14826760411108,19.968270040440405,19.5754536548542,20.341976234961418,20.050726503141032,19.80289780267079,19.01623449891786,19.27255006460703,19.89841139692328,19.9511543973201,19.25647593581354,19.572390991988712,19.64034649456751,19.032692280358336,19.43316024796505,19.2808083233789,19.54820645774349,19.66494412918579,19.592637186311002,19.23576467765073,19.39714610824152,19.75280670607743,19.45521183411732,19.592908166380223,19.5189974530442,19.58658164384912,19.555503179774973,19.666323361593353,19.84174624838639,19.24187689648907,19.5373122478991,19.206005373885546,19.242493844970983,19.127844865479886,19.622414410777015,19.386168514818614,19.248001075933292,19.43687219377577,19.34499748177382,19.775178654754214,19.28059732645357,19.554174606791403,19.38047491359117,19.191775347967116,19.560351190780224,19.122079590962954,18.642021756509664,19.174194925001686,19.278501656445453,18.984861171679153,18.926746042310956,18.84498181362899,19.153655222924797,18.725922911652006,18.949610324129566,18.960743817433276,18.856807618689484,19.223721443850213,19.206250393620184,19.165839940307325,19.129133129180882,19.415707278852565,19.7193240352365,19.108971424751548,19.186412892257973,19.245735722973134,18.871827355104138,19.124196460864976,18.9165042784762,18.857753405538713,18.397491924301747,18.58990241436958,18.441872582026683,19.241569909190755,18.78076617175601,18.80690145942928,18.922750324028907,18.67508781339127,19.190261564727024,18.61825367295846,19.610553582367903,19.284917684494495,18.71013212065418,18.673134975639982,19.047984155881082,18.981909589636565,19.051383977155815,19.341455121161946,19.347042558327846,19.344403037122124,19.323688159512397,19.234858960729028,19.87285581710386,19.573336879907952,19.827242611967712,19.632435362805627,19.745809364259983,19.306307011397617,19.26350163576445,19.315091014744738,19.418034301610625,19.52546014834227,20.83356107145731,18.99192088808809,19.307313599911023,19.31539098214301,19.519057828870093,19.539111811565366,19.0823627474878,19.400432117205266,19.450102319181305,19.041957428327066,18.99573550747738,19.114762278049223,19.017148646088277,19.236562405955357,19.615406735658922,19.258685091514185,19.28174377727655,19.142693532126376,19.294585505760338,18.968382440743742,18.823656094128694,19.05551967078757,19.423581437002962,19.54442808898954,20.472824888423965,19.668726512176974,19.67137769113948,19.4649458495194,19.619657833986775,19.31084062349553,19.25096145888052,19.357615340979766,19.093304945488594,18.60507166281608,19.0032726750218,18.74976923988364,19.02691152992487,19.165136702225208,19.723547345241183,19.562250167711394,19.678425448311586,19.19570389191788,19.138289507027235,18.73161619799237,17.961118504505226,19.177895682747838,19.13404725784684,18.986171192722484,18.876242111924277,19.274467230276144,19.032318127310518,19.300157646133187,19.597474959480778,19.237719638895012,18.98091812084975,19.724450221968723,19.206231042416075,18.977901372198076,18.78617014747798,19.363658454522664,19.27691548121904,19.257687246230947,19.33409368428991,19.58398061765789,18.845557229241237,19.134846014574407,19.29312260388051,19.53966295411764,19.09814279255455,19.060554921121625,19.00674208198819,19.301060158913582,19.019656905884318,19.22082436133404,19.192485957101262,18.782268925866976,19.74548388276808,19.22812304764434,18.871989807208795,19.249344102065592,19.097711314335072,19.579780341436003,19.555688301412783,19.361497699635336,19.22487124582622,18.97010154374597,18.878992667948744,18.82486031323155,18.809770474238974,19.065406556835814,19.11229358106183,18.397834862291834,18.688301876374982,18.630183939081203,18.919902079573745,18.97735044753413,18.87599331634965,18.789064838504064,18.971873127582302,19.149799810416738,19.014445683448518,18.634141650065438,18.646514118373677,18.496314182890696,19.501995563594548,19.129846792167406,19.18278612055079,19.13099353157998,19.64997906906611,19.861268554642272,19.416143236965134,19.469818688390955,19.598782760544545,19.417365676853496,18.898459489564324,18.961339508866974,18.767608592342743,18.63426721942247,18.92417113947808,19.411704355520257,18.49856290821135,19.26865565054807,19.16345951466121,18.780856004932733,19.129009699673325,18.648400819950545,18.75855844251632,19.076349732623555,18.844284426850976,18.951271078598058,18.58804788623322,18.4575760455145,18.482759433193532,18.78705978649489,18.978381679967253,18.540692510091993,18.817753633086557,18.859218110755428,18.496294238612787,19.021024652278932,18.60840523049172,18.906260163336427,18.877601807974028,19.07603029250053,18.90506140105003,18.70867631587732,18.741452343602315,18.92518457020085,18.683608923545197,18.667235028724633,19.313788175243932,19.240731725071303,19.047361411694958,18.78461462368137,18.748825362438627,19.246369621921655,18.784599497454586,18.77944990077816,18.79423090803762,19.000719232317824,18.967413195712684,19.09214443859699,19.127776405199153,18.85679412069835,18.725115185633523,18.96802848540134,18.817689595885348,19.091631899088163,18.551681509863705,19.26598274138209,19.070665890797887,18.818597646239343,19.41750670933496,19.163999561316167,19.03136712370726,19.516470832623984,19.372834377615227,19.17851180508082,19.009213356458552,18.805585039870788,18.59447239736407,18.622548825740513,18.916427773635768,19.016898654233668,19.486819617088607,18.885407150013474,19.26277887176943,19.344052981799376,18.913955923899504,18.996353791991403,18.781788123505017,18.828893384967042,19.848054593334208,18.878441722917568,19.095957693076194,19.01748911545869,18.789593678690938,18.920159540896766,19.161782437612136,19.208354368811815,19.598490171912076,20.174286380206755,19.560815633589858,19.001206362186366,19.192432981548176,19.42297375972563,20.123791863407362,19.371294001540413,19.3781727505955,19.225474843062788,20.360962188609584,19.57037881213616,19.580592488825925,19.022414201239194,19.46071283858487,19.43593205789305,19.026520157849152,19.326203433063593,19.041998797691846,19.041643562380937,19.17809998090762,18.930561066090974,19.057049794731974,19.262858807945268,19.269761163170006,19.23520287140894,18.936880418807434,18.941179073097544,18.975056896897556,19.074612868299738,18.97101649792963,19.046943367820568,19.05491417255894,19.295110860122374,19.187463087105435,18.89182979649413,18.677125243905834,18.80586029668341,18.771153432016206,19.3925754098701,19.08793280506903,19.735037646761732,19.704827989075575,19.583737260678532,19.778542289353737,19.452912012908836,19.354613274817225,19.546413169070483,19.228550893206066,19.283762981731144,19.780495384664253,19.11977186026308,19.103641393550774,19.0924751922294,18.957977764582438,19.229518102080334,19.44943471191235,19.22591872638703,19.543167618377353,19.627264172447298,19.108188854423265,19.103023895351384,18.862226611475734,18.634899823014674,18.845702340237686,18.973723325539698,19.009699888972392,19.21147370709419,19.260095966536714,18.94817487055634,18.6123065166999,18.702475366250415,18.717986198041952,18.788845419766847,18.675604369170927,20.111069105866036,19.171963533659472,19.132514203671978,19.339993916712185,19.59959394627189,19.19536502894399,19.548533132043467,19.247198101664743,18.6461265526364,18.894722265655968,18.793779144711653,18.518498475738355,18.89129276582996,19.251644185780794,19.15572141693516,18.545753352679792,19.189569872939067,18.919012964335316,18.819765133178777,18.760874747946875,18.646836373402994,18.57548421238829,19.305046072887713,19.259130786875065,18.357504303152357,19.027332802167287,18.97953564862617,18.883273365573494,19.235749091310435,18.92972850144035,18.66236396809877,19.183161607143003,18.595367031947816,19.010151412276866,18.744010881195234,18.897463602111642,18.592726116283952,19.278041114488687,18.719224672862993,19.346091733056777,18.67667415735842,17.718851826026786,18.227408522223094,18.462465199237,18.418075354126906,18.593442556554383,18.898003209655347,18.64318625482663,18.679490236659042,18.87194666055476,18.781482077007734,18.87508979462811,18.763642095942526,18.891178987705246,19.056300381158483,19.015641091631135,18.826957282740842,18.699885524453073,18.855731458504515,18.694014767210145,18.783000867666107,19.01122697364758,19.05499781906015,18.841317117017137,18.796517011228378,18.680775151739653,19.12320645186365,18.72700217805612,18.74328727175422,18.625660293809002,18.393763841131033,18.946253174421535,18.746253450755844,19.012790476266915,18.848829223407947,18.878010184475876,18.493964631333018,18.818721016426394,18.591079514460624,18.69784526591431,19.118268882930114,19.316073933055986,19.281751268057725,19.25287002795248,20.032634348415492,20.380907088811117,19.84850946497636,19.581978465250607,19.395340831059425,19.612217123648282,19.458361346056936,19.887819844758504,19.690858063029363,19.3344834531219,20.05798368918241,19.93346797102698,19.970390741210586,20.16326411204654,20.209461691672036,19.654391473685823,19.60283468804336,19.291130848431774,19.31606580599766,19.607916310635428,19.521166181118318,19.22990614141782,19.237169004128152,19.595322508529378,18.886477814232627,19.334190951083166,18.72386742729563,19.165541136384398,18.982372251261005,19.00240007322072,19.453009231701767,18.93798655607161,19.572669736275184,19.15628237061948,18.699400101831493,19.128439726283926,18.98518284568154,19.286719167677187,19.335776392834955,18.703646560541298,18.718555351556773,18.847413256795296,19.249077077656004,19.200288663002464,19.577076566098494,18.641807917008514,19.16018576080024,19.09590856090749,18.925804415789823,18.905935279439557,18.831562762155713,18.940912811617345,18.861745682921107,19.119657276783823,19.20917902790438,19.459465021861938,19.05444645614622,19.54482527358335,19.159298340865135,19.201079873108153,19.093564404683946,19.776028948543434,19.579752084554993,19.424628786431157,19.355063891398842,19.217074018721515,19.5235408814496,19.83871386846839,19.635077086545696,19.777339351029294,19.61102205132804,19.361554592863207,19.264234867511153,19.60214294751132,19.293424912933073,19.30338246686017,19.33267782420487,19.1121490611823,18.83890884688831,19.649948657176598,18.7560896887792,18.972258650347552,19.374388736872824,18.84307766904077,19.47459710172248,18.89416360596373,18.916586342596787,19.0162201093536,19.000725627919415,18.992998661265023,19.142681386566835,18.891948895437174,18.83117126974192,18.9172012912875,19.006308957389507,18.7262996994205,18.87857720010314,18.44836722378858,18.33424689855022,18.77694750634424,19.14487856727796,18.767833856256154,18.760668872893458,18.437293747567796,18.85540346012874,18.772824935854384,19.220654222267726,19.339524741927356,19.353329900458355,18.765500063260745,18.825649239308834,18.557057513098187,18.913785704154968,18.663834034249724,18.43782572440405,18.827097965472365,18.575372392984203,18.169446010874413,18.262020587372195,18.393706355318493,18.546285727003536,18.70234502834065,18.589642456172495,18.86088782489737,18.62771339042754,18.718351916140907,18.892687091647797,18.553671369471626,18.63072100142993,18.899156432764432,18.89280420135444,19.49783959815973,19.28399424710475,19.052575921926156,19.431265450690496,18.860374763815944,18.762458415536244,18.74568237643862,18.891396964505695,19.192160236872752,19.17073690688173,19.06800845383586,19.140660631789448,19.213171775157505,18.894953841795733,19.110377518994476,18.830063616264834,19.15274018328235,18.96460298083013,18.7875996090966,19.015370043949098,18.709630936435087,18.877901114023484,18.49782159278342,19.113913467917197,18.94662983136263,18.92584544079944,18.828048867304677,18.83077298078609,18.831431302007005,18.735533105005253,19.147865284191045,18.8581671722223,18.934918027053843,19.044109746934094,19.142099151641084,19.29200086929271,18.937123912380624,19.088582443042814,19.036300708954847,19.659303291176343,19.191442370767884,19.144170516486575,18.999812831947423,18.8836737172906,18.970211698644178,19.216534081140782,18.937359776263396,20.155313255814132,19.729956868203125,19.26044233057127,19.1829544912671,18.81345267793905,18.948866734445456,18.858636976654743,18.989282203608848,18.85040694905959,18.92856013727775,18.792185805784012,19.235703200892452,18.610601603934423,18.115710958824017,19.7088978113214,19.1635590723324,18.816430620225994,18.92019732867353,19.369190521983512,19.077425100631007,19.208338702627902,18.892744126090072,18.912420135695992,18.771411572359224,18.964739177640347,19.096482106783963,19.22968737185648,19.21853797479248,19.723989295215574,19.538931509793777,19.251888368870937,19.075202696025173,18.311887884820074,18.87824466176281,18.943041167452606,18.53537942363839,18.533854632619157,19.118846860067723,18.97320290745902,19.178529815123063,18.90883238133757,18.739737318402852,19.025315455749876,19.172764140756744,19.38189399017281,18.99814500126854,19.209916176810726,18.83420566598292,18.913997795958213,18.79622973733893,18.952731902160068,19.134804640545703,18.90476967274808,19.403570383906622,19.063199889282046,19.302258721329462,18.743387286509655,18.888887369246508,18.721476124322724,18.901861641348834,19.473723937088177,19.112217219106064,19.148174582880497,19.2385592822591,19.047637766907236,19.121221997293826,19.033700553796642,18.897567654878415,18.967005874774305,18.644310892079783,18.877652047525967,18.89826916812492,19.30355337761245,19.897087990329286,19.715753540105567,19.38311949852171,19.03496668976139,19.085378757956036,19.508451299601152,19.18777039032726,18.78630675441017,18.789965255854923,18.89559818301684,18.766195316613572,18.578730021019165,18.698563096438743,18.649839106454717,18.743151592537505,18.876617122198628,19.453444064978875,19.36305270486756,18.89040493285237,18.647831559798227,18.669649858991814,19.081618130661553,19.134959239508355,18.784245994086287,19.062327353919528,18.93351341045429,18.698226196178897,18.6349217324948,18.721544538632063,18.8372272209623,18.81058614387721,18.845922354669597,18.708651359866884,18.7888893757429,19.290427307803547,20.054694807749303,18.936992278060455,18.919355209479715,19.077245603080893,18.902885079131728,18.52156615989175,18.788258272546038,18.443801066976583,18.760511538883843,18.76066116172836,19.092834452198673,18.723495411054017,18.739342510314835,18.716224563414467,19.548738746598058,18.874459804128072,19.057910844866303,19.081356714536298,18.768998133085447,18.73976784539738,18.899902772393737,18.627141998806362,18.638982919618044,18.833233585457325,18.606650971772773,18.67128134819065,18.52703777412077,18.755075335803912,18.953050165611952,19.442428624130173,18.860099899574568,19.035080210868564,18.84917297677681,18.783621030709757,18.78421211589546,18.93994207847802,18.883406868008,19.05786708462736,18.735420888150244,18.600816173610973,18.811113435467707,19.374778629801153,18.781035175530974,18.7681532893197,19.368230081173543,18.710910626774933,18.599861979979643,18.588527566315854,18.4396163924314,19.16043924646562,18.780665460448706,18.78629710251431,19.077309527819335,18.52957045863561,18.49168142787708,18.905025169039334,18.835579105710394,18.88327685211496,18.823756809900523,19.08483438724489,19.49841301082548,18.808145871935388,18.97046307742457,19.136402751751348,19.330121680399458,19.014290927010705,19.17912796270564,18.736086915028032,18.52071655211461,18.802432055662145,18.802568907451192,18.777068818864393,19.699096681329152,19.668995211182718,18.89594836879132,18.95817246048855,19.00556384475038,18.78687674786195,18.693072489143233,18.79458110082772,18.41803162729563,18.43195931781022,19.193051600141434,18.781647445996192,18.686323296408336,18.575219897464144,18.54877586642892,18.942500496216113,18.823184138895527,18.501138197936143,19.157621645120777,18.612728225132773,18.461659826159337,18.77836436356138,18.374879568732222,18.798923115042257,19.015640022735827,19.236588335048637,18.692574138371658,19.428151396274547,19.039782419062576,19.14223014024041,19.22367117777602,19.026331562049606,18.82933650570109,18.871931742472075,18.84403542539619,19.806290687943182,19.17292156918508,18.846548468367008,18.723875095410843,18.401768370101987,18.57529502726857,19.178874774858865,19.47613285881263,19.006390802297688,19.169535593026794,19.025655786010983,19.259115544453035,19.667486452267344,19.72733244666631,19.64061197274475,19.14192229523486,19.25397677856178,19.64089681747724,19.334388298933646,19.514288419786286,19.618449630630302,19.33323183187504,19.211390470679856,18.93332429037398,19.110448396174416,18.975614965297538,18.793205058748846,19.03588978393226,19.426948997051692,20.251325216202275,19.809683661314278,19.22576426971424,18.82640187504201,18.844432110660662,19.12779222844876,18.75149015981671,18.633922003363782,18.49960677029378,18.637623074255046,18.468249456896555,18.687224656030793,18.535090920039252,18.486355952874412,19.281351138133004,19.020790122264,19.33400908527886,18.663538227190276,18.488190514947725,18.827685567244064,19.46477190444675,19.163811680934714,19.883895188594728,19.204068058786785,19.270267393648886,19.237952274798122,19.14904465512918,18.958919247245465,19.369818567995594,19.058328917626746,18.834521700589978,19.18069328013025,18.867293426148468,19.151385751022307,18.84828280168325,19.393639318379996,18.991275134405996,18.843718101041105,18.92831815789543,18.5383771344011,18.38540568159624,18.500387190131484,18.48832203454021,18.522230456906286,18.51820413463723,19.59757978376336,19.04909755179369,18.849160913057748,19.216461418119074,19.19263424307725,19.74728871478066,19.405518377448512,18.883942023134992,19.13258720237174,19.466556248033726,18.940554247737385,18.844362119999115,18.67910316414991,19.170203892275666,19.253057310289883,19.18536990351267,19.163959539113872,19.122454216295143,18.98868223981865,19.079436067315505,18.70187646909714,18.732741172618095,18.823464553013412,18.716820918041567,18.688464009114263,18.662680486421333,18.61258174254397,19.11452140076651,18.88799730262711,18.631889141257055,18.643957637239787,18.763900640136335,19.408566452037512,18.74521199926043,18.83784617349538,19.237747088941056,19.324655932338047,19.37211562350368,19.50441012715358,19.673760726697484,19.35983753631473,19.555291780781765,19.606682904558323,19.757704863242683,19.605610511684848,19.28295591685486,19.106844091608828,19.27555735958492,19.029244969492858,19.30976743424471,19.141544550137233,19.068973049011433,19.42701444711852,19.04569357659787],\"type\":\"scatter\"}],                        {\"height\":600,\"plot_bgcolor\":\"rgba(0,0,0,0)\",\"title\":{\"text\":\"\\u0413\\u0440\\u0430\\u0444\\u0438\\u043a \\u043f\\u043e\\u043a\\u0430\\u0437\\u0430\\u0442\\u0435\\u043b\\u044f S \\u0432 \\u043f\\u043e\\u043b\\u0443\\u043b\\u043e\\u0433\\u0430\\u0440\\u0438\\u0444\\u043c\\u0438\\u0447\\u0435\\u0441\\u043a\\u043e\\u043c \\u043c\\u0430\\u0441\\u0448\\u0442\\u0430\\u0431\\u0435\",\"x\":0.5,\"xanchor\":\"center\",\"y\":0.9,\"yanchor\":\"top\"},\"width\":800,\"xaxis\":{\"title\":{\"text\":\"t, \\u0434\\u043d\\u0438\"},\"showline\":true,\"linewidth\":0.5,\"gridcolor\":\"grey\"},\"yaxis\":{\"title\":{\"text\":\"ln(S)\"},\"showline\":true,\"linewidth\":0.5,\"gridcolor\":\"grey\"},\"template\":{\"data\":{\"bar\":[{\"error_x\":{\"color\":\"#2a3f5f\"},\"error_y\":{\"color\":\"#2a3f5f\"},\"marker\":{\"line\":{\"color\":\"#E5ECF6\",\"width\":0.5},\"pattern\":{\"fillmode\":\"overlay\",\"size\":10,\"solidity\":0.2}},\"type\":\"bar\"}],\"barpolar\":[{\"marker\":{\"line\":{\"color\":\"#E5ECF6\",\"width\":0.5},\"pattern\":{\"fillmode\":\"overlay\",\"size\":10,\"solidity\":0.2}},\"type\":\"barpolar\"}],\"carpet\":[{\"aaxis\":{\"endlinecolor\":\"#2a3f5f\",\"gridcolor\":\"white\",\"linecolor\":\"white\",\"minorgridcolor\":\"white\",\"startlinecolor\":\"#2a3f5f\"},\"baxis\":{\"endlinecolor\":\"#2a3f5f\",\"gridcolor\":\"white\",\"linecolor\":\"white\",\"minorgridcolor\":\"white\",\"startlinecolor\":\"#2a3f5f\"},\"type\":\"carpet\"}],\"choropleth\":[{\"colorbar\":{\"outlinewidth\":0,\"ticks\":\"\"},\"type\":\"choropleth\"}],\"contour\":[{\"colorbar\":{\"outlinewidth\":0,\"ticks\":\"\"},\"colorscale\":[[0.0,\"#0d0887\"],[0.1111111111111111,\"#46039f\"],[0.2222222222222222,\"#7201a8\"],[0.3333333333333333,\"#9c179e\"],[0.4444444444444444,\"#bd3786\"],[0.5555555555555556,\"#d8576b\"],[0.6666666666666666,\"#ed7953\"],[0.7777777777777778,\"#fb9f3a\"],[0.8888888888888888,\"#fdca26\"],[1.0,\"#f0f921\"]],\"type\":\"contour\"}],\"contourcarpet\":[{\"colorbar\":{\"outlinewidth\":0,\"ticks\":\"\"},\"type\":\"contourcarpet\"}],\"heatmap\":[{\"colorbar\":{\"outlinewidth\":0,\"ticks\":\"\"},\"colorscale\":[[0.0,\"#0d0887\"],[0.1111111111111111,\"#46039f\"],[0.2222222222222222,\"#7201a8\"],[0.3333333333333333,\"#9c179e\"],[0.4444444444444444,\"#bd3786\"],[0.5555555555555556,\"#d8576b\"],[0.6666666666666666,\"#ed7953\"],[0.7777777777777778,\"#fb9f3a\"],[0.8888888888888888,\"#fdca26\"],[1.0,\"#f0f921\"]],\"type\":\"heatmap\"}],\"heatmapgl\":[{\"colorbar\":{\"outlinewidth\":0,\"ticks\":\"\"},\"colorscale\":[[0.0,\"#0d0887\"],[0.1111111111111111,\"#46039f\"],[0.2222222222222222,\"#7201a8\"],[0.3333333333333333,\"#9c179e\"],[0.4444444444444444,\"#bd3786\"],[0.5555555555555556,\"#d8576b\"],[0.6666666666666666,\"#ed7953\"],[0.7777777777777778,\"#fb9f3a\"],[0.8888888888888888,\"#fdca26\"],[1.0,\"#f0f921\"]],\"type\":\"heatmapgl\"}],\"histogram\":[{\"marker\":{\"pattern\":{\"fillmode\":\"overlay\",\"size\":10,\"solidity\":0.2}},\"type\":\"histogram\"}],\"histogram2d\":[{\"colorbar\":{\"outlinewidth\":0,\"ticks\":\"\"},\"colorscale\":[[0.0,\"#0d0887\"],[0.1111111111111111,\"#46039f\"],[0.2222222222222222,\"#7201a8\"],[0.3333333333333333,\"#9c179e\"],[0.4444444444444444,\"#bd3786\"],[0.5555555555555556,\"#d8576b\"],[0.6666666666666666,\"#ed7953\"],[0.7777777777777778,\"#fb9f3a\"],[0.8888888888888888,\"#fdca26\"],[1.0,\"#f0f921\"]],\"type\":\"histogram2d\"}],\"histogram2dcontour\":[{\"colorbar\":{\"outlinewidth\":0,\"ticks\":\"\"},\"colorscale\":[[0.0,\"#0d0887\"],[0.1111111111111111,\"#46039f\"],[0.2222222222222222,\"#7201a8\"],[0.3333333333333333,\"#9c179e\"],[0.4444444444444444,\"#bd3786\"],[0.5555555555555556,\"#d8576b\"],[0.6666666666666666,\"#ed7953\"],[0.7777777777777778,\"#fb9f3a\"],[0.8888888888888888,\"#fdca26\"],[1.0,\"#f0f921\"]],\"type\":\"histogram2dcontour\"}],\"mesh3d\":[{\"colorbar\":{\"outlinewidth\":0,\"ticks\":\"\"},\"type\":\"mesh3d\"}],\"parcoords\":[{\"line\":{\"colorbar\":{\"outlinewidth\":0,\"ticks\":\"\"}},\"type\":\"parcoords\"}],\"pie\":[{\"automargin\":true,\"type\":\"pie\"}],\"scatter\":[{\"marker\":{\"colorbar\":{\"outlinewidth\":0,\"ticks\":\"\"}},\"type\":\"scatter\"}],\"scatter3d\":[{\"line\":{\"colorbar\":{\"outlinewidth\":0,\"ticks\":\"\"}},\"marker\":{\"colorbar\":{\"outlinewidth\":0,\"ticks\":\"\"}},\"type\":\"scatter3d\"}],\"scattercarpet\":[{\"marker\":{\"colorbar\":{\"outlinewidth\":0,\"ticks\":\"\"}},\"type\":\"scattercarpet\"}],\"scattergeo\":[{\"marker\":{\"colorbar\":{\"outlinewidth\":0,\"ticks\":\"\"}},\"type\":\"scattergeo\"}],\"scattergl\":[{\"marker\":{\"colorbar\":{\"outlinewidth\":0,\"ticks\":\"\"}},\"type\":\"scattergl\"}],\"scattermapbox\":[{\"marker\":{\"colorbar\":{\"outlinewidth\":0,\"ticks\":\"\"}},\"type\":\"scattermapbox\"}],\"scatterpolar\":[{\"marker\":{\"colorbar\":{\"outlinewidth\":0,\"ticks\":\"\"}},\"type\":\"scatterpolar\"}],\"scatterpolargl\":[{\"marker\":{\"colorbar\":{\"outlinewidth\":0,\"ticks\":\"\"}},\"type\":\"scatterpolargl\"}],\"scatterternary\":[{\"marker\":{\"colorbar\":{\"outlinewidth\":0,\"ticks\":\"\"}},\"type\":\"scatterternary\"}],\"surface\":[{\"colorbar\":{\"outlinewidth\":0,\"ticks\":\"\"},\"colorscale\":[[0.0,\"#0d0887\"],[0.1111111111111111,\"#46039f\"],[0.2222222222222222,\"#7201a8\"],[0.3333333333333333,\"#9c179e\"],[0.4444444444444444,\"#bd3786\"],[0.5555555555555556,\"#d8576b\"],[0.6666666666666666,\"#ed7953\"],[0.7777777777777778,\"#fb9f3a\"],[0.8888888888888888,\"#fdca26\"],[1.0,\"#f0f921\"]],\"type\":\"surface\"}],\"table\":[{\"cells\":{\"fill\":{\"color\":\"#EBF0F8\"},\"line\":{\"color\":\"white\"}},\"header\":{\"fill\":{\"color\":\"#C8D4E3\"},\"line\":{\"color\":\"white\"}},\"type\":\"table\"}]},\"layout\":{\"annotationdefaults\":{\"arrowcolor\":\"#2a3f5f\",\"arrowhead\":0,\"arrowwidth\":1},\"autotypenumbers\":\"strict\",\"coloraxis\":{\"colorbar\":{\"outlinewidth\":0,\"ticks\":\"\"}},\"colorscale\":{\"diverging\":[[0,\"#8e0152\"],[0.1,\"#c51b7d\"],[0.2,\"#de77ae\"],[0.3,\"#f1b6da\"],[0.4,\"#fde0ef\"],[0.5,\"#f7f7f7\"],[0.6,\"#e6f5d0\"],[0.7,\"#b8e186\"],[0.8,\"#7fbc41\"],[0.9,\"#4d9221\"],[1,\"#276419\"]],\"sequential\":[[0.0,\"#0d0887\"],[0.1111111111111111,\"#46039f\"],[0.2222222222222222,\"#7201a8\"],[0.3333333333333333,\"#9c179e\"],[0.4444444444444444,\"#bd3786\"],[0.5555555555555556,\"#d8576b\"],[0.6666666666666666,\"#ed7953\"],[0.7777777777777778,\"#fb9f3a\"],[0.8888888888888888,\"#fdca26\"],[1.0,\"#f0f921\"]],\"sequentialminus\":[[0.0,\"#0d0887\"],[0.1111111111111111,\"#46039f\"],[0.2222222222222222,\"#7201a8\"],[0.3333333333333333,\"#9c179e\"],[0.4444444444444444,\"#bd3786\"],[0.5555555555555556,\"#d8576b\"],[0.6666666666666666,\"#ed7953\"],[0.7777777777777778,\"#fb9f3a\"],[0.8888888888888888,\"#fdca26\"],[1.0,\"#f0f921\"]]},\"colorway\":[\"#636efa\",\"#EF553B\",\"#00cc96\",\"#ab63fa\",\"#FFA15A\",\"#19d3f3\",\"#FF6692\",\"#B6E880\",\"#FF97FF\",\"#FECB52\"],\"font\":{\"color\":\"#2a3f5f\"},\"geo\":{\"bgcolor\":\"white\",\"lakecolor\":\"white\",\"landcolor\":\"#E5ECF6\",\"showlakes\":true,\"showland\":true,\"subunitcolor\":\"white\"},\"hoverlabel\":{\"align\":\"left\"},\"hovermode\":\"closest\",\"mapbox\":{\"style\":\"light\"},\"paper_bgcolor\":\"white\",\"plot_bgcolor\":\"#E5ECF6\",\"polar\":{\"angularaxis\":{\"gridcolor\":\"white\",\"linecolor\":\"white\",\"ticks\":\"\"},\"bgcolor\":\"#E5ECF6\",\"radialaxis\":{\"gridcolor\":\"white\",\"linecolor\":\"white\",\"ticks\":\"\"}},\"scene\":{\"xaxis\":{\"backgroundcolor\":\"#E5ECF6\",\"gridcolor\":\"white\",\"gridwidth\":2,\"linecolor\":\"white\",\"showbackground\":true,\"ticks\":\"\",\"zerolinecolor\":\"white\"},\"yaxis\":{\"backgroundcolor\":\"#E5ECF6\",\"gridcolor\":\"white\",\"gridwidth\":2,\"linecolor\":\"white\",\"showbackground\":true,\"ticks\":\"\",\"zerolinecolor\":\"white\"},\"zaxis\":{\"backgroundcolor\":\"#E5ECF6\",\"gridcolor\":\"white\",\"gridwidth\":2,\"linecolor\":\"white\",\"showbackground\":true,\"ticks\":\"\",\"zerolinecolor\":\"white\"}},\"shapedefaults\":{\"line\":{\"color\":\"#2a3f5f\"}},\"ternary\":{\"aaxis\":{\"gridcolor\":\"white\",\"linecolor\":\"white\",\"ticks\":\"\"},\"baxis\":{\"gridcolor\":\"white\",\"linecolor\":\"white\",\"ticks\":\"\"},\"bgcolor\":\"#E5ECF6\",\"caxis\":{\"gridcolor\":\"white\",\"linecolor\":\"white\",\"ticks\":\"\"}},\"title\":{\"x\":0.05},\"xaxis\":{\"automargin\":true,\"gridcolor\":\"white\",\"linecolor\":\"white\",\"ticks\":\"\",\"title\":{\"standoff\":15},\"zerolinecolor\":\"white\",\"zerolinewidth\":2},\"yaxis\":{\"automargin\":true,\"gridcolor\":\"white\",\"linecolor\":\"white\",\"ticks\":\"\",\"title\":{\"standoff\":15},\"zerolinecolor\":\"white\",\"zerolinewidth\":2}}},\"shapes\":[{\"fillcolor\":\"goldenrod\",\"opacity\":0.2,\"type\":\"rect\",\"x0\":222,\"x1\":1156,\"y0\":17,\"y1\":21.2},{\"fillcolor\":\"goldenrod\",\"opacity\":0.2,\"type\":\"rect\",\"x0\":1608,\"x1\":1785,\"y0\":17,\"y1\":21.2},{\"fillcolor\":\"goldenrod\",\"opacity\":0.2,\"type\":\"rect\",\"x0\":2048,\"x1\":2126,\"y0\":17,\"y1\":21.2}]},                        {\"responsive\": true}                    ).then(function(){\n",
              "                            \n",
              "var gd = document.getElementById('e681a4de-3e56-45a2-b1f9-c8a1b32ef31f');\n",
              "var x = new MutationObserver(function (mutations, observer) {{\n",
              "        var display = window.getComputedStyle(gd).display;\n",
              "        if (!display || display === 'none') {{\n",
              "            console.log([gd, 'removed!']);\n",
              "            Plotly.purge(gd);\n",
              "            observer.disconnect();\n",
              "        }}\n",
              "}});\n",
              "\n",
              "// Listen for the removal of the full notebook cells\n",
              "var notebookContainer = gd.closest('#notebook-container');\n",
              "if (notebookContainer) {{\n",
              "    x.observe(notebookContainer, {childList: true});\n",
              "}}\n",
              "\n",
              "// Listen for the clearing of the current output cell\n",
              "var outputEl = gd.closest('.output');\n",
              "if (outputEl) {{\n",
              "    x.observe(outputEl, {childList: true});\n",
              "}}\n",
              "\n",
              "                        })                };                            </script>        </div>\n",
              "</body>\n",
              "</html>"
            ]
          },
          "metadata": {}
        }
      ],
      "source": [
        "_layout = go.Layout(\n",
        "    title={\n",
        "        'text': 'График показателя S в полулогарифмическом масштабе',\n",
        "        'y':0.9,\n",
        "        'x':0.5,\n",
        "        'xanchor': 'center',\n",
        "        'yanchor': 'top'},\n",
        "    yaxis_title='ln(S)',\n",
        "    xaxis_title='t, дни',\n",
        "    width=800,\n",
        "    height=600,\n",
        "    plot_bgcolor='rgba(0,0,0,0)'\n",
        ")\n",
        "fig = go.Figure([go.Scatter(x=day_list, y=S, line=dict(color='LightSeaGreen', width=1.5))], layout=_layout)\n",
        "\n",
        "fig = addline(fig, type= \"r\", y0=17, y1=21.2, x0=day_list.iloc[222], x1=day_list.iloc[1156])\n",
        "fig = addline(fig, type= \"r\", y0=17, y1=21.2, x0=day_list.iloc[1608], x1=day_list.iloc[1785])\n",
        "fig = addline(fig, type= \"r\", y0=17, y1=21.2, x0=day_list.iloc[2048], x1=day_list.iloc[2126])\n",
        "\n",
        "fig.update_xaxes(showline=True, linewidth=0.5, gridcolor='grey')\n",
        "fig.update_yaxes(showline=True, linewidth=0.5, gridcolor='grey')\n",
        "\n",
        "fig.show()"
      ]
    },
    {
      "cell_type": "code",
      "execution_count": 70,
      "metadata": {
        "id": "sX4_xsIvCXsc",
        "colab": {
          "base_uri": "https://localhost:8080/",
          "height": 817
        },
        "outputId": "6be2d495-d4b9-4d97-d3e3-a89b54b8c3e6"
      },
      "outputs": [
        {
          "output_type": "display_data",
          "data": {
            "text/html": [
              "<html>\n",
              "<head><meta charset=\"utf-8\" /></head>\n",
              "<body>\n",
              "    <div>            <script src=\"https://cdnjs.cloudflare.com/ajax/libs/mathjax/2.7.5/MathJax.js?config=TeX-AMS-MML_SVG\"></script><script type=\"text/javascript\">if (window.MathJax) {MathJax.Hub.Config({SVG: {font: \"STIX-Web\"}});}</script>                <script type=\"text/javascript\">window.PlotlyConfig = {MathJaxConfig: 'local'};</script>\n",
              "        <script src=\"https://cdn.plot.ly/plotly-2.8.3.min.js\"></script>                <div id=\"923d9e98-b75f-4156-ac96-bef69f4ad327\" class=\"plotly-graph-div\" style=\"height:800px; width:600px;\"></div>            <script type=\"text/javascript\">                                    window.PLOTLYENV=window.PLOTLYENV || {};                                    if (document.getElementById(\"923d9e98-b75f-4156-ac96-bef69f4ad327\")) {                    Plotly.newPlot(                        \"923d9e98-b75f-4156-ac96-bef69f4ad327\",                        [{\"line\":{\"color\":\"LightSeaGreen\",\"width\":1.5},\"x\":[221,222,223,224,225,226,227,228,229,230,231,232,233,234,235,236,237,238,239,240,241,242,243,244,245,246,247,248,249,250,251,252,253,254,255,256,257,258,259,260,261,262,263,264,265,266,267,268,269,270,271,272,273,274,275,276,277,278,279,280,281,282,283,284,285,286,287,288,289,290,291,292,293,294,295,296,297,298,299,300,301,302,303,304,305,306,307,308,309,310,311,312,313,314,315,316,317,318,319,320,321,322,323,324,325,326,327,328,329,330,331,332,333,334,335,336,337,338,339,340,341,342,343,344,345,346,347,348,349,350,351,352,353,354,355,356,357,358,359,360,361,362,363,364,365,366,367,368,369,370,371,372,373,374,375,376,377,378,379,380,381,382,383,384,385,386,387,388,389,390,391,392,393,394,395,396,397,398,399,400,401,402,403,404,405,406,407,408,409,410,411,412,413,414,415,416,417,418,419,420,421,422,423,424,425,426,427,428,429,430,431,432,433,434,435,436,437,438,439,440,441,442,443,444,445,446,447,448,449,450,451,452,453,454,455,456,457,458,459,460,461,462,463,464,465,466,467,468,469,470,471,472,473,474,475,476,477,478,479,480,481,482,483,484,485,486,487,488,489,490,491,492,493,494,495,496,497,498,499,500,501,502,503,504,505,506,507,508,509,510,511,512,513,514,515,516,517,518,519,520,521,522,523,524,525,526,527,528,529,530,531,532,533,534,535,536,537,538,539,540,541,542,543,544,545,546,547,548,549,550,551,552,553,554,555,556,557,558,559,560,561,562,563,564,565,566,567,568,569,570,571,572,573,574,575,576,577,578,579,580,581,582,583,584,585,586,587,588,589,590,591,592,593,594,595,596,597,598,599,600,601,602,603,604,605,606,607,608,609,610,611,612,613,614,615,616,617,618,619,620,621,622,623,624,625,626,627,628,629,630,631,632,633,634,635,636,637,638,639,640,641,642,643,644,645,646,647,648,649,650,651,652,653,654,655,656,657,658,659,660,661,662,663,664,665,666,667,668,669,670,671,672,673,674,675,676,677,678,679,680,681,682,683,684,685,686,687,688,689,690,691,692,693,694,695,696,697,698,699,700,701,702,703,704,705,706,707,708,709,710,711,712,713,714,715,716,717,718,719,720,721,722,723,724,725,726,727,728,729,730,731,732,733,734,735,736,737,738,739,740,741,742,743,744,745,746,747,748,749,750,751,752,753,754,755,756,757,758,759,760,761,762,763,764,765,766,767,768,769,770,771,772,773,774,775,776,777,778,779,780,781,782,783,784,785,786,787,788,789,790,791,792,793,794,795,796,797,798,799,800,801,802,803,804,805,806,807,808,809,810,811,812,813,814,815,816,817,818,819,820,821,822,823,824,825,826,827,828,829,830,831,832,833,834,835,836,837,838,839,840,841,842,843,844,845,846,847,848,849,850,851,852,853,854,855,856,857,858,859,860,861,862,863,864,865,866,867,868,869,870,871,872,873,874,875,876,877,878,879,880,881,882,883,884,885,886,887,888,889,890,891,892,893,894,895,896,897,898,899,900,901,902,903,904,905,906,907,908,909,910,911,912,913,914,915,916,917,918,919,920,921,922,923,924,925,926,927,928,929,930,931,932,933,934,935,936,937,938,939,940,941,942,943,944,945,946,947,948,949,950,951,952,953,954,955,956,957,958,959,960,961,962,963,964,965,966,967,968,969,970,971,972,973,974,975,976,977,978,979,980,981,982,983,984,985,986,987,988,989,990,991,992,993,994,995,996,997,998,999,1000,1001,1002,1003,1004,1005,1006,1007,1008,1009,1010,1011,1012,1013,1014,1015,1016,1017,1018,1019,1020,1021,1022,1023,1024,1025,1026,1027,1028,1029,1030,1031,1032,1033,1034,1035,1036,1037,1038,1039,1040,1041,1042,1043,1044,1045,1046,1047,1048,1049,1050,1051,1052,1053,1054,1055,1056,1057,1058,1059,1060,1061,1062,1063,1064,1065,1066,1067,1068,1069,1070,1071,1072,1073,1074,1075,1076,1077,1078,1079,1080,1081,1082,1083,1084,1085,1086,1087,1088,1089,1090,1091,1092,1093,1094,1095,1096,1097,1098,1099,1100,1101,1102,1103,1104,1105,1106,1107,1108,1109,1110,1111,1112,1113,1114,1115,1116,1117,1118,1119,1120,1121,1122,1123,1124,1125,1126,1127,1128,1129,1130,1131,1132,1133,1134,1135,1136,1137,1138,1139,1140,1141,1142,1143,1144,1145,1146,1147,1148,1149,1150,1151,1152,1153,1154,1155,1156],\"y\":[20.00084647251578,19.21682339358668,18.453399087800054,18.98950539214886,18.64563397810136,18.97339719869786,18.64229418499925,19.060267830512252,18.70428158314508,18.63279060605011,18.531084703573303,18.41195963267082,18.433085892604943,18.65644413823003,19.036834663228042,18.38129114518869,18.463887524414694,18.367687867179953,19.015523579809106,18.954390835560645,18.739052609852305,18.953076862911036,20.241873389417524,18.6213742651094,19.29749971906308,18.5667052812403,18.46019357441485,18.340590632296227,18.43865384397274,18.390505183453996,17.861296394360014,17.641038812869454,17.934168964904682,17.866252878258862,18.13691053648757,18.332479940290824,18.612008209725314,18.42671198566214,18.30044032711729,18.68637744076825,18.41057784647575,18.63763205427504,18.762122335393407,18.502289036487404,18.514980355826065,18.909744017399863,18.870052552351098,19.204608238894426,19.164437157181613,18.674303867931346,18.91683116839436,18.690972422651466,18.568583961993493,18.634758045298696,19.069544487491022,18.785518873313503,18.780043519547537,18.35056187055118,18.624085143180867,17.783340008714106,18.597832542870695,18.463959227000643,18.538864466446807,18.76221460507961,18.411051082922953,18.799631040003238,19.468258603517686,18.63974956266396,19.34397786133256,17.86792631118111,18.65725829934699,18.32293965134176,18.305119951588697,18.649330705235297,18.980095917772527,19.046083933319252,19.127657923849586,18.667181036777958,18.683977358406313,18.389830034159267,18.205001474237992,18.491101687891845,17.8694814677026,18.350432293317404,18.884655387663656,18.90716165123031,18.33760414499762,18.285809306312686,17.964326116294423,18.209369179240035,18.051269747792002,18.255774386907365,17.901251111970765,18.662527197187885,18.25983319975129,18.673115092790287,18.713360820560172,18.494062020174137,18.27758465474099,17.973188104845537,17.53064063432316,18.269825015674467,18.62026831825501,18.356313143376518,18.65058488710618,18.884664235427948,18.761367571055608,18.884766888519835,18.58195707541149,18.220599498770543,19.16474555273447,18.308894332164513,18.91516942538754,18.87716938139432,18.587863675603423,18.65647809747504,18.468209052601253,18.778685275530467,18.29099256931307,18.695382214692305,18.714694601153123,17.235571598489788,17.713692196404935,18.095946070905793,17.801518175117025,18.052503541470546,18.799548960156105,18.41117177544139,18.76963000248165,18.925247628887302,19.043277789160868,19.342785229506152,18.44285525599827,18.494271562924315,18.267889813333092,18.290474142100788,18.77952133755035,19.066852819377438,18.355206144449255,18.186556804852845,18.29168693860139,18.110064145395317,18.733465405296375,19.102021920534508,18.671494628186096,18.839535939846208,20.95009110722836,19.987393891540822,19.910246506037257,19.36506981770171,18.707057999709033,19.21455111087409,19.270973093004823,19.116046800830635,19.130824521511528,18.98695191730622,20.051851615759983,19.583994029816743,19.150144975515335,19.346985887304342,19.13040385294663,18.48754250433227,19.59384481870224,19.07748818678584,19.371443490253228,19.360758480250272,19.249671063760285,19.1934165622485,18.957147684767897,18.357201451678943,18.819473286762182,19.20657417501764,18.758420728923145,18.5162489049961,18.523715784210093,18.349796985978042,18.918729192904316,18.87366629939502,18.69790422711891,18.819323758823295,19.196116948115623,19.33535256899603,19.35701178166255,18.841556214581903,18.68074541522499,18.713675995770952,18.114642338995427,19.067098015476347,19.84316962179983,18.638058264453868,18.863724760064912,18.747811354465096,18.522808588546205,19.31641470278524,18.485220912605367,18.955410541212757,18.762896081259385,18.42078544613539,19.14187589522849,18.910219606645683,18.841985155877804,18.567462262904623,18.834007582485274,18.936051870266763,18.981010376374893,19.674490517406152,19.776905197467745,20.04427095652146,18.759206093495855,19.29024348844733,19.328485653276864,18.178540652080894,18.50110699150889,18.80121469822081,18.3433445612095,17.992182542684784,18.55352751935925,18.47009264519991,18.59696520186548,18.197092143595825,18.87081941340917,18.387474820245377,18.66597748497416,18.59107681871511,18.53771787282733,18.15867635567702,18.202042971984763,18.37431011111726,18.55522714344243,19.082937252522044,18.764524174604688,18.431053606377237,18.906313301703452,18.786276395743123,19.05490594931935,18.28009363775104,18.43319168940985,18.399509494735682,18.583937200631564,18.322342045486643,19.328346459596464,19.097609900775602,18.767199587120718,19.772163107582706,19.321296942967468,19.89407534723356,19.172643063091773,19.1987229777487,18.927874379777794,19.381842942940313,19.317605245457365,18.750718898816597,19.006877653142382,18.4371829337803,18.827905603931573,18.42568933452218,18.62490665721953,19.274430154196054,19.237432555688063,18.63664432038669,19.33948644426135,19.008288029946,19.501154735832177,19.100794485534433,18.70166502664706,19.45386104065018,19.41559826723133,18.641919954468246,18.619596333937256,18.432134381744362,18.89277577506163,20.042346892440072,19.441980952524972,19.08708298051702,18.493282857272195,18.677930076297052,18.88449804706627,19.52470834245353,18.84769895099534,18.628975442513013,18.33441041408503,18.78293194209942,18.82391763299958,18.710031418569088,18.802301302341053,18.829238578934604,18.801038664437257,18.18388419461681,18.1961027307114,18.087380756227194,18.67225976282871,18.90915626229705,18.672151499725743,18.77320154472636,18.579665497133334,18.779818977991404,18.579064573940947,19.022344239947156,18.74327775884126,18.44599715014019,18.88955521322725,19.697759242212094,19.00708280495453,18.943535705733108,18.84558968870826,19.079670675578953,19.556671933004075,19.520894498423907,18.920990065294465,18.85259317606448,19.11573959503956,19.5846317300642,18.929897337609795,18.82281671831666,19.150661788009632,18.81184341593837,18.02666745665032,18.19180717737659,18.695849950987473,18.830728760857074,19.556160773119323,18.70720446790268,18.69645416112146,18.427516533017965,18.383905480987217,18.38096656834584,18.8573510729571,18.76753030624665,18.495393294311665,18.62960295672269,18.755408879684115,18.352873507981798,18.964629233360935,18.913928345668637,18.784445409069125,19.32323611831869,19.642069758030523,18.8002441749939,18.95626330264279,18.41949815680532,18.564485522981478,18.589444274819492,19.14768016287887,19.498907142143356,19.141358737937427,18.75127023106291,18.969397111192833,18.72596085154725,19.004398734761043,18.772196523652646,18.330629064401943,18.05592698266333,18.743396679249603,18.669559908952824,18.5206962113995,18.33033396676747,17.765986734009292,18.83896266663223,19.16197879461537,19.022442129011974,19.094156304714367,18.611607923388963,18.635715684763586,18.70221195624081,18.83703246600878,18.56309857435236,18.798291152597525,18.504222718781776,18.51026492106335,18.532447190081268,18.92970605186559,18.76312340877131,18.568443948516148,17.32087976995649,18.236196768142264,18.522935297028834,18.681450731390445,18.13456013071295,19.002135363067314,18.212271309229042,19.220383426778643,18.995337726181475,18.92849092254323,18.947232924886464,18.58517321624292,19.264947955450594,19.20472004886349,19.14587924086982,18.941514359100232,19.686208765670134,19.3495649212099,18.87894653920232,19.084290607223412,19.613667750925547,19.150535840739916,19.25296328423022,19.577705711288225,19.26721594765937,19.497838187830936,19.731618836469348,19.531239383846806,19.16054275061107,18.865151105582143,18.96760598184464,18.71596001314775,19.15318653005424,18.87002075609989,18.521533689583432,18.92285162629696,18.977654898702454,18.639586146879633,18.56534263972864,18.75220946854014,19.433073351959667,19.445219638097914,19.680216501787243,18.68887578133924,19.188410169397823,19.314662873554354,18.73699081522861,19.102605996107968,18.8812625312382,18.864931101044963,18.48847942413125,18.528972462490827,19.025285434276874,19.316793630430983,19.049942863597305,18.98279260243089,19.142998149235304,19.1727929024478,18.715012902612568,19.209904708065384,18.905673099432487,18.683200732470656,18.719502103401425,18.96753196368378,18.935585395591634,19.084286776051243,18.98918675795185,18.66915167524092,19.17910171058299,19.060922620438305,19.52651732509128,19.25464350464685,19.094717307819963,18.907188966131358,18.995847027239446,19.401380411874534,19.45055572800906,18.835349523661872,19.18712599802262,18.24240717045807,18.467706429758316,18.61286255061895,18.861594678879825,18.66188361972767,19.23171466677286,19.301720094690747,19.646419592502262,18.711266687676744,18.53536446348623,18.522335054761115,18.67455879903648,19.046033803483024,18.806266163748123,18.492320734070063,18.473247418333,18.82930365067958,18.550166831264825,18.932981472128795,19.03329139531415,19.265650466613724,18.64136430948266,18.35871955660805,18.300857199729442,18.30080257996273,18.565586083536175,18.960376389379753,18.971483039288927,18.93665405506375,18.660249846662662,18.511150959909575,18.746755850987515,18.636015344245223,18.737654379553263,18.875569682010646,19.823638103527525,19.044862852083842,18.968868328516482,18.566804954185923,18.67235970989757,18.63303353599454,18.760598833144837,18.744266673640425,20.30059045579155,19.58343467170504,19.01001841456614,19.053956466760702,19.464171963712786,18.606306620974497,18.865304714232707,18.96481846917693,18.848895157673866,18.278982931965746,18.59876186897015,18.741261336357237,18.484938497275312,18.60126224840835,18.63337493312534,18.25977696584647,18.735166600215013,18.516479163592905,19.086204294078218,18.601102991100618,18.640855886931487,18.502483608081228,18.23830996521911,18.60049805306826,18.80824723305404,19.09689321749205,19.007645517763958,18.7842908763707,19.346331309045596,19.360398125979803,19.125216227400568,19.311312356395412,18.923371100929092,18.5991649305813,18.701130272834618,18.6846548707715,19.008915683859502,18.681179208377703,18.334359786342905,18.665938245437413,18.586525670399794,18.501629133837252,18.593296749756853,18.37819806145337,18.497526963676655,18.637886759517123,18.85076321335192,18.7475825457346,18.535377636229548,18.846601872630753,18.81057246991444,18.76737476175744,19.086486183854174,18.440368828653966,18.600021053622232,18.554416033894736,18.38728662359706,18.437120572193248,18.662253386709754,19.976194694008672,19.796419808295298,18.693570565784384,18.848304764668516,19.17136255264992,18.81486570989427,19.33771163825382,18.63869082096531,18.550416312883787,18.649059471327618,18.856015332423382,19.163028338857682,19.656688989936228,19.381344246449725,19.456844588422513,18.704087055443374,19.30354096769843,19.661629822997263,19.41569501265833,19.625804483300307,19.146326819084027,18.935881930308952,19.604625831258055,19.919491061111966,19.15551668929917,18.724300118030683,19.23811650022306,19.412258203307932,18.86725022248349,18.393168519914067,19.053015767791315,18.654828788107814,18.794903266038773,19.08338626259538,19.566804871831167,19.05908790610096,19.17028335360717,19.093581670850675,19.08147207525492,18.478646595233098,18.3011914746955,18.655052527914375,18.627678148076185,18.60377417757139,18.49279251564493,18.356207825435845,18.751737717600577,18.969166869488646,19.07167292107864,19.461873104130795,19.27896731628584,18.961884401193167,18.642607247511922,18.465129109132288,19.928823133774568,19.03667807637159,19.220373806653416,19.335285058551545,19.11059949309001,19.508103212702437,19.560204720132965,19.365867660967865,19.12824790181579,19.53019979937476,19.540489408827646,19.820800678377406,19.412160575585187,19.52743710870534,19.154285041256944,19.030985380517777,18.663452351651607,17.640893134983717,17.940403374926262,18.154697362875453,18.828334076147314,18.610989458019883,18.878406057602753,19.420766956924286,19.41899315451109,19.337343810171987,19.17767579325269,18.832637454060013,19.019840772708637,19.89226871457733,18.79162758607035,19.089433355202946,19.404517069200587,19.094765405506397,19.425769899797615,19.268257822945674,20.028065300476936,19.991061970046623,19.58430821421362,19.53163468766972,19.999129356060944,19.917517758207143,19.153869449100487,19.592720542195607,19.59502572784611,19.247156641031893,19.555974390679783,19.588178978713035,19.223960437420477,18.994426886916305,19.186421935926802,19.015779606410888,19.177856744466702,18.798204938903687,18.933860230546898,19.209783519545294,19.235636096872973,19.530028154346468,19.26242731045385,19.33221759439668,19.41645736663991,19.250911988720937,19.689380704901907,19.411530814166476,18.893038519138983,19.56299140087399,19.159316791910975,19.923290914283232,19.402631373422846,19.18910983124786,19.324349104562717,19.030766667953174,18.772716286667645,19.323882569879412,19.041276331704786,19.134058359015484,19.049861469750997,18.847722527886315,19.295250476140684,19.43300964123074,19.14330338549633,18.87193412954079,18.99264887269208,19.174651432166854,18.976279325432902,18.63555171817409,18.82217494679218,19.24646831957582,19.17513292442654,18.874361997387172,18.582171521511444,18.358926244030254,18.57292239102534,18.711611225205644,18.72083705559402,18.97075864650877,18.581814928588567,18.81227949798682,19.127571879135203,18.698829548364163,18.861976040664267,18.74653060532646,19.484035793008875,18.95694922413428,18.77755896509304,19.32787022463919,19.274473038634053,19.56249982394752,19.13061346303643,19.526876588789392,19.21322031079652,19.05997712315677,18.734024331263434,18.94122333405964,18.930359771110417,18.95558369060041,18.825307738852977,18.50325316100494,18.521775320487368,18.466235679229015,18.735192116674465,19.228273511085504,18.604165597063773,19.049703887247958,18.989768158959443,19.33501947577467,19.421130191858825,19.472260523579305,20.337017278177036,19.785421314503633,18.989910775966685,18.995052904427215,19.04893281656303,19.05362658309848,19.279785305696578,18.564931753874113,19.036023829833034,19.20405185970395,19.32658905794172,19.133189967284284,19.0061033806482,18.950014685167204,19.258052552372398,19.20489171068221,19.360737072709775,19.67634781868448,19.121904060694632,18.8069691466593,19.854345197884783,19.68317719164933,18.920924646386183,19.361424500316605,20.005683420017363,19.285334391805442,19.50022918357495,18.961706390503817,19.387638077200013,18.770961881750264,18.85198503958855,19.231340186528143,18.737378890233323,19.156433241423045,18.962781088327542,19.186589371267363,19.068716589072885,19.069223421692556,20.086094723146847,19.70364111878553,19.4770180928024,18.80590935750624,18.842241097799594,18.85273275414806,18.775286399225493,18.877681059790852,19.006871074412437,19.451721910424798,18.734784440911916,19.26799528628437,19.659264492946285,19.73519852101732,19.461614498666222,19.549872269352353,19.932963815114977,20.368096185462647,19.658159418940247,19.860115483178348,19.744230505587126,19.373993610779845,19.260555696805238,19.59629463640957,19.274695519413974,19.10917535401573,19.038517025383698,19.144524209721528,19.763026172528225,20.206250236289208,19.64935034215686,19.75578214711192,19.882732944768787,21.011142129659085,19.837657456890433,21.01302335728193,20.350759523396324,19.977761456907114,19.528307303134444,19.64337731113008,19.711333171393854,20.083840070707996,20.009568482215734,19.385723365748984,19.416475263753746,19.830654733167453,19.487148272431163,19.35041249237312,19.429619379834307,19.18328067157433,19.325962452803253,19.395654612845213,20.115960299768457,20.03759234915101,19.729790314699628,19.059523397696054,18.807945948254794,19.138864468272853,19.105764420678334,19.511960386861897,19.298891620190535,18.97891826959,19.11794743264849,19.228817047451702,19.536448991893703,19.645980612866868,19.460810972905243,19.48504222736853,19.065876436447564,19.4345720486284,19.14662119860871,18.568849564610673,19.18472230256831,19.7935455839943,18.925392894180963,18.92913873282523,19.277235581014114,19.536549392204943,19.015751248099658,18.876484968821234,19.2164604569069,19.2255389478918,19.352543656209207,19.65554511097787,18.47154835519122,19.743974827145188,19.558985084216552,19.394291354025476,19.416751182060416,19.227739059794533,19.373946448101083,19.697758842125655,19.322006203167938,19.150997675280852,20.219210124834273,19.920298898699247,19.610514932654876,19.67320181467345,19.680166772683446,19.864271012580073,19.195164712292048,18.8682142976263,19.571487282106204,17.86639435605117,18.823950863144763,18.752546814480002,18.629801919718727,18.906540884718293,19.513722967946137,19.255526849527524,19.641046645764987,19.67778597482984,19.6510841214734,19.414693192818138,19.083040385301906,19.920380760398853,19.49775613833032,20.077141205594373,19.939503787409482,20.01508327513012,19.387134856629988,19.280496683877086,19.107503384316864,19.200344943309556,19.423811221532812,19.626690454365153,19.785998094668827,19.40744081414303,19.271371101967567,20.17559771114684,19.798543473816622,19.87334439098731,20.033427216780975,19.917930313154763,19.305127753210858,19.564006902990705,19.173455170798544,19.329437762565124,19.708171089864024,19.52740483214554,19.347019859418694,18.903186606238037,19.088803393003275,19.333117291611956,19.463044697869293,19.709562446988834,19.35664171437157,19.488641443449385,20.024885433357294,19.50235109204563,19.761352989520702,19.49326187471306,18.931619367646185,18.61684511385452,19.548700280120798,19.08269483098377,18.75725434871373,19.135587917097077,19.32591954480749,19.41850217249184,19.808248438999527,19.069530997090805],\"type\":\"scatter\"}],                        {\"height\":800,\"plot_bgcolor\":\"rgba(0,0,0,0)\",\"title\":{\"text\":\"\\u0413\\u0440\\u0430\\u0444\\u0438\\u043a \\u043f\\u043e\\u043a\\u0430\\u0437\\u0430\\u0442\\u0435\\u043b\\u044f S \\u0432 \\u043f\\u043e\\u043b\\u0443\\u043b\\u043e\\u0433\\u0430\\u0440\\u0438\\u0444\\u043c\\u0438\\u0447\\u0435\\u0441\\u043a\\u043e\\u043c \\u043c\\u0430\\u0441\\u0448\\u0442\\u0430\\u0431\\u0435\",\"x\":0.5,\"xanchor\":\"center\",\"y\":0.9,\"yanchor\":\"top\"},\"width\":600,\"xaxis\":{\"title\":{\"text\":\"t, \\u0434\\u043d\\u0438\"},\"showline\":true,\"linewidth\":0.5,\"gridcolor\":\"grey\"},\"yaxis\":{\"title\":{\"text\":\"ln(S)\"},\"showline\":true,\"linewidth\":0.5,\"gridcolor\":\"grey\"},\"template\":{\"data\":{\"bar\":[{\"error_x\":{\"color\":\"#2a3f5f\"},\"error_y\":{\"color\":\"#2a3f5f\"},\"marker\":{\"line\":{\"color\":\"#E5ECF6\",\"width\":0.5},\"pattern\":{\"fillmode\":\"overlay\",\"size\":10,\"solidity\":0.2}},\"type\":\"bar\"}],\"barpolar\":[{\"marker\":{\"line\":{\"color\":\"#E5ECF6\",\"width\":0.5},\"pattern\":{\"fillmode\":\"overlay\",\"size\":10,\"solidity\":0.2}},\"type\":\"barpolar\"}],\"carpet\":[{\"aaxis\":{\"endlinecolor\":\"#2a3f5f\",\"gridcolor\":\"white\",\"linecolor\":\"white\",\"minorgridcolor\":\"white\",\"startlinecolor\":\"#2a3f5f\"},\"baxis\":{\"endlinecolor\":\"#2a3f5f\",\"gridcolor\":\"white\",\"linecolor\":\"white\",\"minorgridcolor\":\"white\",\"startlinecolor\":\"#2a3f5f\"},\"type\":\"carpet\"}],\"choropleth\":[{\"colorbar\":{\"outlinewidth\":0,\"ticks\":\"\"},\"type\":\"choropleth\"}],\"contour\":[{\"colorbar\":{\"outlinewidth\":0,\"ticks\":\"\"},\"colorscale\":[[0.0,\"#0d0887\"],[0.1111111111111111,\"#46039f\"],[0.2222222222222222,\"#7201a8\"],[0.3333333333333333,\"#9c179e\"],[0.4444444444444444,\"#bd3786\"],[0.5555555555555556,\"#d8576b\"],[0.6666666666666666,\"#ed7953\"],[0.7777777777777778,\"#fb9f3a\"],[0.8888888888888888,\"#fdca26\"],[1.0,\"#f0f921\"]],\"type\":\"contour\"}],\"contourcarpet\":[{\"colorbar\":{\"outlinewidth\":0,\"ticks\":\"\"},\"type\":\"contourcarpet\"}],\"heatmap\":[{\"colorbar\":{\"outlinewidth\":0,\"ticks\":\"\"},\"colorscale\":[[0.0,\"#0d0887\"],[0.1111111111111111,\"#46039f\"],[0.2222222222222222,\"#7201a8\"],[0.3333333333333333,\"#9c179e\"],[0.4444444444444444,\"#bd3786\"],[0.5555555555555556,\"#d8576b\"],[0.6666666666666666,\"#ed7953\"],[0.7777777777777778,\"#fb9f3a\"],[0.8888888888888888,\"#fdca26\"],[1.0,\"#f0f921\"]],\"type\":\"heatmap\"}],\"heatmapgl\":[{\"colorbar\":{\"outlinewidth\":0,\"ticks\":\"\"},\"colorscale\":[[0.0,\"#0d0887\"],[0.1111111111111111,\"#46039f\"],[0.2222222222222222,\"#7201a8\"],[0.3333333333333333,\"#9c179e\"],[0.4444444444444444,\"#bd3786\"],[0.5555555555555556,\"#d8576b\"],[0.6666666666666666,\"#ed7953\"],[0.7777777777777778,\"#fb9f3a\"],[0.8888888888888888,\"#fdca26\"],[1.0,\"#f0f921\"]],\"type\":\"heatmapgl\"}],\"histogram\":[{\"marker\":{\"pattern\":{\"fillmode\":\"overlay\",\"size\":10,\"solidity\":0.2}},\"type\":\"histogram\"}],\"histogram2d\":[{\"colorbar\":{\"outlinewidth\":0,\"ticks\":\"\"},\"colorscale\":[[0.0,\"#0d0887\"],[0.1111111111111111,\"#46039f\"],[0.2222222222222222,\"#7201a8\"],[0.3333333333333333,\"#9c179e\"],[0.4444444444444444,\"#bd3786\"],[0.5555555555555556,\"#d8576b\"],[0.6666666666666666,\"#ed7953\"],[0.7777777777777778,\"#fb9f3a\"],[0.8888888888888888,\"#fdca26\"],[1.0,\"#f0f921\"]],\"type\":\"histogram2d\"}],\"histogram2dcontour\":[{\"colorbar\":{\"outlinewidth\":0,\"ticks\":\"\"},\"colorscale\":[[0.0,\"#0d0887\"],[0.1111111111111111,\"#46039f\"],[0.2222222222222222,\"#7201a8\"],[0.3333333333333333,\"#9c179e\"],[0.4444444444444444,\"#bd3786\"],[0.5555555555555556,\"#d8576b\"],[0.6666666666666666,\"#ed7953\"],[0.7777777777777778,\"#fb9f3a\"],[0.8888888888888888,\"#fdca26\"],[1.0,\"#f0f921\"]],\"type\":\"histogram2dcontour\"}],\"mesh3d\":[{\"colorbar\":{\"outlinewidth\":0,\"ticks\":\"\"},\"type\":\"mesh3d\"}],\"parcoords\":[{\"line\":{\"colorbar\":{\"outlinewidth\":0,\"ticks\":\"\"}},\"type\":\"parcoords\"}],\"pie\":[{\"automargin\":true,\"type\":\"pie\"}],\"scatter\":[{\"marker\":{\"colorbar\":{\"outlinewidth\":0,\"ticks\":\"\"}},\"type\":\"scatter\"}],\"scatter3d\":[{\"line\":{\"colorbar\":{\"outlinewidth\":0,\"ticks\":\"\"}},\"marker\":{\"colorbar\":{\"outlinewidth\":0,\"ticks\":\"\"}},\"type\":\"scatter3d\"}],\"scattercarpet\":[{\"marker\":{\"colorbar\":{\"outlinewidth\":0,\"ticks\":\"\"}},\"type\":\"scattercarpet\"}],\"scattergeo\":[{\"marker\":{\"colorbar\":{\"outlinewidth\":0,\"ticks\":\"\"}},\"type\":\"scattergeo\"}],\"scattergl\":[{\"marker\":{\"colorbar\":{\"outlinewidth\":0,\"ticks\":\"\"}},\"type\":\"scattergl\"}],\"scattermapbox\":[{\"marker\":{\"colorbar\":{\"outlinewidth\":0,\"ticks\":\"\"}},\"type\":\"scattermapbox\"}],\"scatterpolar\":[{\"marker\":{\"colorbar\":{\"outlinewidth\":0,\"ticks\":\"\"}},\"type\":\"scatterpolar\"}],\"scatterpolargl\":[{\"marker\":{\"colorbar\":{\"outlinewidth\":0,\"ticks\":\"\"}},\"type\":\"scatterpolargl\"}],\"scatterternary\":[{\"marker\":{\"colorbar\":{\"outlinewidth\":0,\"ticks\":\"\"}},\"type\":\"scatterternary\"}],\"surface\":[{\"colorbar\":{\"outlinewidth\":0,\"ticks\":\"\"},\"colorscale\":[[0.0,\"#0d0887\"],[0.1111111111111111,\"#46039f\"],[0.2222222222222222,\"#7201a8\"],[0.3333333333333333,\"#9c179e\"],[0.4444444444444444,\"#bd3786\"],[0.5555555555555556,\"#d8576b\"],[0.6666666666666666,\"#ed7953\"],[0.7777777777777778,\"#fb9f3a\"],[0.8888888888888888,\"#fdca26\"],[1.0,\"#f0f921\"]],\"type\":\"surface\"}],\"table\":[{\"cells\":{\"fill\":{\"color\":\"#EBF0F8\"},\"line\":{\"color\":\"white\"}},\"header\":{\"fill\":{\"color\":\"#C8D4E3\"},\"line\":{\"color\":\"white\"}},\"type\":\"table\"}]},\"layout\":{\"annotationdefaults\":{\"arrowcolor\":\"#2a3f5f\",\"arrowhead\":0,\"arrowwidth\":1},\"autotypenumbers\":\"strict\",\"coloraxis\":{\"colorbar\":{\"outlinewidth\":0,\"ticks\":\"\"}},\"colorscale\":{\"diverging\":[[0,\"#8e0152\"],[0.1,\"#c51b7d\"],[0.2,\"#de77ae\"],[0.3,\"#f1b6da\"],[0.4,\"#fde0ef\"],[0.5,\"#f7f7f7\"],[0.6,\"#e6f5d0\"],[0.7,\"#b8e186\"],[0.8,\"#7fbc41\"],[0.9,\"#4d9221\"],[1,\"#276419\"]],\"sequential\":[[0.0,\"#0d0887\"],[0.1111111111111111,\"#46039f\"],[0.2222222222222222,\"#7201a8\"],[0.3333333333333333,\"#9c179e\"],[0.4444444444444444,\"#bd3786\"],[0.5555555555555556,\"#d8576b\"],[0.6666666666666666,\"#ed7953\"],[0.7777777777777778,\"#fb9f3a\"],[0.8888888888888888,\"#fdca26\"],[1.0,\"#f0f921\"]],\"sequentialminus\":[[0.0,\"#0d0887\"],[0.1111111111111111,\"#46039f\"],[0.2222222222222222,\"#7201a8\"],[0.3333333333333333,\"#9c179e\"],[0.4444444444444444,\"#bd3786\"],[0.5555555555555556,\"#d8576b\"],[0.6666666666666666,\"#ed7953\"],[0.7777777777777778,\"#fb9f3a\"],[0.8888888888888888,\"#fdca26\"],[1.0,\"#f0f921\"]]},\"colorway\":[\"#636efa\",\"#EF553B\",\"#00cc96\",\"#ab63fa\",\"#FFA15A\",\"#19d3f3\",\"#FF6692\",\"#B6E880\",\"#FF97FF\",\"#FECB52\"],\"font\":{\"color\":\"#2a3f5f\"},\"geo\":{\"bgcolor\":\"white\",\"lakecolor\":\"white\",\"landcolor\":\"#E5ECF6\",\"showlakes\":true,\"showland\":true,\"subunitcolor\":\"white\"},\"hoverlabel\":{\"align\":\"left\"},\"hovermode\":\"closest\",\"mapbox\":{\"style\":\"light\"},\"paper_bgcolor\":\"white\",\"plot_bgcolor\":\"#E5ECF6\",\"polar\":{\"angularaxis\":{\"gridcolor\":\"white\",\"linecolor\":\"white\",\"ticks\":\"\"},\"bgcolor\":\"#E5ECF6\",\"radialaxis\":{\"gridcolor\":\"white\",\"linecolor\":\"white\",\"ticks\":\"\"}},\"scene\":{\"xaxis\":{\"backgroundcolor\":\"#E5ECF6\",\"gridcolor\":\"white\",\"gridwidth\":2,\"linecolor\":\"white\",\"showbackground\":true,\"ticks\":\"\",\"zerolinecolor\":\"white\"},\"yaxis\":{\"backgroundcolor\":\"#E5ECF6\",\"gridcolor\":\"white\",\"gridwidth\":2,\"linecolor\":\"white\",\"showbackground\":true,\"ticks\":\"\",\"zerolinecolor\":\"white\"},\"zaxis\":{\"backgroundcolor\":\"#E5ECF6\",\"gridcolor\":\"white\",\"gridwidth\":2,\"linecolor\":\"white\",\"showbackground\":true,\"ticks\":\"\",\"zerolinecolor\":\"white\"}},\"shapedefaults\":{\"line\":{\"color\":\"#2a3f5f\"}},\"ternary\":{\"aaxis\":{\"gridcolor\":\"white\",\"linecolor\":\"white\",\"ticks\":\"\"},\"baxis\":{\"gridcolor\":\"white\",\"linecolor\":\"white\",\"ticks\":\"\"},\"bgcolor\":\"#E5ECF6\",\"caxis\":{\"gridcolor\":\"white\",\"linecolor\":\"white\",\"ticks\":\"\"}},\"title\":{\"x\":0.05},\"xaxis\":{\"automargin\":true,\"gridcolor\":\"white\",\"linecolor\":\"white\",\"ticks\":\"\",\"title\":{\"standoff\":15},\"zerolinecolor\":\"white\",\"zerolinewidth\":2},\"yaxis\":{\"automargin\":true,\"gridcolor\":\"white\",\"linecolor\":\"white\",\"ticks\":\"\",\"title\":{\"standoff\":15},\"zerolinecolor\":\"white\",\"zerolinewidth\":2}}},\"shapes\":[{\"fillcolor\":\"goldenrod\",\"opacity\":0.2,\"type\":\"rect\",\"x0\":222,\"x1\":324,\"y0\":17,\"y1\":21.2},{\"fillcolor\":\"goldenrod\",\"opacity\":0.2,\"type\":\"rect\",\"x0\":564,\"x1\":620,\"y0\":17,\"y1\":21.2},{\"fillcolor\":\"goldenrod\",\"opacity\":0.2,\"type\":\"rect\",\"x0\":1048,\"x1\":1156,\"y0\":17,\"y1\":21.2}]},                        {\"responsive\": true}                    ).then(function(){\n",
              "                            \n",
              "var gd = document.getElementById('923d9e98-b75f-4156-ac96-bef69f4ad327');\n",
              "var x = new MutationObserver(function (mutations, observer) {{\n",
              "        var display = window.getComputedStyle(gd).display;\n",
              "        if (!display || display === 'none') {{\n",
              "            console.log([gd, 'removed!']);\n",
              "            Plotly.purge(gd);\n",
              "            observer.disconnect();\n",
              "        }}\n",
              "}});\n",
              "\n",
              "// Listen for the removal of the full notebook cells\n",
              "var notebookContainer = gd.closest('#notebook-container');\n",
              "if (notebookContainer) {{\n",
              "    x.observe(notebookContainer, {childList: true});\n",
              "}}\n",
              "\n",
              "// Listen for the clearing of the current output cell\n",
              "var outputEl = gd.closest('.output');\n",
              "if (outputEl) {{\n",
              "    x.observe(outputEl, {childList: true});\n",
              "}}\n",
              "\n",
              "                        })                };                            </script>        </div>\n",
              "</body>\n",
              "</html>"
            ]
          },
          "metadata": {}
        }
      ],
      "source": [
        "_layout = go.Layout(\n",
        "    title={\n",
        "        'text': 'График показателя S в полулогарифмическом масштабе',\n",
        "        'y':0.9,\n",
        "        'x':0.5,\n",
        "        'xanchor': 'center',\n",
        "        'yanchor': 'top'},\n",
        "    yaxis_title='ln(S)',\n",
        "    xaxis_title='t, дни',\n",
        "    width=600,\n",
        "    height=800,\n",
        "    plot_bgcolor='rgba(0,0,0,0)'\n",
        ")\n",
        "\n",
        "fig = go.Figure([go.Scatter(x=day_list.iloc[221:1157], y=S.iloc[221:1157], line=dict(color='LightSeaGreen', width=1.5))], \n",
        "                layout=_layout)\n",
        "\n",
        "fig = addline(fig, type= \"r\", y0=17, y1=21.2, x0=day_list.iloc[222], x1=day_list.iloc[324])\n",
        "fig = addline(fig, type= \"r\", y0=17, y1=21.2, x0=day_list.iloc[564], x1=day_list.iloc[620])\n",
        "# fig = addline(fig, type= \"r\", y0=17, y1=21.2, x0=day_list[866], x1=day_list[933])\n",
        "fig = addline(fig, type= \"r\", y0=17, y1=21.2, x0=day_list.iloc[1048], x1=day_list.iloc[1156])\n",
        "\n",
        "fig.update_xaxes(showline=True, linewidth=0.5, gridcolor='grey')\n",
        "fig.update_yaxes(showline=True, linewidth=0.5, gridcolor='grey')\n",
        "\n",
        "fig.show()"
      ]
    },
    {
      "cell_type": "markdown",
      "metadata": {
        "id": "wMjfPAOvTAWj"
      },
      "source": [
        "2. Темпы роста"
      ]
    },
    {
      "cell_type": "code",
      "execution_count": 71,
      "metadata": {
        "id": "9rkqnR7YL1RF"
      },
      "outputs": [],
      "source": [
        "def k_rates_growth(S, t1, t2):\n",
        "  return (log(S.iloc[t2] / S.iloc[t1])) / (t2 - t1)\n",
        "\n",
        "def process_time(k):\n",
        "  return 1 / k"
      ]
    },
    {
      "cell_type": "code",
      "execution_count": 72,
      "metadata": {
        "id": "ACLBX3cfTiVI",
        "colab": {
          "base_uri": "https://localhost:8080/"
        },
        "outputId": "366b86d1-568a-4080-e68b-4cb0e02d1fa9"
      },
      "outputs": [
        {
          "output_type": "stream",
          "name": "stdout",
          "text": [
            "Темп роста на 1 участке: -0.0004491\n",
            "Характерное время процесса: -2226.46376\n",
            "\n",
            "Темп роста на 2 участке: 0.0002119\n",
            "Характерное время процесса: 4720.18326\n",
            "\n",
            "Темп роста на 3 участке: -0.0004585\n",
            "Характерное время процесса: -2181.01182\n",
            "\n",
            "Темп роста на 4 участке: 0.0004730\n",
            "Характерное время процесса: 2114.02402\n",
            "\n",
            "Темп роста на 5 участке: 0.0003316\n",
            "Характерное время процесса: 3015.49059\n",
            "\n"
          ]
        }
      ],
      "source": [
        "t_dict = [[222, 324], [564, 620], [1048, 1156], [1608, 1785], [2048, 2126]]\n",
        "\n",
        "for i in range(5):\n",
        "  k = k_rates_growth(S, t_dict[i][0], t_dict[i][1])\n",
        "  print('Темп роста на {} участке: {:.7f}'.format(i+1, k))\n",
        "  print('Характерное время процесса: {:.5f}\\n'.format(process_time(k)))"
      ]
    },
    {
      "cell_type": "markdown",
      "metadata": {
        "id": "YyHG18dG7hDw"
      },
      "source": [
        "Длинные участки не брать, взяьб поменьше, рассмотреть отдельно"
      ]
    },
    {
      "cell_type": "markdown",
      "metadata": {
        "id": "IZvj8qqnV7J5"
      },
      "source": [
        "### Задание 3\n",
        "Определить, насколько каждая фирма соответствует структуре развития отрасли в целом. Для этого изобразить на одном графике в полулогарифмическом масштабе агрегированные характеристики фирм и интегральную характеристику всей отрасли. Существуют ли компании, которые живут по другим ритмам?"
      ]
    },
    {
      "cell_type": "code",
      "execution_count": 73,
      "metadata": {
        "id": "_1V3eqekmpd2"
      },
      "outputs": [],
      "source": [
        "# local_chars = pd.Series(chars)\n",
        "# local_S = pd.Series(S)\n",
        "# local_day = pd.Series(day_list)"
      ]
    },
    {
      "cell_type": "code",
      "execution_count": 74,
      "metadata": {
        "id": "Yp5ufmv08_PP",
        "outputId": "1e28912b-74dc-43e8-d7a2-aa751cebae1d",
        "colab": {
          "base_uri": "https://localhost:8080/",
          "height": 87
        }
      },
      "outputs": [
        {
          "output_type": "execute_result",
          "data": {
            "text/plain": [
              "'\\nfor i in range(CONST_COUNT):\\n  for j in range(CONST_SIZE):\\n    chars[i][j] = Decimal(chars[i][j]).ln()\\n\\nlocal_chars = chars\\n\\nfor i in range(CONST_SIZE):\\n  local_chars[0][i] = local_chars[0][i] + Decimal(0.6)\\n  local_chars[1][i] = local_chars[1][i] - Decimal(9)\\n  local_chars[2][i] = local_chars[2][i] - Decimal(9.5)\\n  local_chars[3][i] = local_chars[3][i] - Decimal(21)\\n  local_chars[4][i] = local_chars[4][i] - Decimal(22)\\n  local_chars[5][i] = local_chars[5][i] - Decimal(31)\\n  local_chars[6][i] = local_chars[6][i] - Decimal(40)\\n\\n'"
            ],
            "application/vnd.google.colaboratory.intrinsic+json": {
              "type": "string"
            }
          },
          "metadata": {},
          "execution_count": 74
        }
      ],
      "source": [
        "'''\n",
        "for i in range(CONST_COUNT):\n",
        "  for j in range(CONST_SIZE):\n",
        "    chars[i][j] = Decimal(chars[i][j]).ln()\n",
        "\n",
        "local_chars = chars\n",
        "\n",
        "for i in range(CONST_SIZE):\n",
        "  local_chars[0][i] = local_chars[0][i] + Decimal(0.6)\n",
        "  local_chars[1][i] = local_chars[1][i] - Decimal(9)\n",
        "  local_chars[2][i] = local_chars[2][i] - Decimal(9.5)\n",
        "  local_chars[3][i] = local_chars[3][i] - Decimal(21)\n",
        "  local_chars[4][i] = local_chars[4][i] - Decimal(22)\n",
        "  local_chars[5][i] = local_chars[5][i] - Decimal(31)\n",
        "  local_chars[6][i] = local_chars[6][i] - Decimal(40)\n",
        "\n",
        "'''"
      ]
    },
    {
      "cell_type": "code",
      "source": [
        "local_chars = pd.DataFrame()\n",
        "help_list = []\n",
        "\n",
        "for name in names:\n",
        "  for i in range(length_df_char):\n",
        "    help_list.append(log(df_char[name + '_aggr'].iloc[i]))\n",
        "  \n",
        "  j = 0\n",
        "  local_chars.insert(j, 'ln_' + name, help_list)\n",
        "  j += 1"
      ],
      "metadata": {
        "colab": {
          "base_uri": "https://localhost:8080/",
          "height": 363
        },
        "id": "ci8tDWfuuXqe",
        "outputId": "7568edf2-a670-417f-f23a-b13144a4d8be"
      },
      "execution_count": null,
      "outputs": [
        {
          "output_type": "error",
          "ename": "ValueError",
          "evalue": "ignored",
          "traceback": [
            "\u001b[0;31m---------------------------------------------------------------------------\u001b[0m",
            "\u001b[0;31mValueError\u001b[0m                                Traceback (most recent call last)",
            "\u001b[0;32m<ipython-input-38-6751e8067f08>\u001b[0m in \u001b[0;36m<module>\u001b[0;34m()\u001b[0m\n\u001b[1;32m      7\u001b[0m \u001b[0;34m\u001b[0m\u001b[0m\n\u001b[1;32m      8\u001b[0m   \u001b[0mj\u001b[0m \u001b[0;34m=\u001b[0m \u001b[0;36m0\u001b[0m\u001b[0;34m\u001b[0m\u001b[0;34m\u001b[0m\u001b[0m\n\u001b[0;32m----> 9\u001b[0;31m   \u001b[0mlocal_chars\u001b[0m\u001b[0;34m.\u001b[0m\u001b[0minsert\u001b[0m\u001b[0;34m(\u001b[0m\u001b[0mj\u001b[0m\u001b[0;34m,\u001b[0m \u001b[0;34m'ln_'\u001b[0m \u001b[0;34m+\u001b[0m \u001b[0mname\u001b[0m\u001b[0;34m,\u001b[0m \u001b[0mhelp_list\u001b[0m\u001b[0;34m)\u001b[0m\u001b[0;34m\u001b[0m\u001b[0;34m\u001b[0m\u001b[0m\n\u001b[0m\u001b[1;32m     10\u001b[0m   \u001b[0mj\u001b[0m \u001b[0;34m+=\u001b[0m \u001b[0;36m1\u001b[0m\u001b[0;34m\u001b[0m\u001b[0;34m\u001b[0m\u001b[0m\n",
            "\u001b[0;32m/usr/local/lib/python3.7/dist-packages/pandas/core/frame.py\u001b[0m in \u001b[0;36minsert\u001b[0;34m(self, loc, column, value, allow_duplicates)\u001b[0m\n\u001b[1;32m   4416\u001b[0m             \u001b[0;32mraise\u001b[0m \u001b[0mTypeError\u001b[0m\u001b[0;34m(\u001b[0m\u001b[0;34m\"loc must be int\"\u001b[0m\u001b[0;34m)\u001b[0m\u001b[0;34m\u001b[0m\u001b[0;34m\u001b[0m\u001b[0m\n\u001b[1;32m   4417\u001b[0m \u001b[0;34m\u001b[0m\u001b[0m\n\u001b[0;32m-> 4418\u001b[0;31m         \u001b[0mvalue\u001b[0m \u001b[0;34m=\u001b[0m \u001b[0mself\u001b[0m\u001b[0;34m.\u001b[0m\u001b[0m_sanitize_column\u001b[0m\u001b[0;34m(\u001b[0m\u001b[0mvalue\u001b[0m\u001b[0;34m)\u001b[0m\u001b[0;34m\u001b[0m\u001b[0;34m\u001b[0m\u001b[0m\n\u001b[0m\u001b[1;32m   4419\u001b[0m         \u001b[0mself\u001b[0m\u001b[0;34m.\u001b[0m\u001b[0m_mgr\u001b[0m\u001b[0;34m.\u001b[0m\u001b[0minsert\u001b[0m\u001b[0;34m(\u001b[0m\u001b[0mloc\u001b[0m\u001b[0;34m,\u001b[0m \u001b[0mcolumn\u001b[0m\u001b[0;34m,\u001b[0m \u001b[0mvalue\u001b[0m\u001b[0;34m)\u001b[0m\u001b[0;34m\u001b[0m\u001b[0;34m\u001b[0m\u001b[0m\n\u001b[1;32m   4420\u001b[0m \u001b[0;34m\u001b[0m\u001b[0m\n",
            "\u001b[0;32m/usr/local/lib/python3.7/dist-packages/pandas/core/frame.py\u001b[0m in \u001b[0;36m_sanitize_column\u001b[0;34m(self, value)\u001b[0m\n\u001b[1;32m   4507\u001b[0m \u001b[0;34m\u001b[0m\u001b[0m\n\u001b[1;32m   4508\u001b[0m         \u001b[0;32mif\u001b[0m \u001b[0mis_list_like\u001b[0m\u001b[0;34m(\u001b[0m\u001b[0mvalue\u001b[0m\u001b[0;34m)\u001b[0m\u001b[0;34m:\u001b[0m\u001b[0;34m\u001b[0m\u001b[0;34m\u001b[0m\u001b[0m\n\u001b[0;32m-> 4509\u001b[0;31m             \u001b[0mcom\u001b[0m\u001b[0;34m.\u001b[0m\u001b[0mrequire_length_match\u001b[0m\u001b[0;34m(\u001b[0m\u001b[0mvalue\u001b[0m\u001b[0;34m,\u001b[0m \u001b[0mself\u001b[0m\u001b[0;34m.\u001b[0m\u001b[0mindex\u001b[0m\u001b[0;34m)\u001b[0m\u001b[0;34m\u001b[0m\u001b[0;34m\u001b[0m\u001b[0m\n\u001b[0m\u001b[1;32m   4510\u001b[0m         \u001b[0;32mreturn\u001b[0m \u001b[0msanitize_array\u001b[0m\u001b[0;34m(\u001b[0m\u001b[0mvalue\u001b[0m\u001b[0;34m,\u001b[0m \u001b[0mself\u001b[0m\u001b[0;34m.\u001b[0m\u001b[0mindex\u001b[0m\u001b[0;34m,\u001b[0m \u001b[0mcopy\u001b[0m\u001b[0;34m=\u001b[0m\u001b[0;32mTrue\u001b[0m\u001b[0;34m,\u001b[0m \u001b[0mallow_2d\u001b[0m\u001b[0;34m=\u001b[0m\u001b[0;32mTrue\u001b[0m\u001b[0;34m)\u001b[0m\u001b[0;34m\u001b[0m\u001b[0;34m\u001b[0m\u001b[0m\n\u001b[1;32m   4511\u001b[0m \u001b[0;34m\u001b[0m\u001b[0m\n",
            "\u001b[0;32m/usr/local/lib/python3.7/dist-packages/pandas/core/common.py\u001b[0m in \u001b[0;36mrequire_length_match\u001b[0;34m(data, index)\u001b[0m\n\u001b[1;32m    530\u001b[0m     \u001b[0;32mif\u001b[0m \u001b[0mlen\u001b[0m\u001b[0;34m(\u001b[0m\u001b[0mdata\u001b[0m\u001b[0;34m)\u001b[0m \u001b[0;34m!=\u001b[0m \u001b[0mlen\u001b[0m\u001b[0;34m(\u001b[0m\u001b[0mindex\u001b[0m\u001b[0;34m)\u001b[0m\u001b[0;34m:\u001b[0m\u001b[0;34m\u001b[0m\u001b[0;34m\u001b[0m\u001b[0m\n\u001b[1;32m    531\u001b[0m         raise ValueError(\n\u001b[0;32m--> 532\u001b[0;31m             \u001b[0;34m\"Length of values \"\u001b[0m\u001b[0;34m\u001b[0m\u001b[0;34m\u001b[0m\u001b[0m\n\u001b[0m\u001b[1;32m    533\u001b[0m             \u001b[0;34mf\"({len(data)}) \"\u001b[0m\u001b[0;34m\u001b[0m\u001b[0;34m\u001b[0m\u001b[0m\n\u001b[1;32m    534\u001b[0m             \u001b[0;34m\"does not match length of index \"\u001b[0m\u001b[0;34m\u001b[0m\u001b[0;34m\u001b[0m\u001b[0m\n",
            "\u001b[0;31mValueError\u001b[0m: Length of values (5330) does not match length of index (2665)"
          ]
        }
      ]
    },
    {
      "cell_type": "code",
      "source": [
        "go.Scatter(x=day_list, y=local_chars[1], line=dict(color='#CAB39F', width=1.5), name='Anheuser-Busch InBev'),\n",
        "                 go.Scatter(x=day_list, y=local_chars[2], line=dict(color='#56B4E9', width=1.5), name='Carlsberg'),\n",
        "                 go.Scatter(x=day_list, y=local_chars[3], line=dict(color='#afff10', width=1.5), name='Brown-Forman'),\n",
        "                 go.Scatter(x=day_list, y=local_chars[4], line=dict(color='#f498c2', width=1.5), name='Asahi'),\n",
        "                 go.Scatter(x=day_list, y=local_chars[5], line=dict(color='grey', width=1.5), name='Pernod Ricard'),\n",
        "                 go.Scatter(x=day_list, y=local_chars[6], line=dict(color='#ffcaaf', width=1.5), name='Compañía Cervecerías Unidas')\n",
        "                 "
      ],
      "metadata": {
        "id": "34_WRTdiuV_a"
      },
      "execution_count": null,
      "outputs": []
    },
    {
      "cell_type": "code",
      "execution_count": null,
      "metadata": {
        "id": "7pGhx5wmV9EC"
      },
      "outputs": [],
      "source": [
        "_layout = go.Layout(\n",
        "    title={\n",
        "        'text': 'Сравнение интегральной характеристики S с агрегированными характеристиками фирм (1/y)',\n",
        "        'y':0.9,\n",
        "        'x':0.5,\n",
        "        'xanchor': 'center',\n",
        "        'yanchor': 'top'},\n",
        "    yaxis_title='ln(Close * Volume) - 5',\n",
        "    xaxis_title='t, дни',\n",
        "    width=1000,\n",
        "    height=700,\n",
        "    plot_bgcolor='rgba(0,0,0,0)'\n",
        ")\n",
        "\n",
        "fig = go.Figure([\n",
        "                 go.Scatter(x=day_list, y=S, line=dict(color='LightSeaGreen', width=1.5), name='S'),\n",
        "                 go.Scatter(x=day_list, y=pd.Series(df_char['heineken_aggr']+0.6), line=dict(color='goldenrod', width=1.5), name='Heineken'),\n",
        "                 ], layout=_layout)\n",
        "\n",
        "fig.update_xaxes(showline=True, linewidth=0.5, gridcolor='grey')\n",
        "fig.update_yaxes(showline=True, linewidth=0.5, gridcolor='grey')\n",
        "\n",
        "fig.show()"
      ]
    },
    {
      "cell_type": "markdown",
      "metadata": {
        "id": "SdEgiYb0YWMy"
      },
      "source": [
        "### Задание 4\n",
        "Необходимо рассмотреть данные в аллометрической системе координат. Построить графики, где по оси абсцисс – натуральный логарифм интегральной характеристики (S), по оси ординат – натуральный логарифм агрегированного показателя фирмы. Выяснить, какие компании развиваются по общему закону, какие опережают отрасль, а какие отстают."
      ]
    },
    {
      "cell_type": "markdown",
      "metadata": {
        "id": "Rci699xj9DZO"
      },
      "source": [
        "Квадратные графики, попробовать кум. сумму сделать "
      ]
    },
    {
      "cell_type": "code",
      "source": [
        "'''\n",
        "for i in range(CONST_COUNT):\n",
        "  for j in range(CONST_SIZE):\n",
        "    chars_to_cum[i][j] = log(chars_to_cum[i][j])\n",
        "'''"
      ],
      "metadata": {
        "id": "z9A1y8QoP0i0"
      },
      "execution_count": null,
      "outputs": []
    },
    {
      "cell_type": "code",
      "execution_count": null,
      "metadata": {
        "id": "03iXDqPuG7dM"
      },
      "outputs": [],
      "source": [
        "df_comp = pd.DataFrame(chars)"
      ]
    },
    {
      "cell_type": "code",
      "execution_count": null,
      "metadata": {
        "id": "sC2QJTPBHz-S"
      },
      "outputs": [],
      "source": [
        "df_comp = df_comp.transpose()"
      ]
    },
    {
      "cell_type": "code",
      "execution_count": null,
      "metadata": {
        "id": "O517N4YzIu-W"
      },
      "outputs": [],
      "source": [
        "df_comp = df_comp.rename({0: 'Heineken', 1: 'Anheuser-Busch InBev',\n",
        "                2: 'Carlsberg', 3: 'Brown-Forman',\n",
        "                4: 'Asahi', 5: 'Pernod Ricard',\n",
        "                6: 'Compañía Cervecerías Unidas'}, axis='columns')"
      ]
    },
    {
      "cell_type": "code",
      "source": [
        "for i in range(CONST_SIZE):\n",
        "  cum_Heineken = df_comp['Heineken'].astype(float).cumsum()\n",
        "  cum_AnhBusch = df_comp['Anheuser-Busch InBev'].astype(float).cumsum()\n",
        "  cum_Carlsberg = df_comp['Carlsberg'].astype(float).cumsum()\n",
        "  cum_BrownForman = df_comp['Brown-Forman'].astype(float).cumsum()\n",
        "  cum_Asahi = df_comp['Asahi'].astype(float).cumsum()\n",
        "  cum_PerRic = df_comp['Pernod Ricard'].astype(float).cumsum()\n",
        "  cum_CompCer = df_comp['Compañía Cervecerías Unidas'].astype(float).cumsum()"
      ],
      "metadata": {
        "id": "SIXH9btoB9Ls"
      },
      "execution_count": null,
      "outputs": []
    },
    {
      "cell_type": "code",
      "source": [
        "cum_AnhBusch"
      ],
      "metadata": {
        "id": "oRlFv73HSp2i"
      },
      "execution_count": null,
      "outputs": []
    },
    {
      "cell_type": "code",
      "execution_count": null,
      "metadata": {
        "id": "TG9DvahZJn2z"
      },
      "outputs": [],
      "source": [
        "'''\n",
        "companies = ['Heineken', 'Anheuser-Busch InBev', 'Carlsberg', 'Brown-Forman',\n",
        "             'Asahi', 'Pernod Ricard', 'Compañía Cervecerías Unidas']\n",
        "'''"
      ]
    },
    {
      "cell_type": "code",
      "source": [
        "fig = make_subplots(\n",
        "    rows=3, cols=3,\n",
        "    subplot_titles=('Heineken', 'Anheuser-Busch InBev', 'Carlsberg', 'Brown-Forman',\n",
        "                   'Asahi', 'Pernod Ricard', 'Compañía Cervecerías Unidas'))\n",
        "\n",
        "x_trace = S\n",
        "clr = 'darkblue'\n",
        "\n",
        "fig.add_trace(go.Scatter(x=x_trace, y=cum_Heineken, mode='markers', marker=dict(color=clr)), row=1, col=1)\n",
        "fig.add_trace(go.Scatter(x=x_trace, y=cum_AnhBusch, mode='markers', marker=dict(color=clr)), row=1, col=2)\n",
        "fig.add_trace(go.Scatter(x=x_trace, y=cum_Carlsberg, mode='markers', marker=dict(color=clr)), row=1, col=3)\n",
        "fig.add_trace(go.Scatter(x=x_trace, y=cum_BrownForman, mode='markers', marker=dict(color=clr)), row=2, col=1)\n",
        "fig.add_trace(go.Scatter(x=x_trace, y=cum_Asahi, mode='markers', marker=dict(color=clr)), row=2, col=2)\n",
        "fig.add_trace(go.Scatter(x=x_trace, y=cum_PerRic, mode='markers', marker=dict(color=clr)), row=2, col=3)\n",
        "fig.add_trace(go.Scatter(x=x_trace, y=cum_CompCer, mode='markers', marker=dict(color=clr)), row=3, col=1)\n",
        "\n",
        "fig.update_layout(\n",
        "    width=800,\n",
        "    height=800,\n",
        "    plot_bgcolor='rgba(0,0,0,0)',\n",
        "    title={\n",
        "          'text': 'Данные в аллометрической системе координат',\n",
        "          'xanchor': 'left'},\n",
        "    showlegend=False)\n",
        "\n",
        "fig.update_xaxes(showline=True, linewidth=0.5, gridcolor='grey')\n",
        "fig.update_yaxes(showline=True, linewidth=0.5, gridcolor='grey')\n",
        "\n",
        "fig.show()"
      ],
      "metadata": {
        "id": "MaHaZ_tzSM_4"
      },
      "execution_count": null,
      "outputs": []
    },
    {
      "cell_type": "code",
      "source": [
        "_layout = go.Layout(\n",
        "    title={\n",
        "        'text': 'Данные в аллометрической системе координат',\n",
        "        'y':0.9,\n",
        "        'x':0.5,\n",
        "        'xanchor': 'center',\n",
        "        'yanchor': 'top'},\n",
        "    yaxis_title='ln(Compañía_Close * Compañía_Volume)',\n",
        "    xaxis_title='ln(S)',\n",
        "    width=700,\n",
        "    height=700,\n",
        "    plot_bgcolor='rgba(0,0,0,0)'\n",
        ")\n",
        "\n",
        "fig = go.Figure([go.Scatter(x=S, y=cum_CompCer, mode='markers', marker=dict(color='darkblue'))], layout=_layout)\n",
        "\n",
        "fig.update_xaxes(showline=True, linewidth=0.5, gridcolor='grey')\n",
        "fig.update_yaxes(showline=True, linewidth=0.5, gridcolor='grey')\n",
        "\n",
        "fig.show()"
      ],
      "metadata": {
        "id": "7H3gmbX6S9UL"
      },
      "execution_count": null,
      "outputs": []
    },
    {
      "cell_type": "markdown",
      "metadata": {
        "id": "zYP6o0I4NrJ7"
      },
      "source": [
        "https://plotly.com/python/subplots/"
      ]
    },
    {
      "cell_type": "code",
      "source": [
        "_layout = go.Layout(\n",
        "    title={\n",
        "        'text': 'Данные в аллометрической системе координат',\n",
        "        'y':0.9,\n",
        "        'x':0.5,\n",
        "        'xanchor': 'center',\n",
        "        'yanchor': 'top'},\n",
        "    yaxis_title='ln(Compañía_Close * Compañía_Volume)',\n",
        "    xaxis_title='ln(S)',\n",
        "    width=700,\n",
        "    height=700,\n",
        "    plot_bgcolor='rgba(0,0,0,0)'\n",
        ")\n",
        "\n",
        "fig = go.Figure([go.Scatter(x=S, y=chars[6], mode='markers', marker=dict(color='darkblue'))], layout=_layout)\n",
        "\n",
        "fig.update_xaxes(showline=True, linewidth=0.5, gridcolor='grey')\n",
        "fig.update_yaxes(showline=True, linewidth=0.5, gridcolor='grey')\n",
        "\n",
        "fig.show()"
      ],
      "metadata": {
        "id": "gg0ZFSrC3JTq"
      },
      "execution_count": null,
      "outputs": []
    },
    {
      "cell_type": "code",
      "execution_count": null,
      "metadata": {
        "id": "LXk4S5qkYjoh"
      },
      "outputs": [],
      "source": [
        "fig = make_subplots(\n",
        "    rows=3, cols=3,\n",
        "    subplot_titles=('Heineken', 'Anheuser-Busch InBev', 'Carlsberg', 'Brown-Forman',\n",
        "                   'Asahi', 'Pernod Ricard', 'Compañía Cervecerías Unidas'))\n",
        "\n",
        "x_trace = S\n",
        "clr = 'darkblue'\n",
        "\n",
        "fig.add_trace(go.Scatter(x=x_trace, y=chars[0], mode='markers', marker=dict(color=clr)), row=1, col=1)\n",
        "fig.add_trace(go.Scatter(x=x_trace, y=chars[1], mode='markers', marker=dict(color=clr)), row=1, col=2)\n",
        "fig.add_trace(go.Scatter(x=x_trace, y=chars[2], mode='markers', marker=dict(color=clr)), row=1, col=3)\n",
        "fig.add_trace(go.Scatter(x=x_trace, y=chars[3], mode='markers', marker=dict(color=clr)), row=2, col=1)\n",
        "fig.add_trace(go.Scatter(x=x_trace, y=chars[4], mode='markers', marker=dict(color=clr)), row=2, col=2)\n",
        "fig.add_trace(go.Scatter(x=x_trace, y=chars[5], mode='markers', marker=dict(color=clr)), row=2, col=3)\n",
        "fig.add_trace(go.Scatter(x=x_trace, y=chars[6], mode='markers', marker=dict(color=clr)), row=3, col=1)\n",
        "\n",
        "fig.update_layout(\n",
        "    width=800,\n",
        "    height=800,\n",
        "    plot_bgcolor='rgba(0,0,0,0)',\n",
        "    title={\n",
        "          'text': 'Данные в аллометрической системе координат',\n",
        "          'xanchor': 'left'},\n",
        "    showlegend=False)\n",
        "\n",
        "fig.update_xaxes(showline=True, linewidth=0.5, gridcolor='grey')\n",
        "fig.update_yaxes(showline=True, linewidth=0.5, gridcolor='grey')\n",
        "\n",
        "fig.show()"
      ]
    },
    {
      "cell_type": "code",
      "source": [
        "'''\n",
        "local_chars = chars\n",
        "\n",
        "for i in range(CONST_SIZE):\n",
        "  local_chars[0][i] = local_chars[0][i] + 0.6\n",
        "  local_chars[1][i] = local_chars[1][i] - 9\n",
        "  local_chars[2][i] = local_chars[2][i] - 9.5\n",
        "  local_chars[3][i] = local_chars[3][i] - 21\n",
        "  local_chars[4][i] = local_chars[4][i] - 22\n",
        "  local_chars[5][i] = local_chars[5][i] - 31\n",
        "  local_chars[6][i] = local_chars[6][i] - 40\n",
        "'''"
      ],
      "metadata": {
        "id": "nvDC6_9JOyM0"
      },
      "execution_count": null,
      "outputs": []
    },
    {
      "cell_type": "markdown",
      "metadata": {
        "id": "yMYJ8fOkYvba"
      },
      "source": [
        "### Задание 5\n",
        "Необходимо рассмотреть, как взаимодействуют компании между собой попарно. Для этого построить для каждой пары компаний логарифмическую систему координат, где по оси ординат – агрегированная характеристика одной компании, по оси абсцисс – агрегированная характеристика второй компании.\n",
        "Возможные варианты взаимодействия:\n",
        ">1. Дружественные отношения. - линейная\n",
        ">\n",
        ">2. «Хищник-жертва». - нелинейная\n",
        ">\n",
        ">3. Нейтральные отношения. - это когда полоска"
      ]
    },
    {
      "cell_type": "markdown",
      "metadata": {
        "id": "Nqfc-Qa08m6l"
      },
      "source": [
        "Математические модели борьбы за существование\n",
        "В. Вольтерра - для 5"
      ]
    },
    {
      "cell_type": "code",
      "execution_count": null,
      "metadata": {
        "id": "he5cxlepJT_b"
      },
      "outputs": [],
      "source": [
        "fig = make_subplots(\n",
        "    rows=2, cols=3,\n",
        "    subplot_titles=('Anheuser-Busch InBev', 'Carlsberg', 'Brown-Forman',\n",
        "                   'Asahi', 'Pernod Ricard', 'Compañía Cervecerías Unidas'))\n",
        "\n",
        "x_trace = chars[0]\n",
        "clr = 'green'\n",
        "\n",
        "fig.add_trace(go.Scatter(x=x_trace, y=chars[1], mode='markers', marker=dict(color=clr)), row=1, col=1)\n",
        "fig.add_trace(go.Scatter(x=x_trace, y=chars[2], mode='markers', marker=dict(color=clr)), row=1, col=2)\n",
        "fig.add_trace(go.Scatter(x=x_trace, y=chars[3], mode='markers', marker=dict(color=clr)), row=1, col=3)\n",
        "fig.add_trace(go.Scatter(x=x_trace, y=chars[4], mode='markers', marker=dict(color=clr)), row=2, col=1)\n",
        "fig.add_trace(go.Scatter(x=x_trace, y=chars[5], mode='markers', marker=dict(color=clr)), row=2, col=2)\n",
        "fig.add_trace(go.Scatter(x=x_trace, y=chars[6], mode='markers', marker=dict(color=clr)), row=2, col=3)\n",
        "\n",
        "fig.update_layout(\n",
        "    width=1000,\n",
        "    height=800,\n",
        "    plot_bgcolor='rgba(0,0,0,0)',\n",
        "    title={\n",
        "          'text': 'Данные в логарифмической системе координат для компании Heineken',\n",
        "          'xanchor': 'left'},\n",
        "    showlegend=False)\n",
        "\n",
        "fig.update_xaxes(showline=True, linewidth=0.5, gridcolor='grey')\n",
        "fig.update_yaxes(showline=True, linewidth=0.5, gridcolor='grey')\n",
        "\n",
        "fig.show()"
      ]
    },
    {
      "cell_type": "code",
      "execution_count": null,
      "metadata": {
        "id": "4rznWTjKMF4m"
      },
      "outputs": [],
      "source": [
        "fig = make_subplots(\n",
        "    rows=2, cols=3,\n",
        "    subplot_titles=('Heineken', 'Carlsberg', 'Brown-Forman',\n",
        "                   'Asahi', 'Pernod Ricard', 'Compañía Cervecerías Unidas'))\n",
        "\n",
        "x_trace = chars[1]\n",
        "clr = 'green'\n",
        "\n",
        "fig.add_trace(go.Scatter(x=x_trace, y=chars[0], mode='markers', marker=dict(color=clr)), row=1, col=1)\n",
        "fig.add_trace(go.Scatter(x=x_trace, y=chars[2], mode='markers', marker=dict(color=clr)), row=1, col=2)\n",
        "fig.add_trace(go.Scatter(x=x_trace, y=chars[3], mode='markers', marker=dict(color=clr)), row=1, col=3)\n",
        "fig.add_trace(go.Scatter(x=x_trace, y=chars[4], mode='markers', marker=dict(color=clr)), row=2, col=1)\n",
        "fig.add_trace(go.Scatter(x=x_trace, y=chars[5], mode='markers', marker=dict(color=clr)), row=2, col=2)\n",
        "fig.add_trace(go.Scatter(x=x_trace, y=chars[6], mode='markers', marker=dict(color=clr)), row=2, col=3)\n",
        "\n",
        "fig.update_layout(\n",
        "    width=1000,\n",
        "    height=800,\n",
        "    plot_bgcolor='rgba(0,0,0,0)',\n",
        "    title={\n",
        "          'text': 'Данные в логарифмической системе координат для компании Anheuser-Busch InBev',\n",
        "          'xanchor': 'left'},\n",
        "    showlegend=False)\n",
        "\n",
        "fig.update_xaxes(showline=True, linewidth=0.5, gridcolor='grey')\n",
        "fig.update_yaxes(showline=True, linewidth=0.5, gridcolor='grey')\n",
        "\n",
        "fig.show()"
      ]
    },
    {
      "cell_type": "code",
      "execution_count": null,
      "metadata": {
        "id": "Cdf35Q3SMqJ1"
      },
      "outputs": [],
      "source": [
        "fig = make_subplots(\n",
        "    rows=2, cols=3,\n",
        "    subplot_titles=('Heineken', 'Anheuser-Busch InBev', 'Brown-Forman',\n",
        "                   'Asahi', 'Pernod Ricard', 'Compañía Cervecerías Unidas'))\n",
        "\n",
        "x_trace = chars[2]\n",
        "clr = 'green'\n",
        "\n",
        "fig.add_trace(go.Scatter(x=x_trace, y=chars[0], mode='markers', marker=dict(color=clr)), row=1, col=1)\n",
        "fig.add_trace(go.Scatter(x=x_trace, y=chars[1], mode='markers', marker=dict(color=clr)), row=1, col=2)\n",
        "fig.add_trace(go.Scatter(x=x_trace, y=chars[3], mode='markers', marker=dict(color=clr)), row=1, col=3)\n",
        "fig.add_trace(go.Scatter(x=x_trace, y=chars[4], mode='markers', marker=dict(color=clr)), row=2, col=1)\n",
        "fig.add_trace(go.Scatter(x=x_trace, y=chars[5], mode='markers', marker=dict(color=clr)), row=2, col=2)\n",
        "fig.add_trace(go.Scatter(x=x_trace, y=chars[6], mode='markers', marker=dict(color=clr)), row=2, col=3)\n",
        "\n",
        "fig.update_layout(\n",
        "    width=1000,\n",
        "    height=800,\n",
        "    plot_bgcolor='rgba(0,0,0,0)',\n",
        "    title={\n",
        "          'text': 'Данные в логарифмической системе координат для компании Carlsberg',\n",
        "          'xanchor': 'left'},\n",
        "    showlegend=False)\n",
        "\n",
        "fig.update_xaxes(showline=True, linewidth=0.5, gridcolor='grey')\n",
        "fig.update_yaxes(showline=True, linewidth=0.5, gridcolor='grey')\n",
        "\n",
        "fig.show()"
      ]
    },
    {
      "cell_type": "code",
      "execution_count": null,
      "metadata": {
        "id": "1mDwt0vAOLxf"
      },
      "outputs": [],
      "source": [
        "fig = make_subplots(\n",
        "    rows=2, cols=3,\n",
        "    subplot_titles=('Heineken', 'Anheuser-Busch InBev', 'Carlsberg',\n",
        "                   'Asahi', 'Pernod Ricard', 'Compañía Cervecerías Unidas'))\n",
        "\n",
        "x_trace = chars[3]\n",
        "clr = 'green'\n",
        "\n",
        "fig.add_trace(go.Scatter(x=x_trace, y=chars[0], mode='markers', marker=dict(color=clr)), row=1, col=1)\n",
        "fig.add_trace(go.Scatter(x=x_trace, y=chars[1], mode='markers', marker=dict(color=clr)), row=1, col=2)\n",
        "fig.add_trace(go.Scatter(x=x_trace, y=chars[2], mode='markers', marker=dict(color=clr)), row=1, col=3)\n",
        "fig.add_trace(go.Scatter(x=x_trace, y=chars[4], mode='markers', marker=dict(color=clr)), row=2, col=1)\n",
        "fig.add_trace(go.Scatter(x=x_trace, y=chars[5], mode='markers', marker=dict(color=clr)), row=2, col=2)\n",
        "fig.add_trace(go.Scatter(x=x_trace, y=chars[6], mode='markers', marker=dict(color=clr)), row=2, col=3)\n",
        "\n",
        "fig.update_layout(\n",
        "    width=1000,\n",
        "    height=800,\n",
        "    plot_bgcolor='rgba(0,0,0,0)',\n",
        "    title={\n",
        "          'text': 'Данные в логарифмической системе координат для компании Brown-Forman',\n",
        "          'xanchor': 'left'},\n",
        "    showlegend=False)\n",
        "\n",
        "fig.update_xaxes(showline=True, linewidth=0.5, gridcolor='grey')\n",
        "fig.update_yaxes(showline=True, linewidth=0.5, gridcolor='grey')\n",
        "\n",
        "fig.show()"
      ]
    },
    {
      "cell_type": "code",
      "execution_count": null,
      "metadata": {
        "id": "A1Kl9cTyRIQd"
      },
      "outputs": [],
      "source": [
        "fig = make_subplots(\n",
        "    rows=2, cols=3,\n",
        "    subplot_titles=('Heineken', 'Anheuser-Busch InBev', 'Carlsberg', 'Brown-Forman',\n",
        "                   'Asahi', 'Pernod Ricard', 'Compañía Cervecerías Unidas'))\n",
        "\n",
        "x_trace = chars[4]\n",
        "clr = 'green'\n",
        "\n",
        "fig.add_trace(go.Scatter(x=x_trace, y=chars[0], mode='markers', marker=dict(color=clr)), row=1, col=1)\n",
        "fig.add_trace(go.Scatter(x=x_trace, y=chars[1], mode='markers', marker=dict(color=clr)), row=1, col=2)\n",
        "fig.add_trace(go.Scatter(x=x_trace, y=chars[2], mode='markers', marker=dict(color=clr)), row=1, col=3)\n",
        "fig.add_trace(go.Scatter(x=x_trace, y=chars[3], mode='markers', marker=dict(color=clr)), row=2, col=1)\n",
        "fig.add_trace(go.Scatter(x=x_trace, y=chars[5], mode='markers', marker=dict(color=clr)), row=2, col=2)\n",
        "fig.add_trace(go.Scatter(x=x_trace, y=chars[6], mode='markers', marker=dict(color=clr)), row=2, col=3)\n",
        "\n",
        "fig.update_layout(\n",
        "    width=1000,\n",
        "    height=800,\n",
        "    plot_bgcolor='rgba(0,0,0,0)',\n",
        "    title={\n",
        "          'text': 'Данные в логарифмической системе координат для компании Asahi',\n",
        "          'xanchor': 'left'},\n",
        "    showlegend=False)\n",
        "\n",
        "fig.update_xaxes(showline=True, linewidth=0.5, gridcolor='grey')\n",
        "fig.update_yaxes(showline=True, linewidth=0.5, gridcolor='grey')\n",
        "\n",
        "fig.show()"
      ]
    },
    {
      "cell_type": "code",
      "execution_count": null,
      "metadata": {
        "id": "rw4LvaYeRPXh"
      },
      "outputs": [],
      "source": [
        "fig = make_subplots(\n",
        "    rows=2, cols=3,\n",
        "    subplot_titles=('Heineken', 'Anheuser-Busch InBev', 'Carlsberg', 'Brown-Forman',\n",
        "                   'Asahi', 'Compañía Cervecerías Unidas'))\n",
        "\n",
        "x_trace = chars[5]\n",
        "clr = 'green'\n",
        "\n",
        "fig.add_trace(go.Scatter(x=x_trace, y=chars[0], mode='markers', marker=dict(color=clr)), row=1, col=1)\n",
        "fig.add_trace(go.Scatter(x=x_trace, y=chars[1], mode='markers', marker=dict(color=clr)), row=1, col=2)\n",
        "fig.add_trace(go.Scatter(x=x_trace, y=chars[2], mode='markers', marker=dict(color=clr)), row=1, col=3)\n",
        "fig.add_trace(go.Scatter(x=x_trace, y=chars[3], mode='markers', marker=dict(color=clr)), row=2, col=1)\n",
        "fig.add_trace(go.Scatter(x=x_trace, y=chars[4], mode='markers', marker=dict(color=clr)), row=2, col=2)\n",
        "fig.add_trace(go.Scatter(x=x_trace, y=chars[6], mode='markers', marker=dict(color=clr)), row=2, col=3)\n",
        "\n",
        "fig.update_layout(\n",
        "    width=1000,\n",
        "    height=800,\n",
        "    plot_bgcolor='rgba(0,0,0,0)',\n",
        "    title={\n",
        "          'text': 'Данные в логарифмической системе координат для компании Pernod Ricard',\n",
        "          'xanchor': 'left'},\n",
        "    showlegend=False)\n",
        "\n",
        "fig.update_xaxes(showline=True, linewidth=0.5, gridcolor='grey')\n",
        "fig.update_yaxes(showline=True, linewidth=0.5, gridcolor='grey')\n",
        "\n",
        "fig.show()"
      ]
    },
    {
      "cell_type": "code",
      "execution_count": null,
      "metadata": {
        "id": "x88ioXyqRW5C"
      },
      "outputs": [],
      "source": [
        "fig = make_subplots(\n",
        "    rows=2, cols=3,\n",
        "    subplot_titles=('Heineken', 'Anheuser-Busch InBev', 'Carlsberg', 'Brown-Forman',\n",
        "                   'Asahi', 'Pernod Ricard'))\n",
        "\n",
        "x_trace = chars[6]\n",
        "clr = 'green'\n",
        "\n",
        "fig.add_trace(go.Scatter(x=x_trace, y=chars[0], mode='markers', marker=dict(color=clr)), row=1, col=1)\n",
        "fig.add_trace(go.Scatter(x=x_trace, y=chars[1], mode='markers', marker=dict(color=clr)), row=1, col=2)\n",
        "fig.add_trace(go.Scatter(x=x_trace, y=chars[2], mode='markers', marker=dict(color=clr)), row=1, col=3)\n",
        "fig.add_trace(go.Scatter(x=x_trace, y=chars[3], mode='markers', marker=dict(color=clr)), row=2, col=1)\n",
        "fig.add_trace(go.Scatter(x=x_trace, y=chars[4], mode='markers', marker=dict(color=clr)), row=2, col=2)\n",
        "fig.add_trace(go.Scatter(x=x_trace, y=chars[5], mode='markers', marker=dict(color=clr)), row=2, col=3)\n",
        "\n",
        "fig.update_layout(\n",
        "    width=1000,\n",
        "    height=800,\n",
        "    plot_bgcolor='rgba(0,0,0,0)',\n",
        "    title={\n",
        "          'text': 'Данные в логарифмической системе координат для компании Compañía Cervecerías Unidas',\n",
        "          'xanchor': 'left'},\n",
        "    showlegend=False)\n",
        "\n",
        "fig.update_xaxes(showline=True, linewidth=0.5, gridcolor='grey')\n",
        "fig.update_yaxes(showline=True, linewidth=0.5, gridcolor='grey')\n",
        "\n",
        "fig.show()"
      ]
    }
  ],
  "metadata": {
    "colab": {
      "name": "DataAnalysisMethods.ipynb",
      "provenance": [],
      "authorship_tag": "ABX9TyM72Htc2pN10P5639s7NwTY",
      "include_colab_link": true
    },
    "kernelspec": {
      "display_name": "Python 3",
      "name": "python3"
    },
    "language_info": {
      "name": "python"
    }
  },
  "nbformat": 4,
  "nbformat_minor": 0
}